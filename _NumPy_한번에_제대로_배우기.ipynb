{
  "nbformat": 4,
  "nbformat_minor": 0,
  "metadata": {
    "colab": {
      "name": "_NumPy 한번에 제대로 배우기.ipynb",
      "provenance": [],
      "collapsed_sections": [],
      "include_colab_link": true
    },
    "kernelspec": {
      "name": "python3",
      "display_name": "Python 3"
    }
  },
  "cells": [
    {
      "cell_type": "markdown",
      "metadata": {
        "id": "view-in-github",
        "colab_type": "text"
      },
      "source": [
        "<a href=\"https://colab.research.google.com/github/mkbahk/NumpyLearning/blob/main/_NumPy_%ED%95%9C%EB%B2%88%EC%97%90_%EC%A0%9C%EB%8C%80%EB%A1%9C_%EB%B0%B0%EC%9A%B0%EA%B8%B0.ipynb\" target=\"_parent\"><img src=\"https://colab.research.google.com/assets/colab-badge.svg\" alt=\"Open In Colab\"/></a>"
      ]
    },
    {
      "cell_type": "markdown",
      "metadata": {
        "id": "J_FfQuu2Tb30"
      },
      "source": [
        "# NumPy 한번에 제대로 배우기"
      ]
    },
    {
      "cell_type": "markdown",
      "metadata": {
        "id": "Zgrrh9T2vs8u"
      },
      "source": [
        "\n",
        "\n",
        "---\n",
        "\n"
      ]
    },
    {
      "cell_type": "markdown",
      "metadata": {
        "id": "oR5hNBH-Retd"
      },
      "source": [
        "## NumPy 특징\n",
        "\n",
        "* Numerical Python의 약자\n",
        "* 고성능 과학 계산용 패키지로 강력한 N차원 배열 객체\n",
        "* 범용적 데이터 처리에 사용 가능한 다차원 컨테이너\n",
        "* 정교한 브로드캐스팅(broadcasting) 기능\n",
        "* 파이썬의 자료형 list와 비슷하지만, 더 빠르고 메모리를 효율적으로 관리\n",
        "* 반복문 없이 데이터 배열에 대한 처리를 지원하여 빠르고 편리\n",
        "* 데이터 과학 도구에 대한 생태계의 핵심을 이루고 있음"
      ]
    },
    {
      "cell_type": "code",
      "metadata": {
        "id": "R9klTdhLQ564",
        "colab": {
          "base_uri": "https://localhost:8080/"
        },
        "outputId": "0aaf027b-d769-4d98-cd0c-6f82b67bee85"
      },
      "source": [
        "import numpy as np\n",
        "print(np.__version__)\n",
        "print(dir(np))"
      ],
      "execution_count": 2,
      "outputs": [
        {
          "output_type": "stream",
          "name": "stdout",
          "text": [
            "1.19.5\n",
            "['ALLOW_THREADS', 'AxisError', 'BUFSIZE', 'CLIP', 'ComplexWarning', 'DataSource', 'ERR_CALL', 'ERR_DEFAULT', 'ERR_IGNORE', 'ERR_LOG', 'ERR_PRINT', 'ERR_RAISE', 'ERR_WARN', 'FLOATING_POINT_SUPPORT', 'FPE_DIVIDEBYZERO', 'FPE_INVALID', 'FPE_OVERFLOW', 'FPE_UNDERFLOW', 'False_', 'Inf', 'Infinity', 'MAXDIMS', 'MAY_SHARE_BOUNDS', 'MAY_SHARE_EXACT', 'MachAr', 'ModuleDeprecationWarning', 'NAN', 'NINF', 'NZERO', 'NaN', 'PINF', 'PZERO', 'RAISE', 'RankWarning', 'SHIFT_DIVIDEBYZERO', 'SHIFT_INVALID', 'SHIFT_OVERFLOW', 'SHIFT_UNDERFLOW', 'ScalarType', 'Tester', 'TooHardError', 'True_', 'UFUNC_BUFSIZE_DEFAULT', 'UFUNC_PYVALS_NAME', 'VisibleDeprecationWarning', 'WRAP', '_NoValue', '_UFUNC_API', '__NUMPY_SETUP__', '__all__', '__builtins__', '__cached__', '__config__', '__dir__', '__doc__', '__file__', '__getattr__', '__git_revision__', '__loader__', '__name__', '__package__', '__path__', '__spec__', '__version__', '_add_newdoc_ufunc', '_distributor_init', '_globals', '_mat', '_pytesttester', 'abs', 'absolute', 'add', 'add_docstring', 'add_newdoc', 'add_newdoc_ufunc', 'alen', 'all', 'allclose', 'alltrue', 'amax', 'amin', 'angle', 'any', 'append', 'apply_along_axis', 'apply_over_axes', 'arange', 'arccos', 'arccosh', 'arcsin', 'arcsinh', 'arctan', 'arctan2', 'arctanh', 'argmax', 'argmin', 'argpartition', 'argsort', 'argwhere', 'around', 'array', 'array2string', 'array_equal', 'array_equiv', 'array_repr', 'array_split', 'array_str', 'asanyarray', 'asarray', 'asarray_chkfinite', 'ascontiguousarray', 'asfarray', 'asfortranarray', 'asmatrix', 'asscalar', 'atleast_1d', 'atleast_2d', 'atleast_3d', 'average', 'bartlett', 'base_repr', 'binary_repr', 'bincount', 'bitwise_and', 'bitwise_not', 'bitwise_or', 'bitwise_xor', 'blackman', 'block', 'bmat', 'bool', 'bool8', 'bool_', 'broadcast', 'broadcast_arrays', 'broadcast_to', 'busday_count', 'busday_offset', 'busdaycalendar', 'byte', 'byte_bounds', 'bytes0', 'bytes_', 'c_', 'can_cast', 'cast', 'cbrt', 'cdouble', 'ceil', 'cfloat', 'char', 'character', 'chararray', 'choose', 'clip', 'clongdouble', 'clongfloat', 'column_stack', 'common_type', 'compare_chararrays', 'compat', 'complex', 'complex128', 'complex256', 'complex64', 'complex_', 'complexfloating', 'compress', 'concatenate', 'conj', 'conjugate', 'convolve', 'copy', 'copysign', 'copyto', 'core', 'corrcoef', 'correlate', 'cos', 'cosh', 'count_nonzero', 'cov', 'cross', 'csingle', 'ctypeslib', 'cumprod', 'cumproduct', 'cumsum', 'datetime64', 'datetime_as_string', 'datetime_data', 'deg2rad', 'degrees', 'delete', 'deprecate', 'deprecate_with_doc', 'diag', 'diag_indices', 'diag_indices_from', 'diagflat', 'diagonal', 'diff', 'digitize', 'disp', 'divide', 'divmod', 'dot', 'double', 'dsplit', 'dstack', 'dtype', 'e', 'ediff1d', 'einsum', 'einsum_path', 'emath', 'empty', 'empty_like', 'equal', 'errstate', 'euler_gamma', 'exp', 'exp2', 'expand_dims', 'expm1', 'extract', 'eye', 'fabs', 'fastCopyAndTranspose', 'fft', 'fill_diagonal', 'find_common_type', 'finfo', 'fix', 'flatiter', 'flatnonzero', 'flexible', 'flip', 'fliplr', 'flipud', 'float', 'float128', 'float16', 'float32', 'float64', 'float_', 'float_power', 'floating', 'floor', 'floor_divide', 'fmax', 'fmin', 'fmod', 'format_float_positional', 'format_float_scientific', 'format_parser', 'frexp', 'frombuffer', 'fromfile', 'fromfunction', 'fromiter', 'frompyfunc', 'fromregex', 'fromstring', 'full', 'full_like', 'fv', 'gcd', 'generic', 'genfromtxt', 'geomspace', 'get_array_wrap', 'get_include', 'get_printoptions', 'getbufsize', 'geterr', 'geterrcall', 'geterrobj', 'gradient', 'greater', 'greater_equal', 'half', 'hamming', 'hanning', 'heaviside', 'histogram', 'histogram2d', 'histogram_bin_edges', 'histogramdd', 'hsplit', 'hstack', 'hypot', 'i0', 'identity', 'iinfo', 'imag', 'in1d', 'index_exp', 'indices', 'inexact', 'inf', 'info', 'infty', 'inner', 'insert', 'int', 'int0', 'int16', 'int32', 'int64', 'int8', 'int_', 'intc', 'integer', 'interp', 'intersect1d', 'intp', 'invert', 'ipmt', 'irr', 'is_busday', 'isclose', 'iscomplex', 'iscomplexobj', 'isfinite', 'isfortran', 'isin', 'isinf', 'isnan', 'isnat', 'isneginf', 'isposinf', 'isreal', 'isrealobj', 'isscalar', 'issctype', 'issubclass_', 'issubdtype', 'issubsctype', 'iterable', 'ix_', 'kaiser', 'kernel_version', 'kron', 'lcm', 'ldexp', 'left_shift', 'less', 'less_equal', 'lexsort', 'lib', 'linalg', 'linspace', 'little_endian', 'load', 'loads', 'loadtxt', 'log', 'log10', 'log1p', 'log2', 'logaddexp', 'logaddexp2', 'logical_and', 'logical_not', 'logical_or', 'logical_xor', 'logspace', 'long', 'longcomplex', 'longdouble', 'longfloat', 'longlong', 'lookfor', 'ma', 'mafromtxt', 'mask_indices', 'mat', 'math', 'matmul', 'matrix', 'matrixlib', 'max', 'maximum', 'maximum_sctype', 'may_share_memory', 'mean', 'median', 'memmap', 'meshgrid', 'mgrid', 'min', 'min_scalar_type', 'minimum', 'mintypecode', 'mirr', 'mod', 'modf', 'moveaxis', 'msort', 'multiply', 'nan', 'nan_to_num', 'nanargmax', 'nanargmin', 'nancumprod', 'nancumsum', 'nanmax', 'nanmean', 'nanmedian', 'nanmin', 'nanpercentile', 'nanprod', 'nanquantile', 'nanstd', 'nansum', 'nanvar', 'nbytes', 'ndarray', 'ndenumerate', 'ndfromtxt', 'ndim', 'ndindex', 'nditer', 'negative', 'nested_iters', 'newaxis', 'nextafter', 'nonzero', 'not_equal', 'nper', 'npv', 'numarray', 'number', 'obj2sctype', 'object', 'object0', 'object_', 'ogrid', 'oldnumeric', 'ones', 'ones_like', 'os', 'outer', 'packbits', 'pad', 'partition', 'percentile', 'pi', 'piecewise', 'place', 'pmt', 'poly', 'poly1d', 'polyadd', 'polyder', 'polydiv', 'polyfit', 'polyint', 'polymul', 'polynomial', 'polysub', 'polyval', 'positive', 'power', 'ppmt', 'printoptions', 'prod', 'product', 'promote_types', 'ptp', 'put', 'put_along_axis', 'putmask', 'pv', 'quantile', 'r_', 'rad2deg', 'radians', 'random', 'rate', 'ravel', 'ravel_multi_index', 'real', 'real_if_close', 'rec', 'recarray', 'recfromcsv', 'recfromtxt', 'reciprocal', 'record', 'remainder', 'repeat', 'require', 'reshape', 'resize', 'result_type', 'right_shift', 'rint', 'roll', 'rollaxis', 'roots', 'rot90', 'round', 'round_', 'row_stack', 's_', 'safe_eval', 'save', 'savetxt', 'savez', 'savez_compressed', 'sctype2char', 'sctypeDict', 'sctypeNA', 'sctypes', 'searchsorted', 'select', 'set_numeric_ops', 'set_printoptions', 'set_string_function', 'setbufsize', 'setdiff1d', 'seterr', 'seterrcall', 'seterrobj', 'setxor1d', 'shape', 'shares_memory', 'short', 'show_config', 'sign', 'signbit', 'signedinteger', 'sin', 'sinc', 'single', 'singlecomplex', 'sinh', 'size', 'sometrue', 'sort', 'sort_complex', 'source', 'spacing', 'split', 'sqrt', 'square', 'squeeze', 'stack', 'std', 'str', 'str0', 'str_', 'string_', 'subtract', 'sum', 'swapaxes', 'sys', 'take', 'take_along_axis', 'tan', 'tanh', 'tensordot', 'test', 'testing', 'tile', 'timedelta64', 'trace', 'tracemalloc_domain', 'transpose', 'trapz', 'tri', 'tril', 'tril_indices', 'tril_indices_from', 'trim_zeros', 'triu', 'triu_indices', 'triu_indices_from', 'true_divide', 'trunc', 'typeDict', 'typeNA', 'typecodes', 'typename', 'ubyte', 'ufunc', 'uint', 'uint0', 'uint16', 'uint32', 'uint64', 'uint8', 'uintc', 'uintp', 'ulonglong', 'unicode', 'unicode_', 'union1d', 'unique', 'unpackbits', 'unravel_index', 'unsignedinteger', 'unwrap', 'use_hugepage', 'ushort', 'vander', 'var', 'vdot', 'vectorize', 'version', 'void', 'void0', 'vsplit', 'vstack', 'warnings', 'where', 'who', 'zeros', 'zeros_like']\n"
          ]
        }
      ]
    },
    {
      "cell_type": "markdown",
      "metadata": {
        "id": "2hSWC5ptGyWP"
      },
      "source": [
        "\n",
        "\n",
        "---\n",
        "\n"
      ]
    },
    {
      "cell_type": "markdown",
      "metadata": {
        "id": "1kgkJZFlVUqk"
      },
      "source": [
        "## 배열 생성"
      ]
    },
    {
      "cell_type": "markdown",
      "metadata": {
        "id": "pamRfghzHi6I"
      },
      "source": [
        "![스크린샷 2021-11-18 오후 5.16.12.png](data:image/png;base64,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)"
      ]
    },
    {
      "cell_type": "markdown",
      "metadata": {
        "id": "5eQ4sAkMbzm0"
      },
      "source": [
        "### 리스트로 배열 만들기\n"
      ]
    },
    {
      "cell_type": "code",
      "metadata": {
        "id": "Mtod2jcPWVvV",
        "colab": {
          "base_uri": "https://localhost:8080/"
        },
        "outputId": "7266a371-8eea-4fa4-cae7-8e82dc9c712d"
      },
      "source": [
        "#1차원 배열\n",
        "a1 = np.array([1, 2, 3, 4, 5]) #list를 배열로 바꾸는 것임\n",
        "print(a1)\n",
        "print(type(a1))\n",
        "print(a1.shape)\n",
        "\n",
        "#리스트와 같이 인텍스 방식으로 접근하는 것이 가능\n",
        "print(a1[0], a1[1])\n",
        "print(a1[-1])\n",
        "\n",
        "#간단한 수정도 가능\n",
        "a1[0] = 4\n",
        "a1[1] = 7\n",
        "print(a1)"
      ],
      "execution_count": null,
      "outputs": [
        {
          "output_type": "stream",
          "name": "stdout",
          "text": [
            "[1 2 3 4 5]\n",
            "<class 'numpy.ndarray'>\n",
            "(5,)\n",
            "1 2\n",
            "5\n",
            "[4 7 3 4 5]\n"
          ]
        }
      ]
    },
    {
      "cell_type": "code",
      "metadata": {
        "id": "kILq6vTMIfvw",
        "colab": {
          "base_uri": "https://localhost:8080/",
          "height": 170
        },
        "outputId": "c07c09c9-2937-447a-df51-abe1dbc92308"
      },
      "source": [
        "print(a1[6])"
      ],
      "execution_count": null,
      "outputs": [
        {
          "output_type": "error",
          "ename": "IndexError",
          "evalue": "ignored",
          "traceback": [
            "\u001b[0;31m---------------------------------------------------------------------------\u001b[0m",
            "\u001b[0;31mIndexError\u001b[0m                                Traceback (most recent call last)",
            "\u001b[0;32m<ipython-input-19-0682ae5cbc1a>\u001b[0m in \u001b[0;36m<module>\u001b[0;34m()\u001b[0m\n\u001b[0;32m----> 1\u001b[0;31m \u001b[0mprint\u001b[0m\u001b[0;34m(\u001b[0m\u001b[0ma1\u001b[0m\u001b[0;34m[\u001b[0m\u001b[0;36m6\u001b[0m\u001b[0;34m]\u001b[0m\u001b[0;34m)\u001b[0m\u001b[0;34m\u001b[0m\u001b[0;34m\u001b[0m\u001b[0m\n\u001b[0m",
            "\u001b[0;31mIndexError\u001b[0m: index 6 is out of bounds for axis 0 with size 5"
          ]
        }
      ]
    },
    {
      "cell_type": "markdown",
      "metadata": {
        "id": "3voofkyFIlrP"
      },
      "source": [
        ""
      ]
    },
    {
      "cell_type": "code",
      "metadata": {
        "id": "ytCDqAiiInG6",
        "colab": {
          "base_uri": "https://localhost:8080/",
          "height": 170
        },
        "outputId": "1add9ba8-ad5a-4aee-ddc4-5be0e28a831a"
      },
      "source": [
        "print(a1[-7])"
      ],
      "execution_count": null,
      "outputs": [
        {
          "output_type": "error",
          "ename": "IndexError",
          "evalue": "ignored",
          "traceback": [
            "\u001b[0;31m---------------------------------------------------------------------------\u001b[0m",
            "\u001b[0;31mIndexError\u001b[0m                                Traceback (most recent call last)",
            "\u001b[0;32m<ipython-input-20-deca873810e9>\u001b[0m in \u001b[0;36m<module>\u001b[0;34m()\u001b[0m\n\u001b[0;32m----> 1\u001b[0;31m \u001b[0mprint\u001b[0m\u001b[0;34m(\u001b[0m\u001b[0ma1\u001b[0m\u001b[0;34m[\u001b[0m\u001b[0;34m-\u001b[0m\u001b[0;36m7\u001b[0m\u001b[0;34m]\u001b[0m\u001b[0;34m)\u001b[0m\u001b[0;34m\u001b[0m\u001b[0;34m\u001b[0m\u001b[0m\n\u001b[0m",
            "\u001b[0;31mIndexError\u001b[0m: index -7 is out of bounds for axis 0 with size 5"
          ]
        }
      ]
    },
    {
      "cell_type": "code",
      "metadata": {
        "id": "vp9tkHH8esXT",
        "colab": {
          "base_uri": "https://localhost:8080/"
        },
        "outputId": "5f6e7083-9080-4be6-874d-69689485d311"
      },
      "source": [
        "#2차원 배열\n",
        "\n",
        "a2 = np.array([[1, 2, 3], \n",
        "               [4, 5, 6], \n",
        "               [7, 8, 9]])\n",
        "print(a2)\n",
        "print(type(a2))\n",
        "print(a2.shape)\n",
        "\n",
        "print(a2[0,0], a2[1, 1])"
      ],
      "execution_count": null,
      "outputs": [
        {
          "output_type": "stream",
          "name": "stdout",
          "text": [
            "[[1 2 3]\n",
            " [4 5 6]\n",
            " [7 8 9]]\n",
            "<class 'numpy.ndarray'>\n",
            "(3, 3)\n",
            "1 5\n"
          ]
        }
      ]
    },
    {
      "cell_type": "code",
      "metadata": {
        "id": "Baj4gZ2meuJu",
        "colab": {
          "base_uri": "https://localhost:8080/"
        },
        "outputId": "89ac1d44-acd3-4a42-9244-b44050c98b09"
      },
      "source": [
        "#3차원 배열\n",
        "a3 = np.array([[[1, 2, 3], \n",
        "               [4, 5, 6], \n",
        "               [7, 8, 9]],\n",
        "              [[11, 12, 13], \n",
        "               [14, 15, 16], \n",
        "               [17, 18, 19]],\n",
        "               [[21, 22, 23], \n",
        "               [24, 25, 26], \n",
        "               [27, 28, 29]]])\n",
        "print(a3)\n",
        "print(type(a3))\n",
        "print(a3.shape)"
      ],
      "execution_count": null,
      "outputs": [
        {
          "output_type": "stream",
          "name": "stdout",
          "text": [
            "[[[ 1  2  3]\n",
            "  [ 4  5  6]\n",
            "  [ 7  8  9]]\n",
            "\n",
            " [[11 12 13]\n",
            "  [14 15 16]\n",
            "  [17 18 19]]\n",
            "\n",
            " [[21 22 23]\n",
            "  [24 25 26]\n",
            "  [27 28 29]]]\n",
            "<class 'numpy.ndarray'>\n",
            "(3, 3, 3)\n"
          ]
        }
      ]
    },
    {
      "cell_type": "markdown",
      "metadata": {
        "id": "PNkKtw4CoSDB"
      },
      "source": [
        "### 배열 생성 및 초기화"
      ]
    },
    {
      "cell_type": "markdown",
      "metadata": {
        "id": "mJVii5p_VfgM"
      },
      "source": [
        "* `zeros()`: 모든 요소를 0으로 초기화"
      ]
    },
    {
      "cell_type": "code",
      "metadata": {
        "id": "W_SF1tVoVTf1",
        "colab": {
          "base_uri": "https://localhost:8080/"
        },
        "outputId": "be90426a-40ce-4f5e-fc51-043746f46f9d"
      },
      "source": [
        "np.zeros(10)\n"
      ],
      "execution_count": null,
      "outputs": [
        {
          "output_type": "execute_result",
          "data": {
            "text/plain": [
              "array([0., 0., 0., 0., 0., 0., 0., 0., 0., 0.])"
            ]
          },
          "metadata": {},
          "execution_count": 23
        }
      ]
    },
    {
      "cell_type": "code",
      "metadata": {
        "id": "zWB59EkzL8hS",
        "colab": {
          "base_uri": "https://localhost:8080/"
        },
        "outputId": "1ae868c5-3b12-4aa4-dcd4-19085bae059c"
      },
      "source": [
        "np.zeros((10,2))"
      ],
      "execution_count": null,
      "outputs": [
        {
          "output_type": "execute_result",
          "data": {
            "text/plain": [
              "array([[0., 0.],\n",
              "       [0., 0.],\n",
              "       [0., 0.],\n",
              "       [0., 0.],\n",
              "       [0., 0.],\n",
              "       [0., 0.],\n",
              "       [0., 0.],\n",
              "       [0., 0.],\n",
              "       [0., 0.],\n",
              "       [0., 0.]])"
            ]
          },
          "metadata": {},
          "execution_count": 24
        }
      ]
    },
    {
      "cell_type": "code",
      "metadata": {
        "id": "siLllsUkMCOJ",
        "colab": {
          "base_uri": "https://localhost:8080/"
        },
        "outputId": "100d06e9-7812-4406-ac60-9a164d6409b1"
      },
      "source": [
        "np.zeros((10,2,3))"
      ],
      "execution_count": null,
      "outputs": [
        {
          "output_type": "execute_result",
          "data": {
            "text/plain": [
              "array([[[0., 0., 0.],\n",
              "        [0., 0., 0.]],\n",
              "\n",
              "       [[0., 0., 0.],\n",
              "        [0., 0., 0.]],\n",
              "\n",
              "       [[0., 0., 0.],\n",
              "        [0., 0., 0.]],\n",
              "\n",
              "       [[0., 0., 0.],\n",
              "        [0., 0., 0.]],\n",
              "\n",
              "       [[0., 0., 0.],\n",
              "        [0., 0., 0.]],\n",
              "\n",
              "       [[0., 0., 0.],\n",
              "        [0., 0., 0.]],\n",
              "\n",
              "       [[0., 0., 0.],\n",
              "        [0., 0., 0.]],\n",
              "\n",
              "       [[0., 0., 0.],\n",
              "        [0., 0., 0.]],\n",
              "\n",
              "       [[0., 0., 0.],\n",
              "        [0., 0., 0.]],\n",
              "\n",
              "       [[0., 0., 0.],\n",
              "        [0., 0., 0.]]])"
            ]
          },
          "metadata": {},
          "execution_count": 25
        }
      ]
    },
    {
      "cell_type": "markdown",
      "metadata": {
        "id": "o220M4ZSMB0o"
      },
      "source": [
        ""
      ]
    },
    {
      "cell_type": "markdown",
      "metadata": {
        "id": "LjYFQrODVqhX"
      },
      "source": [
        "* `ones()`: 모든 요소를 1로 초기화"
      ]
    },
    {
      "cell_type": "code",
      "metadata": {
        "id": "MURoqsMsVeUw",
        "colab": {
          "base_uri": "https://localhost:8080/"
        },
        "outputId": "f0a0f983-f854-404b-b38f-93adfc04c016"
      },
      "source": [
        "np.ones(10)"
      ],
      "execution_count": null,
      "outputs": [
        {
          "output_type": "execute_result",
          "data": {
            "text/plain": [
              "array([1., 1., 1., 1., 1., 1., 1., 1., 1., 1.])"
            ]
          },
          "metadata": {},
          "execution_count": 26
        }
      ]
    },
    {
      "cell_type": "code",
      "metadata": {
        "id": "2AgUcNMJMYom",
        "colab": {
          "base_uri": "https://localhost:8080/"
        },
        "outputId": "68a4e0d6-574a-4a9e-ee7f-7164f3a3f79a"
      },
      "source": [
        "np.ones((2, 3))"
      ],
      "execution_count": null,
      "outputs": [
        {
          "output_type": "execute_result",
          "data": {
            "text/plain": [
              "array([[1., 1., 1.],\n",
              "       [1., 1., 1.]])"
            ]
          },
          "metadata": {},
          "execution_count": 27
        }
      ]
    },
    {
      "cell_type": "code",
      "metadata": {
        "id": "h60g74pnMhC6",
        "colab": {
          "base_uri": "https://localhost:8080/"
        },
        "outputId": "b5ba089a-ce7c-40e0-97ce-3a0365a68d55"
      },
      "source": [
        "np.ones((2, 3, 5))"
      ],
      "execution_count": null,
      "outputs": [
        {
          "output_type": "execute_result",
          "data": {
            "text/plain": [
              "array([[[1., 1., 1., 1., 1.],\n",
              "        [1., 1., 1., 1., 1.],\n",
              "        [1., 1., 1., 1., 1.]],\n",
              "\n",
              "       [[1., 1., 1., 1., 1.],\n",
              "        [1., 1., 1., 1., 1.],\n",
              "        [1., 1., 1., 1., 1.]]])"
            ]
          },
          "metadata": {},
          "execution_count": 28
        }
      ]
    },
    {
      "cell_type": "markdown",
      "metadata": {
        "id": "jnmm3Cj-cGtx"
      },
      "source": [
        "* `full()`: 모든 요소를 지정한 값으로 초기화"
      ]
    },
    {
      "cell_type": "code",
      "metadata": {
        "id": "oscabrdcV7Ny",
        "colab": {
          "base_uri": "https://localhost:8080/"
        },
        "outputId": "7b388d4f-81e0-4e8f-dd68-b4925563c8cc"
      },
      "source": [
        "np.full((3,3), 1.23)"
      ],
      "execution_count": null,
      "outputs": [
        {
          "output_type": "execute_result",
          "data": {
            "text/plain": [
              "array([[1.23, 1.23, 1.23],\n",
              "       [1.23, 1.23, 1.23],\n",
              "       [1.23, 1.23, 1.23]])"
            ]
          },
          "metadata": {},
          "execution_count": 29
        }
      ]
    },
    {
      "cell_type": "markdown",
      "metadata": {
        "id": "0SRI4jbmlIKc"
      },
      "source": [
        "* `eye()`: 단위행렬(identity matrix) 생성\n",
        "  + 주대각선의 원소가 모두 1이고 나머지 원소는 모두 0인 정사각 행렬\n",
        "  + 길이만 알려주면 됨"
      ]
    },
    {
      "cell_type": "code",
      "metadata": {
        "id": "VceBVLLjk9o5",
        "colab": {
          "base_uri": "https://localhost:8080/"
        },
        "outputId": "8b61087a-eef0-4c30-bb14-f13406137f0b"
      },
      "source": [
        "np.eye(3)"
      ],
      "execution_count": null,
      "outputs": [
        {
          "output_type": "execute_result",
          "data": {
            "text/plain": [
              "array([[1., 0., 0.],\n",
              "       [0., 1., 0.],\n",
              "       [0., 0., 1.]])"
            ]
          },
          "metadata": {},
          "execution_count": 30
        }
      ]
    },
    {
      "cell_type": "markdown",
      "metadata": {
        "id": "7CCH1ZMT5R02"
      },
      "source": [
        "* `tri()`: 삼각행렬 생성"
      ]
    },
    {
      "cell_type": "code",
      "metadata": {
        "id": "mLe2Bhj05VYu",
        "colab": {
          "base_uri": "https://localhost:8080/"
        },
        "outputId": "089d1543-6862-47f8-84d9-63c707b450aa"
      },
      "source": [
        "np.tri(4)"
      ],
      "execution_count": null,
      "outputs": [
        {
          "output_type": "execute_result",
          "data": {
            "text/plain": [
              "array([[1., 0., 0., 0.],\n",
              "       [1., 1., 0., 0.],\n",
              "       [1., 1., 1., 0.],\n",
              "       [1., 1., 1., 1.]])"
            ]
          },
          "metadata": {},
          "execution_count": 31
        }
      ]
    },
    {
      "cell_type": "markdown",
      "metadata": {
        "id": "ObZRA4HclZlO"
      },
      "source": [
        "* `empty()`: 초기화되지 않은 배열 생성\n",
        "  + 초기화가 없어서 배열 생성비용 저렴하고 빠름\n",
        "  + 초기화되지 않아서 기존 메모리 위치에 존재하는 (임의의)값이 있음"
      ]
    },
    {
      "cell_type": "code",
      "metadata": {
        "id": "I3SoFgiglAkz",
        "colab": {
          "base_uri": "https://localhost:8080/"
        },
        "outputId": "2faeda68-6f8c-404e-8f6e-5c824856a7ca"
      },
      "source": [
        "np.empty(10)"
      ],
      "execution_count": null,
      "outputs": [
        {
          "output_type": "execute_result",
          "data": {
            "text/plain": [
              "array([1., 1., 1., 1., 1., 1., 1., 1., 1., 1.])"
            ]
          },
          "metadata": {},
          "execution_count": 32
        }
      ]
    },
    {
      "cell_type": "code",
      "metadata": {
        "colab": {
          "base_uri": "https://localhost:8080/"
        },
        "id": "jD1OOX2jvDDf",
        "outputId": "fce6595f-a730-4a16-9714-54e90c84cf0d"
      },
      "source": [
        "np.empty((5,5),dtype=np.int8)"
      ],
      "execution_count": null,
      "outputs": [
        {
          "output_type": "execute_result",
          "data": {
            "text/plain": [
              "array([[  64,  -52,  -90,  -85, -116],\n",
              "       [  85,    0,    0,    0,    0],\n",
              "       [   0,    0,   97,  116,  101],\n",
              "       [ 116,  105,  109,  101,   65],\n",
              "       [ 114,  114,   97,  121,  -38]], dtype=int8)"
            ]
          },
          "metadata": {},
          "execution_count": 33
        }
      ]
    },
    {
      "cell_type": "markdown",
      "metadata": {
        "id": "p3uSl1Ccmi5_"
      },
      "source": [
        "* `_like()`: 지정된 배열과 shape가 같은 행렬 생성\n",
        "  + `np.zeros_like()`\n",
        "  + `np.ones_like()`\n",
        "  + `np.full_like()`\n",
        "  + `np.empty_like()`"
      ]
    },
    {
      "cell_type": "code",
      "metadata": {
        "id": "Ad5RskRRlZLs",
        "colab": {
          "base_uri": "https://localhost:8080/"
        },
        "outputId": "ecd13adc-42e3-4df1-bdce-5375c3111bfb"
      },
      "source": [
        "print(a1)\n",
        "np.zeros_like(a1)"
      ],
      "execution_count": null,
      "outputs": [
        {
          "output_type": "stream",
          "name": "stdout",
          "text": [
            "[4 7 3 4 5]\n"
          ]
        },
        {
          "output_type": "execute_result",
          "data": {
            "text/plain": [
              "array([0, 0, 0, 0, 0])"
            ]
          },
          "metadata": {},
          "execution_count": 37
        }
      ]
    },
    {
      "cell_type": "code",
      "metadata": {
        "id": "KChUHsG003Nf",
        "colab": {
          "base_uri": "https://localhost:8080/"
        },
        "outputId": "f6c3d9ab-47cf-4a13-b808-14fc815fc1a0"
      },
      "source": [
        "print(a2)\n",
        "np.ones_like(a2)"
      ],
      "execution_count": null,
      "outputs": [
        {
          "output_type": "stream",
          "name": "stdout",
          "text": [
            "[[1 2 3]\n",
            " [4 5 6]\n",
            " [7 8 9]]\n"
          ]
        },
        {
          "output_type": "execute_result",
          "data": {
            "text/plain": [
              "array([[1, 1, 1],\n",
              "       [1, 1, 1],\n",
              "       [1, 1, 1]])"
            ]
          },
          "metadata": {},
          "execution_count": 39
        }
      ]
    },
    {
      "cell_type": "code",
      "metadata": {
        "id": "PUnDz6b305Gg",
        "colab": {
          "base_uri": "https://localhost:8080/"
        },
        "outputId": "db7ece21-8004-48e9-ef58-9282bf8917a7"
      },
      "source": [
        "print(a3)\n",
        "np.full_like(a3, 11)"
      ],
      "execution_count": null,
      "outputs": [
        {
          "output_type": "stream",
          "name": "stdout",
          "text": [
            "[[[ 1  2  3]\n",
            "  [ 4  5  6]\n",
            "  [ 7  8  9]]\n",
            "\n",
            " [[11 12 13]\n",
            "  [14 15 16]\n",
            "  [17 18 19]]\n",
            "\n",
            " [[21 22 23]\n",
            "  [24 25 26]\n",
            "  [27 28 29]]]\n"
          ]
        },
        {
          "output_type": "execute_result",
          "data": {
            "text/plain": [
              "array([[[11, 11, 11],\n",
              "        [11, 11, 11],\n",
              "        [11, 11, 11]],\n",
              "\n",
              "       [[11, 11, 11],\n",
              "        [11, 11, 11],\n",
              "        [11, 11, 11]],\n",
              "\n",
              "       [[11, 11, 11],\n",
              "        [11, 11, 11],\n",
              "        [11, 11, 11]]])"
            ]
          },
          "metadata": {},
          "execution_count": 42
        }
      ]
    },
    {
      "cell_type": "code",
      "metadata": {
        "colab": {
          "base_uri": "https://localhost:8080/"
        },
        "id": "dGxcl26lwupQ",
        "outputId": "0c4d4359-f104-4477-f378-7305ce8ba977"
      },
      "source": [
        "print(a3)\n",
        "np.empty_like(a3)"
      ],
      "execution_count": null,
      "outputs": [
        {
          "output_type": "stream",
          "name": "stdout",
          "text": [
            "[[[ 1  2  3]\n",
            "  [ 4  5  6]\n",
            "  [ 7  8  9]]\n",
            "\n",
            " [[11 12 13]\n",
            "  [14 15 16]\n",
            "  [17 18 19]]\n",
            "\n",
            " [[21 22 23]\n",
            "  [24 25 26]\n",
            "  [27 28 29]]]\n"
          ]
        },
        {
          "output_type": "execute_result",
          "data": {
            "text/plain": [
              "array([[[94062649841344,              0,              0],\n",
              "        [             0,              0,              0],\n",
              "        [             0,              0,              0]],\n",
              "\n",
              "       [[             0,              0,              0],\n",
              "        [             0,              0,              0],\n",
              "        [             0,              0,              0]],\n",
              "\n",
              "       [[             0,              0,              0],\n",
              "        [             0,              0,              0],\n",
              "        [             0,              0,              0]]])"
            ]
          },
          "metadata": {},
          "execution_count": 43
        }
      ]
    },
    {
      "cell_type": "markdown",
      "metadata": {
        "id": "apoksGJNrn1z"
      },
      "source": [
        "### 생성한 값으로 배열 생성"
      ]
    },
    {
      "cell_type": "markdown",
      "metadata": {
        "id": "H3nmLct8cnV8"
      },
      "source": [
        "* `arange()`: 정수 범위로 배열 생성, python range()를 배열생성에 사용"
      ]
    },
    {
      "cell_type": "code",
      "metadata": {
        "id": "mANy4WY4cDKa",
        "colab": {
          "base_uri": "https://localhost:8080/"
        },
        "outputId": "39a9f495-5fa0-4d67-9a8f-b8e4ade414bb"
      },
      "source": [
        "np.arange(0, 30, 2) # 0부터 30사이에 2식 증가하여 배열 생성"
      ],
      "execution_count": null,
      "outputs": [
        {
          "output_type": "execute_result",
          "data": {
            "text/plain": [
              "array([ 0,  2,  4,  6,  8, 10, 12, 14, 16, 18, 20, 22, 24, 26, 28])"
            ]
          },
          "metadata": {},
          "execution_count": 44
        }
      ]
    },
    {
      "cell_type": "markdown",
      "metadata": {
        "id": "s5kET1e6itlo"
      },
      "source": [
        "* `linspace()`: 범위 내에서 균등 간격의 배열 생성"
      ]
    },
    {
      "cell_type": "code",
      "metadata": {
        "id": "u4q9gI7Zcltz",
        "colab": {
          "base_uri": "https://localhost:8080/"
        },
        "outputId": "5c8b3dcb-bf5f-4d0d-c71a-3e4786e5cf7f"
      },
      "source": [
        "np.linspace(0, 1, 5) #0부터 1사이에 5개의 간격을 나누어진 값으로 배열생성"
      ],
      "execution_count": null,
      "outputs": [
        {
          "output_type": "execute_result",
          "data": {
            "text/plain": [
              "array([0.  , 0.25, 0.5 , 0.75, 1.  ])"
            ]
          },
          "metadata": {},
          "execution_count": 45
        }
      ]
    },
    {
      "cell_type": "markdown",
      "metadata": {
        "id": "Eq26d7T3nnAH"
      },
      "source": [
        "* `logspace()`: 범위 내에서 균등간격으로 로그 스케일로 배열 생성"
      ]
    },
    {
      "cell_type": "code",
      "metadata": {
        "id": "-O29WBVEnyXX",
        "colab": {
          "base_uri": "https://localhost:8080/"
        },
        "outputId": "178255ba-a865-4b96-d4ed-053a16141030"
      },
      "source": [
        "np.logspace(0.1, 1, 20) #linspace와 같은데 log scale값으로 배열생성"
      ],
      "execution_count": null,
      "outputs": [
        {
          "output_type": "execute_result",
          "data": {
            "text/plain": [
              "array([ 1.25892541,  1.40400425,  1.565802  ,  1.74624535,  1.94748304,\n",
              "        2.1719114 ,  2.42220294,  2.70133812,  3.0126409 ,  3.35981829,\n",
              "        3.74700446,  4.17881006,  4.66037703,  5.19743987,  5.79639395,\n",
              "        6.46437163,  7.2093272 ,  8.04013161,  8.9666781 , 10.        ])"
            ]
          },
          "metadata": {},
          "execution_count": 46
        }
      ]
    },
    {
      "cell_type": "markdown",
      "metadata": {
        "id": "6_88s4_Jr7fO"
      },
      "source": [
        "### 랜덤값으로 배열 생성\n",
        "![스크린샷 2021-12-06 오전 7.51.59.png](data:image/png;base64,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)\n"
      ]
    },
    {
      "cell_type": "markdown",
      "metadata": {
        "id": "CoK1cVUkjNMg"
      },
      "source": [
        "* `random.random()`: 랜덤한 수의 (실수값)배열 생성"
      ]
    },
    {
      "cell_type": "code",
      "metadata": {
        "id": "qJwccKEnjMze",
        "colab": {
          "base_uri": "https://localhost:8080/"
        },
        "outputId": "77d586a1-a6c1-4de4-e217-1f4dc55d5701"
      },
      "source": [
        "np.random.random((3, 3)) #실수값으로 만들어진 "
      ],
      "execution_count": null,
      "outputs": [
        {
          "output_type": "execute_result",
          "data": {
            "text/plain": [
              "array([[0.41082674, 0.62797246, 0.20599579],\n",
              "       [0.85109299, 0.51587843, 0.55577588],\n",
              "       [0.45073642, 0.56892801, 0.88996563]])"
            ]
          },
          "metadata": {},
          "execution_count": 47
        }
      ]
    },
    {
      "cell_type": "markdown",
      "metadata": {
        "id": "BYsAVwA1kvDI"
      },
      "source": [
        "* `random.randint()`: 일정 구간의 랜덤 정수의 배열 생성"
      ]
    },
    {
      "cell_type": "code",
      "metadata": {
        "id": "oR-UszZ_jqfQ",
        "colab": {
          "base_uri": "https://localhost:8080/"
        },
        "outputId": "34903ee0-e345-4f2b-c694-8f03dd243684"
      },
      "source": [
        "np.random.randint(0, 13, (3, 3)) #기본이 실수라서 정수값 만드는 함수가 따로 있음, 0에서 13사이에 값을 이용해서 3by3짜리 배열 생성"
      ],
      "execution_count": null,
      "outputs": [
        {
          "output_type": "execute_result",
          "data": {
            "text/plain": [
              "array([[ 9,  5,  2],\n",
              "       [ 6,  0,  6],\n",
              "       [ 6, 12,  8]])"
            ]
          },
          "metadata": {},
          "execution_count": 53
        }
      ]
    },
    {
      "cell_type": "markdown",
      "metadata": {
        "id": "2r557WHsjrL3"
      },
      "source": [
        "* `random.normal()`: 정규분포(normal distribution)를 고려한 랜덤한 수의 배열 생성\n",
        "* 평균=0, 표준편차=1, 3 x 3 배열"
      ]
    },
    {
      "cell_type": "code",
      "metadata": {
        "id": "Oan3bSpHi2Wq",
        "colab": {
          "base_uri": "https://localhost:8080/"
        },
        "outputId": "943c8317-f8d8-4591-920e-a1f7bab20578"
      },
      "source": [
        "np.random.normal(0, 1, size=(3,3)) #정규분포를 고려한 생성이다."
      ],
      "execution_count": null,
      "outputs": [
        {
          "output_type": "execute_result",
          "data": {
            "text/plain": [
              "array([[ 0.11434511,  1.10960181,  1.18433034],\n",
              "       [ 2.21057706, -0.63764853,  1.71713523],\n",
              "       [-0.3981366 ,  0.27378481, -0.22107683]])"
            ]
          },
          "metadata": {},
          "execution_count": 54
        }
      ]
    },
    {
      "cell_type": "markdown",
      "metadata": {
        "id": "fPO-D1rHsrFw"
      },
      "source": [
        "* `random.rand()`: 균등분포(uniform distribution)를 고려한 랜덤한 수의 배열 생성"
      ]
    },
    {
      "cell_type": "code",
      "metadata": {
        "id": "DxiyEjnXnDUT",
        "colab": {
          "base_uri": "https://localhost:8080/"
        },
        "outputId": "cb4118d7-3d95-4e5f-c886-e82c561c0795"
      },
      "source": [
        "np.random.rand(3, 3)"
      ],
      "execution_count": null,
      "outputs": [
        {
          "output_type": "execute_result",
          "data": {
            "text/plain": [
              "array([[0.48754917, 0.58054776, 0.73705224],\n",
              "       [0.87025358, 0.24010426, 0.15248265],\n",
              "       [0.60498256, 0.13982083, 0.19346537]])"
            ]
          },
          "metadata": {},
          "execution_count": 56
        }
      ]
    },
    {
      "cell_type": "markdown",
      "metadata": {
        "id": "IegH2dsPLQgd"
      },
      "source": [
        "* `random.randn()`: 표준 정규 분포(standard normal distribution)를 고려한 랜덤한 수의 배열 생성"
      ]
    },
    {
      "cell_type": "code",
      "metadata": {
        "id": "V61VHa-JLIma",
        "colab": {
          "base_uri": "https://localhost:8080/"
        },
        "outputId": "d050076b-01f4-4de5-98f3-e1f40e5b85eb"
      },
      "source": [
        "np.random.randn(3, 3)"
      ],
      "execution_count": null,
      "outputs": [
        {
          "output_type": "execute_result",
          "data": {
            "text/plain": [
              "array([[-0.01839521,  0.718552  , -0.11306481],\n",
              "       [ 0.4876713 , -0.16932981,  0.24163304],\n",
              "       [-0.49171115, -0.47702905,  0.49022332]])"
            ]
          },
          "metadata": {},
          "execution_count": 57
        }
      ]
    },
    {
      "cell_type": "markdown",
      "metadata": {
        "id": "5ts0cYLQL_pT"
      },
      "source": [
        "### 표준 데이터 타입\n",
        "![스크린샷 2021-12-06 오전 8.00.21.png](data:image/png;base64,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)"
      ]
    },
    {
      "cell_type": "code",
      "metadata": {
        "id": "rxqTqAFKL73y",
        "colab": {
          "base_uri": "https://localhost:8080/"
        },
        "outputId": "9590e092-762c-4e63-f8b6-453bda4875b0"
      },
      "source": [
        "np.zeros(20, dtype=int)"
      ],
      "execution_count": null,
      "outputs": [
        {
          "output_type": "execute_result",
          "data": {
            "text/plain": [
              "array([0, 0, 0, 0, 0, 0, 0, 0, 0, 0, 0, 0, 0, 0, 0, 0, 0, 0, 0, 0])"
            ]
          },
          "metadata": {},
          "execution_count": 58
        }
      ]
    },
    {
      "cell_type": "code",
      "metadata": {
        "id": "o9TuSl6HIsXr",
        "colab": {
          "base_uri": "https://localhost:8080/"
        },
        "outputId": "40852994-74e2-4734-9ac8-c75f76847832"
      },
      "source": [
        "np.ones((3, 3), dtype=bool) #bool에서 1은 True 값을 의미하기 때문에"
      ],
      "execution_count": null,
      "outputs": [
        {
          "output_type": "execute_result",
          "data": {
            "text/plain": [
              "array([[ True,  True,  True],\n",
              "       [ True,  True,  True],\n",
              "       [ True,  True,  True]])"
            ]
          },
          "metadata": {},
          "execution_count": 59
        }
      ]
    },
    {
      "cell_type": "code",
      "metadata": {
        "id": "w-TciNfzEhY0",
        "colab": {
          "base_uri": "https://localhost:8080/"
        },
        "outputId": "17893c5f-f1aa-44cb-b28c-15058c491fe5"
      },
      "source": [
        "np.full((3, 3), 1.0, dtype=float)"
      ],
      "execution_count": null,
      "outputs": [
        {
          "output_type": "execute_result",
          "data": {
            "text/plain": [
              "array([[1., 1., 1.],\n",
              "       [1., 1., 1.],\n",
              "       [1., 1., 1.]])"
            ]
          },
          "metadata": {},
          "execution_count": 60
        }
      ]
    },
    {
      "cell_type": "markdown",
      "metadata": {
        "id": "1qFumu-p-0mQ"
      },
      "source": [
        "### 날짜/시간 배열 생성\n",
        "![스크린샷 2021-12-06 오전 8.03.39.png](data:image/png;base64,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)"
      ]
    },
    {
      "cell_type": "code",
      "metadata": {
        "id": "D8ozvTUf-6Rr",
        "colab": {
          "base_uri": "https://localhost:8080/"
        },
        "outputId": "640e6507-aca7-48c8-e3db-8540c6facaa1"
      },
      "source": [
        "date = np.array(\"2020-01-01\", dtype=np.datetime64())\n",
        "date"
      ],
      "execution_count": null,
      "outputs": [
        {
          "output_type": "execute_result",
          "data": {
            "text/plain": [
              "array('2020-01-01', dtype='datetime64[D]')"
            ]
          },
          "metadata": {},
          "execution_count": 65
        }
      ]
    },
    {
      "cell_type": "code",
      "metadata": {
        "id": "XIjLUkn6_K3J",
        "colab": {
          "base_uri": "https://localhost:8080/"
        },
        "outputId": "2fb68e2b-7352-4658-df67-05a6fa347569"
      },
      "source": [
        "date + np.arange(12) #기존 날짜에 값이 추가된 형태로 저장, 날짜를 계산가능 형태로 다룰 수 있음"
      ],
      "execution_count": null,
      "outputs": [
        {
          "output_type": "execute_result",
          "data": {
            "text/plain": [
              "array(['2020-01-01', '2020-01-02', '2020-01-03', '2020-01-04',\n",
              "       '2020-01-05', '2020-01-06', '2020-01-07', '2020-01-08',\n",
              "       '2020-01-09', '2020-01-10', '2020-01-11', '2020-01-12'],\n",
              "      dtype='datetime64[D]')"
            ]
          },
          "metadata": {},
          "execution_count": 66
        }
      ]
    },
    {
      "cell_type": "code",
      "metadata": {
        "id": "EO7yE5VR_Wlh",
        "colab": {
          "base_uri": "https://localhost:8080/"
        },
        "outputId": "d32cdae8-7790-4b69-e697-1dc2dd436956"
      },
      "source": [
        "datetime = np.datetime64('2020-06-21 12:00')\n",
        "datetime #T자가 표시됨"
      ],
      "execution_count": null,
      "outputs": [
        {
          "output_type": "execute_result",
          "data": {
            "text/plain": [
              "numpy.datetime64('2020-06-21T12:00')"
            ]
          },
          "metadata": {},
          "execution_count": 68
        }
      ]
    },
    {
      "cell_type": "code",
      "metadata": {
        "id": "3dnOlf9i_kzX",
        "colab": {
          "base_uri": "https://localhost:8080/"
        },
        "outputId": "2f11c7f2-44cc-4999-e70c-49e4b2bb365e"
      },
      "source": [
        "datetime2 = np.datetime64('2021-12-06 12:00:34.1234', 'ns')\n",
        "datetime2"
      ],
      "execution_count": null,
      "outputs": [
        {
          "output_type": "execute_result",
          "data": {
            "text/plain": [
              "numpy.datetime64('2021-12-06T12:00:34.123400000')"
            ]
          },
          "metadata": {},
          "execution_count": 71
        }
      ]
    },
    {
      "cell_type": "markdown",
      "metadata": {
        "id": "d88tkTqbBE5V"
      },
      "source": [
        "## 배열 조회"
      ]
    },
    {
      "cell_type": "markdown",
      "metadata": {
        "id": "vRqwfbjtFnPn"
      },
      "source": [
        "### 배열 속성 정보"
      ]
    },
    {
      "cell_type": "code",
      "metadata": {
        "id": "R5Rlcll7GXrM"
      },
      "source": [
        "def array_info(array):\n",
        "  print(array)\n",
        "  print(\"ndim: \", array.ndim)\n",
        "  print(\"shape: \", array.shape)\n",
        "  print(\"dtype: \", array.dtype)\n",
        "  print(\"size: \", array.size)\n",
        "  print(\"itemsize: \", array.itemsize) #각각의 하나의 item들의 byte size, int64 bit == 8 byte\n",
        "  print('nbytes: ', array.nbytes) # 40 == 8byte * 5개 item\n",
        "  print('strides: ', array.strides) #다음 차원의 축으로 넘어갈때 몇 바이트 지나야 하는가? 2차/3차원에서 의미있음\n",
        "###\n"
      ],
      "execution_count": null,
      "outputs": []
    },
    {
      "cell_type": "code",
      "metadata": {
        "id": "Na59LwA7KXZV",
        "colab": {
          "base_uri": "https://localhost:8080/"
        },
        "outputId": "11ba5ec6-ca4b-414a-e13e-d07f1938c46d"
      },
      "source": [
        "#1차원 배열\n",
        "a1 = np.array([1, 2, 3, 4, 5]) #list를 배열로 바꾸는 것임\n",
        "\n",
        "array_info(a1)"
      ],
      "execution_count": null,
      "outputs": [
        {
          "output_type": "stream",
          "name": "stdout",
          "text": [
            "[1 2 3 4 5]\n",
            "ndim:  1\n",
            "shape:  (5,)\n",
            "dtype:  int64\n",
            "size:  5\n",
            "itemsize:  8\n",
            "nbytes:  40\n",
            "strides:  (8,)\n"
          ]
        }
      ]
    },
    {
      "cell_type": "code",
      "metadata": {
        "id": "Urzr_LsdLah0",
        "colab": {
          "base_uri": "https://localhost:8080/"
        },
        "outputId": "af1b18e8-15b4-4850-ca20-6abdde906326"
      },
      "source": [
        "#2차원 배열\n",
        "a2 = np.array([[1, 2, 3], \n",
        "               [4, 5, 6], \n",
        "               [7, 8, 9]])\n",
        "\n",
        "array_info(a2)"
      ],
      "execution_count": null,
      "outputs": [
        {
          "output_type": "stream",
          "name": "stdout",
          "text": [
            "[[1 2 3]\n",
            " [4 5 6]\n",
            " [7 8 9]]\n",
            "ndim:  2\n",
            "shape:  (3, 3)\n",
            "dtype:  int64\n",
            "size:  9\n",
            "itemsize:  8\n",
            "nbytes:  72\n",
            "strides:  (24, 8)\n"
          ]
        }
      ]
    },
    {
      "cell_type": "code",
      "metadata": {
        "id": "jktqh1lsLf4V",
        "colab": {
          "base_uri": "https://localhost:8080/"
        },
        "outputId": "056de5b2-4905-4bb4-fc21-ac4c8f1c35ca"
      },
      "source": [
        "#3차원 배열\n",
        "a3 = np.array([[[1, 2, 3], \n",
        "               [4, 5, 6], \n",
        "               [7, 8, 9]],\n",
        "              [[11, 12, 13], \n",
        "               [14, 15, 16], \n",
        "               [17, 18, 19]],\n",
        "               [[21, 22, 23], \n",
        "               [24, 25, 26], \n",
        "               [27, 28, 29]]])\n",
        "\n",
        "array_info(a3) \n",
        "\n",
        "#size 27 * itemsize 8 = 216 nbyte\n",
        "#(72, 24, 8) 9 * 8 byte==72byte 즉 [[1 2 3],[4 5 6],[7 8 9]] 72byte를 넘어가야 다음차원으로 갈 수 있다. \n",
        "#24는 [1, 2, 3]에서 다음 차원으로 넘어가려면 24byte, \n",
        "#[1]에서 [2]로 넘어가려면 8byte"
      ],
      "execution_count": null,
      "outputs": [
        {
          "output_type": "stream",
          "name": "stdout",
          "text": [
            "[[[ 1  2  3]\n",
            "  [ 4  5  6]\n",
            "  [ 7  8  9]]\n",
            "\n",
            " [[11 12 13]\n",
            "  [14 15 16]\n",
            "  [17 18 19]]\n",
            "\n",
            " [[21 22 23]\n",
            "  [24 25 26]\n",
            "  [27 28 29]]]\n",
            "ndim:  3\n",
            "shape:  (3, 3, 3)\n",
            "dtype:  int64\n",
            "size:  27\n",
            "itemsize:  8\n",
            "nbytes:  216\n",
            "strides:  (72, 24, 8)\n"
          ]
        }
      ]
    },
    {
      "cell_type": "markdown",
      "metadata": {
        "id": "LV1WfdBWFqDu"
      },
      "source": [
        "### 인덱싱(Indexing)"
      ]
    },
    {
      "cell_type": "code",
      "metadata": {
        "id": "Nyb7eDmGFr5m",
        "colab": {
          "base_uri": "https://localhost:8080/"
        },
        "outputId": "8a4732ff-c1fe-4376-9e25-9c772c60a49f"
      },
      "source": [
        "print(a1)\n",
        "print(a1[0])\n",
        "print(a1[2])\n",
        "print(a1[4])\n",
        "#print(a1[5])\n",
        "print(a1[-1])\n",
        "print(a1[-2])\n",
        "print(a1[-5])"
      ],
      "execution_count": null,
      "outputs": [
        {
          "output_type": "stream",
          "name": "stdout",
          "text": [
            "[1 2 3 4 5]\n",
            "1\n",
            "3\n",
            "5\n",
            "5\n",
            "4\n",
            "1\n"
          ]
        }
      ]
    },
    {
      "cell_type": "code",
      "metadata": {
        "id": "uHMNcQW3Kn-h",
        "colab": {
          "base_uri": "https://localhost:8080/"
        },
        "outputId": "0fd1c395-53db-479b-db80-4276ba1970c0"
      },
      "source": [
        "print(a2)\n",
        "print(a2[0, 0])\n",
        "print(a2[0, 2])\n",
        "print(a2[1, 1])\n",
        "print(a2[2, -1])\n"
      ],
      "execution_count": null,
      "outputs": [
        {
          "output_type": "stream",
          "name": "stdout",
          "text": [
            "[[1 2 3]\n",
            " [4 5 6]\n",
            " [7 8 9]]\n",
            "1\n",
            "3\n",
            "5\n",
            "9\n"
          ]
        }
      ]
    },
    {
      "cell_type": "code",
      "metadata": {
        "id": "IX5yDMGiMxYZ",
        "colab": {
          "base_uri": "https://localhost:8080/"
        },
        "outputId": "f452d7a6-1627-4b81-ac4a-e6f0ebcf3957"
      },
      "source": [
        "print(a3)\n",
        "print(a3[0, 0, 0])\n",
        "print(a3[1, 1, 1])\n",
        "print(a3[2, 2, 2])\n",
        "print(a3[2, -1, -1,]) #마지막 ','가 추가되어도 에러가 않납니다."
      ],
      "execution_count": null,
      "outputs": [
        {
          "output_type": "stream",
          "name": "stdout",
          "text": [
            "[[[ 1  2  3]\n",
            "  [ 4  5  6]\n",
            "  [ 7  8  9]]\n",
            "\n",
            " [[11 12 13]\n",
            "  [14 15 16]\n",
            "  [17 18 19]]\n",
            "\n",
            " [[21 22 23]\n",
            "  [24 25 26]\n",
            "  [27 28 29]]]\n",
            "1\n",
            "15\n",
            "29\n",
            "29\n"
          ]
        }
      ]
    },
    {
      "cell_type": "markdown",
      "metadata": {
        "id": "uSeXu2y_O4cu"
      },
      "source": [
        "### 슬라이싱(Slicing)"
      ]
    },
    {
      "cell_type": "markdown",
      "metadata": {
        "id": "1hikO_6ZPp5m"
      },
      "source": [
        "* 슬라이싱 구문: `a[start:stop:step]`\n",
        "* 기본값: start=0, stop=ndim, step=1"
      ]
    },
    {
      "cell_type": "code",
      "metadata": {
        "id": "PYZOOCoVO7BF",
        "colab": {
          "base_uri": "https://localhost:8080/"
        },
        "outputId": "17d996bb-9108-4ba9-cc9f-4357334ce377"
      },
      "source": [
        "print(a1)\n",
        "print(a1[0:2])\n",
        "print(a1[0:])\n",
        "print(a1[:1])\n",
        "print(a1[::2])\n",
        "print(a1[::-1])"
      ],
      "execution_count": null,
      "outputs": [
        {
          "output_type": "stream",
          "name": "stdout",
          "text": [
            "[1 2 3 4 5]\n",
            "[1 2]\n",
            "[1 2 3 4 5]\n",
            "[1]\n",
            "[1 3 5]\n",
            "[5 4 3 2 1]\n"
          ]
        }
      ]
    },
    {
      "cell_type": "code",
      "metadata": {
        "id": "oULOFrBQWs1G",
        "colab": {
          "base_uri": "https://localhost:8080/"
        },
        "outputId": "bb6864ee-adb6-434f-f571-62833d0bed2e"
      },
      "source": [
        "print(a2)\n",
        "print(a2[1])\n",
        "print(a2[1, :]) # : 는 All이라 a2[1]의 모든 것을 복사\n",
        "print(a2[:2, :2])\n",
        "print(a2[1:, ::-1]) # - 는 뒷집힌다\n",
        "print(a2[::-1, ::-1])"
      ],
      "execution_count": null,
      "outputs": [
        {
          "output_type": "stream",
          "name": "stdout",
          "text": [
            "[[1 2 3]\n",
            " [4 5 6]\n",
            " [7 8 9]]\n",
            "[4 5 6]\n",
            "[4 5 6]\n",
            "[[1 2]\n",
            " [4 5]]\n",
            "[[6 5 4]\n",
            " [9 8 7]]\n",
            "[[9 8 7]\n",
            " [6 5 4]\n",
            " [3 2 1]]\n"
          ]
        }
      ]
    },
    {
      "cell_type": "markdown",
      "metadata": {
        "id": "LD52bXAsBgbH"
      },
      "source": [
        "### 불리언 인덱싱(Boolean Indexing)\n",
        "\n",
        "* 배열 각 요소의 선택 여부를 불리언(True or False)로 지정\n",
        "* True 값인 인덱스의 값만 조회"
      ]
    },
    {
      "cell_type": "code",
      "metadata": {
        "id": "pOvNsH2oBgz-",
        "colab": {
          "base_uri": "https://localhost:8080/"
        },
        "outputId": "67bbd777-7a2e-479f-e874-018a99b65149"
      },
      "source": [
        "print(a1)\n",
        "bi = [False, True, True, False, True]\n",
        "print(a1[bi]) #index대신 Boolean Indexing적용하면 True부분만 출력"
      ],
      "execution_count": null,
      "outputs": [
        {
          "output_type": "stream",
          "name": "stdout",
          "text": [
            "[1 2 3 4 5]\n",
            "[2 3 5]\n"
          ]
        }
      ]
    },
    {
      "cell_type": "code",
      "metadata": {
        "id": "EFfquM2kWHAU",
        "colab": {
          "base_uri": "https://localhost:8080/"
        },
        "outputId": "0910396d-9de3-47c9-d666-d65f68153642"
      },
      "source": [
        "print(a2)\n",
        "bi = np.random.randint(0, 2, (3, 3), dtype=bool)\n",
        "print(bi)\n",
        "print(a2[bi])"
      ],
      "execution_count": null,
      "outputs": [
        {
          "output_type": "stream",
          "name": "stdout",
          "text": [
            "[[1 2 3]\n",
            " [4 5 6]\n",
            " [7 8 9]]\n",
            "[[ True  True False]\n",
            " [ True  True False]\n",
            " [ True  True  True]]\n",
            "[1 2 4 5 7 8 9]\n"
          ]
        }
      ]
    },
    {
      "cell_type": "markdown",
      "metadata": {
        "id": "R5hes-hdBujH"
      },
      "source": [
        "### 팬시 인덱싱(Fancy Indedxing)"
      ]
    },
    {
      "cell_type": "code",
      "metadata": {
        "id": "z-Luw5fzBx30",
        "colab": {
          "base_uri": "https://localhost:8080/"
        },
        "outputId": "b4f1ead7-99f0-4b58-f60d-f79a48876752"
      },
      "source": [
        "print(a1)\n",
        "print(a1[0], a1[2])\n",
        "ind = [0, 2]\n",
        "print(a1[ind])\n",
        "\n",
        "ind = np.array([[0, 1],\n",
        "               [2, 0]]) \n",
        "print(a1[ind]) #결과는 적용된 inx의 차원으로 결과가 나옴, 2차원적용하면 2차원 결과"
      ],
      "execution_count": null,
      "outputs": [
        {
          "output_type": "stream",
          "name": "stdout",
          "text": [
            "[1 2 3 4 5]\n",
            "1 3\n",
            "[1 3]\n",
            "[[1 2]\n",
            " [3 1]]\n"
          ]
        }
      ]
    },
    {
      "cell_type": "code",
      "metadata": {
        "id": "p_Dd0oiJahgj",
        "colab": {
          "base_uri": "https://localhost:8080/"
        },
        "outputId": "9474f992-e782-4d51-bd1f-4c67f445197d"
      },
      "source": [
        "print(a2)\n",
        "row = np.array([0, 2])\n",
        "col = np.array([1, 2])\n",
        "print(a2[row, col])\n",
        "print(a2[:, col])\n",
        "print(a2[row, 1])\n",
        "print(a2[2, col])\n",
        "print(a2[row, 1])\n",
        "print(a2[1:, col])"
      ],
      "execution_count": null,
      "outputs": [
        {
          "output_type": "stream",
          "name": "stdout",
          "text": [
            "[[1 2 3]\n",
            " [4 5 6]\n",
            " [7 8 9]]\n",
            "[2 9]\n",
            "[[2 3]\n",
            " [5 6]\n",
            " [8 9]]\n",
            "[2 8]\n",
            "[8 9]\n",
            "[2 8]\n",
            "[[5 6]\n",
            " [8 9]]\n"
          ]
        }
      ]
    },
    {
      "cell_type": "markdown",
      "metadata": {
        "id": "F71_PQF1GvTs"
      },
      "source": [
        "\n",
        "\n",
        "---\n",
        "\n"
      ]
    },
    {
      "cell_type": "markdown",
      "metadata": {
        "id": "zDI5yQ58O-IX"
      },
      "source": [
        "## 배열 값 삽입/수정/삭제/복사"
      ]
    },
    {
      "cell_type": "markdown",
      "metadata": {
        "id": "zajd1qpVOQYy"
      },
      "source": [
        "### 배열 값 삽입\n",
        "\n",
        "* `insert()`: 배열의 특정 위치에 값 삽입\n",
        "* axis를 지정하지 않으면 1차원 배열로 변환\n",
        "* 추가할 방향을 axis로 지정\n",
        "* 원본 배열 변경없이 새로운 배열 반환"
      ]
    },
    {
      "cell_type": "code",
      "metadata": {
        "id": "sedRT54rP395",
        "colab": {
          "base_uri": "https://localhost:8080/"
        },
        "outputId": "459e6e33-ee53-4d75-c269-6a903157bceb"
      },
      "source": [
        "print(a1)\n",
        "b1 = np.insert(a1, 0, 10, )\n",
        "\n",
        "print(b1)\n",
        "print(a1)\n",
        "c1 = np.insert(a1, 2, 10)\n",
        "print(c1)\n",
        "print(a1)"
      ],
      "execution_count": null,
      "outputs": [
        {
          "output_type": "stream",
          "name": "stdout",
          "text": [
            "[1 2 3 4 5]\n",
            "[10  1  2  3  4  5]\n",
            "[1 2 3 4 5]\n",
            "[ 1  2 10  3  4  5]\n",
            "[1 2 3 4 5]\n"
          ]
        }
      ]
    },
    {
      "cell_type": "code",
      "metadata": {
        "id": "zNmu1E4iQ6h-",
        "colab": {
          "base_uri": "https://localhost:8080/"
        },
        "outputId": "4a446812-6e2a-4edd-ea03-b22ae644fd67"
      },
      "source": [
        "print(a2)\n",
        "b2 = np.insert(a2, 1, 10, axis=0)\n",
        "print(b2)\n",
        "c2 = np.insert(a2, 1, 10, axis=1)\n",
        "print(c2)"
      ],
      "execution_count": null,
      "outputs": [
        {
          "output_type": "stream",
          "name": "stdout",
          "text": [
            "[[1 2 3]\n",
            " [4 5 6]\n",
            " [7 8 9]]\n",
            "[[ 1  2  3]\n",
            " [10 10 10]\n",
            " [ 4  5  6]\n",
            " [ 7  8  9]]\n",
            "[[ 1 10  2  3]\n",
            " [ 4 10  5  6]\n",
            " [ 7 10  8  9]]\n"
          ]
        }
      ]
    },
    {
      "cell_type": "markdown",
      "metadata": {
        "id": "OlEzG4ffNjyL"
      },
      "source": [
        "### 배열 값 수정\n",
        "\n",
        "* 배열의 인덱싱으로 접근하여 값 수정"
      ]
    },
    {
      "cell_type": "code",
      "metadata": {
        "id": "ec43i1KWNjeN",
        "colab": {
          "base_uri": "https://localhost:8080/"
        },
        "outputId": "a5c6208d-86ea-416a-fdc4-5305025c8f32"
      },
      "source": [
        "print(a1)\n",
        "a1[0] = 10\n",
        "print(a1)\n",
        "\n",
        "a1[:1] = 9\n",
        "print(a1)\n",
        "\n",
        "i = np.array([1, 3, 4])\n",
        "print(i)\n",
        "a1[i] = 0  #fancy array를 이용한 변경도 가능\n",
        "print(a1)\n",
        "a1[i] += 4\n",
        "print(a1)"
      ],
      "execution_count": null,
      "outputs": [
        {
          "output_type": "stream",
          "name": "stdout",
          "text": [
            "[9 4 3 4 4]\n",
            "[10  4  3  4  4]\n",
            "[9 4 3 4 4]\n",
            "[1 3 4]\n",
            "[9 0 3 0 0]\n",
            "[9 4 3 4 4]\n"
          ]
        }
      ]
    },
    {
      "cell_type": "code",
      "metadata": {
        "id": "IApNNx3NOMQh",
        "colab": {
          "base_uri": "https://localhost:8080/"
        },
        "outputId": "597ce196-d2d6-423a-df44-04579d25394e"
      },
      "source": [
        "print(a2)\n",
        "a2[0, 0] = 1\n",
        "print(a2)\n",
        "a2[1, 1] = 2\n",
        "print(a2)\n",
        "a2[2, 2] = 3\n",
        "print(a2)\n",
        "a2[0] = 1 #0행 전체가 1로 바뀐다. 매우 자유롭다.\n",
        "print(a2)\n",
        "a2[1: 2] =9\n",
        "print(a2)\n",
        "\n",
        "row = np.array([0, 1])\n",
        "col = np.array([1, 2])\n",
        "a2[row, col] = 0\n",
        "print(a2)"
      ],
      "execution_count": null,
      "outputs": [
        {
          "output_type": "stream",
          "name": "stdout",
          "text": [
            "[[1 1 1]\n",
            " [9 9 9]\n",
            " [7 8 3]]\n",
            "[[1 1 1]\n",
            " [9 9 9]\n",
            " [7 8 3]]\n",
            "[[1 1 1]\n",
            " [9 2 9]\n",
            " [7 8 3]]\n",
            "[[1 1 1]\n",
            " [9 2 9]\n",
            " [7 8 3]]\n",
            "[[1 1 1]\n",
            " [9 2 9]\n",
            " [7 8 3]]\n",
            "[[1 1 1]\n",
            " [9 9 9]\n",
            " [7 8 3]]\n",
            "[[1 0 1]\n",
            " [9 9 0]\n",
            " [7 8 3]]\n"
          ]
        }
      ]
    },
    {
      "cell_type": "markdown",
      "metadata": {
        "id": "emV7DgrITPcn"
      },
      "source": [
        "### 배열 값 삭제\n",
        "\n",
        "* `delete()`: 배열의 특정 위치에 값 삭제\n",
        "* axis를 지정하지 않으면 1차원 배열로 변환\n",
        "* 삭제할 방향을 axis로 지정\n",
        "* 원본 배열 변경없이 새로운 배열 반환"
      ]
    },
    {
      "cell_type": "code",
      "metadata": {
        "id": "I3k_Yx8lTRJ2",
        "colab": {
          "base_uri": "https://localhost:8080/"
        },
        "outputId": "aceaa353-0bb7-4b1a-dce6-88c9be09d5f5"
      },
      "source": [
        "print(a1)\n",
        "\n",
        "b1 = np.delete(a1, 1) #원본을 바꾸지 않는 것은 속도면의 이점때문이다.\n",
        "print(b1)\n",
        "print(a1)"
      ],
      "execution_count": null,
      "outputs": [
        {
          "output_type": "stream",
          "name": "stdout",
          "text": [
            "[9 4 3 4 4]\n",
            "[9 3 4 4]\n",
            "[9 4 3 4 4]\n"
          ]
        }
      ]
    },
    {
      "cell_type": "code",
      "metadata": {
        "id": "tRTwMIfJTq_y",
        "colab": {
          "base_uri": "https://localhost:8080/"
        },
        "outputId": "bace9dc9-78be-4869-ab8f-d13f7fb99425"
      },
      "source": [
        "print(a2)\n",
        "b2 = np.delete(a2, 1, axis=0)\n",
        "print(b2)\n",
        "print(a2)\n",
        "c2 = np.delete(a2, 1, axis=1)\n",
        "print(c2)"
      ],
      "execution_count": null,
      "outputs": [
        {
          "output_type": "stream",
          "name": "stdout",
          "text": [
            "[[1 0 1]\n",
            " [9 9 0]\n",
            " [7 8 3]]\n",
            "[[1 0 1]\n",
            " [7 8 3]]\n",
            "[[1 0 1]\n",
            " [9 9 0]\n",
            " [7 8 3]]\n",
            "[[1 1]\n",
            " [9 0]\n",
            " [7 3]]\n"
          ]
        }
      ]
    },
    {
      "cell_type": "markdown",
      "metadata": {
        "id": "UydkYxV8Z6Fx"
      },
      "source": [
        "### 배열 복사\n",
        "\n",
        "* 리스트 자료형과 달리 배열의 슬라이스는 복사본이 아님, 원본배열에 영향을 줌"
      ]
    },
    {
      "cell_type": "code",
      "metadata": {
        "id": "n2_0L8KWZ7wH",
        "colab": {
          "base_uri": "https://localhost:8080/"
        },
        "outputId": "9223ccdf-c26c-4cd5-cd7e-5673d1574287"
      },
      "source": [
        "print(a2) #이것은 리스트가 아니고 numpy 배열임\n",
        "print(a2[:2, :2])\n",
        "a2_sub = a2[:2, :2] #sub에서 수정되면 원본도 바뀐다. 밑에 .copy()함수와 비교해서 설명해야 함.\n",
        "print(a2_sub)\n",
        "\n",
        "a2_sub[:, 1] = 0\n",
        "print(a2_sub)\n",
        "print(a2) #원본 배열에 영향을 주었음, 리스트는 원본배열의 슬라이드 영향을 미치고, 그 결과를 다시 배열로 리턴함\n",
        "#아주 큰 배열일 경우 복사가 없이 원본배열을 가지고 연산하고 있음.\n"
      ],
      "execution_count": null,
      "outputs": [
        {
          "output_type": "stream",
          "name": "stdout",
          "text": [
            "[[1 0 1]\n",
            " [9 0 0]\n",
            " [7 8 3]]\n",
            "[[1 0]\n",
            " [9 0]]\n",
            "[[1 0]\n",
            " [9 0]]\n",
            "[[1 0]\n",
            " [9 0]]\n",
            "[[1 0 1]\n",
            " [9 0 0]\n",
            " [7 8 3]]\n"
          ]
        }
      ]
    },
    {
      "cell_type": "markdown",
      "metadata": {
        "id": "UrQqOC1Eat5l"
      },
      "source": [
        "* `copy()`: 그래서, numpy는 배열이나 하위 배열 내의 값을 명시적으로 복사하고 싶으면 copy()를 사용해야 함"
      ]
    },
    {
      "cell_type": "code",
      "metadata": {
        "id": "hLBZ7Qn6bAKO",
        "colab": {
          "base_uri": "https://localhost:8080/"
        },
        "outputId": "b32405da-40bf-4b16-d19f-26241a49581d"
      },
      "source": [
        "print(a2)\n",
        "a2_sub_copy = a2[:2, :2].copy()  #뒤에 copy가 추가됨, 명시적으로 copy본을 리턴해 줌\n",
        "a2_sub_copy[:, 1] = 1\n",
        "print(a2_sub_copy)\n",
        "print(a2) #원본은 바뀌지 않음"
      ],
      "execution_count": null,
      "outputs": [
        {
          "output_type": "stream",
          "name": "stdout",
          "text": [
            "[[1 0 1]\n",
            " [9 0 0]\n",
            " [7 8 3]]\n",
            "[[1 1]\n",
            " [9 1]]\n",
            "[[1 0 1]\n",
            " [9 0 0]\n",
            " [7 8 3]]\n"
          ]
        }
      ]
    },
    {
      "cell_type": "markdown",
      "metadata": {
        "id": "4HTc9FXOGtA7"
      },
      "source": [
        "\n",
        "\n",
        "---\n",
        "\n"
      ]
    },
    {
      "cell_type": "markdown",
      "metadata": {
        "id": "XVZY082__yV6"
      },
      "source": [
        "## 배열 변환"
      ]
    },
    {
      "cell_type": "markdown",
      "metadata": {
        "id": "Ec09aPeBO58M"
      },
      "source": [
        "### 배열 전치 및 축 변경"
      ]
    },
    {
      "cell_type": "code",
      "metadata": {
        "id": "anYByBpoWZmj",
        "colab": {
          "base_uri": "https://localhost:8080/"
        },
        "outputId": "3f2072cf-802e-40e1-94e5-e2488e2aa04b"
      },
      "source": [
        "a2 = np.array([[1, 2, 3],[4, 5, 6],[7, 8, 9]])\n",
        "print(a2)\n",
        "print(a2.T)"
      ],
      "execution_count": null,
      "outputs": [
        {
          "output_type": "stream",
          "name": "stdout",
          "text": [
            "[[1 2 3]\n",
            " [4 5 6]\n",
            " [7 8 9]]\n",
            "[[1 4 7]\n",
            " [2 5 8]\n",
            " [3 6 9]]\n"
          ]
        }
      ]
    },
    {
      "cell_type": "code",
      "metadata": {
        "id": "wg4XC6kiRnZo",
        "colab": {
          "base_uri": "https://localhost:8080/"
        },
        "outputId": "d570c848-0abd-41ec-c176-be6950de479e"
      },
      "source": [
        "print(a3)\n",
        "print(a3.T)\n"
      ],
      "execution_count": null,
      "outputs": [
        {
          "output_type": "stream",
          "name": "stdout",
          "text": [
            "[[[ 1  2  3]\n",
            "  [ 4  5  6]\n",
            "  [ 7  8  9]]\n",
            "\n",
            " [[11 12 13]\n",
            "  [14 15 16]\n",
            "  [17 18 19]]\n",
            "\n",
            " [[21 22 23]\n",
            "  [24 25 26]\n",
            "  [27 28 29]]]\n",
            "[[[ 1 11 21]\n",
            "  [ 4 14 24]\n",
            "  [ 7 17 27]]\n",
            "\n",
            " [[ 2 12 22]\n",
            "  [ 5 15 25]\n",
            "  [ 8 18 28]]\n",
            "\n",
            " [[ 3 13 23]\n",
            "  [ 6 16 26]\n",
            "  [ 9 19 29]]]\n"
          ]
        }
      ]
    },
    {
      "cell_type": "code",
      "metadata": {
        "id": "6lPwXL8rRTfI",
        "colab": {
          "base_uri": "https://localhost:8080/"
        },
        "outputId": "366f5e13-38ec-4a09-bd96-6fe0527c83e2"
      },
      "source": [
        "print(a2)\n",
        "print(a2.swapaxes(1, 0))"
      ],
      "execution_count": null,
      "outputs": [
        {
          "output_type": "stream",
          "name": "stdout",
          "text": [
            "[[1 2 3]\n",
            " [4 5 6]\n",
            " [7 8 9]]\n",
            "[[1 4 7]\n",
            " [2 5 8]\n",
            " [3 6 9]]\n"
          ]
        }
      ]
    },
    {
      "cell_type": "code",
      "metadata": {
        "id": "oLbEHtijRewH",
        "colab": {
          "base_uri": "https://localhost:8080/"
        },
        "outputId": "32c7ffdb-22e9-46bf-e3b5-9cce10a435b5"
      },
      "source": [
        "print(a3)\n",
        "print(a3.swapaxes(0, 1))\n",
        "print(a3.swapaxes(1, 2))"
      ],
      "execution_count": null,
      "outputs": [
        {
          "output_type": "stream",
          "name": "stdout",
          "text": [
            "[[[ 1  2  3]\n",
            "  [ 4  5  6]\n",
            "  [ 7  8  9]]\n",
            "\n",
            " [[11 12 13]\n",
            "  [14 15 16]\n",
            "  [17 18 19]]\n",
            "\n",
            " [[21 22 23]\n",
            "  [24 25 26]\n",
            "  [27 28 29]]]\n",
            "[[[ 1  2  3]\n",
            "  [11 12 13]\n",
            "  [21 22 23]]\n",
            "\n",
            " [[ 4  5  6]\n",
            "  [14 15 16]\n",
            "  [24 25 26]]\n",
            "\n",
            " [[ 7  8  9]\n",
            "  [17 18 19]\n",
            "  [27 28 29]]]\n",
            "[[[ 1  4  7]\n",
            "  [ 2  5  8]\n",
            "  [ 3  6  9]]\n",
            "\n",
            " [[11 14 17]\n",
            "  [12 15 18]\n",
            "  [13 16 19]]\n",
            "\n",
            " [[21 24 27]\n",
            "  [22 25 28]\n",
            "  [23 26 29]]]\n"
          ]
        }
      ]
    },
    {
      "cell_type": "markdown",
      "metadata": {
        "id": "M7xN8WdOdb_S"
      },
      "source": [
        "### 배열 재구조화\n"
      ]
    },
    {
      "cell_type": "markdown",
      "metadata": {
        "id": "JwZJMpXGfY0V"
      },
      "source": [
        "* `reshape()`: 배열의 형상을 변경"
      ]
    },
    {
      "cell_type": "code",
      "metadata": {
        "id": "SlGQ17VQdd8i",
        "colab": {
          "base_uri": "https://localhost:8080/"
        },
        "outputId": "307129fd-e0ef-4c39-ec01-b51c43cda94f"
      },
      "source": [
        "n1 = np.arange(1, 13)\n",
        "print(n1)\n",
        "print(n1.reshape(3, 4))\n",
        "print(n1.reshape(4, 3))\n",
        "print(n1.reshape(2, 6))\n",
        "print(n1.reshape(6, 2))\n",
        "\n",
        "#print(n1.reshape(3, 3, 1))\n",
        "#print(n1.reshape(2, 3)) #전체 숫자가 틀리면 reshaping을 할 수 없음\n",
        "#print(n1.reshape(3, 4))"
      ],
      "execution_count": null,
      "outputs": [
        {
          "output_type": "stream",
          "name": "stdout",
          "text": [
            "[ 1  2  3  4  5  6  7  8  9 10 11 12]\n",
            "[[ 1  2  3  4]\n",
            " [ 5  6  7  8]\n",
            " [ 9 10 11 12]]\n",
            "[[ 1  2  3]\n",
            " [ 4  5  6]\n",
            " [ 7  8  9]\n",
            " [10 11 12]]\n",
            "[[ 1  2  3  4  5  6]\n",
            " [ 7  8  9 10 11 12]]\n",
            "[[ 1  2]\n",
            " [ 3  4]\n",
            " [ 5  6]\n",
            " [ 7  8]\n",
            " [ 9 10]\n",
            " [11 12]]\n"
          ]
        }
      ]
    },
    {
      "cell_type": "markdown",
      "metadata": {
        "id": "y_U1W-fQfuQY"
      },
      "source": [
        "* `newaxis()`: 새로운 축 추가"
      ]
    },
    {
      "cell_type": "code",
      "metadata": {
        "id": "COif_weCfkGo",
        "colab": {
          "base_uri": "https://localhost:8080/"
        },
        "outputId": "68411e80-7b36-4fa1-a8e5-0d522b3197e2"
      },
      "source": [
        "print(n1)\n",
        "print(n1[np.newaxis, :5]) #행에 축 추가해서 1차원이 2차원이 됨\n",
        "print(n1[:5, np.newaxis]) #열에 축 추가해서 1차원이 2차원이 됨"
      ],
      "execution_count": null,
      "outputs": [
        {
          "output_type": "stream",
          "name": "stdout",
          "text": [
            "[ 1  2  3  4  5  6  7  8  9 10 11 12]\n",
            "[[1 2 3 4 5]]\n",
            "[[1]\n",
            " [2]\n",
            " [3]\n",
            " [4]\n",
            " [5]]\n"
          ]
        }
      ]
    },
    {
      "cell_type": "markdown",
      "metadata": {
        "id": "FR82RSDggbcJ"
      },
      "source": [
        "### 배열 크기 변경"
      ]
    },
    {
      "cell_type": "markdown",
      "metadata": {
        "id": "D1LuDMVFl4tc"
      },
      "source": [
        "* 배열 모양만 변경"
      ]
    },
    {
      "cell_type": "code",
      "metadata": {
        "id": "7B6pHlfxgdSJ",
        "colab": {
          "base_uri": "https://localhost:8080/"
        },
        "outputId": "c3ccfea2-7d4a-42b9-d2f5-1b71bfbf9660"
      },
      "source": [
        "n2 = np.random.randint(0, 10, (2, 5))\n",
        "print(n2)\n",
        "n2.resize((5, 2))\n",
        "print(n2)"
      ],
      "execution_count": null,
      "outputs": [
        {
          "output_type": "stream",
          "name": "stdout",
          "text": [
            "[[6 3 9 7 1]\n",
            " [4 6 8 5 7]]\n",
            "[[6 3]\n",
            " [9 7]\n",
            " [1 4]\n",
            " [6 8]\n",
            " [5 7]]\n"
          ]
        }
      ]
    },
    {
      "cell_type": "markdown",
      "metadata": {
        "id": "s0adm-h9l6sv"
      },
      "source": [
        "* 배열 크기 증가\n",
        "* 남은 공간은 0으로 채워짐"
      ]
    },
    {
      "cell_type": "code",
      "metadata": {
        "id": "IrX0UcjrlWRV",
        "colab": {
          "base_uri": "https://localhost:8080/"
        },
        "outputId": "5f444fa8-2a75-4783-b165-421a2f6a5def"
      },
      "source": [
        "n3 = np.random.randint(0, 10, (2, 5))\n",
        "print(n3)\n",
        "n3.resize((5, 5))\n",
        "print(n3)"
      ],
      "execution_count": null,
      "outputs": [
        {
          "output_type": "stream",
          "name": "stdout",
          "text": [
            "[[5 6 2 9 4]\n",
            " [2 1 4 1 9]]\n",
            "[[5 6 2 9 4]\n",
            " [2 1 4 1 9]\n",
            " [0 0 0 0 0]\n",
            " [0 0 0 0 0]\n",
            " [0 0 0 0 0]]\n"
          ]
        }
      ]
    },
    {
      "cell_type": "markdown",
      "metadata": {
        "id": "78hPDEzfl9JB"
      },
      "source": [
        "* 배열 크기 감소\n",
        "* 포함되지 않은 값은 삭제됨"
      ]
    },
    {
      "cell_type": "code",
      "metadata": {
        "id": "fJWrwhc6lmjW",
        "colab": {
          "base_uri": "https://localhost:8080/"
        },
        "outputId": "ff1ba91d-5949-403c-c530-bd402530e2b1"
      },
      "source": [
        "n4 = np.random.randint(0, 10, (2, 5))\n",
        "print(n4)\n",
        "n4.resize((3, 3))\n",
        "print(n4)"
      ],
      "execution_count": null,
      "outputs": [
        {
          "output_type": "stream",
          "name": "stdout",
          "text": [
            "[[6 9 8 5 8]\n",
            " [0 8 5 1 3]]\n",
            "[[6 9 8]\n",
            " [5 8 0]\n",
            " [8 5 1]]\n"
          ]
        }
      ]
    },
    {
      "cell_type": "markdown",
      "metadata": {
        "id": "r9z2gD_pHyx9"
      },
      "source": [
        "### 배열 추가\n",
        "\n",
        "* `append()`: 배열의 끝에 값 추가"
      ]
    },
    {
      "cell_type": "code",
      "metadata": {
        "id": "fH4lpQKNH5s1",
        "colab": {
          "base_uri": "https://localhost:8080/"
        },
        "outputId": "ea652ac0-7b62-46b0-97f5-2c3a9af2ee25"
      },
      "source": [
        "a2 = np.arange(1, 10)\n",
        "a2 = a2.reshape(3, 3)\n",
        "print(a2)\n",
        "\n",
        "b2 = np.arange(10, 19).reshape(3, 3)\n",
        "print(b2)"
      ],
      "execution_count": null,
      "outputs": [
        {
          "output_type": "stream",
          "name": "stdout",
          "text": [
            "[[1 2 3]\n",
            " [4 5 6]\n",
            " [7 8 9]]\n",
            "[[10 11 12]\n",
            " [13 14 15]\n",
            " [16 17 18]]\n"
          ]
        }
      ]
    },
    {
      "cell_type": "markdown",
      "metadata": {
        "id": "n8SMl5VVIquk"
      },
      "source": [
        "* axis 지정이 없으면 1차원 배열 형태로 변형되어 결합"
      ]
    },
    {
      "cell_type": "code",
      "metadata": {
        "id": "LRltk3yFIVsV",
        "colab": {
          "base_uri": "https://localhost:8080/"
        },
        "outputId": "901db355-2f2c-45f0-ff27-904bfcebc6bb"
      },
      "source": [
        "c2 = np.append(a2, b2)\n",
        "print(c2)\n"
      ],
      "execution_count": null,
      "outputs": [
        {
          "output_type": "stream",
          "name": "stdout",
          "text": [
            "[ 1  2  3  4  5  6  7  8  9 10 11 12 13 14 15 16 17 18]\n",
            "[[ 1  2  3]\n",
            " [ 4  5  6]\n",
            " [ 7  8  9]\n",
            " [10 11 12]\n",
            " [13 14 15]\n",
            " [16 17 18]]\n"
          ]
        }
      ]
    },
    {
      "cell_type": "markdown",
      "metadata": {
        "id": "sVW2UFVZJfpR"
      },
      "source": [
        "* axis를 0으로 지정\n",
        "* shape[0]을 제외한 나머지 shape은 같아야 함"
      ]
    },
    {
      "cell_type": "code",
      "metadata": {
        "id": "nwJ4xLOeIbMg",
        "colab": {
          "base_uri": "https://localhost:8080/"
        },
        "outputId": "7aadb112-823b-4086-8d97-1707d8338d84"
      },
      "source": [
        "c3 = np.append(a2, b2, axis=0) #종으로 붙음\n",
        "print(c3)"
      ],
      "execution_count": null,
      "outputs": [
        {
          "output_type": "stream",
          "name": "stdout",
          "text": [
            "[[ 1  2  3]\n",
            " [ 4  5  6]\n",
            " [ 7  8  9]\n",
            " [10 11 12]\n",
            " [13 14 15]\n",
            " [16 17 18]]\n"
          ]
        }
      ]
    },
    {
      "cell_type": "markdown",
      "metadata": {
        "id": "4YXxzygaJmj-"
      },
      "source": [
        "* axis를 1로 지정\n",
        "* shape[1]을 제외한 나머지 shape은 같아야 함"
      ]
    },
    {
      "cell_type": "code",
      "metadata": {
        "id": "JYE4_5gAJmYe",
        "colab": {
          "base_uri": "https://localhost:8080/"
        },
        "outputId": "9fce4d52-266e-488b-b0a9-c774e654a6c0"
      },
      "source": [
        "c4 = np.append(a2, b2, axis=1) #행으로 붙음\n",
        "print(c4)"
      ],
      "execution_count": null,
      "outputs": [
        {
          "output_type": "stream",
          "name": "stdout",
          "text": [
            "[[ 1  2  3 10 11 12]\n",
            " [ 4  5  6 13 14 15]\n",
            " [ 7  8  9 16 17 18]]\n"
          ]
        }
      ]
    },
    {
      "cell_type": "markdown",
      "metadata": {
        "id": "9sTza3b2hoe4"
      },
      "source": [
        "### 배열 연결"
      ]
    },
    {
      "cell_type": "markdown",
      "metadata": {
        "id": "TRun2NPYj8Ct"
      },
      "source": [
        "* `concatenate()`: 튜플이나 배열의 리스트를 인수로 사용해 배열 연결"
      ]
    },
    {
      "cell_type": "code",
      "metadata": {
        "id": "lmEqdPifhrB_",
        "colab": {
          "base_uri": "https://localhost:8080/"
        },
        "outputId": "7e614e62-4376-429f-ce00-5be79eacf60e"
      },
      "source": [
        "a1 = np.array([1, 3, 5])\n",
        "b1 = np.array([2, 4, 6])\n",
        "np.concatenate([a1, b1])"
      ],
      "execution_count": null,
      "outputs": [
        {
          "output_type": "execute_result",
          "data": {
            "text/plain": [
              "array([1, 3, 5, 2, 4, 6])"
            ]
          },
          "metadata": {},
          "execution_count": 114
        }
      ]
    },
    {
      "cell_type": "code",
      "metadata": {
        "id": "IkoTNIt2k0tp",
        "colab": {
          "base_uri": "https://localhost:8080/"
        },
        "outputId": "63689723-b90d-4e4e-b9ae-771652ce2b1a"
      },
      "source": [
        "c1 = np.array([7, 8, 9])\n",
        "np.concatenate([a1, b1, c1])"
      ],
      "execution_count": null,
      "outputs": [
        {
          "output_type": "execute_result",
          "data": {
            "text/plain": [
              "array([1, 3, 5, 2, 4, 6, 7, 8, 9])"
            ]
          },
          "metadata": {},
          "execution_count": 115
        }
      ]
    },
    {
      "cell_type": "code",
      "metadata": {
        "id": "vX0SCYX3lEs2",
        "colab": {
          "base_uri": "https://localhost:8080/"
        },
        "outputId": "c7e9259f-dcee-4062-e04a-71664f79fb73"
      },
      "source": [
        "a2 = np.array([[1, 2, 3],\n",
        "              [4, 5, 6]])\n",
        "\n",
        "np.concatenate([a2, a2])"
      ],
      "execution_count": null,
      "outputs": [
        {
          "output_type": "execute_result",
          "data": {
            "text/plain": [
              "array([[1, 2, 3],\n",
              "       [4, 5, 6],\n",
              "       [1, 2, 3],\n",
              "       [4, 5, 6]])"
            ]
          },
          "metadata": {},
          "execution_count": 117
        }
      ]
    },
    {
      "cell_type": "code",
      "metadata": {
        "id": "Rv6xGva7lxHP",
        "colab": {
          "base_uri": "https://localhost:8080/"
        },
        "outputId": "e83e9e87-cb5f-410c-8152-843d13ad9b58"
      },
      "source": [
        "a2 = np.array([[1, 2, 3],\n",
        "              [4, 5, 6]])\n",
        "\n",
        "np.concatenate([a2, a2], axis=1)"
      ],
      "execution_count": null,
      "outputs": [
        {
          "output_type": "execute_result",
          "data": {
            "text/plain": [
              "array([[1, 2, 3, 1, 2, 3],\n",
              "       [4, 5, 6, 4, 5, 6]])"
            ]
          },
          "metadata": {},
          "execution_count": 118
        }
      ]
    },
    {
      "cell_type": "markdown",
      "metadata": {
        "id": "MbiBbx4nl2KD"
      },
      "source": [
        "* `vstack()`: 수직 스택(vertical stack), 1차원으로 연결"
      ]
    },
    {
      "cell_type": "code",
      "metadata": {
        "id": "HkHJwdBMl_qi",
        "colab": {
          "base_uri": "https://localhost:8080/"
        },
        "outputId": "8d2f3981-b0d3-4ca2-bed7-6ff39410d541"
      },
      "source": [
        "np.vstack([a2, a3])"
      ],
      "execution_count": null,
      "outputs": [
        {
          "output_type": "execute_result",
          "data": {
            "text/plain": [
              "array([[1, 2, 3],\n",
              "       [4, 5, 6],\n",
              "       [1, 2, 3],\n",
              "       [4, 5, 6],\n",
              "       [7, 8, 9]])"
            ]
          },
          "metadata": {},
          "execution_count": 119
        }
      ]
    },
    {
      "cell_type": "markdown",
      "metadata": {
        "id": "-hTlAnWxmHA_"
      },
      "source": [
        "* `hstack()`: 수평 스택(horizontal stack), 2차원으로 연결"
      ]
    },
    {
      "cell_type": "code",
      "metadata": {
        "id": "-HsGlAytmNEz",
        "colab": {
          "base_uri": "https://localhost:8080/"
        },
        "outputId": "62f1b2fa-0802-49d5-9f31-9f2398a4678a"
      },
      "source": [
        "np.hstack([a2, a2])"
      ],
      "execution_count": null,
      "outputs": [
        {
          "output_type": "execute_result",
          "data": {
            "text/plain": [
              "array([[1, 2, 3, 1, 2, 3],\n",
              "       [4, 5, 6, 4, 5, 6]])"
            ]
          },
          "metadata": {},
          "execution_count": 120
        }
      ]
    },
    {
      "cell_type": "markdown",
      "metadata": {
        "id": "CshM6LURmUhV"
      },
      "source": [
        "* `dstack()`: 깊이 스택(depth stack), 3차원으로 연결"
      ]
    },
    {
      "cell_type": "code",
      "metadata": {
        "id": "TFBdRddpmU4m",
        "colab": {
          "base_uri": "https://localhost:8080/"
        },
        "outputId": "6cee5738-a04e-44b9-8c62-baf5822086ec"
      },
      "source": [
        "np.dstack([a2, a2])"
      ],
      "execution_count": null,
      "outputs": [
        {
          "output_type": "execute_result",
          "data": {
            "text/plain": [
              "array([[[1, 1],\n",
              "        [2, 2],\n",
              "        [3, 3]],\n",
              "\n",
              "       [[4, 4],\n",
              "        [5, 5],\n",
              "        [6, 6]]])"
            ]
          },
          "metadata": {},
          "execution_count": 121
        }
      ]
    },
    {
      "cell_type": "markdown",
      "metadata": {
        "id": "JUBtc4UnpaSz"
      },
      "source": [
        "* `stack()`: 새로운 차원으로 연결"
      ]
    },
    {
      "cell_type": "code",
      "metadata": {
        "id": "JzoujQ9_pHS5",
        "colab": {
          "base_uri": "https://localhost:8080/"
        },
        "outputId": "18b80f77-5e6d-46ba-9a7a-5eb03b85fb20"
      },
      "source": [
        "np.stack([a2, a2])"
      ],
      "execution_count": null,
      "outputs": [
        {
          "output_type": "execute_result",
          "data": {
            "text/plain": [
              "array([[[1, 2, 3],\n",
              "        [4, 5, 6]],\n",
              "\n",
              "       [[1, 2, 3],\n",
              "        [4, 5, 6]]])"
            ]
          },
          "metadata": {},
          "execution_count": 123
        }
      ]
    },
    {
      "cell_type": "markdown",
      "metadata": {
        "id": "eYz74NYKo8iH"
      },
      "source": [
        "### 배열 분할"
      ]
    },
    {
      "cell_type": "markdown",
      "metadata": {
        "id": "wjt2zku5pBmF"
      },
      "source": [
        "* `split()`: 배열 분할"
      ]
    },
    {
      "cell_type": "code",
      "metadata": {
        "id": "H_2e71heo-Eq",
        "colab": {
          "base_uri": "https://localhost:8080/"
        },
        "outputId": "944527b9-1c8e-4701-df77-a927097f9684"
      },
      "source": [
        "a1 = np.arange(0, 10)\n",
        "print(a1)\n",
        "b1, c1 = np.split(a1, [5])\n",
        "print(b1, c1)\n",
        "#a2, a4, a6, a8 = np.split(a1, [2, 4, 6, 8])\n",
        "a0, a2, a4, a6, a8 = np.split(a1, [2, 4, 6, 8]) #기준이 되는 Index위치에 따라서 split 됨\n",
        "print(a0, a2, a4, a6, a8)"
      ],
      "execution_count": 6,
      "outputs": [
        {
          "output_type": "stream",
          "name": "stdout",
          "text": [
            "[0 1 2 3 4 5 6 7 8 9]\n",
            "[0 1 2 3 4] [5 6 7 8 9]\n",
            "[0 1] [2 3] [4 5] [6 7] [8 9]\n"
          ]
        }
      ]
    },
    {
      "cell_type": "markdown",
      "metadata": {
        "id": "IvvdCQcKsCLn"
      },
      "source": [
        "* `vsplit()`: 수직 분할, 1차원으로 분할"
      ]
    },
    {
      "cell_type": "code",
      "metadata": {
        "id": "GdMYlsiLsCoe",
        "colab": {
          "base_uri": "https://localhost:8080/"
        },
        "outputId": "8dc2b53d-65f0-484b-d16c-fcc11cd24374"
      },
      "source": [
        "a2 = np.arange(1, 10).reshape(3, 3)\n",
        "print(a2)\n",
        "b2, c2 = np.vsplit(a2, [2])\n",
        "print(b2)\n",
        "print(c2)"
      ],
      "execution_count": 8,
      "outputs": [
        {
          "output_type": "stream",
          "name": "stdout",
          "text": [
            "[[1 2 3]\n",
            " [4 5 6]\n",
            " [7 8 9]]\n",
            "[[1 2 3]\n",
            " [4 5 6]]\n",
            "[[7 8 9]]\n"
          ]
        }
      ]
    },
    {
      "cell_type": "markdown",
      "metadata": {
        "id": "1aC0a034rSXi"
      },
      "source": [
        "* `hsplit()`: 수평 분할, 2차원으로 분할"
      ]
    },
    {
      "cell_type": "code",
      "metadata": {
        "id": "ShMnE_bnrSBJ",
        "colab": {
          "base_uri": "https://localhost:8080/"
        },
        "outputId": "f88719b0-7716-403a-c2b4-6dddb665ff1c"
      },
      "source": [
        "a2 = np.arange(1, 10).reshape(3, 3)\n",
        "print(a2)\n",
        "b2, c2 = np.hsplit(a2, [2])\n",
        "print(b2)\n",
        "print(c2)"
      ],
      "execution_count": 9,
      "outputs": [
        {
          "output_type": "stream",
          "name": "stdout",
          "text": [
            "[[1 2 3]\n",
            " [4 5 6]\n",
            " [7 8 9]]\n",
            "[[1 2]\n",
            " [4 5]\n",
            " [7 8]]\n",
            "[[3]\n",
            " [6]\n",
            " [9]]\n"
          ]
        }
      ]
    },
    {
      "cell_type": "markdown",
      "metadata": {
        "id": "Pz3BDD8qsQER"
      },
      "source": [
        "* `dsplit()`: 깊이 분할, 3차원으로 분할"
      ]
    },
    {
      "cell_type": "code",
      "metadata": {
        "id": "DqHFGd43sQYj",
        "colab": {
          "base_uri": "https://localhost:8080/"
        },
        "outputId": "03103a3a-cc15-4930-a169-f7f397e2b6d3"
      },
      "source": [
        "a3 = np.arange(1, 28).reshape(3, 3, 3)\n",
        "print(a3)\n",
        "b3, c3 = np.dsplit(a3, [2])\n",
        "print(b3)\n",
        "print(c3)"
      ],
      "execution_count": 10,
      "outputs": [
        {
          "output_type": "stream",
          "name": "stdout",
          "text": [
            "[[[ 1  2  3]\n",
            "  [ 4  5  6]\n",
            "  [ 7  8  9]]\n",
            "\n",
            " [[10 11 12]\n",
            "  [13 14 15]\n",
            "  [16 17 18]]\n",
            "\n",
            " [[19 20 21]\n",
            "  [22 23 24]\n",
            "  [25 26 27]]]\n",
            "[[[ 1  2]\n",
            "  [ 4  5]\n",
            "  [ 7  8]]\n",
            "\n",
            " [[10 11]\n",
            "  [13 14]\n",
            "  [16 17]]\n",
            "\n",
            " [[19 20]\n",
            "  [22 23]\n",
            "  [25 26]]]\n",
            "[[[ 3]\n",
            "  [ 6]\n",
            "  [ 9]]\n",
            "\n",
            " [[12]\n",
            "  [15]\n",
            "  [18]]\n",
            "\n",
            " [[21]\n",
            "  [24]\n",
            "  [27]]]\n"
          ]
        }
      ]
    },
    {
      "cell_type": "markdown",
      "metadata": {
        "id": "Vc-iSWewJ3C1"
      },
      "source": [
        "## 배열 연산\n",
        "\n",
        "* NumPy의 배열 연산은 벡터화(vectorized) 연산을 사용\n",
        "* 일반적으로 NumPy의 범용 함수(universal functions)를 통해 구현\n",
        "* 배열 요소에 대한 반복적인 계산을 효율적으로 수행"
      ]
    },
    {
      "cell_type": "markdown",
      "metadata": {
        "id": "Pg2er1A2w3cz"
      },
      "source": [
        "### 브로드캐스팅(Broadcasting)\n",
        "![스크린샷 2021-12-08 오전 8.37.06.png](data:image/png;base64,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)"
      ]
    },
    {
      "cell_type": "code",
      "metadata": {
        "id": "IGU-HRgr20nj",
        "colab": {
          "base_uri": "https://localhost:8080/"
        },
        "outputId": "c578b163-6b16-40fc-b0d5-a6571d2cec86"
      },
      "source": [
        "a1 = np.array([1, 2, 3])\n",
        "print(type(a1))\n",
        "print(a1)\n",
        "print(a1 + 5)\n",
        "\n",
        "a2 = np.arange(1, 10).reshape(3, 3)\n",
        "print(type(a2))\n",
        "print(a2)\n",
        "print(a1 + a2)\n",
        "\n",
        "b2 = np.array([1, 2, 3]).reshape(3, 1)\n",
        "print(b2)\n",
        "print(a1 + b2)"
      ],
      "execution_count": 19,
      "outputs": [
        {
          "output_type": "stream",
          "name": "stdout",
          "text": [
            "<class 'numpy.ndarray'>\n",
            "[1 2 3]\n",
            "[6 7 8]\n",
            "<class 'numpy.ndarray'>\n",
            "[[1 2 3]\n",
            " [4 5 6]\n",
            " [7 8 9]]\n",
            "[[ 2  4  6]\n",
            " [ 5  7  9]\n",
            " [ 8 10 12]]\n",
            "[[1]\n",
            " [2]\n",
            " [3]]\n",
            "[[2 3 4]\n",
            " [3 4 5]\n",
            " [4 5 6]]\n"
          ]
        }
      ]
    },
    {
      "cell_type": "markdown",
      "metadata": {
        "id": "NZzLHHLmwl_b"
      },
      "source": [
        "### 산술 연산(Arithmetic Operators)\n",
        "|연산자|범용함수|설명|\n",
        "|---|---|---|\n",
        "|```+```|```np.add```|덧셈|\n",
        "|```-```|```np.subtract```|뺄셈|\n",
        "|```-```|```np.negative```|-(단항음수)|\n",
        "|```*```|```np.multiply```|곱셈|\n",
        "|```/```|```np.divide```|나눗셈|\n",
        "|```//```|```np.floor_divide```|나눗샘 내림|\n",
        "|```**```|```np.power```|지수연산|\n",
        "|```%```|```np.mod```|나머지연산|"
      ]
    },
    {
      "cell_type": "code",
      "metadata": {
        "id": "jHrIjHGEi05k",
        "colab": {
          "base_uri": "https://localhost:8080/"
        },
        "outputId": "53d2ec4d-cf80-4fb1-df0b-6175382cd1ab"
      },
      "source": [
        "a1 = np.arange(1, 10)\n",
        "print(a1)\n",
        "\n",
        "print(a1 + 10)\n",
        "print(np.add(a1, 10))\n",
        "\n",
        "print(a1 - 10)\n",
        "print(np.subtract(a1, 10))\n",
        "\n",
        "print(-a1)\n",
        "print(np.negative(a1))\n",
        "\n",
        "print(a1 * 2)\n",
        "print(np.multiply(a1, 2))\n",
        "\n",
        "print(a1 / 2)\n",
        "print(np.divide(a1, 2))\n",
        "\n",
        "print(a1 // 2)\n",
        "print(np.floor_divide(a1, 2))\n",
        "\n",
        "print(a1 ** 2)\n",
        "print(np.power(a1, 2))\n",
        "\n",
        "print(a1 % 2)\n",
        "print(np.mod(a1, 2))\n"
      ],
      "execution_count": 28,
      "outputs": [
        {
          "output_type": "stream",
          "name": "stdout",
          "text": [
            "[1 2 3 4 5 6 7 8 9]\n",
            "[11 12 13 14 15 16 17 18 19]\n",
            "[11 12 13 14 15 16 17 18 19]\n",
            "[-9 -8 -7 -6 -5 -4 -3 -2 -1]\n",
            "[-9 -8 -7 -6 -5 -4 -3 -2 -1]\n",
            "[-1 -2 -3 -4 -5 -6 -7 -8 -9]\n",
            "[-1 -2 -3 -4 -5 -6 -7 -8 -9]\n",
            "[ 2  4  6  8 10 12 14 16 18]\n",
            "[ 2  4  6  8 10 12 14 16 18]\n",
            "[0.5 1.  1.5 2.  2.5 3.  3.5 4.  4.5]\n",
            "[0.5 1.  1.5 2.  2.5 3.  3.5 4.  4.5]\n",
            "[0 1 1 2 2 3 3 4 4]\n",
            "[0 1 1 2 2 3 3 4 4]\n",
            "[ 1  4  9 16 25 36 49 64 81]\n",
            "[ 1  4  9 16 25 36 49 64 81]\n",
            "[1 0 1 0 1 0 1 0 1]\n",
            "[1 0 1 0 1 0 1 0 1]\n"
          ]
        }
      ]
    },
    {
      "cell_type": "code",
      "metadata": {
        "id": "sMUYzXk3psgC",
        "colab": {
          "base_uri": "https://localhost:8080/"
        },
        "outputId": "acfb855e-c8e2-4fa1-f85f-4e55169fecb2"
      },
      "source": [
        "a1 = np.arange(1, 10)\n",
        "print(a1)\n",
        "b1 = np.random.randint(1, 10, size=9)\n",
        "print(b1)\n",
        "\n",
        "print(a1 + b1)\n",
        "print(a1 - b1)\n",
        "print(a1 * b1)\n",
        "print(a1 / b1)\n",
        "print(a1 // b1)\n",
        "print(a1 ** b1)\n",
        "print(a1 % b1)\n"
      ],
      "execution_count": 30,
      "outputs": [
        {
          "output_type": "stream",
          "name": "stdout",
          "text": [
            "[1 2 3 4 5 6 7 8 9]\n",
            "[3 5 9 7 9 1 4 5 7]\n",
            "[ 4  7 12 11 14  7 11 13 16]\n",
            "[-2 -3 -6 -3 -4  5  3  3  2]\n",
            "[ 3 10 27 28 45  6 28 40 63]\n",
            "[0.33333333 0.4        0.33333333 0.57142857 0.55555556 6.\n",
            " 1.75       1.6        1.28571429]\n",
            "[0 0 0 0 0 6 1 1 1]\n",
            "[      1      32   19683   16384 1953125       6    2401   32768 4782969]\n",
            "[1 2 3 4 5 0 3 3 2]\n"
          ]
        }
      ]
    },
    {
      "cell_type": "code",
      "metadata": {
        "id": "ZkyjPmk5onPK",
        "colab": {
          "base_uri": "https://localhost:8080/"
        },
        "outputId": "16abc711-37b5-41bf-fa03-2298f1258ade"
      },
      "source": [
        "a2 = np.arange(1, 10).reshape(3, 3)\n",
        "print(a2)\n",
        "b2 = np.random.randint(1, 10, size=(3, 3))\n",
        "print(b2)\n",
        "\n",
        "print(a2 + b2)\n",
        "print(a2 - b2)\n",
        "print(a2 * b2)\n",
        "print(a2 / b2)\n",
        "print(a2 // b2)\n",
        "print(a2 ** b2)\n",
        "print(a2 % b2)\n"
      ],
      "execution_count": 31,
      "outputs": [
        {
          "output_type": "stream",
          "name": "stdout",
          "text": [
            "[[1 2 3]\n",
            " [4 5 6]\n",
            " [7 8 9]]\n",
            "[[3 2 9]\n",
            " [1 6 6]\n",
            " [5 7 6]]\n",
            "[[ 4  4 12]\n",
            " [ 5 11 12]\n",
            " [12 15 15]]\n",
            "[[-2  0 -6]\n",
            " [ 3 -1  0]\n",
            " [ 2  1  3]]\n",
            "[[ 3  4 27]\n",
            " [ 4 30 36]\n",
            " [35 56 54]]\n",
            "[[0.33333333 1.         0.33333333]\n",
            " [4.         0.83333333 1.        ]\n",
            " [1.4        1.14285714 1.5       ]]\n",
            "[[0 1 0]\n",
            " [4 0 1]\n",
            " [1 1 1]]\n",
            "[[      1       4   19683]\n",
            " [      4   15625   46656]\n",
            " [  16807 2097152  531441]]\n",
            "[[1 0 3]\n",
            " [0 5 0]\n",
            " [2 1 3]]\n"
          ]
        }
      ]
    },
    {
      "cell_type": "markdown",
      "metadata": {
        "id": "hxG_aECas3a9"
      },
      "source": [
        "#### 절대값 함수(Absolute Function)\n",
        "\n",
        "* `absolute()`, `abs()`: 내장된 절대값 함수"
      ]
    },
    {
      "cell_type": "code",
      "metadata": {
        "id": "YmX-0LvWs7qM",
        "colab": {
          "base_uri": "https://localhost:8080/"
        },
        "outputId": "38a051ef-e32a-4f21-bfac-d9341cef6280"
      },
      "source": [
        "a1 = np.random.randint(-10, 10, size=5)\n",
        "print(a1)\n",
        "print(np.absolute(a1))\n",
        "print(np.abs(a1))"
      ],
      "execution_count": 34,
      "outputs": [
        {
          "output_type": "stream",
          "name": "stdout",
          "text": [
            "[ 7  5 -6  5 -5]\n",
            "[7 5 6 5 5]\n",
            "[7 5 6 5 5]\n"
          ]
        }
      ]
    },
    {
      "cell_type": "markdown",
      "metadata": {
        "id": "U5uE3sVtzRvA"
      },
      "source": [
        "#### 제곱/제곱근 함수\n",
        "\n",
        "* `square`, `sqrt`: 제곱, 제곱근 함수"
      ]
    },
    {
      "cell_type": "code",
      "metadata": {
        "id": "ggnIxDGzzTfX",
        "colab": {
          "base_uri": "https://localhost:8080/"
        },
        "outputId": "8aae794f-1e61-49dd-e98b-e363ff69c7c8"
      },
      "source": [
        "print(a1)\n",
        "print(np.square(a1))\n",
        "print(np.sqrt(a1))"
      ],
      "execution_count": 35,
      "outputs": [
        {
          "output_type": "stream",
          "name": "stdout",
          "text": [
            "[ 7  5 -6  5 -5]\n",
            "[49 25 36 25 25]\n",
            "[2.64575131 2.23606798        nan 2.23606798        nan]\n"
          ]
        },
        {
          "output_type": "stream",
          "name": "stderr",
          "text": [
            "/usr/local/lib/python3.7/dist-packages/ipykernel_launcher.py:3: RuntimeWarning: invalid value encountered in sqrt\n",
            "  This is separate from the ipykernel package so we can avoid doing imports until\n"
          ]
        }
      ]
    },
    {
      "cell_type": "markdown",
      "metadata": {
        "id": "tWh1aQ50vRhB"
      },
      "source": [
        "#### 지수와 로그 함수 (Exponential and Log Function)"
      ]
    },
    {
      "cell_type": "code",
      "metadata": {
        "id": "Dygt3AyHvTZz",
        "colab": {
          "base_uri": "https://localhost:8080/"
        },
        "outputId": "935f2b69-1a7c-46c1-d74b-a0ac6eea2284"
      },
      "source": [
        "a1 = np.random.randint(1, 10, size=(5))\n",
        "print(a1)\n",
        "print(np.power(a1, 2)) #지수\n",
        "print(np.exp(a1))\n",
        "print(np.exp2(a1))"
      ],
      "execution_count": 38,
      "outputs": [
        {
          "output_type": "stream",
          "name": "stdout",
          "text": [
            "[3 7 3 7 1]\n",
            "[ 9 49  9 49  1]\n",
            "[  20.08553692 1096.63315843   20.08553692 1096.63315843    2.71828183]\n",
            "[  8. 128.   8. 128.   2.]\n"
          ]
        }
      ]
    },
    {
      "cell_type": "code",
      "metadata": {
        "id": "YB0BzwxDvnkT",
        "colab": {
          "base_uri": "https://localhost:8080/"
        },
        "outputId": "03ea54a9-a3b4-4aec-c98f-df48402e7220"
      },
      "source": [
        "print(a1)\n",
        "print(np.log(a1)) \n",
        "print(np.log2(a1))\n",
        "print(np.log10(a1))"
      ],
      "execution_count": 39,
      "outputs": [
        {
          "output_type": "stream",
          "name": "stdout",
          "text": [
            "[3 7 3 7 1]\n",
            "[1.09861229 1.94591015 1.09861229 1.94591015 0.        ]\n",
            "[1.5849625  2.80735492 1.5849625  2.80735492 0.        ]\n",
            "[0.47712125 0.84509804 0.47712125 0.84509804 0.        ]\n"
          ]
        }
      ]
    },
    {
      "cell_type": "markdown",
      "metadata": {
        "id": "wE_p9AxjtdJ9"
      },
      "source": [
        "#### 삼각 함수(Trigonometrical Function)\n",
        "|함수|설명|\n",
        "|---|---|\n",
        "|```np.sin(array)```| 요소별 사인|\n",
        "|```np.cos(array)```| 요소별 코사인|\n",
        "|```np.tan(array)```| 요소별 탄젠트|\n",
        "|```np.arcsin(array)```| 요소별 아크 사인|\n",
        "|```np.arccos(array)```| 요소별 아크 코사인|\n",
        "|```np.arctan(array)```| 요소별 아크 탄젠트|\n",
        "|```np.arctan2(array1, array2)```| 요소별 아크탄젠트2 array / array2|\n",
        "|```np.sinh(array)```| 요소별 하이퍼볼릭 사인|\n",
        "|```np.cosh(array)```| 요소별 하이퍼볼릭 코사인|\n",
        "|```np.tanh(array)```| 요소별 하이퍼볼릭 탄젠트|\n",
        "|```np.arcsinh(array)```| 요소별 하이퍼볼릭 아크 사인|\n",
        "|```np.arccosh(array)```| 요소별 하이퍼볼릭 아크 코사인|\n",
        "|```np.arctanh(array)```| 요소별 하이퍼볼릭 아크 탄젠트|\n",
        "|```np.deg2rad(array)```| 요소별 각도에 라디안 변환|\n",
        "|```np.rad2deg(array)```| 요소별 라디안에 각도 변환|\n",
        "|```np.hypot(array1, array2)```| 요소별 유클리드 거리 계산|\n",
        "\n"
      ]
    },
    {
      "cell_type": "code",
      "metadata": {
        "id": "6bOSPS81tuo5",
        "colab": {
          "base_uri": "https://localhost:8080/"
        },
        "outputId": "ae5dcd5f-8ec7-493a-a55e-9ebce7e0f3b6"
      },
      "source": [
        "t = np.linspace(0, np.pi, 3)\n",
        "\n",
        "print(t)\n",
        "\n",
        "print(np.sin(t))\n",
        "print(np.cos(t))\n",
        "print(np.tan(t))"
      ],
      "execution_count": 40,
      "outputs": [
        {
          "output_type": "stream",
          "name": "stdout",
          "text": [
            "[0.         1.57079633 3.14159265]\n",
            "[0.0000000e+00 1.0000000e+00 1.2246468e-16]\n",
            "[ 1.000000e+00  6.123234e-17 -1.000000e+00]\n",
            "[ 0.00000000e+00  1.63312394e+16 -1.22464680e-16]\n"
          ]
        }
      ]
    },
    {
      "cell_type": "code",
      "metadata": {
        "id": "v7m-AQW9uJ9u",
        "colab": {
          "base_uri": "https://localhost:8080/"
        },
        "outputId": "4f5bc576-6ad3-424c-e569-58733383c5f3"
      },
      "source": [
        "x = [-1, 0, 1]\n",
        "print(x)\n",
        "print(type(x))\n",
        "\n",
        "print(np.arcsin(x))\n",
        "print(np.arccos(x))\n",
        "print(np.arctan(x))\n"
      ],
      "execution_count": 42,
      "outputs": [
        {
          "output_type": "stream",
          "name": "stdout",
          "text": [
            "[-1, 0, 1]\n",
            "<class 'list'>\n",
            "[-1.57079633  0.          1.57079633]\n",
            "[3.14159265 1.57079633 0.        ]\n",
            "[-0.78539816  0.          0.78539816]\n"
          ]
        }
      ]
    },
    {
      "cell_type": "markdown",
      "metadata": {
        "id": "hKJtYUVWwxQy"
      },
      "source": [
        "### 집계 함수(Aggregate Functions)\n",
        "|함수|Nan 안전모드|설명|\n",
        "|---|---|---|\n",
        "|```np.sum```|```np.nansum```|요소의 합 계산|\n",
        "|```np.cumsum```|```np.nancumsum```|요소의 누적 합|\n",
        "|```np.diff```|```N/A```|요소의 차분|\n",
        "|```np.prod```|```np.nanprod```|요소의 곱 계산|\n",
        "|```np.cumprod```|```np.nancumprod```|요소의 누적곱|\n",
        "|```np.dot```|```N/A```|점 곱(dot product)|\n",
        "|```np.matmul```|```N/A```|행렬 곱|\n",
        "|```np.tensordot```|```N/A```|텐서 곱(tensor product)|\n",
        "|```np.cross```|```N/A```|벡터 곱(cross product)|\n",
        "|```np.inner```|```N/A```|내적(inner product)|\n",
        "|```np.outer```|```N/A```|외적(outer product)|\n",
        "|```np.mean```|```np.nanmean```|요소의 평균 계산|\n",
        "|```np.std```|```np.nanstd```|표준편자 계산|\n",
        "|```np.var```|```np.nanvar```|분산 계산|\n",
        "|```np.min```|```np.nanmin```|최소값|\n",
        "|```np.max```|```np.nanmax```|최대값|\n",
        "|```np.argmin```|```np.nanargmin```|최소값 인덱스|\n",
        "|```np.median```|```np.nanmedian```|중앙값|\n",
        "|```np.percentile```|```np.nanpercentile```|요소의 순위 기반 백분위 수 계산 |\n",
        "|```np.any```|```N/A```|요수 중심이 있는지 평가|\n",
        "|```np.all```|```N/A```|모든 요소가 참인지 평가|\n",
        "\n",
        "\n",
        "* NaN(Not a Number): 집계함수는 반드시 숫자들만 집계할 수 있는데, 숫자가 아님 것이 포함되면 에러발생함, 그래서 안전모드가 있는 것임.\n",
        "\n"
      ]
    },
    {
      "cell_type": "markdown",
      "metadata": {
        "id": "GdxMrX5l9m6W"
      },
      "source": [
        "#### sum(): 합 계산"
      ]
    },
    {
      "cell_type": "code",
      "metadata": {
        "id": "AJQ3GjLI0cZU"
      },
      "source": [
        ""
      ],
      "execution_count": null,
      "outputs": []
    },
    {
      "cell_type": "markdown",
      "metadata": {
        "id": "U4W4iIb9J4Zd"
      },
      "source": [
        "#### cumsum(): 누적합 계산"
      ]
    },
    {
      "cell_type": "code",
      "metadata": {
        "id": "SRZWZD3UJ4wo"
      },
      "source": [
        ""
      ],
      "execution_count": null,
      "outputs": []
    },
    {
      "cell_type": "markdown",
      "metadata": {
        "id": "pVaJRWQ-LV0f"
      },
      "source": [
        "#### diff(): 차분 계산"
      ]
    },
    {
      "cell_type": "code",
      "metadata": {
        "id": "yKjnWtGVLWJj"
      },
      "source": [
        ""
      ],
      "execution_count": null,
      "outputs": []
    },
    {
      "cell_type": "markdown",
      "metadata": {
        "id": "b6I38HfA9vGL"
      },
      "source": [
        "#### prod(): 곱 계산"
      ]
    },
    {
      "cell_type": "code",
      "metadata": {
        "id": "rGPMXGe89y0O"
      },
      "source": [
        ""
      ],
      "execution_count": null,
      "outputs": []
    },
    {
      "cell_type": "markdown",
      "metadata": {
        "id": "RwaoVUGcKkkE"
      },
      "source": [
        "#### cumprod(): 누적곱 계산"
      ]
    },
    {
      "cell_type": "code",
      "metadata": {
        "id": "jwYoX9inKk4D"
      },
      "source": [
        ""
      ],
      "execution_count": null,
      "outputs": []
    },
    {
      "cell_type": "markdown",
      "metadata": {
        "id": "_LMAbL9hMV7T"
      },
      "source": [
        "#### dot()/matmul(): 점곱/행렬곱 계산"
      ]
    },
    {
      "cell_type": "code",
      "metadata": {
        "id": "xC6FBzF0MWW1"
      },
      "source": [
        ""
      ],
      "execution_count": null,
      "outputs": []
    },
    {
      "cell_type": "markdown",
      "metadata": {
        "id": "juVk3vnjPu31"
      },
      "source": [
        "#### tensordot(): 텐서곱 계산"
      ]
    },
    {
      "cell_type": "code",
      "metadata": {
        "id": "3LrcLOcjPvNI"
      },
      "source": [
        ""
      ],
      "execution_count": null,
      "outputs": []
    },
    {
      "cell_type": "markdown",
      "metadata": {
        "id": "UzmZhB5TNRMX"
      },
      "source": [
        "#### cross(): 벡터곱"
      ]
    },
    {
      "cell_type": "code",
      "metadata": {
        "id": "xvT2hy1FNRkU"
      },
      "source": [
        ""
      ],
      "execution_count": null,
      "outputs": []
    },
    {
      "cell_type": "markdown",
      "metadata": {
        "id": "SJVYmtrSO5YL"
      },
      "source": [
        "#### inner()/outer(): 내적/외적"
      ]
    },
    {
      "cell_type": "code",
      "metadata": {
        "id": "HJpomax7O5s6"
      },
      "source": [
        ""
      ],
      "execution_count": null,
      "outputs": []
    },
    {
      "cell_type": "markdown",
      "metadata": {
        "id": "9CIotQgI_RQ-"
      },
      "source": [
        "#### mean(): 평균 계산"
      ]
    },
    {
      "cell_type": "code",
      "metadata": {
        "id": "g96wAEOT_bUk"
      },
      "source": [
        ""
      ],
      "execution_count": null,
      "outputs": []
    },
    {
      "cell_type": "markdown",
      "metadata": {
        "id": "wAG_zijP_Z5o"
      },
      "source": [
        "#### std(): 표준 편차 계산"
      ]
    },
    {
      "cell_type": "code",
      "metadata": {
        "id": "hlpnuyug_TXA"
      },
      "source": [
        ""
      ],
      "execution_count": null,
      "outputs": []
    },
    {
      "cell_type": "markdown",
      "metadata": {
        "id": "5FFTCCDaAEhx"
      },
      "source": [
        "#### var(): 분산 계산"
      ]
    },
    {
      "cell_type": "code",
      "metadata": {
        "id": "CRMNkSdzAGZG"
      },
      "source": [
        ""
      ],
      "execution_count": null,
      "outputs": []
    },
    {
      "cell_type": "markdown",
      "metadata": {
        "id": "QFeh-4tmCCrU"
      },
      "source": [
        "#### min(): 최소값"
      ]
    },
    {
      "cell_type": "code",
      "metadata": {
        "id": "SMNCfYBQCEtf"
      },
      "source": [
        ""
      ],
      "execution_count": null,
      "outputs": []
    },
    {
      "cell_type": "markdown",
      "metadata": {
        "id": "A3n_JBnBJ2bo"
      },
      "source": [
        "#### max(): 최대값"
      ]
    },
    {
      "cell_type": "code",
      "metadata": {
        "id": "FmuOFKGAJ6Pf"
      },
      "source": [
        ""
      ],
      "execution_count": null,
      "outputs": []
    },
    {
      "cell_type": "markdown",
      "metadata": {
        "id": "PvGOKDP0J_5b"
      },
      "source": [
        "#### argmin(): 최소값 인덱스"
      ]
    },
    {
      "cell_type": "code",
      "metadata": {
        "id": "1ILP7L3yKCqA"
      },
      "source": [
        ""
      ],
      "execution_count": null,
      "outputs": []
    },
    {
      "cell_type": "markdown",
      "metadata": {
        "id": "23IcSctIKbUa"
      },
      "source": [
        "#### argmax(): 최대값 인덱스"
      ]
    },
    {
      "cell_type": "code",
      "metadata": {
        "id": "2m21cfCFKd-Q"
      },
      "source": [
        ""
      ],
      "execution_count": null,
      "outputs": []
    },
    {
      "cell_type": "markdown",
      "metadata": {
        "id": "3TjeNFQLKuZb"
      },
      "source": [
        "#### median(): 중앙값"
      ]
    },
    {
      "cell_type": "code",
      "metadata": {
        "id": "kSLN17bpKwv6"
      },
      "source": [
        ""
      ],
      "execution_count": null,
      "outputs": []
    },
    {
      "cell_type": "markdown",
      "metadata": {
        "id": "df-Id-nhLs3L"
      },
      "source": [
        "#### percentile(): 백분위 수\n",
        "\n"
      ]
    },
    {
      "cell_type": "code",
      "metadata": {
        "id": "N-TCx9hnLvhK"
      },
      "source": [
        ""
      ],
      "execution_count": null,
      "outputs": []
    },
    {
      "cell_type": "markdown",
      "metadata": {
        "id": "x0NnNsvvNDIs"
      },
      "source": [
        "#### any()"
      ]
    },
    {
      "cell_type": "code",
      "metadata": {
        "id": "I1XDqsFxOMvA"
      },
      "source": [
        ""
      ],
      "execution_count": null,
      "outputs": []
    },
    {
      "cell_type": "markdown",
      "metadata": {
        "id": "Uw-wjYgyONBZ"
      },
      "source": [
        "#### all()"
      ]
    },
    {
      "cell_type": "code",
      "metadata": {
        "id": "sXi2AHOHONYq"
      },
      "source": [
        ""
      ],
      "execution_count": null,
      "outputs": []
    },
    {
      "cell_type": "markdown",
      "metadata": {
        "id": "0n7lgzmUwqr1"
      },
      "source": [
        "### 비교 연산(Comparison Operators)\n"
      ]
    },
    {
      "cell_type": "code",
      "metadata": {
        "id": "E00V-nBTVnCu"
      },
      "source": [
        ""
      ],
      "execution_count": null,
      "outputs": []
    },
    {
      "cell_type": "code",
      "metadata": {
        "id": "3MwV1CU1WsWS"
      },
      "source": [
        ""
      ],
      "execution_count": null,
      "outputs": []
    },
    {
      "cell_type": "code",
      "metadata": {
        "id": "D4cuMoyEPn8R"
      },
      "source": [
        ""
      ],
      "execution_count": null,
      "outputs": []
    },
    {
      "cell_type": "code",
      "metadata": {
        "id": "af9VSc6FyMBh"
      },
      "source": [
        ""
      ],
      "execution_count": null,
      "outputs": []
    },
    {
      "cell_type": "markdown",
      "metadata": {
        "id": "4BHMetMlYmt-"
      },
      "source": [
        "#### 불리언 연산자(Boolean Operators)\n"
      ]
    },
    {
      "cell_type": "code",
      "metadata": {
        "id": "ZV1-8DkUHOZq"
      },
      "source": [
        ""
      ],
      "execution_count": null,
      "outputs": []
    },
    {
      "cell_type": "markdown",
      "metadata": {
        "id": "FlQJVeGBxIFw"
      },
      "source": [
        "### 배열 정렬"
      ]
    },
    {
      "cell_type": "code",
      "metadata": {
        "id": "x0sodUMqLU37"
      },
      "source": [
        ""
      ],
      "execution_count": null,
      "outputs": []
    },
    {
      "cell_type": "code",
      "metadata": {
        "id": "FO_sO5POzeMp"
      },
      "source": [
        ""
      ],
      "execution_count": null,
      "outputs": []
    },
    {
      "cell_type": "markdown",
      "metadata": {
        "id": "yYSItPz_00sZ"
      },
      "source": [
        "#### 부분 정렬\n",
        "\n",
        "* `partition()`: 배열에서 k개의 작은 값을 반환"
      ]
    },
    {
      "cell_type": "code",
      "metadata": {
        "id": "QQwov4N00YFP"
      },
      "source": [
        ""
      ],
      "execution_count": null,
      "outputs": []
    },
    {
      "cell_type": "markdown",
      "metadata": {
        "id": "77DSA72ML5cI"
      },
      "source": [
        "## 배열 입출력\n"
      ]
    },
    {
      "cell_type": "code",
      "metadata": {
        "id": "da-Mm_gzIs7U"
      },
      "source": [
        ""
      ],
      "execution_count": null,
      "outputs": []
    },
    {
      "cell_type": "code",
      "metadata": {
        "id": "pFOWyDvAsf11"
      },
      "source": [
        ""
      ],
      "execution_count": null,
      "outputs": []
    },
    {
      "cell_type": "code",
      "metadata": {
        "id": "Hvb_ilyisoIV"
      },
      "source": [
        ""
      ],
      "execution_count": null,
      "outputs": []
    },
    {
      "cell_type": "code",
      "metadata": {
        "id": "ArWZfL31s1wU"
      },
      "source": [
        ""
      ],
      "execution_count": null,
      "outputs": []
    },
    {
      "cell_type": "code",
      "metadata": {
        "id": "che4cEJEs2Tr"
      },
      "source": [
        ""
      ],
      "execution_count": null,
      "outputs": []
    },
    {
      "cell_type": "code",
      "metadata": {
        "id": "X2yIUsYvtMj6"
      },
      "source": [
        ""
      ],
      "execution_count": null,
      "outputs": []
    },
    {
      "cell_type": "code",
      "metadata": {
        "id": "Yj5ec-CYtaH1"
      },
      "source": [
        ""
      ],
      "execution_count": null,
      "outputs": []
    },
    {
      "cell_type": "code",
      "metadata": {
        "id": "_NIDrc-VuPmv"
      },
      "source": [
        ""
      ],
      "execution_count": null,
      "outputs": []
    },
    {
      "cell_type": "code",
      "metadata": {
        "id": "bPhmIoVBuQMf"
      },
      "source": [
        ""
      ],
      "execution_count": null,
      "outputs": []
    },
    {
      "cell_type": "code",
      "metadata": {
        "id": "FeB2p4azuTDv"
      },
      "source": [
        ""
      ],
      "execution_count": null,
      "outputs": []
    },
    {
      "cell_type": "code",
      "metadata": {
        "id": "IUg8Vg4fuxR5"
      },
      "source": [
        ""
      ],
      "execution_count": null,
      "outputs": []
    },
    {
      "cell_type": "code",
      "metadata": {
        "id": "lIK5dSv6vtm2"
      },
      "source": [
        ""
      ],
      "execution_count": null,
      "outputs": []
    },
    {
      "cell_type": "code",
      "metadata": {
        "id": "l4O-gVxdv8-d"
      },
      "source": [
        ""
      ],
      "execution_count": null,
      "outputs": []
    },
    {
      "cell_type": "markdown",
      "metadata": {
        "id": "JM2Ghx2NGloN"
      },
      "source": [
        "\n",
        "\n",
        "---\n",
        "\n"
      ]
    }
  ]
}