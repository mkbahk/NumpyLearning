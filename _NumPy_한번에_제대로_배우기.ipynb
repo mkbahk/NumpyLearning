{
  "nbformat": 4,
  "nbformat_minor": 0,
  "metadata": {
    "colab": {
      "name": "_NumPy 한번에 제대로 배우기.ipynb",
      "provenance": [],
      "collapsed_sections": [],
      "toc_visible": true,
      "include_colab_link": true
    },
    "kernelspec": {
      "name": "python3",
      "display_name": "Python 3"
    }
  },
  "cells": [
    {
      "cell_type": "markdown",
      "metadata": {
        "id": "view-in-github",
        "colab_type": "text"
      },
      "source": [
        "<a href=\"https://colab.research.google.com/github/mkbahk/NumpyLearning/blob/main/_NumPy_%ED%95%9C%EB%B2%88%EC%97%90_%EC%A0%9C%EB%8C%80%EB%A1%9C_%EB%B0%B0%EC%9A%B0%EA%B8%B0.ipynb\" target=\"_parent\"><img src=\"https://colab.research.google.com/assets/colab-badge.svg\" alt=\"Open In Colab\"/></a>"
      ]
    },
    {
      "cell_type": "markdown",
      "metadata": {
        "id": "J_FfQuu2Tb30"
      },
      "source": [
        "# NumPy 한번에 제대로 배우기"
      ]
    },
    {
      "cell_type": "markdown",
      "metadata": {
        "id": "Zgrrh9T2vs8u"
      },
      "source": [
        "\n",
        "\n",
        "---\n",
        "\n"
      ]
    },
    {
      "cell_type": "markdown",
      "metadata": {
        "id": "oR5hNBH-Retd"
      },
      "source": [
        "## NumPy 특징\n",
        "\n",
        "* Numerical Python의 약자\n",
        "* 고성능 과학 계산용 패키지로 강력한 N차원 배열 객체\n",
        "* 범용적 데이터 처리에 사용 가능한 다차원 컨테이너\n",
        "* 정교한 브로드캐스팅(broadcasting) 기능\n",
        "* 파이썬의 자료형 list와 비슷하지만, 더 빠르고 메모리를 효율적으로 관리\n",
        "* 반복문 없이 데이터 배열에 대한 처리를 지원하여 빠르고 편리\n",
        "* 데이터 과학 도구에 대한 생태계의 핵심을 이루고 있음"
      ]
    },
    {
      "cell_type": "code",
      "metadata": {
        "id": "R9klTdhLQ564",
        "colab": {
          "base_uri": "https://localhost:8080/"
        },
        "outputId": "c5538268-cec4-4d81-e9a6-8417deb64684"
      },
      "source": [
        "import numpy as np\n",
        "print(np.__version__)\n",
        "print(dir(np))"
      ],
      "execution_count": null,
      "outputs": [
        {
          "output_type": "stream",
          "name": "stdout",
          "text": [
            "1.19.5\n",
            "['ALLOW_THREADS', 'AxisError', 'BUFSIZE', 'CLIP', 'ComplexWarning', 'DataSource', 'ERR_CALL', 'ERR_DEFAULT', 'ERR_IGNORE', 'ERR_LOG', 'ERR_PRINT', 'ERR_RAISE', 'ERR_WARN', 'FLOATING_POINT_SUPPORT', 'FPE_DIVIDEBYZERO', 'FPE_INVALID', 'FPE_OVERFLOW', 'FPE_UNDERFLOW', 'False_', 'Inf', 'Infinity', 'MAXDIMS', 'MAY_SHARE_BOUNDS', 'MAY_SHARE_EXACT', 'MachAr', 'ModuleDeprecationWarning', 'NAN', 'NINF', 'NZERO', 'NaN', 'PINF', 'PZERO', 'RAISE', 'RankWarning', 'SHIFT_DIVIDEBYZERO', 'SHIFT_INVALID', 'SHIFT_OVERFLOW', 'SHIFT_UNDERFLOW', 'ScalarType', 'Tester', 'TooHardError', 'True_', 'UFUNC_BUFSIZE_DEFAULT', 'UFUNC_PYVALS_NAME', 'VisibleDeprecationWarning', 'WRAP', '_NoValue', '_UFUNC_API', '__NUMPY_SETUP__', '__all__', '__builtins__', '__cached__', '__config__', '__dir__', '__doc__', '__file__', '__getattr__', '__git_revision__', '__loader__', '__name__', '__package__', '__path__', '__spec__', '__version__', '_add_newdoc_ufunc', '_distributor_init', '_globals', '_mat', '_pytesttester', 'abs', 'absolute', 'add', 'add_docstring', 'add_newdoc', 'add_newdoc_ufunc', 'alen', 'all', 'allclose', 'alltrue', 'amax', 'amin', 'angle', 'any', 'append', 'apply_along_axis', 'apply_over_axes', 'arange', 'arccos', 'arccosh', 'arcsin', 'arcsinh', 'arctan', 'arctan2', 'arctanh', 'argmax', 'argmin', 'argpartition', 'argsort', 'argwhere', 'around', 'array', 'array2string', 'array_equal', 'array_equiv', 'array_repr', 'array_split', 'array_str', 'asanyarray', 'asarray', 'asarray_chkfinite', 'ascontiguousarray', 'asfarray', 'asfortranarray', 'asmatrix', 'asscalar', 'atleast_1d', 'atleast_2d', 'atleast_3d', 'average', 'bartlett', 'base_repr', 'binary_repr', 'bincount', 'bitwise_and', 'bitwise_not', 'bitwise_or', 'bitwise_xor', 'blackman', 'block', 'bmat', 'bool', 'bool8', 'bool_', 'broadcast', 'broadcast_arrays', 'broadcast_to', 'busday_count', 'busday_offset', 'busdaycalendar', 'byte', 'byte_bounds', 'bytes0', 'bytes_', 'c_', 'can_cast', 'cast', 'cbrt', 'cdouble', 'ceil', 'cfloat', 'char', 'character', 'chararray', 'choose', 'clip', 'clongdouble', 'clongfloat', 'column_stack', 'common_type', 'compare_chararrays', 'compat', 'complex', 'complex128', 'complex256', 'complex64', 'complex_', 'complexfloating', 'compress', 'concatenate', 'conj', 'conjugate', 'convolve', 'copy', 'copysign', 'copyto', 'core', 'corrcoef', 'correlate', 'cos', 'cosh', 'count_nonzero', 'cov', 'cross', 'csingle', 'ctypeslib', 'cumprod', 'cumproduct', 'cumsum', 'datetime64', 'datetime_as_string', 'datetime_data', 'deg2rad', 'degrees', 'delete', 'deprecate', 'deprecate_with_doc', 'diag', 'diag_indices', 'diag_indices_from', 'diagflat', 'diagonal', 'diff', 'digitize', 'disp', 'divide', 'divmod', 'dot', 'double', 'dsplit', 'dstack', 'dtype', 'e', 'ediff1d', 'einsum', 'einsum_path', 'emath', 'empty', 'empty_like', 'equal', 'errstate', 'euler_gamma', 'exp', 'exp2', 'expand_dims', 'expm1', 'extract', 'eye', 'fabs', 'fastCopyAndTranspose', 'fft', 'fill_diagonal', 'find_common_type', 'finfo', 'fix', 'flatiter', 'flatnonzero', 'flexible', 'flip', 'fliplr', 'flipud', 'float', 'float128', 'float16', 'float32', 'float64', 'float_', 'float_power', 'floating', 'floor', 'floor_divide', 'fmax', 'fmin', 'fmod', 'format_float_positional', 'format_float_scientific', 'format_parser', 'frexp', 'frombuffer', 'fromfile', 'fromfunction', 'fromiter', 'frompyfunc', 'fromregex', 'fromstring', 'full', 'full_like', 'fv', 'gcd', 'generic', 'genfromtxt', 'geomspace', 'get_array_wrap', 'get_include', 'get_printoptions', 'getbufsize', 'geterr', 'geterrcall', 'geterrobj', 'gradient', 'greater', 'greater_equal', 'half', 'hamming', 'hanning', 'heaviside', 'histogram', 'histogram2d', 'histogram_bin_edges', 'histogramdd', 'hsplit', 'hstack', 'hypot', 'i0', 'identity', 'iinfo', 'imag', 'in1d', 'index_exp', 'indices', 'inexact', 'inf', 'info', 'infty', 'inner', 'insert', 'int', 'int0', 'int16', 'int32', 'int64', 'int8', 'int_', 'intc', 'integer', 'interp', 'intersect1d', 'intp', 'invert', 'ipmt', 'irr', 'is_busday', 'isclose', 'iscomplex', 'iscomplexobj', 'isfinite', 'isfortran', 'isin', 'isinf', 'isnan', 'isnat', 'isneginf', 'isposinf', 'isreal', 'isrealobj', 'isscalar', 'issctype', 'issubclass_', 'issubdtype', 'issubsctype', 'iterable', 'ix_', 'kaiser', 'kernel_version', 'kron', 'lcm', 'ldexp', 'left_shift', 'less', 'less_equal', 'lexsort', 'lib', 'linalg', 'linspace', 'little_endian', 'load', 'loads', 'loadtxt', 'log', 'log10', 'log1p', 'log2', 'logaddexp', 'logaddexp2', 'logical_and', 'logical_not', 'logical_or', 'logical_xor', 'logspace', 'long', 'longcomplex', 'longdouble', 'longfloat', 'longlong', 'lookfor', 'ma', 'mafromtxt', 'mask_indices', 'mat', 'math', 'matmul', 'matrix', 'matrixlib', 'max', 'maximum', 'maximum_sctype', 'may_share_memory', 'mean', 'median', 'memmap', 'meshgrid', 'mgrid', 'min', 'min_scalar_type', 'minimum', 'mintypecode', 'mirr', 'mod', 'modf', 'moveaxis', 'msort', 'multiply', 'nan', 'nan_to_num', 'nanargmax', 'nanargmin', 'nancumprod', 'nancumsum', 'nanmax', 'nanmean', 'nanmedian', 'nanmin', 'nanpercentile', 'nanprod', 'nanquantile', 'nanstd', 'nansum', 'nanvar', 'nbytes', 'ndarray', 'ndenumerate', 'ndfromtxt', 'ndim', 'ndindex', 'nditer', 'negative', 'nested_iters', 'newaxis', 'nextafter', 'nonzero', 'not_equal', 'nper', 'npv', 'numarray', 'number', 'obj2sctype', 'object', 'object0', 'object_', 'ogrid', 'oldnumeric', 'ones', 'ones_like', 'os', 'outer', 'packbits', 'pad', 'partition', 'percentile', 'pi', 'piecewise', 'place', 'pmt', 'poly', 'poly1d', 'polyadd', 'polyder', 'polydiv', 'polyfit', 'polyint', 'polymul', 'polynomial', 'polysub', 'polyval', 'positive', 'power', 'ppmt', 'printoptions', 'prod', 'product', 'promote_types', 'ptp', 'put', 'put_along_axis', 'putmask', 'pv', 'quantile', 'r_', 'rad2deg', 'radians', 'random', 'rate', 'ravel', 'ravel_multi_index', 'real', 'real_if_close', 'rec', 'recarray', 'recfromcsv', 'recfromtxt', 'reciprocal', 'record', 'remainder', 'repeat', 'require', 'reshape', 'resize', 'result_type', 'right_shift', 'rint', 'roll', 'rollaxis', 'roots', 'rot90', 'round', 'round_', 'row_stack', 's_', 'safe_eval', 'save', 'savetxt', 'savez', 'savez_compressed', 'sctype2char', 'sctypeDict', 'sctypeNA', 'sctypes', 'searchsorted', 'select', 'set_numeric_ops', 'set_printoptions', 'set_string_function', 'setbufsize', 'setdiff1d', 'seterr', 'seterrcall', 'seterrobj', 'setxor1d', 'shape', 'shares_memory', 'short', 'show_config', 'sign', 'signbit', 'signedinteger', 'sin', 'sinc', 'single', 'singlecomplex', 'sinh', 'size', 'sometrue', 'sort', 'sort_complex', 'source', 'spacing', 'split', 'sqrt', 'square', 'squeeze', 'stack', 'std', 'str', 'str0', 'str_', 'string_', 'subtract', 'sum', 'swapaxes', 'sys', 'take', 'take_along_axis', 'tan', 'tanh', 'tensordot', 'test', 'testing', 'tile', 'timedelta64', 'trace', 'tracemalloc_domain', 'transpose', 'trapz', 'tri', 'tril', 'tril_indices', 'tril_indices_from', 'trim_zeros', 'triu', 'triu_indices', 'triu_indices_from', 'true_divide', 'trunc', 'typeDict', 'typeNA', 'typecodes', 'typename', 'ubyte', 'ufunc', 'uint', 'uint0', 'uint16', 'uint32', 'uint64', 'uint8', 'uintc', 'uintp', 'ulonglong', 'unicode', 'unicode_', 'union1d', 'unique', 'unpackbits', 'unravel_index', 'unsignedinteger', 'unwrap', 'use_hugepage', 'ushort', 'vander', 'var', 'vdot', 'vectorize', 'version', 'void', 'void0', 'vsplit', 'vstack', 'warnings', 'where', 'who', 'zeros', 'zeros_like']\n"
          ]
        }
      ]
    },
    {
      "cell_type": "markdown",
      "metadata": {
        "id": "2hSWC5ptGyWP"
      },
      "source": [
        "\n",
        "\n",
        "---\n",
        "\n"
      ]
    },
    {
      "cell_type": "markdown",
      "metadata": {
        "id": "1kgkJZFlVUqk"
      },
      "source": [
        "## 배열 생성"
      ]
    },
    {
      "cell_type": "markdown",
      "metadata": {
        "id": "pamRfghzHi6I"
      },
      "source": [
        "![스크린샷 2021-11-18 오후 5.16.12.png](data:image/png;base64,iVBORw0KGgoAAAANSUhEUgAAAyAAAAD5CAYAAADfqVESAAABSmlDQ1BJQ0MgUHJvZmlsZQAAKJFjYGASSSwoyGFhYGDIzSspCnJ3UoiIjFJgf8rAzSDEwMZgwcCUmFxc4BgQ4ANUwgCjUcG3awyMIPqyLsgs5zMfYkUYss46fvX4GjJ7zxNM9SiAKyW1OBlI/wHijOSCohIGBsYUIFu5vKQAxO4AskWKgI4CsueA2OkQ9gYQOwnCPgJWExLkDGTfALIFkjMSgWYwvgCydZKQxNOR2FB7QYAv1CckyN9PwdjUxDzUmYCDSQUlqRUlINo5v6CyKDM9o0TBERhKqQqeecl6OgpGBkaGDAygMIeo/nwMHJaMUvsRYgXqDAwWXxgYmE8hxJIWMjBsX8rAIHEEIabCy8DAn87AsG1eQWJRItwBjN9YitOMjSBsnloGBtbX//9/WsbAwD6DgeHv0f//f1f9//+3jYGBhY+BYe8qAM16Yb3lUJANAAAAVmVYSWZNTQAqAAAACAABh2kABAAAAAEAAAAaAAAAAAADkoYABwAAABIAAABEoAIABAAAAAEAAAMgoAMABAAAAAEAAAD5AAAAAEFTQ0lJAAAAU2NyZWVuc2hvdBSWafgAAAHWaVRYdFhNTDpjb20uYWRvYmUueG1wAAAAAAA8eDp4bXBtZXRhIHhtbG5zOng9ImFkb2JlOm5zOm1ldGEvIiB4OnhtcHRrPSJYTVAgQ29yZSA2LjAuMCI+CiAgIDxyZGY6UkRGIHhtbG5zOnJkZj0iaHR0cDovL3d3dy53My5vcmcvMTk5OS8wMi8yMi1yZGYtc3ludGF4LW5zIyI+CiAgICAgIDxyZGY6RGVzY3JpcHRpb24gcmRmOmFib3V0PSIiCiAgICAgICAgICAgIHhtbG5zOmV4aWY9Imh0dHA6Ly9ucy5hZG9iZS5jb20vZXhpZi8xLjAvIj4KICAgICAgICAgPGV4aWY6UGl4ZWxZRGltZW5zaW9uPjI0OTwvZXhpZjpQaXhlbFlEaW1lbnNpb24+CiAgICAgICAgIDxleGlmOlBpeGVsWERpbWVuc2lvbj44MDA8L2V4aWY6UGl4ZWxYRGltZW5zaW9uPgogICAgICAgICA8ZXhpZjpVc2VyQ29tbWVudD5TY3JlZW5zaG90PC9leGlmOlVzZXJDb21tZW50PgogICAgICA8L3JkZjpEZXNjcmlwdGlvbj4KICAgPC9yZGY6UkRGPgo8L3g6eG1wbWV0YT4K3g9S9wAAQABJREFUeAHsvWd7nMeVJnw6NzJAACSYM0VZlKxIkZIsUVmWs0ev/c7szrWz84feT++3/bh7XTOzO8m+ZsayR5GSJZlBIilaiRHMAIgMdO7e+z7VBTwAERtAowmcIhtPrjp1P/VUnVMnVOjIkSMlsWQIGAKGgCFgCBgChoAhYAgYAoZAFRAIV6EMK8IQMAQMAUPAEDAEDAFDwBAwBAwBRcAEEGsIhoAhYAgYAoaAIWAIGAKGgCFQNQRMAKka1FaQIWAIGAKGgCFgCBgChoAhYAiYAGJtwBAwBAwBQ8AQMAQMAUPAEDAEqoaACSBVg9oKMgQMAUPAEDAEDAFDwBAwBAwBE0CsDRgChoAhYAgYAoaAIWAIGAKGQNUQMAGkalBbQYaAIWAIGAKGgCFgCBgChoAhYAKItQFDwBAwBAwBQ8AQMAQMAUPAEKgaAiaAVA1qK8gQMAQMAUPAEDAEDAFDwBAwBEwAsTZgCBgChoAhYAgYAoaAIWAIGAJVQ8AEkKpBbQUZAoaAIWAIGAKGgCFgCBgChoAJINYGDAFDwBAwBAwBQ8AQMAQMAUOgagiYAFI1qK0gQ8AQMAQMAUPAEDAEDAFDwBAwAcTagCFgCBgChoAhYAgYAoaAIWAIVA0BE0CqBrUVZAgYAoaAIWAIGAKGgCFgCBgCJoBYGzAEDAFDwBAwBAwBQ8AQMAQMgaohYAJI1aC2ggwBQ8AQMAQMAUPAEDAEDAFDwAQQawOGgCFgCBgChoAhYAgYAoaAIVA1BEwAqRrUVpAhYAgYAoaAIWAIGAKGgCFgCJgAYm3AEDAEDAFDwBAwBAwBQ8AQMASqhoAJIFWD2goyBAwBQ8AQMAQMAUPAEDAEDIGoQWAIGAKGgCFgCBgChoAhcC8CJQnhZKn8475PPCe46s6Fyve4rfvLq+55/4xtDQFDwCNgAohHwraGgCFgCBgChoAhYAiUEfDCg25DZSGkVDYcwXGo5IQQd3tJwhQ3SkU9LIZ45FNQcPHnbGsIrG8ETABZ3+/fam8IGAKGgCFgCBgCsyDghBAKFhQiJjUaIQgi7qhY1oFQT4IzocgsOdlpQ8AQCCJgAkgQDds3BAwBQ8AQMAQMAUOgjADlDgofQXGDokgY6o2QFFQIoehRClEcCUsRPybuOdMtPbQ/hoAhMA0BE0CmAWKHhoAhYAgYAoaAIWAIqAABQaMQikkulJRMKCHZSL2EIWzEijn8xiVeHIUwkoXA4Q2uKJ74fcPQEDAEZkPABJDZkLHzhoAhYAgYAoaAIbCuEaBeIy9RSYcbJJ3olGx9l8SjMLPKj0oo3YffLYnlofco5VQb4kQPCiGWDAFDYC4ETACZCx27ZggYAoaAIWAIGALrDgGKEEWJSCEck1SoQUbjHRJu2SaRxo0SisakUEhLYTwpkYFx7GckUsqXDbCcE/q6A8wqbAgsEgETQBYJmN1uCBgChoAhYAgYAmsXAa+/oACSLcUlHWuVXPN2CTV2wRwrKaUC/DwiSWluKEo00yel7LBINqURsML6sMvBDLHWbhuxmi0dARNAlo6h5WAIGAKGgCFgCBgCNYmAFyfuJY7mVT75PX+3Rt2Fr0ce0a6ikZA0J+ELkh+Q9Ni4ZIoxCdW3iyTAQiXbJBsbkGJ+DD4hjIMVxj8fL4u5ulL8eiG+HF+u+YtMImF76wsBE0DW1/u22hoChoAhYAgYAusEAYoTXqSYucphrOVBoUCjXZVvofDhnqLwEIF5VUGiuUH4feQkPtQvo4WkpPO4uW2D5KPNksMvEuoXLhESpTs61gKJqE/IZC4q0DBX/J8UQib3ZqbOzhoCaxcBE0DW7ru1mhkChoAhYAgYAobAHAh44cPfQpHB/yLwAknABb2QH5fQSK9ILi3xzIgUQxA6cqNSzNVD+AjDQb0efiHQiITzkqR1FrQhIQgsYUTKokbEizMsw4kcFHq0ZFxnaZYMgfWHgAkg6++dW40NAUPAEDAEDIF1j8B04SMICMWCKDQZdZJT86pSKgsbrIxECynJhyMSRQjeMK9h4cEsBBBJdEldfUzCkYKURm9BaBmE7oSO6TFoRKBJQYZO+HDbUqioQkhYFzQ0ISSIve2vDwRMAFkf79lqaQgYAoaAIWAIGALTEJhJA0FhoYD7KDAUudggBJEwzK9CiHTlFh/E6ufYL0D4yEQbJZcoSTJeL8lkSWLZAckWslJAJmnoT4oUTiCGRLFWCE25uF4IDbucMGKCx7TXYYfrCAETQNbRy7aqGgKGgCFgCBgChoBDQIUPSAJeDKDg4dYvL5W31FJQfIBgwR0IEGo8pQ8UsThhWDLxFpGWBklgXZBSpkeyo/0i6XHcHJNMpA4CSiuc2KNSB40ILmK9EAgzWg5NsyzVAgIl+AEtNYUQsMDS4hAwAWRxeNndhoAhYAgYAoaAIbBGEHAxqihihGEwFYFQEVMTqwLMrKixiBWxxkeRWhAwqeqwTi0GzktGioVxPAezrFBOEpleKQxeE0ndlSKEjHQEoXvjTVJq7JR4PCLxcQgcwxmE7KX3OhcuZMkz6V/WCLBWDUNgHgRMAJkHILtsCBgChoAhYAgYAmsRAW8OFYJIAF8OrPExHoFDeX2LhOsaJQJ/j9DwbZEMnMrL1Xd3QgiBo3kJwkYigcUIc2MSHbgskbE7EiqMQetRL2PxTsk3bZZQ0wasnJ6F8gRO6RBq6PtBAYTO6RQ/lj73vhbfi9VpPSBgAsh6eMtWR0PAEDAEDAFDYN0hEGTvuU8xAmt7hOIQNhISggmV+mQU4SwO7QbPZbHieaKxQ6QO7ueIeMV1P8KRiCSg1YiWoO3AfVgfXZIwuSqM35ZSMS2lXEo1H3kUkYm0STq+QQpNWyXe2CoxRMYKj92V3MgAQvmmUZ7zLZk0/Fp3L6XmKkzzqeUww6q5itU4QSaA1PgLMvIMAUPAEDAEDAFDoFIEKHj4nwuJm6OmI7ZBYtRe8FRqCM7jwyqAFBs3S76uTcbTI5IZwbofkSapb2iAuVVB4rkhCcEZPYo1PhpkXIppmlT1w+QK+UNAGQ83yWh8K4SPLSIQYkIRPD9+S2LD3RJODcCUi+ZXpIaF8sdE2iytNgLmw1H9N2ACSPUxtxINAUPAEDAEDAFDoCoITBpPeQ0IPDAkHKuXRDPX7ohKBqFwC/m85CNJrOeBlT9CUTXHkjqYT9VtkkQM5lJZRLYavi7FkRGs85GFU3oes+YFRLvKqeCSgvCRim8Uad4uyaZ2iYZzIqM9Eh6+KbF0v0TzGXVAV3FDHZa552mrChBWiCFQUwiYAFJTr8OIMQQMAUPAEDAEDIHlQcAz+NQ2kOHHFsJGsYhguoWS5EoQNIp0Om+UcDwr2RLC5lLDgftijRskFIZgUiwK4ltJrCEk9SFoMDK3sCL6mJph0YOEwkwOJl3jsY2Sa9wBn48teK4gkZFrEh68LPF0jyRL4yqwkIQ8zX3wnKNMxREcY4v/3hTIZuOX5+1bLrWNgAkgtf1+jDpDwBAwBAwBQ8AQqAAB5+Lt/jqmH2w/zKUYxaqEkLhjQ/1YxTwpifoGCTU0SWF0XHLjQzDLgo9HMo6oWDEZS1FICEGr0Sj1CKcbgsaEDutcAyQXjslouE5GY+2SbeySeFOrJCJZmFv1SnikW6LZXoFogqdzKmSUKHyQhBCocbKH5u2c0SdOVFDTlXmEfhHrRRias57Aofbezsq882rmagJINdG2sgwBQ8AQMAQMAUOgagjQubwAxl/NrlBqBL9kpAThIiMpOJkjhq4Uou2Sb+6ET8gIolndkNLgFbh0jEkx0oAH2iVU1yIhaEqyWWgy4AsSgfDB/EZhdjWQpOajCz4fmyQWCUlstFsiw9ckkr6B1dKHdcFCXVsEDu8UZIoUPsq155aMLUisKHmNSUUPz/GQFzyK0P5Eo9F7HLT99TmyqNqlKYJDWVCYjz6Pe5BIPjNXmu/6XM9OvzblvYEYrw+bft9aPzYBZK2/YaufIWAI3NcIzDRY3tcVMuINgSoiQI2DC3vrdCBQYQijVZWwcnljIxYRzJZkbHQAka7iUl+XkFJrB/QVOSmOprEOSEla6xEBC4uZF/P9EoJPh+RyMKNKYp2PBhmJtUm2YbNEG9sgfGBtkPG7KnzEUnckijVCwvARYWLIXe90TnKcTqYsfBTd7LpnSsnoLpTZVebb881aT5a29OTLjyD610xJiyKdvkxPQ/lmf+gYa380U05LP+dpVRM2rPA4cTxD1l5YoWA1133TH524F1UJ6kJ8fryf+wsVJLhOjM9Tn0HzCMPcj3BqQIPpBKzRYxNA1uiLtWoZAobA/Y8AB6RZxvhlr1y1yll2wi1DQ2AWBMj6UvtAthF6DmypuQhx6UAsEtgsDU1tWMtjRLLDw1Lsz0sWwkcRZlSRDTC1gvlVEet/xCGMJDJYXHAcAgjujWFRwvFwg4wmuiRDzUfTRggvBUmM3ZTE0DVJIDRvDCF6aXblSkZeYE59okZGv2qaY2GXipEw9snsU9sQi8Wm3O+fm3WrmczNeM/67IwXoDEqwMgM9ITB0I8jDHEODvo++ZoUITiFEEKsDuGK46AZROstrJ2rYZAd55mVS56Z55bRyjIIGJAP0MyS+Q54ndtEIqH18xQ50n3N/Fm3nX4t+C6D+7x7+vHUnKYeeZpZKtHJlmkOLVI4mprr/XVkAsj99b6MWkPAEFgzCMw0KE8OghN7bjQHQzOZnEmHO9YVmrGL4bX81w9pPOcSbdYZ2Yf3cFZW1z5QVszRoPfpdCb28N9TplvPJeksrrvOkKOuPH9nuSDbGAJVRkDbbrnMQGvWM5ytpr9FCW2/BOfzHNb5gDghw1FoLmIQNBBiV+L4GsJZOJePSH4YuVETEo9LAsJJvpjFQoS9ksfigmGueo48xqH9GIu2SLZuo8TrW2HBBZ8P1XxgEUKE2pVCGmXDx0QpCDLhpBS04DtTpjagPiDj2tHZIQ8efFC6urqmMMeazRx/+GwQg+m3Bq+5b5ZUuLOeRrfFN02syKRD8ICtmAwMDMnpM2fl+q3bkivQjC0GZ/qMxFhnCE6dGzvl8FNPSvuGDeS+tWj6udA8jVSFUEfk6N4Bni3BWd/1P3lchVADp352LwwMMNlbTa/BvcdekPBXWDI1B9Qi9Pb2ytmzZ+XWrVsqhATx4fWNGzfKww8fAs6b/ePzCg5as3L9Jh6atuMFimmn7zn0eQWFlb6+Pjlx4oQMDgwgKIITme95cA2eMAFkDb5Uq5IhYAjUOgI66s5CpGMo3HDubgnu8wx5lzx+FD7CalMOpgH7dK/lQE6mi2wG/zM3Ch9pwZoHeCZaSoOBcAuvkVVwTAlL4LNIYAaUN+IpMg/8ixOcESbjog60YLBCCENKPsWSIbBaCLD5TW2CrjVPnlX2F00agkepTsajTZJv6ITjeRP2WxHhql6SsaQU4ylJQMAoYkXz/ECfhOGQnkwgFhbC7xaHBsEnQ6OBz0M1HxQ+Grok1NwliWhRGkevSmjkNuQO+HsUMvgyyMjja9Jvj8i475B7ZDrJqOK/Y/JxLYyMOzo65MUXjsmLL70kzc3NKoBoveZhejVPfqCzJI8NUdFJB5r+6DfMM6SFGiJseSP7BKzSXoAGgQsv9vcOyu/+/Q/S3tklPWNZGR9l1LA63IYFFRFSuHNju7z5xhvy5ptvSBQdiyejiL6mCB8ZCh8UQ6h3KgKMfAn+NNFmPI+eKIyQxCGsMh9OST5HIqBBwb0LTaSRSc2WypgWobW5239XGfktmzfL2NiYkLGnJkdpQ2U3bdokL7/8srzw/AvStqFtocUt631e8CDtTAP9/fLue++pYMS20dPTM9FOlrXgGszMBJAafClGkiFgCBgCEyM6ofCju8LiLMqddTYFAwofHq8yM6HCBJkNDnLQfki9FOAsG4XzbSg3qGFEwwUwABjwXA58XnPSjJhfAaYmJUT8wfJrWCcBoUpDMISPYgYzilzBrCXzI8jdmZnoQ/bHEFgNBCbaPlpw+UMgY00poAjmHi7jmFVmxCqsfN7QLokN26QA340ihI8SmMBcGI7W4EWLlM5hBiNgrgujGSwyCNY8fReO5DgGU51CtKwxPJdBmN1EyyZ8CiGJjoEZH+mV0PggvgloSyiUs2gV2Pll+eS+Mx4xtK9Pbka+U44dOybPv/CCbIAmQRlUVIAz+iXOhgfq558LbifLCJ69d5/3TXzrmifyVwGH3z1owrki/sGuSoaHR+V3b78jN+/0yaEnn5GTV4BDSyOu1cPPpSid8Yj85Cc/kaPPPqPCCpQlfFKfdwIWMsN/lpmBRikbSUj/eFiu3wReWPCxs64oOzbWSSIEQYIP6wu7l+bZzhA31TiwDMyC0KeDwsfHH38Mrc2AbN22TXqgCbl7967eF41GpLNzo7zyyivy0osvSktrq8N2tgJW6nxZoPSCKAWkDz/8UC5duiSPPvqo/PGPf1TNDc3wtH4rRUeN5GsCSI28CCPDEDAEDIGZEOAgzoSxFskdhaGlgCyh5zh+63maMYAB04FLGTFeQBdfghV7qEnirXulPoHxfuiqlEYwywnzEs8KMW+XTzkvsBIRDPJ5mEzk8Wwa6yTkYXISwcxwJI41EdK9IsNXwLCZAELELNUIAmBk2aaVeddIVc70MA/hIQvzqwIE6VIOGsEIfRYogGARQojnxbqoJOMNkswNSySFRQNH70gYP8mOIbcCHM4b4XDeIenGLVJo3SEJMODxcYTaHbwuMjYoEWg+IjBtVI1imQZFxH+8OMCX6T9ivUQms6trk7zwwvPKGDc2NsK/HWuQlKNOLZgBRbaBYjRv98dNKFC7we+bIhB/bs/dEVbVBxHjdAaENJQ/PDQsf3jnXenpG5HHDz+D8MKdMhZplniyBb9m2dBUlDee3isvg5nnCvEpPEN9BOtHBNj1hFXTAv0HGO5RTGBcGcjJx2cvyUdfXJRUz2U5sr9L/uZnL8n2RvjZYN2VEgS32WqBC/ckYkOcKFjwXZORP378uAwNDcm+ffvUn4L+K0wUVjo6OuXll16SY8eOqfBBgcVrIO7JvBonQPMQ/I7effdduXnzpjz++ONan2oUXUtlmABSS2/DaDEEDIF1jgBZhXJSXoF/wmCeuDIzmKdwHKJBwJcDTE+EKzKD2cqDmVJWA4MbzaQY7hPrPeM6GAs8W4DTaJwTqmA6ckVoNsCAcUJOzSVgeiHMCxqNSAmzwMgDhenscSFaJ+H6TomA8Yo0wIRCssgfLAecbi0ZArWFABo02j3X76C/ByNVpSA8CBzOszBBpIKj2H9HStFxxOLtlDCiYIUhCBQzw9B8DGEND5oHpfGtwOQqN4pvLYznm2UkugEO51thQdQpcXxmkTFoPbDIYGSkB2F50/gioS0E0x3idwFG3P3cZ6T48DMuJ2ohwnDe7gRT/Pzzz4MxfllaW2DWBUaeQr8XPLypjn9uti2/YTL99yZegAkUtEB59A+ZYljS4PNhqYR6OZEjCiadJmic0BjPZuDrcVdOnTwpV68PydHDP8BijE1yN1WUMWiD0sWcNMBf5vCxN+Sl156CD01SUuhXUgxXjNXg45gRSUA7Cm8baIOIA9ZKwaxGoRCGidGn8vHX1+V2BhrUNHxLMhBOog3oa1JYMZ5dTdlM6t5KzHiGAkQcfjp0NL9x44ZqDvphyrRnzx5pamqSO3fuqGBCDDs7O+W1116TF6H5aKPmAznyPPOoZuJ7Zbk0H6PARG0NhY+HH3lYWkHX4CA000i8zrqth2QCyHp4y1ZHQ8AQuI8QCHITtNyOQANRLyNghEJJ2K0jAk84DKEDjrFJzNAm0linOQ4bd4QVpcBRSGfJDkkJJiXJGGY2IaAUMOubxswujLglmkmpQDIOBqIE84hSNIkQohBrkF8kOwjTqrTOYOIimBfMMMLsKgTBYzwCW/kCQpJim4BWpaizp/cRrEbqmkdAmySFdTiaj0Fzl63bKtnm7ZKoa8XaH3Gs0XELGsBufAuIepWlwIEoVqFWOJ/fQIhdaAYjCMCbT8FuaBQiTAHCR4MMRDbB52OLSOsWqQMDHhu5IZHBbkmkbkmymIJTttMtULlALQDNmJwIUpY6IB0Ev2ge0dTq2eeelacPPy0RzOIPj2A9kgoSSyiXMsPTTuNBE6gMBJtbg2Ny+daADIxlIIiUUJeIbGhulIM796K+BTl/6bqc/uq8dHffBLP+mowCx+++vioZCDBRLLiYxsrxGzd0ytYHn5A7xSa53ZuT7jt3ZWTgJgS4AdnckkBem6StDtG8cmmJI3ZxBgrSvtGUDPcNyqHvPSZxOPlf+3JcV5xPpQpw7udkBzCHIBTEaIbKuFO4iYIeUzqVkj6YWH300UfKvO/du1eampsmBTggQ+GDQt4Tjz+hGoaR0VGXzyx/vfCnl1nWwqiaJTd32ufptyPQfHz62Wdy9epVeeyxx6StrU2FjjkzWaMXTQBZoy/WqmUIGAJrAQHHYuTBUEWaN8JqZKMI7NCp7CgU04i60y+F/hsCs2yJIRxoNNEo6eG0DI8OSbwuJs2tcPwcR2SVIZiI1DVjoTXO/KVhdkJ7+A6JJhswMMewwjNiA8E3JNsP7QYcbjH9i9k6mGHBMTUEx9zcaL+k0tC81GO9A8yKUuMSZBg8ExQ8Vwvoe7pmoqXWaJ2JRjs3PwLOj8G9TWosOOvO1c0zcUS5amyXWEMLZu/xwUAjksRxNIT1PQbvwrxqFCuW92PtjziEgBxMEhHpCmF3qQmkcD0mCLXLaFmNmzUfmvvQPCs2clNNEOPwg4qAeZ6qqQDLCoGDZkG4gG8k0ALLDS5Zl5QmfEOcBf/Pd95BBWlO5Dy65q/tvXdoCbM05iJoSMH3ZRj1vz6Yl5vDBRkrJdFfwHwJ2poEtA8HN38tDWDqT3x3WQahJdm+Y4/0hTbIhSvfyaUvzsnW3XvQbzRKAmud9A2PyT/82+9la1s9NCMRuXBzROqAVL0MA5N+eWh7u7RBzdqIKFnRWJ1kECmjF9oOyUOAGeyVsWGGGY5CeOmTf/zNb2RLvgdaEyAAjdAsVbi3wjhD8ymGre3puYMV6+vkwQcfVC0CtQf+fSST0OxAsKFm4f0P3l+wxsM/Hyx4pnPB63Pte8GDW5q4kR6ajx0+/BQw4uKWjCgGjNZhMgFkHb50q7IhYAisNgJkGwLMyT3kcDjmj/eAqaImItYgBczIjuUwNwuNRrwJDrVxLKSG2czhQUTgyddJY1OnpJqhMRFE8mlOYKVmONNm+iFwJOGA3gwtCUy1IkOw6UZMq+adUkrUIQoNnNGzcA7NwYQEDAhyxo+zjDnMAuMa8s+PgXFIxiRc1yAxDOohzIp6+qfXZDGMBDJZsTSdrmBBHtlaoTVIm+0vHIFJBp9vm9oHau2ikod5T7ipC2Fym2QIwvNYFgw+BO4C1qyINW3HXQkJY+ZeoD2MZ0ckichwnIkvFJxAkYF5YibeDuEDGpKWzco0x8b6JQztSXzsNiJmjSIPaDpoUqPfivsa+NXkyxoPUsSkjt8USFQoEY3EdOToEdm0cRPWq8AkQvlGt/VPuWcX8neuJ+iETwGkCcJXdFOdtIZaJAdfrjQied263i3fnPtcYj0D8tJjByXUm5LRsYhcgpCQudAv+eu3pK2pTrbs3CXnLlwXqYNGCRrUutZOqe9slc9PX4IJVpM8c/iw7GrHuip3LklnNCMtMGNrgRlbCeZZuVJUtkF7Mob+63akU+58OyAj0DBFobFt6miTrsZ6vAn4oy1SmxqBwDIEXxWaXW3ZskXa29tV80Emn6ZVFEQ2IxIWfxsRKpjrmixMiIAAWe4UgoLDQt7DQu4ZHx+XEWi7uhCNq7W1TSN1RX2UroVksMbuMQFkjb1Qq44hYAjcLwjMz/7SMZx30f9jcAwG3HAcL4KhKOBXxMxiBrbCYUSYYeSa3FhaxhvAEMFfIxat11ndNM1F4OQJ2y2YOYA5i8BCG+oTmn1EmA+iA42n4HiKQTGF6DSN+aLUgxkocZExMFIRakEgiGTAoDEaUAnOtkXYglMumhRCptdjLpbIv5vgM8F9f30hW5Yzd1mz5zz7lYWUbPfUEgIUhsn6452Si8e3wAnl+gR9ELKQMQYR4QqL5YUQzQq3lWB62AThPZIfl8IwojthdfMQTA8FZkMhCC+ZcB18R1olW78FK5x3SAxOH9EMZq2HuyXM76k4jBCycJzGt0ETHd8KybBO8NGgwzOwvo1SK8IFB+vr62X37t3y0EMP6cx3BAI9I86tROK3Pg4fmNFQo1zGJMJHf74tV673yUhuRBl49iNtG5rkyOFH5MS1QbmF7z6NwBIXYI7VDsHgiQcfkFYw9wmsEF9MwOciNy6bt3TJC08/LBdvDMnQtWHpwYz+9q175KEnj8iB9rg0QpPaDB8arjZUQL+VgcN/Gn1PD7RJ1/Lfye2r30nnhi5Eo3pZtscGIYDk0ccsIvE1AzNGuKLTORdBpNBBrQKTx51CyaFDh2Qv/EIK9Pfg++FvAUVpr+IkwgXcPfMtzMOXReGHQQf6oPkZhRkYQwNnMhl9kLRRCFmPyQSQ9fjWrc6GgCGwyghwaPLD0+ykkK2CskOytLmq3yANbR1gkiA4YIY3U4jBNhtaCvh5gD1AyNBRyafgQItQV1FoK0Kwcc+nsvDrSEHogE4DqzXTIZXajRL8REIjA4iM1S5hOmbG82CwINyMYi0ECCEcDrnoWgl232GEKeX6ADRNoVkW1CSgXAN2qqmKMzRBXXTA9mYnOu87e8X0SrD+wf15HtPLyiJgz2/vfWZhOS7srntztzO1gIBj/9mmvS6EzuAIhQvhIjLeJwgWDTIj0twEE8ZYWvrBLIfrNkiyLiz1MCkSCBYhrF5eAmMdgcCdQrS34RAWIITwEW7dhVW+YXY4jgUGB65KYvQahPARNPMctBxcSA/fHHKnAzdbEZu/tiYwuRQq+O2qo7NqC3FQTmSCaXLDXx6TAzkcL6Qv8M8vZktfsBS0nb2pvPzmvdPyDrQWTS1N0gDNA6oLEzIEpqBBJgSGMJzuWxtgZpWDj8g4NBj1IWloaaUCFvVEfeEnVuRaIcVx6WoW+cGTB0H71/Ll11/Klxe+lse2Ncmvjz0qBzuSUoe+gmXnAUqOJnE5HCMf9hzwokH4XWiocpgIgWBS5KQK7mbywkOwjq4nAbH6n1gRa+SZTuNZloI+Ejh6p3JeowaEDurMj6u466ro2HdPaxZT/vAZ/luuxPwYaIA0eXqYd77gaNLrZbMr7q/XZALIen3zVm9DYJ0icP9092DzMThxYS9G9Yk2ghmABmN8ZAgDOhzGwUhlITjEMbCS2eGsYIirn0FjoUwOtR3w76AZBrgd/fFqESZVRZiajA31yigi34QhhDQlm+AHsgnMFBiRfB85AedkDvOJEpzOswjHSy0MmTkKJkWYVkSLMNVCWNM4mTEKJjq8B4d47vvjlULd54+iFp2W8uyiC7MHVggBvkW2LgohDP8aRhS3BEwHM/3dWPsGGoyGrRA46mUUTHUBs86xOIRyMMSlFLQf0PrFIKxQ05iC5oMrnOdxf7ylC2ZCCNAwioXsBq9JBM7rCUTJCqOtY0FwLc2VyX2XfGviwoJOgwgmlIwtjqlx5DdFZpPMMGfvuVI3fQLu/W58jkvf0hxtCP4YF/pLcuFyN3zE6uWBBw7K/r27pLd/SN5/9x3MvmPBRdxXBDZjiBAWhla0Lg7fBCyseLn7NvoehPFG5eK4D8sLIjLxuFy7eANajDY5cvSwbN69Wz7+9KSc++pr2ZIcl9gj+2SgNAKRguZwCSzeCOxDdXI3loC2JIPeKSnDqZJc6u4RrOIIH7MhOLTB8b8shMxWa8AnDdAetbVtUOaeGo8IaFIGP1+Q0dRoGU+BadZdCCgZuX37tluIEJod/YdMZhRy+J5mK7iS85ofc4QwCjoZ5Wq9RLZaDFwmgCwGLbvXEDAE7msElGkocwrLOuAsMyp+JXNGwCoi4hQZiRJMGcj85GFDXUAoyxAi+5BxyoHByXIgBsMUQZSeQh4mJ9Bc5MFExMF4lcaxCCGcTskYMbRuCIJENIYZyRhmR7ly88g4ZiXrpD7ZKKEYFhtUpgkZ4/YMQ/jCaXUUkbdysUaELOViZHUot159SqIRCEKcPQVbQZMtDUVaHsrJEDrmikjzNz35c347/fp8xz7/2e8rv+rZb5iRrjlut0s1hgDanGrnMNOMl81wuGRqslgkMwJTrFQWEd6aYJIFEyzYEUljM36I0pQc65HIwBU4oQ+QTYbZFRzO4fORgfAhbTuhLYG/0/hdCfVfgebjhsQLQ7ivbHqIb4LsKj4PJLYw137x2VDG0ETtBhndRCIpexCdadvWbarx4O2cKLjWfU1DsFJAIWPs8nHPLvbvhNnXDA8SjeFoh/QLIy1lJQsN6clPP5XTf/oThJEGCEpYYDETkVEEmEjy24dQVodtAut7JIrN8s2FG3A8z8jBR5+E6dYtiCIxuX2jV96DA/3ZG3flRpb1ZJ8SlQb0QbcQVvZMGHonLOCYR7/FxUsHI20IwXtbbmUojLTCNK5Bvr56S/7/C5/LgdasPLhzgzRFYf4GrclsiY7a58+fF66V8utf/1p2796NMh3uNGW6ePGi+lN4Jp/XksmERpq6dg0aLv9iZinA5zXL5YpOpxCliwsMUhvz1ltvacQrn9F89Pj71vrWBJC1/oatfoaAITAVAY5bGPPLvMLUa6t85IbUSSLCGDjphxGH30UpP4aZScTOr49jcEXXHctq9KoozSLgQNvY3AKmoiAj6dsyjtCXodYOqYeQQdvt8TGYaiG8bpILsIFziiD0TLytyTFexaQ0ILsoBJsQ7gFXAi4Js7VgoopwShesA1LfhBWam9rgxI749KCnDhFmWto3SnwETNkofFMwA+kQ9TVYLFPln5us+/x7c7/Bua/On7vdcT8gQNMrat/Y+igWoHniDxUOaL1c+QOT64PQZDRKI0wYE1h0IoaAC4WRW9B+YAFBmMmkSpihj7RIph7O5i1YbDMJzd4YVtAeuITFBulwPgI23gkfbFM0T9RyykwtBQBtayoJ4HuD2Q21HA1g4p966imsGP5TaB0egAACUadsguOjHtEXQA2T5mGQcdOsKSiATG/zNKZk3e6kotL24efy+4/OwAl6DGuZ1EkKvgiwroRw1YK70MfAL6QZkxe7d22SV974oXx15hQElduyAw7n/+2vjsn/+B+/kYHui/LMoWfl8IP7ZeB//4sMYt0QzJCgn6mT/Zva5a1Xn5CnD+2WaHoAAkgS2hOGMa6X8//f30vvrWFJRkPQTmFFlhj6jExaduzcJb/85SvS1QKT0ekCCDHByySWnyFsbU9Pj/pNUGuk5la4noEZ1uXLl2Xr1q3y+uuv6yKEZO75fqh5YFKNFN6QN9HSk9P+LIcA4lof20JJhSEKTPRRGRsbU/+PaUXqIcvVtlQ2x5rpnrV8zgSQtfx2rW6GgCEwBQEO0PyRSVndNAcBAS6Cs7NhOH83IkTo+N2rMBuB/TYiUYUwu5sZg/lImOYkQxAgsEhYFCF0x25J/Qg0IIixD/dyicGGnQunZTDokylIFmGShag/Bfh5FMYR2QoTw81YUySWhvAx0oe1EHrh6gGbbJLH8R9sXARmWHSgZEheziyXIKQkaOYC23KaqeQ528thlBoWRZfIOv2HmxJmZjPVN1BRPrLo5OagZ3ts/twdozLb83a+9hHQVqbMO/bQ/pxXhmuFXIgzhnYaH4epD1jhMEyKklGYXiGMbiQN3w+YXo3B5yOFsNY5LDJYatuB9gxNIcytQoh2lUxdh+APJh0mTBQSmBitiWUy9hVNhvQsNCIadjfARFL4OIzoUD/96U/lwIED+F7hC5HDd0VnaD6JWXEmnpv8ZvTUov+wnfu2PmVmHZ8cKQ1hgcCNmLj45bMPoF5Y6+PzW9K1GVGwbvbKxs4ueerhnRDIoBEavibf76qX//KLZ2T3npjsrzsgHYVezD/EIZiIvHhou+zHKugHOxOysyUiv3rpsOy91A0NaEnaoJl4+pGdsqUVhY5jvSEErQipIICYetCCHH3kAXlwfwHaVATNYECL0rg0FDrlkR0I6413k80ygDKoBU4Uzihk5HPwl8C/U6dOqQCybds2mFWl4HQOPYw6npekf2BABb3nnntODh48qJoOJ6BgVXauMbLQBLKXIoSwd+OEDRMjXX3++efyJ2iZuN5LczMcZsr5swy+oynvSZ9an39MAFmf791qbQisawSCg/bqAKFDVrlo7ruke/rHsRRKJxj/JBw/c0M3sPo4V3em7TNEEwzQKTjEcgCPgtka74HZCTQlyTzW/MC/7DAW/BqHzwbMrBpgIpHDrC+dQiU9RrYEzplY6RkaEa6ETqEjgkUNY6UxHfTJJnE4pWNuBuslpPquI5pNL1gump+gbC5uyOXewEjE83gW9xbVzpr1cPXhX2eo4o55xSV/7Nkmf76aWy98rCYN1azv2i0r2JqcOZOKJWCAEXkImouG0Jjkx8HQwtyqGEXEIWgS6bo8jrVC1OejaQtCUm+C2RWYY5ggRQavSjR1G5qBYThpQ6jHN8DvQeeqtbm4UniG2geNbgXtBp2OOVtPM6AnnnxCfvzjH8vuXbvAXEN74tP05oa8mfhZLkcKMrhxhLrNZLKYpEA/MXpXrn19QYYufSHPfm+n7Ni1Wz5Af/LK0YPy/UMH5PgHf4AZVFZ+/dYvZNcmRNCDWdMDW7FI4a/egBkbpA987z/6wWNSPHoIwS2w6jkQPPLQbnnk4X0QJiiYQeuEviOCiZI8wnlTnMDMBTCBKRQCZfzFa48CcScoaV1xua6YlzosfioIABDCPk3TKHywDvTvoLB24sQJFT52AUeG071w4aLeR83C6dOncG6jPPPMMyrkET8KHyrcOVgXDinwX4oAQoEiCrqLCLN29uxZpZshgCmA0AyLPkGW7kXABJB7MbEzhoAhsMYR8IMheAgdGKtXXc9pYATWMYnH/pyjgkdkjxkvpghzJzeTm5ZO7BcgNBTgCEKmx5lIcSYVhhbIrgC/jxiiwsQwmMOCHYuMwawBzECU99IcAVwU+R14k+hgWcAiYUX+kEMEZldRNYHI45izdKACx5z9TYRSEoGAksg7TYdj7/gUKMRiZvyReYCTCnNSurVqnOnDv6mJ9/EMa8nfUlK5QrNlgXKCJUzukwAeuTrM9ridvx8Q4Hvkj+/U6z9IN88x3hJEZgjJFOC1ifLbAZObYmjaRKvk6rtgqrgTPlFYvRtRs8KDV6R+DE7nuJ/tXzWBPrdys+GG+dPvgaWQ1ybzyl9DQ708jlW3f/SjHwWYYnwj5dnxIs0bA8lT709VygSjaHyz/JWpw4kcBIUwJhcK2H775Xk5/s67cmD3btm1dwsctgfg9YXV1zM9cu70HfnuqzPy3/76V7Jnzx4ZG4dQUICGNTUmTagP8yjCxDI3jPxi6IOQXwyrq5cQXS8GrRMnQ6JYXDCTGkf0PYQEB9AlSCQF1JkTHuFSShogGITZP8CkUyOIJTGNUYCWhGsQARMuGOgxJBY5+HwcP/4hmPlzshs088eoV7xvAFoPmjcxnO3RI0dk965dKqwUy1ol9ashsItIKJ2vtOLE90ufD6/5oEnYzp07lUYfHjj4bv17qrjANfKgCSBr5EVaNQwBQ2ASAQ7DXCSMM3G0gy4gihNY7AkzDTdMgz1e5KDjnpssZ/F7KFAL5ZDHwv1vak5eACmBuacQEsXAjclbfVTNPchg0O8CM6+8N4/Bl7bOFB8ymK3kOYoalDgYpDSMML4Mg6nRecCkqACD+wsY/DkYcvaWHAydyEmeiyaE/JVWFyWHAo8TPjgjDAYDP539LZfGW8n/aNmgD/8dUzGlaqSLafrWnV3MXyfczPFGUHcyNzEQReFKBTNgQx8WJ3wspjS7tzYR8O3IU+fag/u22PYhHLMNoHnzS8nCYRotAWGtEdkpiVXRGzcgcAMECZhklWB2FR6l5mNUm2cafUYO31Ae3xilDF/ShAiBdsXvoYSZ+hK+vyQczg8/flhefOsvpGv3HhngNwnmPIzC+V1wRp+z80Hmk98ImWo/8+9rsZit/wL0e/AHyJiCAzUgX5z9Asz8Gdm57zHp2rsHa3KEZTwblYFcRN47eU5aEGr35V/+tXTiWh+0HVEs1giPM0xaNAl0pBpJLwbfGYbSjcQRBQsa1hwEEEgf+L7R5wDbDOoRaqqXEZTPZ/lPA2bgG6SGJIYyI+ggUFXcD/yhKYhCgEvAIZ3gEBuHi+tTTp77Vk5fxCKD+5+S5q1b4EiPxQzDY3Bkr5dbZ64ijHCDHH32TWnftw+Lqk6ysUFsF44h2wmIBG2qucGDfK8YNUAz1ijBL4ofR5LZEoWPc+fOyadw8N8Czcee3bv13XOFe9JEzYylexGYfHP3XrMzhoAhYAjUJALKYPjBdhqFZISpNeCaFzQWyMIGOR+HEzXC1ubhAslVxXWwxj2LTWQkyGLrFn/c4eLycTNhbvBmbm5BP+5NJpcjR3WWQUYag3f58mRp5fJxmztHhoiP8AhDKA+4h0O378QHnuMdnN3VIVXvcznwguaBHZbHZx3W5cz4ME4qCw8mR6kLXOJlJlIyWZo75/867NxdWir+LI5x8BQiD3JwSJqP7vk/OEMPW7zxZmiEmqDByQzeQWvgzDYdimdnJnwOtr0fEJj+5oON0V9DRDjsUleYQ3th1LhSFGtVNHWAAYYJ4vgtkWFEeMIWcZq0TeewcOdoAS7sSawJ0oBVtslwz5TYzFAkW3sCoVYLO56SE71JOdGHPKekIF3BC57G4LmF7TNH9iU+B93Hx8UttQG0+hmDluD06e9w52YJR3dI9xWIVPCfSGMR04v5TTJwaUBefvmQnO6L4Xc9ULDrS9yXpVMYigu/fC1X//L2yfIDDytNvm9gH+LFN98XcQJDn4Rw6HIplwRBpbenV06e/AYrxe9G371RLl1Hmfhe8/mo/LkPju2YeHn66UflzEirnPkcIcOXmChYMIgHq5SH0Al1LsTOHMxL4esGjXMCfm/1MC2LwxcvmCg08UfhkSGVGW1rx44dqvlw2mkKVe4deQ1Y8Hnb1ykyg8EQMAQMgfsMAXbsHDFmTIHBDbdwLY1oskHq2jaB+UiCEaEmRIfHGZ9eyEnOWtL0wAkTC3li6j0cd/OYBVwc4x3MAwBMsB7B8/Pv65PEhTnMAKEuJYJrvKQ/PhBI/nluvYlK4PLCdvFOIhi4OUOM3UUk3KxEg33Bg+U3PcPz1NDQBKUgrRA+mrLjkuZaA0MQQMrvflHFzlCCnao1BGZ6o2ilfN9oM76tlBCJKoSIb+HMEHQh8AcZ6QWn3gNfJqxwTrMrVItsNgMsSEOTxFo3IlQUojVMS+x/2HbdNiQp+H+898kp+c+PTyzhu55WyHyH4HAnPk/uk+NFIgNM0x+aI9EnhZrKy7f/JFloRBgdikhR6xlKNMq/vfOhPrOaf2Kgidoh9qekjyuD3x66KvmvLuJ7d/Vypl5YlwjHv/n9B25182Ugmu8cHnOaUw7rlui7h/ARL2DV98aQPLZvi+zd2ISwxIgQWE4UKPijz08W/jK3sN5IXV1Stm/fPkGvv9e2syNgGpDZsbErhoAhcB8iQA0AXBgxyHIwhkEAZq5CXBcAselLGGBou81he2LgrrCOfL7yPDDQKhtQYeFacuWlV1pqbTyn7BMQcG+Y8sh0JGhKxuUbYZwG8xg4IMNsROBMH4ZDLAUTXdEZDzEnS2sZAbaM8ovGhqZ49HcqZQYk2/8tWgfMgxC4IYI+wvlAoV9go4DvEwLYQiAZhs/DXWgU4NswW0K+SZgtbd+xXdo7OpTp94LAbI8s5/lgWdznT02aUMitm7fgmzCOxfvawNhHNIJUAX5iFJq4SF97+wbpAM21kaC5AW03sZYIBZEkQn1TiFKNTlnbwAhTXNSvoQFrFi3Tx0sNSJQaEGDCkB5qVor2ECumZEd7vRx5+IDs3bwBppy8xyXew0QhZHh4WM6cOSPd3d1CQcpfc3fa37kQMAFkLnTsmiFgCNyXCFDVzwhOjN6iQWjHemUEYWvpnq1RnyZq5ZjYicNF7AQH/kU8Vr6V9tDeqGoqA72QcdWJT24QXEzZPm/lseZ4nJeUEeN2WgE+D68pmXZ5xQ/JPFH4IMMQFEKCBbu3SkYrL/10qsXaDvEQBFFEFOP8Nk1JqEGhaZultYwA33G5DWNHfZvw3dVDwIhizQu2YfoI+Zak2g98lvQUKSFcdQnuIOnREcnNoOrzLYeavJZNmxBd6og8+uijUz8Y3MT2uiKJeQe4cL9Pppj+KHQm//DD41h1vU+eeOJx9f+irwLJoUP3Z/B5eeGpA/LQQw9NaE5WhM4FZEpBo7ERa5OkcvKbf/1XaBPqZCvC7haoYWD4YmiL89Bcfffdd/LM0Ydk566dKmQtIOt5bnG9CYVSJnh7oGdgUA4nlMYhhEQRRXAQGNInZKIvRJuhKRvDLVNzw8UQqQ0JQatEx3zuW5ofARNA5sfI7jAEDIH7BAHHeJJYmBdgtHAu2ozAQtfTFAYXuhtizktHEphZaDx52hfTQnwxyc00LuaJqfdi4IMvCpObtYQ9MQY1OonTcbG+HqsU8xg/Ll5WwABMBkOZDDIQYCQicAythLXhM8RGfTyUAOVJuKdCB4oss+iOl6Kwo3DhupbHZ0FLFIxOBIMtz5FujWSDc3lGvKHzLfc5KONe7nOrQhvrxWdYUCXJTVGrADEhgATy8cwkqed+NAJnYIQYLkD40H9oC8pKANPWphaljSste7wV40B+tnv/IuCYf7Z0tjmylm6LpTFg4w9HY2wpgLCl0FRTWzhuY/iKBkgnRSzOlwzRbI9tF98FZuLJcCYSCQ2xSkY5Cif1CFb/PvVv/1N/y4UWaWdbZIQ53WprBhH4j109x0kMflusAc2r6OxMTczf/ve/RZjbgnTkeqSYviP1w1d1wb6v/vyVMvKsB3ufj/7Pt/gtF8ULz4cY1tfXqyA0ODgoe/fslb/6L38l7QhbuyEHemMNEu9Py3fffifXrl9z/QgrjfSHCyfvKUi/WXf5nmtzneB7J5g00XM6c3VH5wihY0YEPQaFUSe4so+DMz6EDWo9uL7Lr3/1KzjENzonc7Yj9Ck59C9M1o8oDHP+MQFkTnjsoiFgCNw/CHAYdkOKjtAgnAyoEz4QzUSv+to4QaS9uUOOIo78Q4ce8hcWtiUfQI6k4kSmYlIDwmzyeTiIItoLzQx++9vfqikCw3ZyzQ3O2UfL6380YsB76ZdvyLZtW3Ul58WSQOGDw64KIDNUgWXxtGfXuO9vc8O1c4jXfVyg2QEdRz/59BO5ePGi5GHSogITBvV6hOdETWGa0i5HEDJzH6LWBFNlGDrqnXjhcvP08Yjv3P3cNe6zNrTuRxAkSKX4Q0ZibFz+5R//We7cuaP+PF5Yck/Z37WCwESPoIJruW3gu3I9AGvJcxSky3/ZXPCR0IyPbaeAhTfpf6ACKicIEDXrqScPyQsvvCDbEG6V7V+b2AoBpm1bhSTs6X+39UI9TaooQH/55Zfyu//4nRSGk5LE+hq83hzJSX9mWG58e1Z6rl2Xv/31z2QDzK64Zs9qJk6ycH2U4x9+KMc/Og7/mxFpxHKpLTH4bGGxSC5UePHMV9IIDcN//fkPpW1Dm76f2WiuTABxPQN7wiI6BtcyJktwV3kWPSHwJ82MNnjy5Al59733VOuRhcAXx89SZQiYAFIZbvaUIWAIrCICbnYJjOiEEIABlUwDaHJDK5lUJm5xBrNSDMcJZxD8MKQgJu2G9o3y5g9flddff01DUertC/5DBmXBN89w470CCO2fh4dH5O/+7u9k147N0nvnOsJVZpVu0p4Hk9EEW+7/91e/lKNHj4Dm5kXPsgVRIVEURqYnoqjMFm52fMrUm5iHCjFgcLh/HYzNzVvd0tLaKB2dreqQGcGsLS6D0cnJ5s1d8uaP3pRjLxyDmQXCbpaT5rpoELV0UOi3LjNP4eRZd4bHvFfbC2eSsTAaNU19fXfl7f/4DwhxMPMAU9HXt/RoOr5etq0dBNgK2J5du6DXFcVq9gO4gv8F9AVcq4LnyXCG0TbcJZ4BU4pr8TgiL6GNQO0HzV5IDkOQfvW1V2Xf3n1qKqSCPO5b7qSfBv7wHzUWTPwu1XTTNWypxzodnLD44vMv5Kuvv5OHHv6+rskRxqKKbPNpLFb6zYVL8sADB+Qv/+tfy969eyf6jMqE/+WpJScoTmCl8AH0d/sPPKj1K0GTVICQOJ7OyjdnzskWCHcvvfyqRpXiyuf6EmcqHu+R+OgaK3zhi0zEiSGLVaArP0tZ1bWacvvBcRq+NCdOnpTua9d0vRRqcCKgmU7+bjzyD/ONgdwVaBOLrFrN324CSM2/IiPQEDAEgghw7OWgz6GBVv7uP+fteWbmFBwL6KS+BUzx66+DKX7xmDRgIMllJiOczJzD1LNalnIIU88v/IiDnquFf4ar+1LzMTI8JA8+eFA+P3VKshhYOTfHf60QOH71/7wlP3juWY24UsAK5ItOIJz4zZVU+CjfENznKf+s3964cQN25h/AdjsN049tcrefjLyjN4+FEblS8UsvvyTPgeYE/DDSGdiglxPhWzwT5EsGu8iXqrPaPkdsy4yln9vkFb2PO8A7BmaBC5n9wz/8g2RgB3/o0CHRlYqX9C6ZuaVaREC/U7QJ+vqwaVDUcL0Hr7ClUhzhWTD25XbrvkqcwUUyoVmsf0H/gwScornq9o9/8mPZsX2HRpHiDDi/Y/qBrFTydGj+aPMFnCDF1JYOj4zK5198IZ988ols3roNZmFt6gydSmdU0O7p7ZON8E/58U9+qgx9GmZanjFe/Le3fDUkvadPn5b9+/fr99iLCQBOdqRA38DQsLR3bpQXjh2TrYgqlYPwl6VPRbATL5NCHNxpv8UFnPC9xLwUazNAC6DZlAI9OY4QZf6YstmMnD3HFc4/03U++Bj7EQo9E5pTEjIDjZqB/ZkRARNAZoTFThoChkCtIsAhgQ6BmM5Wh/J8mUknu6DjCcUTchsTye/jSazGuwFRX1566RV57bXXdAaTDo7hwGJWE4/Ns7OUAZzKGDLPzIM+HnQK/T//+580Ys1TTzyl5yNYsKsE51fOsNXV1cvf/M3fQDB5EDbniO+URf21tr5u8xC7hMtkWJRp4fjKQZkMEM4x9v2HH36EGdgMHFkPycjICDRLoAo0M+LOli1bIOS9DuHjOY1aw+fCXJ29PEgrfhz0F5X49hW68rt2x1OzmJon7eI5gxrBr79/EBqmvwfNKXn2maMq7Hnzmql52NHaQGBqW6Dw4dhT9hVkPKnY4Bl3Xv2w2M4hVJAhZlvl7Hqyvg6O3E/KT3/+c9m9axeedfly1pz+TwXcM72k5cZPWzpppSYPM+/pbBqL330pHx4/Llvxre3Zu1cG+vtxDatyoz/5+ptvVHPzy7fekq7Nm/W7RYUm6cT+UpP/lplPcH96vrxGuulr9+EHH4CZxwrne/ZAaNoqg5h4Yejd8XRKPoNWJIHV1F955RXZvGUz3pBmzMynZ6nHxNzhjr/+BSywTwnm6IRTFAPsSKvqdnEDBRBqmM5gMccvvvgc2tzN2q+x77O0dARMAFk6hpaDIWAIVBMBHWs4E4iZqbIQgijyGDRceEnPHJAkTpDrQMMBEGLLxs7N8uMf/VhefuklOJImJYeVf5k4oC8qBca7RT1XvpkDHX06SF1v75D80z/9s/Tf7ZdnoSlobGySsbExXHHMD4WPn//8F/ChOCpNTU1qe+wdaispu9Jn1NGcUV7ALNy4cVPeffd90DmOWcx96jQ/hJlL8gActDdt2gzh44dy7NgLKjxxBpkXJ/gI3SAAFJkAAEAASURBVAEzNEVQrJSy6c8FWQv4qECA48Jsw8D3H4FzDrbnTz35hDKe/kkyHSoQ+RO2XVMIsF2iWUKooC8H1wHiMfsLTD5gNmCixbBd4peDQBFRnytElML6Doefflp+BuFj1+5d6g/C7DSxTfv9Km3pm8L+gcLHxx99hMXvtsMkaK+Wztl4TgScPXtWbsO36Re/+IUujpeDf9lKJH43Prn9yWN/nlt+WzR1fP/99+TUyVOqeWxubsa3iGhkDASCa4zY1QT/tjfegH/b9m2KfzCPldr3FAe7ItLDcYQryX8OwePUqZNY42ObbIfJpoXZXb43YQLI8mFpORkChkAVEGC0GgRJhP12XDJhLBCGkSPkpt5ROtlfcAXKcZA5wPCC+8MQMDZ3dclrmJF/9dXXYHblwicyWhPteLldVMKAusCJtlmzpR300NCg/PO//IuMw774aczIN0D4SMEcLBaH9gOkt3d2yl/+5V/Cf8Ix8pxpDUO7QG/qwNg/axnLeYGaGs5Udl+/DuHjXQ3zuf+BA9ICRoJaKM5WRmAWsgMhMt98803VfNTDiZRAJaJYgR6DepBhcfiVX1QFhC70SZbZj1lWCh+DmCE+fPhpCJ9xMDiYvdb3uNCcKiDSHqkZBNgzFMJxLDlXp22VDGYMjs+JUgpXnI8FmVEy+DH0BxSac7mi7NmyRxnP27dvYbKg5576+Nnzey6s0AlqZHp6ejSq1e5du2THzp0qVLM/IP1cR6Mf7fwIhKa+3l65g/U+2G+sRKL2yKfgt+3PBbfXYa75DbQyB2B2xb6YTuhMCQgg3VexhgYCVjyPfq4PZmN3YZK11P41WPZi92lSx77h+vVrcrX7qvqK7YA5GPs/7ccWm6HdPyMCJoDMCIudNAQMgZpFAAsJFsIJyUUapRBvASMJSjPQCdC+GYyECiAcF8FXegGEJjicCb985Yr83d//HWa/ycS7GqoDYwUD9NJmzEOSiCcQYvI6bLmj8iTMOxrgoE2mJwYmnnnXwTeFjo5c4Op//q//pcw7Zzhpcx5DJB6Xqsc8EyeWf/fuXaXrgQcegCN8C0xQwNx4RgS40yzl6tUrYNZ69X4+xzoycfD2yeG3EvTjrYMe/6Nz/+1btyWO0Kk0B2MIVZplzccweTpte/8iUO4GUAH2CvDnoMiBPiOWrEc7xVksTgrHJKhGyppQbcf+qZJGmtuypUtugnlmOFhqRZgopJR31ASLx9VimGkSNDo6KgcPHoQ50GaEvXa+YD6qHiNHNcA5/dKlSxBSLqGto89gZVcgBb+h4P70ohjh78qVq+oLRtNMhx8d6jGZhG8xgQkXRsq7cvmyXAbd7DOqBqgSy3ceSDgkxtQ0sZ/bvXs3+i4KpFjEFLStRK8VKH3d7PpRbN1U2CpqCBgC9zcCjMyeKSEyTaxVpGWHJOqiEhlkKEqsdq6MgBsedEAmI4rqbt+xQ/0RtsCGlzNvZOLdlcqwmBQ+KtWE0LyqJFeuXpVHHnlETasYTlP9UcAsjI2NIsTnNph9/EyZB8+4+3J1uFSbgeoNhdQi0fHy/PnzsgnO5VxFWddPUabNRaLhYL1r1y7pwgwnhRVlJOaAeC6mZY7H5r3k8+WWi6/dxIrQXPGZ/h6ky19XZgKco8d13ozthvsKAX4nYWdvhb2QZKg1TXZIvHWDCiCF/gxWRXeBE1gxJ0SodwhMbQry4MEH5IfQ5jF0rfp5sK2Q/cR/tiH9Dplz9T5DRJm7hVCwJ8sR5YL9j9P+dnRskB/+8IfoU5q1XVezbXs8iGUwDWCtj3/FAoMMIQ7YQBcFOILGbVEFqR+++UNd5ZymntVNnmq/hSYX/QT75hMn4JOCCQsmvm9Otjjaq0vhWi3NBJC1+matXobAGkUARkjw/QAjEcJifZFmmCRFJQnTCp5noE2XylsyCWDoOYjQVIhRmXRA0fHP37sIoPCIZzsYAYXx9ytLziysDWF14wiZOT2EJO2M6YzJ69TekGaWS2ZCGSAtlAN19QZrajFIC9f6UNbBcWsTiJMkLsy2cWOn2p3rgF2+R8md9scxcBW8g2n5zHjIbEEkhTqu85FEBCMNs0nuB2k+2vQm+7MGEOBX47QfrEw+hOVIww3wv2pEMAcw7OhHHHvpq+q+L8+0M5gCzfXYfiiAuO/UfXPB9ltNAYR9ARnkclMG4b4P4BaLK8K0kIx+c1Oj+iv4uvgarsaWkwARhDB2NJPO8gdaJobhjakR5gruxHjRvQL7+cU/NQEFRbcJGHGW+KqZJsaOSZrd7R7tiYdtp2IETACpGDp70BAwBFYDAQ4WXFaQQkgRPiBxmFMhxpGOH9MHBw5kZBRo00vmmAMzZ73z9BkJjjgLrYgfO8v5kjGpLMEeHT4gVOlnYULhmQQ3u+bMJcgwcyBkFKwEflOdH0nI9NpWRsmCn0JxpIc/FYT8TKUboTUbRy8YJNDutCNz5I78VsYJHWV6aLD1DBtpY2J78EnrMYeQ5O+z7f2NAEUQMr3sOwroLwow4+Rq14x35JjhqfXz3+PUs7V9pK1a2zb6O7R1+rUx5Ph8Wsiq1Gryk5u7ONynwhzqsRSBYu5C7r06iV352hz0Vpeye2ldS2dMAFlLb9PqYgisAwTIRFDbgTg1mNFESFpGwsI+GQk3bjhmwzEW/hzsv2F6xahNFEQYgSrIiC4WNs+g+O1inydtcdg9g5MvMwig2Q965enUAJ8MIcU5bE6WxzryV70Uh/aDDvuzJTI6QUdzClOOwZv5CQof/u3MfMfSz3I+25cRdJhlzpNYLr0cy+F+QMC1hiJD7LL/QPtjm9AvyX97rMYcnxU/zemXg4+uNgqkZSn92urTj/dRZeFjss7T3+zkFdtbGQRMAFkZXC1XQ8AQWEEEymyDzvC5eU0yBo4V8AwBGU/9x4hR+BeD0JGAuZNyELiJDKj/VUoqB/vKGFmEpcw7O+gSF8EqszVkkdz+5NZpRVgDMheeUj3yB1XZOopmH6SDOHjqw4j9vxopSMtE+SDlfmbOJuphO5UjoMK9b52TLXp6q55+HPza9EtUJhlkTGwrJ2mxT7INB398nu1dz0HzSM2ptn+c89d0p9b/lL9PTnLM+P1Wkf6QthPvpwIcfYMoY19FUtZ0USsTGmFNQ2aVMwQMgdVEwLO0XvBwtLiz7i9HC+xh49h2HOoAwoEbXR738VvtQY7CBrUAU+jQgY/kK8FlwssE48jSAhEwyBYI1Hq8DY1Dv6/yN+Y7lDIU5bP3ADPxSeKK35/26D3PVPWEMsegDVum2epRVZoWUZhSjT9euFrEoyt2qzcR1YmhskC3YoWtw4xNAFmHL92qbAisFwQ8c+8H5eWut8+/4nxXeFDTetcUl1QxUkt/EBwZ31fwt/RMLYf7AwGy435G+/6guDIqK/vYZ+ofg+eW3M9VVpkFPzUx0bTgJyq/0fWpleG8kFKZf63jvZB6LOQeM8FaCEp2jyFgCNzXCLBTD/6Wo4NfjoFiheUPRADDYOadxZf5DS5H/RdEEgWHafO5LNuSIXA/IOD7mlpus/5bDtLo9z391cCaX7X7svF3EZ94UACZTi/r4a5P70Vmr9GMRWs+7hmPzew5LO3K9DosLbfafdoEkNp9N0aZIWAIVIDA9MFouTpz5qODWZn51XzBHGtoTtAZHJSC+xVUYVkeIQ10stVVkDl4lumexssvS1krkQnfIzHmvwnaV6Igy9MQWEEE2Ha1Hc8w27Dc7bqS/PQZ9GMMzMGw1dqvAQ+fF9fNUb+Mcsfhz68MZGT9KXzorMO8RUzQgtuZPO3uqPyXWXmbuSkX5jqYUQRRmahc1FwPL+gaaddIhwhvzuAdxD6dTk/gvqBM7vObTAC5z1+gkW8IGALzIzDzcDL/c9Pv4KChg56Oj4y5z1CXtacyJ40c0LiOAVeAVyaCtPI8BruV0opMx2tRxxzZyy+K9DL8MBdmnI75ovK0mw2BGkCAbdiHwyXTWUtJmXZ8d9ovUNwPCEqklWv/MAXPc591Wu00nSalixMX5XroZBTI9NvVpjdYPtsDw7CTZgoe3337nfT19U0GEQjevEb3TQBZoy/WqmUIGAJu0NRBagljJQdaahLcyurlPDkbiP+5fG5icKuFAZnvXOmF6VU44sLmcmEyMhJc/Z3aGg58OiNIhn8JibgqtkvIwz+qDAL4Mgp0/MWiYHrwzki3L4dMBf8vZyJWtfLelrNeltfqIcD2GmxT/pgLeTLp94d7mIL36YlV+hP8jkkThRGun8Pvj4ut8pynm/vB+1eJ5IliSY+uewJamUgbaWV/xz6D9PMcj1cjTWDF7ivw3mMIw86JltHREfniizPy5ZdfTmC9GnSuRpkmgKwG6lamIWAIVA0BJ3tULoHogAZqi4WcDA8P6ywVBY+ujV2yYUObmjhxAOSgt5pJGQMdchHiF34fly5dkuvXryvNnGFraGiQLZs3y959+6SlpcUxFCvkH7IYHEg3E2cDb968qSutDwwMSA6MQ119vWzdulX279+PlexbdNHGxeQ95V4U48vy56cf+/O2NQSWgoCfcde+A/3CyMiIDA0OqVDd1tomjVilvNbaHoX+vrt9+g12d3eDMR4Fw1xEv9EoBw4cQF+3QTo6OpSJriXaiXH31aty+coV6enpUaae/dv27dtl9+7duu5TVftm9Gf3jDYqeEybPcFhNpuRs2fPyfnz52VwcNAJShCkiK8XVpbSDmv9WRNAav0NGX2GgCGwNATuGQ3mz45DiM6441bOApKBv4pB7p133pEbN27oAPHiiy/Kq6++qiuUV3WAm4181DOZSOpA9vvf/14+//xzLLw4powE6eOg1traKo8//rgce+GYdHR2oJYVgDNb+RWcV80M8CWDdubMF/L++x/ItWvXnDkIBm0KdqT50UcflZdeekkZoAqKmfMR4rJeBvw5gbCLy4YA+44IFkgdT4/Ln/98Xk6cOIHJgBvQKsTl2LFjcuTI0Ymy2PZWO7F/GBgckH//93+Xc+fO6Uz8+Pj4BEPc2Ngo3/ve9+RXv/qVcH+1E5lzapTYv3366Sfy0Ucfq/DhfSjYb1AIOXr0qDz//PMqPFWtj1ZhA7Im+jWfKHrQF480FKFdCsO8lALHqVOnIICc1f6PdaqFtuBprsbWBJBqoGxlGAKGwH2FABkIMsccEPp6e+X4Rx/Jn/70J7lz547OsFGbwMFvtRl4Dyrp5L8CVPpDQ0M6o0ZBqa4uqUw8Vf281ou6fIS6cCbz6aeflvq6ep/F4rcYMIOzdMH9hWTG+2nqQdMIapbOnDkrt27dkn379kpX12adif36669Bc4+aJ2zbtm3ZBZD1NuAv5L3YPcuAADjOq91X5eTJkzoRQM0ev0EyxalUWr8bFTtqQPjwtU2Drm+++Ub6796F+aZbDJBaSX6jY9CG8Bs9ePCgPPvss/6RVd2SmWcfd+rUaenv75ddu3dJ+4Z2uX37tlCDw77k9OnTsn3HdmlqatJ+sFoEU+CgoEH8aPbKfiZSHk9woMIHaafZFftrCkzah5fbw2L70mrVa7nLMQFkuRG1/AwBQ2DNIJBJZ+T8n/8sH3zwgdZpy5YtOrDVXAXBzVBo4ixbfV2dMgrfe/BBDMq71Yn04sWLcvz4cemBAMUBj4NzOpVakgDCQXapiQNtEc7y9LGhqdWePXvk4Ycf1llWmo/RAZYzhGR+SLslQ6DWESAzyckJCh/85jhTT4GfM95kMkv4RtnuS9hXIaQGKsTJlji0MxQwDh06pN8hg0DQjPM///M/VSNCk6zr0E7y3uVOgAOYTPpIsDebM/FemI+Slr179+pkCs3E6mGyeeHiBfnD7/8gnLygYHL71m05sO+ANDQ2zJnlcl/0NWAgDdLJYCCJeAICXV6++uoroZkpf0xsE14AWS/CB+ttAghRsGQIGAKGwHQEyCTgXxSRpDi4PQLGuB8Dxm9/+1vMWC3/IDy9+EqOOXg1Y5b1tddeU40ImR8y8du3bVcTMpo60UyBs4d+gKyknOV4RgdcUEk62tvbYRb2gs681kGAIs28TjtuzhKyXlnMJi4tgeFDnsHkB/3gOds3BJaCgDezoZb08ccfkx07duq3Rw0q23ERv1X/+AIV9N9Ec3Oz/OynP8O3B7YQ3wmd0Hfs2KFCyJdfnlMmOp3JrKAmwfW3/ELn7ZvKEy6b4dPW2dGJiHkx9Rdjv0HNA/1VvMaBmPNfVRPfMTCkMJoBZp988olcgY8Kzdq+/fY7NRdj30zMtb1gEoaasfWWTABZb2/c6msIGAILRCCkoWAPHXoYZkH7dZ+zmhzQCpjVqqVEmpg8M+HttFXQwLUkTLE8s81B0Ue4WfU6kJEAfREMxi3w9dA64A/p5uwgTcYYxYb1IVNhyRC4HxBIQoh++vBh1UjS9IrteKroWzu14PenfQMorG+o132aXflIWJxsyeWwFgj6DTLNPL9aaYJWMPfcp5YmmXRmpqSPWN+BIzo1H+wRaXpFH7IE7qtmYtl836SJ+HV1dUG79AD6tZI89NBDSqfXJLEed2H29ru3f6faGpptMfm66sEa/WMCyBp9sVYtQ8AQWBoCHAA4ipD55UCWgskSz/nf0nJf5qf9iOez9cfYclaQNtE0AeHgxgGbzDwH71pJxJRmVjQVuwMb7nQmrRG8Lly4qGYVD8KcjKZZlgyB+wEBMp7URDLR5LHWk/Z1IJJrGlH/QO0BuxAGhKDzPPsQaoKpkSSTv9xpok9FodTN+omU6eX48/5+Hg+hX/v2u29lcGAQ/UZGLly4oHTTHIuO8zTRYl/H+lQzeRrjMLvauXOnPPjg97T/5XkKH74uNDU9f/5L2bN7D7Q3RaXdCyfVpHc1yjIBZDVQtzINAUNghRDgAMrf0pOq7cujls/RDypLz335c/ADmuYMgskEceCl4PHZZ5+p3weZBzLyDzzwgDL2y09F5TmSUaOZyhdffKFCHoUl1oHO56SXM5mWDAFDYPkRYL/G/kMdpssLq2ZzWfnwww81CAcjOpGBpn8ItZO8l88sZ2Ju7HPn84zxfTC1MaSjF4v3ffzxx5i8uKTCEU2eeI3+ZPsQcpwTSPSNqwZT7/tgHS+IJ0yrqDFiP+wnfHjMfo04UvNx/PiHappFQYmO6b5+Pq/lxLjW8qpNQ+ZaQ8noMQQMgfsAAS8mcOv2l8/21+ftYShrQqo+r+bLn3k7ffDmYEyzsTNnzuggRyf6Z555Rk0CqjEgz0xl4Cy4Ds/IcJaVmpnNWzYrfS1l+2jG9mcd6Ljp0/R6+vO2NQRqBQEykPpDX6RMZZkwnJ5ItcZk6ncF+sgcM4IUJwPos9LZ2alhsBnFq1Zo5mQKfzQnbWvbIJs2bVJnf/reEG9qbzjxQt+LqpmNUSjDC2YUMQockYib4yc9xJQ/7pNuChvvvfce+uUUfAw5IVSn53mtJvrmiVa6cjumAVk5bC1nQ8AQWG0EApN07NjpT+DtgXUgJQM8gxDBCCucDYxiAAlhVXEdQAK2zxxneI6J+XDAoPp8pryqAgGYBs88+OgwrC8XuPrjH/+oIW3J3D+HEJrUJnDQ5mC4agnQEV+ACPwwDwb6W1ta5fkfPC9PPPGE0taHmU06b7IO3333HWiOy6aNm6RzY6fivV4G6VV7R1ZwxQj4tql9A3wAuPX9BTOlEOLPcVsLiXTwx37j1OlTuibI3b67sqF9g653xEAc7DNYt2BdVoN20qnMPPppRhhj0A3fv9Pc1Dt9/xkRDGk+qxMbcFhf0cS+DO86UsaQkz8+bLt3NifdFEwofLz//vsYjzIa4KQZNI5gRXQfIY33rTbGK4pVOXMTQKqBspVhCBgCVUdgujDADt0JCQFSyoz7PZ09zofxzz/DQTe4sBRz4DX+JgYL8hFOJgkUUJ1d0kAmnvRQk0B6ybhzQcKrV69otJXnnntOHvn+96Wh3s0Q8t5VS6A1Eo5o8ZydpPBEs4k2rCyvCySiPoxwQ4Hx8uXLakff3X1NLl2+JBs3bVTMtc6owvT3vGp1soINASCgfQI/Rvz3gggZy8mE1o7vk2Y4bPu8xhnz1U6kO5VOqebg7bffVr+x5pZmef311+XI00fUd4xr9vB7W9W+owyUxzYZSarGlP0B+3dqa0bBzNP0lM7/1IBwy/5kJRN7U524Kr9r+rPduHFdnnzyKV3/RRd2hMBEB/mP//ixRsfavXuXrtS+ij3xSkIyb94mgMwLkd1gCBgC6w0Bz9BzfQqOJ3lEgWGiXwIHX54nw8yfMhE4t6oahcAL4kwgV22nep8Li3HGjasBP/+DH8hGaBDIQCgjEVpdRiLIxBDvSMwtfqb7ZYassalRGR/6h9CemoEAVBjE/UysiyVDoNYQoHavmKdgAUEDgrZf2I90sv1Ss+rb//SJjdWqC/u4a9e65d/+7d9V6Oes/CuvvipvvPGG1CXr4EdRkChC9HJmf7UT+wjXD08KRDwXQzjelmgLJlxadCKGdJJeH1lqpekmDSyPGg46w3MyiE7mFDqYSAej+5H2gw8elKbGppoZN1Yam5nyNwFkJlTsnCFgCKx7BChkcEAZHXOzaVw/g5GaVPUPdDjDxtk13rOqUaUcL67vi7SQrnfeeUfOnTunDDudMRm9ZgQLiXEtDdLP+7j2RjKRXN33XJYfOEN5C6tFN8Hvo4N0geG5239Xrly6LONY1I1CXh1WbacPCwd1akb8DOjqVsBKNwSmIsBvi+2VfQVnvcfGRgORsEpgQPtVk+d8F9o0GIQXRqbmVL0jaiAp5L/zzru6gB+1M5sQOnbb9m3S29MreSyel4NTOgWRDmgY+A2uViK+xIvahu6b3Up3W2sbtAzNKujRdPPy5UvCNY+Y2tra1AxrxehVWor6ztkvUeCgc/lhhGHeunULTMNc2GLS7dsCzcI6YTqWyWR1EqtWJq9WDKNZMjYBZBZg7LQhYAisbwTofJnDbBa1CO+++64yvRzUOJBwJosOmnR0pGPmj370I120a7UQ44BMuqiR6evrVZ8JCkxkcjgYUhtChp1CFXl+bOSXv/wLDf24WjSTENVmgPm5jdC7b8NcjLOHtOlmqGBizZnEMTBxHLAZUpMLozGpBqdc51Wj3wo2BGZAwPcPZ8+elVOnTumq6AwVS+Y0nwvh3GldjG7r1q1y7NgLiNa0d0IbMkN2VTlFTeJ4alz7OjLDFEA4a//7t3+v+zxmn8ftW2+9Jbt27dL+pirEBQtBn0FaiXEJGtyr3Vfls08/0zvoZ8E0ODSIyYxbMMMa1b6ZIbw3bdyo15b7j/a7NKdDv0t8OB6w/Ccef1zXjuL6S0wUSJk4OXT1arcKcFwThFiv54kUE0C0WdgfQ8AQMATuRSCPgYOM8E3MznOAYeJK3Rw4OGNIkyCeJ7MfnMXkAFm1VNYi0PSK8fvDMPlgDHwKH0ycheVveiLtq5LKTATL1rCfwKoVQhxnMD///Av1WWHsfD9o06b7+99/ROjDQkGEKx2rib2uWbAqNbBCDYFZEfDfPvuHmxCgU+gbwghk4b/HMTDGI9CO8DibzemkQNBDZNaMV/ACaaZwwQhSvp+jwMQJALL87FP8JAcZe9/X+bquIGlTs0a3Sm0NE8vuaO9QBp5BKmiiiTmJCaaei/8xoMWTTzw5sSbL1MyWfkRavABBzQvf6cMPHZJ9+/frOEFMVciA7wz7Op1wAd3EjyZtTB7LpVNz/+VgAsj9986MYkPAEKgSAvSfOHjwoDOT4MxbefBj8W6mMKzmQhzscNmlJcgePn+/Lee4oA0HZK5YvGXzFvn5z3+uwtFsD/JezsDqbGKgTrPdX8n5WZkTMhEUHso4cQDuxAzlq6++prOGt2/fgvDBwTqEGP5Naj62Cwt5tSGKF/OcGLCXgHMl9bFnDIGFIMD2Scbz0UcfVcdnCtIzfQsUptlvcI2K5UoT38YCM2Q/4zUKNFX69a9/rdGkJh9np+a+OfZ3rAfX5dH+yV2avLWCvZlwmS+bIM27du1S7fOlS5fUt4JCE0jEmkFtSueO7TvUPJaM/2KxmYkO38UzL2qI/nTiT7rOCKNtMeIVJ364Lskgwv8Sr0QyIbFoTPZDICG+lqYiYALIVDzsyBAwBAwBRYCDIxmJjZiB5yy8TzT/4TUO3PzPmS3ex/2lJj8g++1i8uMzXiii2QHNsebKh4OoDsrLQPd0Oucql/cytPFEQvkU9GheRYaM2hrP7MRjcalDfHzWRc+VGaaJZ5e4Mx+dS8zeHl+HCPCbYn9AAX8rfJY0kSsOJGXgcYrtT7/BwLWl7y7igyYN+MdEs0dOttBB3qfgBIV+K7jVf5v+nqVsXcmLy4H9re+7qHHgAn7btm6TDELaFtTfoiRxnGd96KuyXBj7Mv2WOHhtEf3s+L59mbyH/h5cf4maZgof7RvaJypq/Y6DYrKlTUBjO4aAIWAIGAIcRJg0ZGY5/KQel5kJP3DrbL5e4J/KE2dK/UxdpQMUB/QS6CMDVGkei6kBB2GmKMoj7fwxMbToXOUTW8+EqSCHZxgtiAM4f9OTfxf+3unXKz92Qhjz92X4vOai399jW0NgJgTYdiZ+M91QPudFheltb45H7rnky6EJpmvH99wy64lgufwe+f0G273v4yij+PP+u5010wVcYF/Hstm3km4KFQtKZcC0zmXBiX0dTccaGhvKk0Cul9D8y321Tg5VIu2UifL9mjcLZfkMPPLII4+opsU75VMAomkVJ1HoI0gBhc/St42TLto/l8eVYH09tsFz62HfBJD18JatjoaAIVAZAuUBL8j4BgftyjKd+SkdVDGwTRk4Z7515rOkFc9HICypZgZmTCuZPJ0UQmhGEhzfNewoCp8LK2I6IbzxXuUSZqbYYzPz1crPMpIOadTFGxEydS56Ky/Fnly3COCbnNdVqdzHLBUjP+lQcRv2QkbwQw4QVXG+gTz8Lr9nN2nhCpulSH/75JY0+p4m8JD2HbPhONv5yVzn3eOEimp+cCeFJmJBwaK1tRWhzTdO+KsxI/oM0iSrp+eO7ITpqPrfUdhCndk/W5pEwE1XTR7bniFgCBgChkDVEJgcHelAzkGKAxsdPf2soDLfftCtGl0LK4i0esaHIX69SQIHa68dmSunuYSOuZ6r5BqZBmUCAg/7sMS5fK5GEQ4Qa7uGQAABsrL8sV3zR00C/RLGELa60kTz0nnTMvDQ7DfIyI+Pp9R3g75rK5LQvS6pj2H3DGwpOLCfi8Kki9qMUZhXcY0XmoCxz+OP2hGu8XHy5EldBHYDTK4Y/jyOtUmYzfS+Z0Xqe59lahqQ++yFGbmGgCFQRQQw2AZn6Ze7ZB3bfKYY5DhIcf2A838+D+bCjfSLGbj8Mz7Lldx6uhjadwDhJRmCkk6Yep4DPyrn75mPjmWn2zNJHPkDifSQLiYyDAyxTIaNPib+1uA9gUdtd50iwKak7dP3BeW2xXYyb7v17XAlsEP5+MCUQabzNZ2g+Q2SUV5smqjHAuhd6DcdpMF/cySXiRtqTS/DeZwhuGlCtdzJ0zlRt8UUEMBB+wUcM79MOqMRESmEPHzoYdWAMFsKVOy36fPx1VdfadhfrryeyaSnrAPiSfC0+eP1ujUBZL2+eau3IWAILAyBwGC0sAcWdhdNEJg4wLGIRCKOGPJD8hkiqHAQ47oXEwNVpTR4rpoFLTFR0NAEBt4zFNz2Y9aPix5+BbODg3B+14RbJ2h3Z+b+W2n9ZslVmQ6fJ7akkz9PE5kFrtNAumki4Zk2Xvd1myVrO73eEGC753+2Daw9weTb0Xyz6wtifpn3vHZak6Dj9imJs++3bt1SAYRBHKgJmZ48vdPPV+vY0cy/TsNLzeO3336rml4uLkoBitoX1YxobzgfstWgfLKf43tMw5m8u/uaapnorH/gwAGEBC86jQg01uxLGA64q2sTgg9sVQ0Po/ktRBNcjdrUYhkmgNTiWzGaDAFDYA4ElpGrnqOUlb7kw2+S4Y0hChTXDfjy3Jc6K08G2Q9cZB4qYSCWm5H29IKYCWhI8/nz5/VH8wPvpDlxw2rtlEmczgASkyEsFHbmzFmsOfL5xGrJleC7WlWzcquLANtM8MfSebyQNrOQ+3jPYhIXSGXic5yJ7+7ulgsXLmh/QWfomb7BxZaxGHoWdC/6DPZnFDBI38WLF5Vhpw8FtaYMuV2CIzrvUVxRxcWKIAt5HwuildiCDgoPpFVphlDHBQS//vprnSiitolmsrxObOn3MYofV4/funWbTmj490C6lpO2hdbhfrjPBJD74S0ZjYaAITANAQ7CMw3cbpZt2s01eVjAoEbTH/44mJ0+/bl8+eWXOiPPgdgzDbU0eBHdCGyfSVN//10IHn9WgYkLqwXprSWa/csnfTS3+uKLM4ozw2PqjKsyCGTo+JupTfkcbLseEXA9ipNoKdAuljFe7jZFGkgNhQ8ukEq/jwceeEBX/SYT3NPbu+jX5HJc9GMLfsAx405gotkV+7sjR47owqKsAxn4pablxNmH72D/4DQf3TI0PCSHDh3CekRtqq1heeynvfkbJ2i2bN2ifSPPW5ofARNA5sfI7jAEDIEaQsCxiJ5R9FtPoGMU/FEtbyMQPDjAkRG+ePGC2g+PjFDz4RxKPe0rzRz4cubbklZGt+KqyNTQXLlyRTUfZB50wC2/ilqhl0JQkCkho0CzK/5IP53+aXrlZjHnq71dX68I8DuNxvCtFrGadYCx1Ha+Ct1NDE7N1IL09vboQp0PP/ywMsacyKAPyDj6k2Did8Brq5ncehxhXVmd3xxXKOf6HXTi5vfIqFG8x90HUNGXLFbQW876sa8jZjRno0C3adMmeezRx5RmTyMnkNjlcWV73ketCNctokmcN+n0NK1CM/FF1/R2dVtlTUNjxBkChsDyI+C64om/3vYZttWcMypiy2thDLDcThUvoBUI4a5Qjne6q2qT7e5yjC+fcj/3PM0nnMMxGU3GaCfDrwnnOciRSQ0yqtViLLhCLpniU6dO6eBFppgDXz6fUfJyuMZZTg54pJ0DIre0lc4X8rrVqrra3PM3WKd7LlZwIpKPYDYwLYNwOL98+bLcvXtXo74wK30DAJxlZnOOboa2ZSSvINOmN+K+6RqS6ccVkHfPI3z/FObo40GcaT5Bh1fST9vtAsw+uOYI2wD/E/vlxuweouxEBQi4L9m1MmogvIjL8/zhL/oRxm/S7xl/2Y8U0Vfo3drH8D4X4cmdQxhV3Md+BpspiW2RP35r/CZv3LihM/RsG/z562zXE21bs5mW0ZRcF3LA/Oe/j9+d13xQ+Kivq4Mw0qv0kgkehIkhJwfo2M2+gpiQIXZ9C/oN7WPu9ROZv+TK7yDN/PHbe+SRh1X4J62ki+eIczeEJ/rA+aRvt/xN+u/Sb/09E9sybqzrYpNvTcG+lP5u169f1/6CfTD9VNgPs/8gDew3aDrW0tIiOZjP+nWQtJWBZksLQ8AEkIXhZHcZAobAkhHQIUX7eZUbdK/cWXPkJdOAMsggzNyFc3DhrFMBWyeATB1wXP6eKSG5nrGlmQIZfTLOHED8QMYtGXtu+bQmDD7VSCy3t6dHroPBYYmcDeSAzPMc9BhZ6vjx43qeDDSvaX0Uq+otNuixYPk0YeLATIaHM30chD2eOluI+nz66afS3NyszJkKfRSawOxTc0LmxzNwzNe/n+n7vsyKtny/eNDTRYGTviqMy5+CMFIHhs2Xy3vIpFFQ4r6lWkPAf9P6RvFenQDCb1wZx7Jwwf0w9tmDUPDAlIObzMBjYXY2JfYovI7Ed449/lzuepZXJhIFC7ZV+iqwzftvr4i2TO0D2zeZ0uamJjbiJbcd0kEqFtIG2ReQ8aWAwT7jNhh5MsajoJNR3WgydHXTVa3LwEA/vtO8Ms/UVCrNoJ3fajUTaWbZcTDriURSrqEP8f0JJwY4SXAJpllNjY1yEw71TOwD+R46Ozuh6WnU96EXpn2n/p3e+xb17gX98f1BcEscSTP7MNJKQZT7bA/s/6gVeenFF1UrPFE22oLPY0EFr/ObTABZ5w3Aqm8IVA+BiW4aRXLIZeI5MoxOoCizCGAe0JGDoXDzmryX1/EUbg+FGD3KD9l6et4/d/v65I9//KMOJBzkOZBwRmvbtm3OrrcNdr1Vnrni4Pr8Cy/o7DwHLdLFAZpCEiPEcGbw7bffntB8sJKkkYtbfR8r8DaDCanmYMdBmIxPR0dHmWbSE9F9OsIyAgxnOd97770Joc6ZI4QRD3+HcLaWqwejqkj+/XN/+VOQkWtta1WaSUs2mwFtMS2dphUUliigkAHyjMbyU2M5Vo4A+wY/OQDhFRnBnbmcHXsH92Mvwj5DNR+4Tk1pBEJlBBf44zVnMOMexR1SQGYUTlSGKecY3PDb8jP3wfNk/B999FHZhe+wA8zxcnyD7OlYTwpHcycQrXTjCfQFbLOcsCBTfPr0adXUNEEo2rdvn16jNoTCCRl49nf79++fCB07dznLe5V00uyKicIPMSPNnBQaHBxQUzL2a+3t7XIDPiH8JqkVYShb1qWttQ315dtf+UTa2H9wq2MCxwv01TwmTTQZo4YpnU5LGkIS2wMFU0uLR8AEkMVjZk8YAoZAxQhwgPUDCff9z3Xgbhgmi4EBFoJGuIQuCreEQrzOYRqDAs9pFnx2/kRGnwNFAUwmBxbPnHKRqMcff1wOP3UYzHyzDjDz57Z8dxTyBR1Uydh74YfhNGleQfvoEydOqIMpZ+g5+HGWfseOHXL48GEdzDnwEY+qJBSjJYEO0sJ90p3HwEuBicwEf5zp5Eyhrw/vJc5PPvmkHD16VJ1OPb3+PSjfpe3AX1n61tOqOaGZkLmjWQUZCdJ288ZNGfr0E2VuOMvN2VYySZZqCwG+Nw19Cw2GEzXYM1B8cD2H6w/wXvlu8dKdAEKBBe8Zd0X+L3vv2WTXcd179+SEnEGkGWYwR0nMQYyipGtJrrr3hV/IVb7+VC6X7Sr7sSVbj8qyKJIKpJhzFkASTCACkdNgcrr/39pnndmz58ycMCfNoBs4s1Pv7tVrd69eqVdrvHco84SurNPSPOVD6JgybUZhGkIfcSaUvkQu7mH5oC/ff//94fLLLzeFgY0H1b+kBF3KFZAfFwsUSH0k4IG2ITxDN2DaoRukgf4BczclOhbPCRmL0MRi9Q4JLBrEeTpoL9T4Dy6P7e1tYULCB3QDWN948w2Df/fuPaFNz/r7+01RkAgl52xsslAd+uHfoxCYjg8/Fsqz6L0U7j2ffwPq9XRx8KLwfNQsv9BhBDqiZZE3++34Qn7P34/H+RiIAsh8nMQ7EQMRAzXEgBFmUWjmf8i7dHhhvKVbP+0y29IuJqJdPILcjfS8TWS8tUV+y2FcjMR46JqBlSiP7fbJxBmFTk0c22Vaf0jm87vvultatw3mVpFuMhPIYqmUyaVYGdPijGB6YQjQZmJF+POf/2z3BgYGTKPJZJ3k6Qh7du0JTz31lDHyMEI28WnyK5a8/Z4ve+33SznC8AAPi9GpmUWv7yuc7Yi0gbgroDEGZurgiFbT8Hz33WGTtJswIPnkoBdAVMXMRL7w2RPKQuuKphj4cSF75dVXjJFAu0obuM/OxjE1JwboIrhYkSSPa7wiYkgAbusMY5I8Jtu0I7XoxxTjQWNJrK6oykTolN2jW4I77OAsm2jFUJLuFeh8/jh3pJvSh9ZKSXH77XeEhx9+OAz095vw4SFx1eEzb5VwqTLzSed+Vazv01cZXzDHuFWx+R1uTOtlxcUlEosHygoUAoTGxsqL0ATTTGIPjmxK15k+z+ar5BpYaR3KCrPWXBwKL7/yshQXX4pm7DCXSFwkoRfHJEhxjuUD5RA0hfuM34XoVh5zjkABWW4b5pRtXUizjCwuWDb4suCZzWE/P/C5WYHBM9YQ6xtqW1pQMTD4tpX0iUoQvIzfiQLIMv54EfSIgeWKAZgBJo5WUfBJCRxjoTeMta8O4+1rQmjHR19M+Yz8rSV4tIfRMD0xqLXng6FrEs0mb6ZmmxKQwATDomg0bTt37QwPPPCgMfKY/O1ZZrJgYllqWqgMnxx90hqT1eDE8RPhxZdetImODQjZlJB1E0zYJLSACB9YP3CnIBWC2x5k/qQnVztfCLDMe37pjBtwG6Oes8gcPHjQ9tIg6g7w4eLkbeII4/OAXMyA2RZriolAEzovpT6l48Ym7zSDNu+lRW6ofQaztzNVPkIe62rQCl9//fVyoyAUr7TnCFWCOabmxEBCKyQwGF+HBUSRoEQZRlq7w0UJH9Oda8KU6Af2kdY2Ra2aYf3AcGghoMP4cGidHFHuJLgDLYT6JN0j1TkWaToC/52ylD5w/wMmVJv22xhrvVRpP/X6oD1eRoYOeZb0kTHCD6YYdyDWfeDayBiEeacvn9BaLNZUQCseevBBWWsSywiNztPO0pqerrryc9XF+GLcvfHm69q35IDWUGzTpn3b7N6UgmogODE+ocm4a+3YsUPKp2RM8i60p5Jk7V2srXSE3HOjj5z7tU5dyMNSCp4RjlBixLR0DEQBZOk4jCVEDEQMlIUB2AR8sKWjlOVjqHVNGO7eHGb69OuWK1RHjxiNDpWoBaXSYs7I8jEzej5MXDgWJoal3ZsWI+szRBn1Er6SSQ3h45577jGNoU9s5TKfzgTkGWaHQwwE85kz/X70x+kj71LvEU1mb739trklIHzA7OASRIKZwIrwox/9yAQmX6jOfdK8+u3u/D8OB5Ox7+Y8P1fhO86wUBfaSBgBs3y8/74xDwgaTMwszCQBIzDjpoILBZpZBAq0xQiApFLhtszl/rG6qCT5DrSdH0zDiy++aJphXFIQinAF0aP89yq3qpi/thig72H5QFEBzUjGlj5sa1eYnO4MQy3rw+Q6afa7tUi5E8UFgRpwnyJClbTmk4NhbPBYaBs6GdomYGATzjIpFysrDG6O21ygKYnwcWd45PuPhF27d+VdmKrWhzWuPNG+YoncuAN9+NEH4dPPPg0bNfZ2SvgAHiLnsccGm4OSGH9Y+Yolpw/F8i3lOYw8bqWsb9u5c1fYrLVkCHL8hodHtD/P+0b77rzzzrBzB5v54USXCC60DVpZEziFUKdx3j7/tlg53v/g/XDgswN54QN4/bnnj8fKMBAFkMrwFt+KGIgYqBADMBLSOetfRxiVAHJBAsjE6l2hbe32MNXWEybFFIhV1azA9CPXGbld9bZvCD1Bms7p0TAlYaSUiToLHowEC6FhPtHWoyWsJDEJMgHZTwUUgiU9UXr+QnXBLLymhdCsnWCBKBrLZBdeXA6CuVSY7zYwj08Yw9+mhd+EEy41ZWEp9b1sPtoLbCe1oJ+4/TDvuEjAyJMQihBOEDhuvvlmY3xwnSAAADgy64mYiIKTtzIk7KUy0vAlJN7Ot1kXuKOgGYbBYeHoVVddaXilD1BXPu8S6oyv1gYDJnzAHuo7QhXMbirFxbRox1RLb5jq3h4m1lwdZtgbQ5lQktN9ZDsMrQo2MNVxTjm1f42sqS0XRwUkAodKIQ/Cil3Ph50+4f2C/oyb5mltvMlmdKSCfXh+MTW5wzg7pTGFQM1O4pdJqYJiwMaf4CbiHwoMlBm4YX0gBppdvQulerWDeli4TehdrB5EkEKg4D6ww+hPKHz33r3XWdsYr5VaPGin0RJ9Y+sMhRru91S/pYwQwrfH/eq45giULQh5KK+wSEPTSkmUTPGGY6+nlBcvoTxRALmEPnZsasRAs2CAiR8fbvy2Z6S5DF2KWS9rR8vFE6Fl9KIYBDEM+gfDMdnSGUb7NoSu3r4wMyE3LblTTE0lpvlS24NWHtM+kx0uCzCf6cm31PkB5iabnFHx+17u3DJzE51nyh1hIpiI2WEX4QNBJGEmps3H3GGGeWadiPskZ4pZ9DILH9NzJQnNsgkUWufR0dEul4/dJnwAPwmGATyjIYQZwi89LXQAh+NmXv05xKYhm4Oxucic9/q8GyrPy+Jbs7Cfuvfu3Wt4Bq45jIQyZ/G0IKzzKos3aoUBrHXynNS34/tADxKBUo5zYaS9N3T0yR2xXaLJyKkwOXQstExp/EhpMSl1xXRbn1w65crYuy609g2H6THtlSHeke+sUo03xVKS7yiZRtBH+vv3WJ/p0AZzuAjRJ7L9IttvMsWUdJktc7GXUFp8e+zbsG4twkeyRgJYGS+UQyS9LVs22zg8JJcmcLYQjPkxBoJzqRxY/J1ix8nJCa1pe8/oHAIINA6YSRxZB7dDVg8YfIQUYLDvlKMLBl0KxmL18XyhNvOsWHm8y/oZFvdv3rxJlq/dBpsrWUrCkcE7i1fqjWkuBqIAMhcf8SpiIGKg5hgQUdasOC0N5HirNtfD5apDG8JNjYS2wYOhc+hE6JKlg7UeUy1d4XzrujDa2hk6164K7V09YbxN2s7CCr0FIUfjxloE/HeZ8KZlQcjNbQu+U+sHMMBMtlg40GSitXRmnrqZqL/73e8qzCN7bdQamuLlM+kSGhg4EYxwu0pP8pzjjnWZcEx4UrMwFC+2hBw0vrKJHJhx/cA97NprrzUXD3BMHwBeR+vsWQngxCx1wwDfByEEZQQ9IFkDomUdohsjHb2hu6NLtg4Rg6HjofvMp6GnZTR0TisiW1gl1871Yahre2hZfUPo6dJu1VgJTN7gj0rGDJIZWNn+jJB9x513hHVr1pklDcaZlM5X6NoylfinJGY2VRaWW4QQLI9dnbIKS9inDHBF3966dUu477777RmWUph6Z/ZTxdT1FAvH/v2fKApesp8HcNr4E/5h6jeIntxxx+16ruAakjhZAO548WPVAAZRRcgJdWKxAe5Vq1YnAQdEM/y17PevGmyXWEFRALnEPnhsbsRA4zGgyVKUnDg2nVosOj41JF5gPAQJISNdm8P0ZHvomBqzCWhC7hbjrbKQiOGQQ3do1f02uWThYlFOgsHHJWFgYMC0bz75lVNGPm+KcWXWr4h51Xsw6ESwQWOZnmQdNuL5EyK4b1WfMUrMm41MuH6heWVSZuF2obRB7irXaXE3EXfmWBgKZV7knk3wleI2Uy4CCAtIYcScgQTfjmc/Zl6Ll82IAfUJRJEOdT+iXM1M66fziY5VYap3u6LoycQxORrGZrqkqNAmgQpo0dEiq8g0P206KrUG/0iMW4QbH1fW51JthknGmrdBe1Bs2iS6JGsJ/cf7jmf1vurXZR+hheqPpSYYdjbTzMOiF/19YDZrr5QD3ak8jRZAgIvxhysY55587EEDN2zYKFenjYrSpcAjbUQGTHBiomfp6PGiCx9d4CyCb0J2Q+eytLlwofFupRgobxavtJb4XsRAxEDEQA4DTPjoNLWNlrSVo6F9cjiMKVLNjBaStqzbE2Z6tkirp4XnyjelyQpf7TZpOltmFPZQ+VoQTmzxaOkoZaLDDYA1AEzeFD7LepReDjnTjIpPoOWVkOT2cmAkfNF5uhwiw6DBZMJGy9noZFpJ2D9NzrhjZRkx4GOh+ZQsOwgfS2J6+PhLZDrAr1k68OFR4tqYmuTS7sU/ywsDMKP0uzasIhI0Johitkqa6VWb5MbZHUYZJ+o3k9MSFNq6Q6dWr3e2SGExoWADE9oAjz6Q+/6sGUm6WOEO4UyzMcxkVDZn9NNYs3Fg1Cp9t/TzQmUWe5t+7b983lx/n9T+QrZxXq51jMU005/PX8eTPKzgP8X8Gw3UPbeWGk2mHRL2WqaFdD5N8pGqBi19KN8JCpRqMIkmc2TOQOCrJNHO9K+SMlb6O1EAWelfOLYvYqAJMcCcIi9gLRDV3h6KVDN54XBoa5VA0qeIST0desZeIGJmbSLSBDopbdTIidAxek5c7rgCanaV1SomE2NGc8eyXi6Q2SapAvfLuZXWqLL2A21rOjF5+UZXmsmMeUo/b8S5C20wNGlGIg0La1X4vuDbJvv0w1LPKSDFFyZMQ6kvJ/mADzgR5PzbUw54r8b3Kw+amHspGEi6Al8vERraRQO65Gg1OqxAEue7QmeP3LEUunpCgseMtOeYRRCS+xTCu2XoVGhVFKwwKaWGBBLtoCFQ9Fz9YE4nywFI35jTtxl79i/JMOcZJWTz58op55Ats9i71Ok/fxccGaMPzdR52oKARj81nOYVT1nVTA5Tukz22bH9gwrgy9dWAAd5wLcDbOc0qMop3eZ0HcCe/Pi2CU7LrTpDvsp9/ZLJHwWQS+ZTx4ZGDDQHBmxyFCgsQ2dzwe7pQe1S/q0cKiZkCRmR20SvhBHFrmEilbWjQ4vOO8cG9TsdOifOGSPe6mrMEpuUzF+ahDWj4GNsM7TeLTRRFi3S52odnSEv+k6BDL7DOY8KwzE76zoDXaCYut1qZTYuIzGpOxNUxmv5rGkGATwbk5B/WtqJMRIpYcnwKMEopuWGAY1dGEP6oOhCu+hGDzRg/EwYPSOLmxQX092rw6TWik3KXZOoV+3KNzV1PrRfPBLC6GDOdZMxSzythEWcHWFz8eF9z45l9vu5JdXmyhnkPN0QjLQFQYOfCIpVzJixDTa5XqQdlYyt2rSsTqWWR8rqBNSlV00UQC69bx5bHDHQYAxoskS4kIaSSFjtYhZ6py+EyZFxuUidlpay09Z8wPC2yhWLMLyt8vVu03oR1n8Qvjc3v5bVDrTh+CGb0KAJiEnXGY2yClLmpQge2bryTETmgd2vpKGZcqp1WW9mbCG8LKU9WJTyu1cvpaD4bkMx0Kr1YIqfJzoypPVi4/qmF8P4UFvo0Dol2UvNutom+tE2IxfPiSFTZsChz2hdwbTGFOtGsNPBpvNLJ/odfT3/Sz9sqvMU5E4n7Ei7kn+l0qlS85Xa/ASzpeZuQD6hrjiMKfw6iI5nv17KMQpBZa7kXAqy47sRAxEDEQPCgKZ3/RL3nBkJIbAMndOyfEyfD2tE4LXqQU/ZCR1Np/y2lV+qdB1lHBHnMCUBpfjkkaAaJsIZeRY2eohYe1pgfknein8XwkB+zswxaAvla8b78A5R+GjGL1M+TFhHiX7VKfrQpg87PaEdwNUnWddBH8XGweaFRjp0mFQwiylZVRE+TAARBeG55VmkehO6F3nebI/yQju0LdK3JX8e8JnHaa607DV4rgTV1rfUZ+do0wrUt+RGNHEB0QLSxB8nghYxsBIxgANMfn0hTIKRb8JbyvdXAkYbi871m5LQMcFic6PuEktYkK0oNzAQCyaVl9fmWdnJ6/lFmNzjt0gRC5YdH+QxkENt/rqaJ0zwrn02QbNK34q5PqblioFk4DK26Q5YMEgccamCpiiwtiweydW0hI1J9hjio+tnTneWmfeTMux9/iwxeX+ttJh5DG2ZBRk+cu8sGKwiQV/BkvP0suDT5XUTXPr3qIbwSFm2fibXj8BGuo48dhabk/KZ5p+gEGHmM9dQHZmn+OW69/wXVtidKICssA8amxMx0OwYQPhAiMCFGzcrkXgxCSwMld5SQgfnMJ5TMwrB26aNxrQokU0K2yblSqEY/9hOZlmIua21yZTJNpdsEkqtAfD78Vg+BqoxoS9Wq0/2TMrORLBgHMuVPrgtHl/s/fhspWNAnQCBIz2+RRkmRS/YthTLKX+xqCqcRRjTRoS2HoJNTadlSdWPndWTSFiiFCJA1WL06K+NSo4OmNgJRbwqlKCLRhsLPVyJ9xwpahtzSSVtN3rE3KFfOnE//71ztCr9vJxzaKqXNzI8YtHALFR4A/tTOfAvNW8UQJaKwfh+xEDEQFkYIIQu/0wAgbMUEWZTwrGW7jDWsSa02qaEk2F4UmJH98bQ1bMqdLVpCtFux21DR6QtQtdZ3oSfnzDKgnQZZmbiLQ815TUyzf2V92bR3IBtk7ExD9IMSvCEqWL/EQQR8ZW1bVtRCGOGxmEg4SiNkVRHsW4uJg2hQ6qJMNmxWmG8N+h6OoyMXgzDUlyM924MnYq8hBtn2/ApRdA7aYxosgQ9Ka9x7aluza4xoQzYAABAAElEQVQcqJjOGUKrC1MjSiPAiFZ5Gd2gfvCRt35XAJDRI4QB0b1a9Bhgg8YRHv6zzz4LZ86cSQSmGtLZCtBQs1eiAFIz1MaCIwYiBgphAI0UQggMJ77cCoqqf63a7bwnDPduDd1rNiq+/3AYHJXWu087l69WaF4pobq71ujGmCJmndE7vL14YlL2iXnxnCvnKZgEvzVJmoF9Eq4FbqfFPMA+MCmPjY0HQhMzOcMEEDwgvZFgTdoXC21yDCS9L90HJ9U3RiWAjLVrV/CNVwn+6XD+1LEw1rs5TK7bGSY0FHpYY9b2eehUuG9cPJP1Z+aUVfX2Mi5s/NVoCBYDuFIBpBy6QfQ+UwgUA6aOz2m3WYC0uSv7nrCvEt+hu1t7wXQqoqKUGUtJ3uf4rH6enlvm4T0ntFBnclp4LkLJcu7cufDJJ5+Ejz76KAwNaVPeBTZ5XQr8zfpuFECa9ctEuCIGViAG8vOyqHj+3M6054eOkx292tF4QxiZ7hIrwUbGfbap1rA21+po194f2qxwclRuWFOzb9caTT7RoF0bHRsNR789Gi4OXjRGube3N+zetUt7oHU3XNhhEnRYjx8/Hk6ePDlnEy1/DiO/ffv2sHbtWrMy1Bp/i5XvE7fBrU/KfgCnBPeXX31l8E9ICMEFgl3hBwYGQn9//2LFxWeXGAamxQxPKezuZEdfaOlcFya10/aFNu2pI2VFh1aYT4xN2B4hrV198uyU7WNKhAdrGkn9jWUh1U4w8xAvGEn6N4wxjOXJkye0u/agVbd2zdqwbfs22xTVx+xS4PBxVHEZcNXCxdEjR8PxE8cNbqcXKARoE/TvisuvCOvWr2PBTeMTn1L/YOIROo4fOx6+Pvi1MfRcQ+fWrFljNGPb1m2hrX1pQog1WN+zaJfxPDomyY9Ccf5e8oTd1vfv3x/ee+/dcPGiXIyFa1I2X5J75f2NAsjK+6axRREDTYkBJ8O4Xs3qkZK7EFyYiTFi2+CKpV2N5catHdDbw5gm7xkJIL29ytPZFybbJJzIDaveiUntqy+/DL975plw7Ngxm+B2794Vfvazvw6XXXbZHGa/3rBRnzMywPn++++HV199NQwPD9ukBn4Nx2KG0Ar+4AdPhptvvqXhAggwO2zAfejQofDKK6+YNnBwcNCYNyZlYL733ntDf39/I1Ab62xSDMheJhes1jDe2hUmZEEdZz3Iam1M2C26or2DRs4Nh/aOntDXrv1BJHhYf1NbfFWA06RqNM/HH2XBGMOq8g9LHkzmyy+/HL799luD4eqrrw5PPPGE9edpCU3kb1QCbv5Naaf4t95+K7z00kv5MQlMPj7J97c//3nYuGljw2kdeMV27jTtS9Hl119/PfzlL38J0A1bR6E2dff0hEe+/0hYv3596NX+UrVO9Ce+JD9gs/6mI8n7g13oD0Ip8L777rsSTC8kdFr3eReh9VJIUQC5FL5ybGPEQBNgwIiy4GDxp5FZMQvmWyXS3NqSbErYMXZBvtrnQ6c0mLhnhdGzYXLovCSRTu183Gl7gchOkryvv/VITCSkoeGh8P4HH4QD8tVloTSTBGF9nclHe9/IBDxMvDA8Z8+eDVhBJuSSsGnTpjm7rHcKZvZgaWRyZs1xy6x74sSJ8Oc//zm8+eabBtrOnTvDxo0bbRLHR7qrSxawmC5hDKTFBWiIyIJoRJfWeExor48p0Yre7j4ZSbUfiAJWTFw4HjpHx8Kqqb7QpeAVkBtcsNjQEBfOhFlEFKleslJVMG5KxtYLvpPq1zCZuNkgZE9qTGLRg1FW5xbjqbUssi40LOWqHpXbEmsQTohuwLgz9jo7JbgJZpQAWBTImh+zDQKY+g3PAgY8f3Pom/D888+Hj+XC1CYYBwYGTOCADuKKRRvY/6ceCfyYQIdQp1+SkrkCC0yb1iRxn2+PEuu9lPBhc6LaVi9Y64GPYnVEAaQYhuLziIGIgaphICHJRqaZyUSMcyZnRarp0EaDXaNnwsz5ztC+WtcSSsLFb8PUiCbqnjWhbVyToZgM1oG0tnTW1QsABvjTzz41jVXfqlXGQDCBTE5OGG5mJ5uqoar8goRWJmeEEH4wDdu2bQsPPvhg2LBhgx6qSOXpEXPBfYSnRiVn1BJmQsLdyLBpiWHUEKRuueWW8PDDD4c9u/fIrWbS3LHcPaFRMMd6G4kBOi+/dJoRzWAZ+qSE7gth8Nyh0Ll6nQTV7tAydDa0XjzObkKhd+xYaJ04p341acwfrCjR9hIhpFC56TpKP0/3afowfXtEdGOfrB8HDx4UQ68xKHgQtOnL1veBQ0JKbmiWXlk1c6pyWxsjeEnAhvD/6COPBGgdipUE1hB27NhhSo1qVl9uWUZrBSoC0YgsvB9++GHYt2+fKYXuuPXWcPfdd5tFGuULiphu9YcOhBAx/rSjnon6JmRZwtpBlKuLOnJ+4MABUxCdPy/lmhI4NwEvL7TUE8rG1RUFkMbhPtYcMXAJY4AINtocTO5WtkGYNENjEipmFPFofHw0DIswI5q0i7/HJWtqUpP04IWwakxrL8SQIoDUK8FMnDp1Krzx+hvmX3zbbbeZVvDIkcOa0HICVJ0ntkJtZxLDT9stMUx+CB433nijTcg++VoeubBxza8hwhNMD/XTEB1xQcCNAs0gTM6dd94ZbrjhBpuYwT9rbciNVtlS7mDn9eUpkvrj3zphYPZDJ98/qXZc1tAJ7fUxgzum9vuYmNG+QRJih3WcaZWCYmJM1pEOrRtr03qtodAlC0mnGEFbl0GvU7EtKDisP83WsaRG5foh/doXah89esTcCdHG33zzzQGGEzcs+jTjzhZzw3QyFnSsEiTlN0OwOz1gzdW6devCbbffbmsoXJjiSIKxJ28jE7CgZDkjAcPpxjVya7vnnnsC7m3gFjrHGhBPRudAcI1Bt+L5nlSlI9/+8OHD4e32t42+QeOwmqMA2rx5s2DFkt5pz8YksAJno/HrOKv1MQogtcZwLD9iIGIgg4FkBiBi/1hrb5iWdWNGoXYnNGG06tcpn+0gn+4Z7QPSovO2FsLujuvZYOie0hoRaTJHla8eiUkMLdunn34avvziC2OOv/vd75rWzaI2wTwo2eRWD4AWqcMYCLlzwPx4wgXBNK66B/PV1ycXldyCecs3m9VfqcvRYGWKpisIhRcvDtricyqH+cFnm0X0TMgwGriEAHsbGmN9E/4ZY8RCXyukLmDHShqCgdx6ihzzyAFlxYgiX3WuWmuL0KdHpsMa1oe1divyVU9oaesOrQpYoVXn+k2GDlaXjbdLqQGjT49JNizkmFCj6jSMstxiMJzz8T8sRcVA/0DYu3dv+Pjjj83FxhlMpxt+rA4U5ZdiowimOfeDST5y5IgpBoCNgBW4QLrlpvwaqvsGYx/XMGgEP9JlUlygqEBZNC66B50jOAgWENo1pb4A3eD7V/WjL9C0qZyQSd3Ai+AGDlGsXH/99QlMsi7xjAAFH3zwocGOhYTkfWSB4lfE7SiArIjPGBsRMbDcMJCwADPE6e/pDe1rN8izShuIydLRJYGkq2OVsQhsVBgkgMjsEXomO0P3+ZEwqjxSe9alwRNysTpy9Gh45513BE+wyQMNPddJ0pSWE0LqAtAilSSTqzIwv+YYCSbn3//+9+Z25a5XaAhpQ0PXVBgzCfOXuKCMj0/YJmoIG0zUH3/8kbTFF8xdATj37NkTbtTEvXXr1qR91siknYugJD5aARgw5tiEBnVs+g1Jpx0Kr9qzanWYkBVkbGY09K5SuG4tNJ6UxVS7DiqTIiGJ6WzTr2dMo2P8lGQRWQk1NkRQrBDKrmYCPJQWFPv111+rH/9FCpXOcIMYTtweCbXqTahmvUstC0uM0zGO0I2nn37a1k/A1G/dsiVcedVVYWBgwPI1mjmmfuDENRZBBGvChQvnw5tvvBHOy5qKhQHrx+49u8PVV11t61mcJi4VV8Xe5/vSu3CpIoG/2++4Pdxx+x0mbLiFmucoiIg89uprr4bLL7/cntMm/xZWwAr+EwWQFfxxY9MiBpoTAwkDAPs5LUZhRgwCk8i45Ax2P59SiF3pizRRiz3VM6msxDQo3g2heBXYf2KSyae6jEMhPDFhjYyMmNbykBY67tZ6BNwomOx8Am4S2SMPPpOfMWyCHcYdvB765pswrHZMS9uGL/RVYiQee/RRc1XoVJ6GJH2+hBHTV5YVA9hwVUAbiOY1WUA/LvyP2j00sNx7/PHHw/p16/XujE3w5I9p5WLA+rKax5FdzF3vgPpiWmvBxuRqNTYtt02RiREjIKIbuCJKaTHdog0Ila+VKFMTCCJEj5XAqx/2D/3RLxFEqonBdrl9nTp9Oryj9UxEdcMF8joJICgAoBvNYkXwNoPbZB1Ksn4Mxhi6gdV3TGHHcTNlITfCx89+9jM7igAn6GsQAURRQfQwBA1ghQ589tkB+8HUw+TDxOOCypqQu++626J3eZtrfTQ6DI7045tPae5CscICcywjpCnB/a3WEb708kvm2oti6BvRaqdpPsfUGtZGlh8FkEZiP9YdMXBJYoDJSz68LYrRP6XoNUPykx0dkQuWGGZZPqYVu39SE4iotUW5YYnmtKJgjbeKgMOkSiiZqoMAAkMM805I2+7unnC7fKIJtzuuTfIs5SZfa00TMMIwEiQYevb5uP3224x5YLLGpYKddk/LPQEtLBPzVmlk8UFuRHINH5MsE+64JmcYCRgH4N29e7dpLdEGMikjfHygCGRYQgjHa0yHGJB8qr08mq8qntQLA4gZnsTEpb5xp2jA9MhQmJyWu01bj/qQNjGVQDItetKCNr9VP4QQCRgtWisi8SR0iwmcTmKAJ8yzKTa8/OodseYx1j5V1KtVWsSNy80WWRBY50R/N8YSARz6YZxq9epeSkkoVq688gpTBKC8YBwC89ey5ODGifsYrpE/Vyje9jaxjsKzGpO0YykVV/BuK3RDOHThg8hiCEnQB5QV0DvgxpLz3nvvGT3ZoCAAtWbqna4JKWZpM9qmecQFIoQPzhE+jh8/Ed54UxYbrQu67rrrTDAFFbTJrScVoGZZvRIFkGX1uSKwEQMrAQPMutJgK+pV+xTEeTy0t0hD3yp3CoXRbOmSG47CZ2oXsdAmYjwpf+/JzlXaXKwztLZfVDz/EQkitcfDkDaG2i8m4ogWEO5QVJju7i5b8IjWDXM/oXjRah05fCT0SEBBOGlkQhBCCGFtB1o/Fsu3aVE/cglCE5q25557zvyMv9B6FibpRgkg4InJ2idsGAM0wzBBCB8//vGPLRIP/tCvvfaauYMAL4s5eYf8/i5lufDFeUwrAQNIG/wSHh19g/Hq+oPNokvMb5eIwPAY4XVl0+jUWrG+1VqIrqhCCuONdhxhY6JVobvl4tkjIaV1TGNBeo2kJP4mdIi/1UznRRs+U8S80wppC0NMPyXqETtew2zSdxGsWYzO+EMZ0FCGU7gFppa2FtGM2xWB7laDh3tsuPrOu++EX/ziFwYzgtXJEyfD9su2Q2nUtpQSoJpILFIWtBe8QjNIhN+95pprzEIKHT4tC9Szzz5re5pwDt7T9KJI8RU9zpcvuMAK61AIa8y3RXADn8CLgHFU355w48B17bXXmqAKfcuXUREEy++lKIAsv28WIY4YWNYYgE02ZkJ/CaEJm9EqTeXETJfOpQGXENLat0m7jk+GsfFJaba6Qq/cF7pnBkPn4Am9JQetFkW9qTEWCP/KpMBkx0Ty9NO/s8mDiYT7yfFC+O1vf2uTyN/+7d/WGKISi88xFLh8MOGhyWTfARY++qZXCE5o4spKfKh04noJ3Bv4I6ElBEY0mJwD94b1G8x3Gk0s1hwEEyZu3iEP7cLXPmEirZj4Z4VjgN7iXRBHKqJGdcxoYe+0+oKEkHYpKGZ6t4fRiY3SXUiBoTw97a2hr0drx2RVlf1D9MbsqepHigJnnTcRQqqJOtw2Wb9Ef0XIYC0F/RvmkmekE9J+//GPfzQ68sD994cN2nOjkYlxxY8xaEyw0MK+FVgNbpHb6a9//Wtbr4DgNKiAEZe1SNnCxyiThCzURkiBf9tSlAnASD7oAgw+sLPmgx3muUcgCwQ76AdCklsgFqq/GvfZ46NT65LGpOwheAbud1jQ98q6wYJ4XEtRCJ07d9bc8wgRjHWMNSICshogLLsyogCy7D5ZBDhiYLljgKkGzRWzF0wBQoisHdPy9x+5GIbax8P4usvCjCaR6WmtCVEErDB5NrRp8u7Q845JhdkMipRVJDEpeapEs9TR3mFuQMTEx3eXBem2a7FNFskaBE5x1RqfqINJxhtT5GjtZj5jUhcOwAITMEIHFzDwTNquPSxS3JzHjtOkXFi4pU+cwAaDhrsK5Y7K75wf5+Ab3Pr344gFCoHKulCuen8+B9h4sWIwYCNZ39qO1ioucNHUOg+pm6fGFYL34tkw3rctTK++PAS6hxjP7ukLoinakHP4ovJpz3QCWuToDr03+VUXTTDxbOLHonP6JePNGWDr6zmlAIwxz9TRqwtABaVBJYAVOseQ8nFOUbZ+jPt63q5xCoPP8+qOOeFAZVq5pdIUvQJjnygnJixghS/gBs/8jIYIxdWFdT6CqYe1MkToYw0KllqszNA1BNE3tDg+gWXa3Em5h/ABzeM8CYxQezjnQ97YO1EAaSz+Y+0RA5ccBpLplsmfhCAiP235WLTIr3hck8XwiHy5u8e1+bnuabKbkU/1yPBomJI7QKuYz1aF4RV3YW+X+qeSCWjV6lVavHhXuObaa8znGT6BSYawvC9ox27WhmBaf+qpp8J1CrHZDAmcDmvDqxMK68jkhyaQI6Z+Nus6d/acTcbsjs7kXU5Kvlc5bxTPy3dBS4m2kjC7TMa4eHwt/200mritfPnFl6Y5xrebfGnBCZhUREwrEgOzH9aYYr51vp2ciblnHYf+EcJ7aFhWjhYpJzrk0imXyJlW0ZMxqS/kEtWj9SKrJcziZoTrkC0FqUWHFlTQhAceeCDccccd6qtY7GSpER1jPcWLL75oaxK2y03ooYceMiaUMVqNlDDBFTZKrw0PDRvjjHJis+hDu2Bm/ME8j48LrxKcgJsxaIJTNYAuVEa2CdlrvQPdoL0w8H2yIECX2RiWXdG75CqLxRrrE3Cv0/eAtpC/2ilNe4AJCxfCB6GAb9WmiKz9IUHXSAhIWEK2bt2iZ5uNVgMXNPpSTFEAuRS/emxzxEBDMZBoHgFBpFezCcRXgoYiYM1osXlnnxaiaxKZkXZTTt3KIzcsxXLvmdI6kAntgC4inib86abYJJwTbfw+EwOavXITCy03awLZvHmLMRJEkGLx4wW5X72rhY1Mwp2apPHz3rFjZ8OtIDYpayI7dvzb8F//9SvTABJuF0GDxZj4oSOIIHzcdNNNtlizLJykJvBqTOXuQsU3g0Ho7++33dCZvP/whz+Er776ynYy/kTrcGB+rr76Ktshne9CW+kEuMfFtBIxMP+7zo07kfv+kiTGpOmeae8KXavlxtS3Nkx3SDs/NWZMabvO20VLuhTgon1Kmvs8vUEIwQ2r+glhg3Hnif6NVYQxiNKC5K6FhJWGjlh/9hcqPC6lLYwvmPZf/vKXedhwDTqqEOREw6INMNMPPHC/WR9dAKkG3NZcAY9oSKKuUhIwY50mPPAxBan48ssvbY0bihbcm6B3kIe9WmPBurL0/killF8sD23nH/Dys5C6whd4JFoia/CwovMMdzby84yAGq1yxZqSQIzg4daaYvWtxOdRAFmJXzW2KWKgyTGQnmKmRaDxzJ6SMaSnt0vMqIhyywVtTndGGqwJaeLkwy2N5ipNiF0TfWF4QovQS5QnIP42TVTAqPKe/de7U1MzYVLaLcpDm2XrFOQfvXbdWptEcM+qZqpkYgcuJuXe3j5j6JmAsSRMWOSwGbvHhM0C9du12HSVBL2Kk/Cw1JTelRpNJpM2C0aJWoOWkOhX4Bt3KxaY3n33PfnFnIaf+TzqUkGK7zc1BmY/uJ2pC3Jske99h3QYfX1aQ9Qm//uxk2FEUfVsyCsAVpfWFPUqwEXb2BmF4800cLbIzIPqXcKsT07IzUYA0c9xz+LIEDK3SMHQqjY0MhFFCiUA1hgWmn/++edGSxh/YHnnzl1GN26++RYbky6AVAtmhA/q4lcq7YPegcdbbr3FBI6//OUvJoTg+kQZtIfIhdANBD3oTbUS5U9PJ+Hj+ba44WKB4Xted/11FnrZ19khZLQpVDTrP4CZVD1IqtWixpQTBZDG4D3WGjFwyWMA0YDJjb+TmngUzV0x0mXqHz2liDVHQqe5W8lPWrsbD3dv1CJTLTqUGhTXCovBWCIGmdwqTv5qjlFhguzSongmtm2a1Hr7esMWs5C0miar4nqq8CKuE2jTNsjl4IknnrD9PtAEYvYHblxDsNZcLY1hjyIDTWkCLSc5g1DoHZ5ZMq6PM1077pIn8/4yiSdligGTC8WOy3aExx57TMfLwvETx60tTN4bN26ytuzetTtfZqlMyrxKC9xYrF0FssdbDcFAbgCm6k6oh7qE+g5rQaaHzorxnAgtY4OiISPWpyY6e8Ogglp0ylLSIleoJPkxVVgNT1EKQOWwKOCWAzO8alWfWVbpewkFrAIAKis/DsssrkUwInw8+eSTtiEeVkjGGJYblC1sksdO7lh3qjH2vIxK4aV5vIsgdHn/5aHria7Q399vrqfQwA7cyESXiTCFNapN7fP9N8pEzYLZB+USjNCDoHPw4EEJQWfMPY0XCFkMHAgcCD43XHe9lFVytVPXwxoPvmPSZo0RCREDEQMRA/XGgLMAtvYDRlVEGeo8OjQahsbkHiFt0UybdkOXz/aUyNSUNhJrmZI1RAvQp9kJ3QuoA+DOJNgOx6oPbeVVV15lTDETKQwGG00tNfmEWumkzHv8WsU0XHHFFeHKK65UFLExmwRh5GEmgNU1c8UEhFLa4+13mO2z8KeI8JEuGzcqt97g5rH14YcTTaHaMiflLr2uOc9KuKC47Lt+zZGfM0YlFBezNAEGiGrVqYXlE1oXRvhbdXDpJtrDdPtqjVNZUrVZxMzQeOhsHQtrRDcYu7PdCuY/08dq1CYYZXZEZxNQNpyjn9HnOXofXGrV1FGpZSJZyD1p+1H09/dbOaOy+IJDBCejcWKoYaqhJUtN6XFWCSlP4wwFE4oV3KywRAAjz7E4ACvn1RA+HGbK45wQ4bioIYCAv717r7PgHge/PmjoYT0IbqR8k82bNpvrK0of2guMMUUBJPaBiIGIgTpjAAKMPzc7G9sSdN1ok3ayHU1m0BqPDkW/6tsYZjp6xUxoAhHJ1haFoXfqXOi4cE4hNofqDHHCuKYnXkL0evIJz68rPfo6FSa4ShkJr9vfxyrCj8SkCawwE9VIaG4pk59PytTrGl0Yg2KJd4EnDSP9A8ZnTtJNyqWeaiaH38usdvlebjzWBgNtWsdBNKlJRUqb7moPnWu3hilZPVokhMyIdnRoLUinNjztGjkWWkboU/SfROwgCHjyvavbp+a1VH2XsUD/TTOe1O39jX5IsjFTJjjQDYR4FAumca9gjLgwxDoG6Bw/mGpPNsaBropuTPpwefrh9ZR7dPw5XtP0zsty3Pp1JUfKgLbxaVqEG4ILsN/Io48+aoKPPQPvyscmukMXL4Z9+/dbmGUEFQSjmOZjIFpA5uMk3okYiBioAwZ8yjWmQDzxFFaPrjWhbe32MLNqs/y5uyyUZovcK9pbtBBd6zA6xvu0Ll27Hae3Ra4DrPWoAnww8cMMNGUCwOSjzQHPhI4cM8EETRtgBCxkcaEXUm8bY6Z3G5Xwfc8ygs7UNAqmWG/pGJiW0kI6+RA6V4eu9ZeFtjWbpbjoNkYexrxTIby7WvQLF7SJqfrkpPoafZUqxDDWo+flalu0UUvpc7QhYYCDWSuIXFVJKhWGihn6DLIRmlr1K7XeStpUtXdycELX6Fe6NMVJn9bbEVAAAYN2mIVZrsNfae3d/v37zN0OF9iYCmMgCiCF8RLvRgxEDNQcAzAAuEzoKM51UozrWPcaCSFrxYRrU0JtMNYqwWN6bDiMy4e7Xb9WLSKVN5YcL5orVTwpp5rB5MVElmyelZmtU/kadQojlWemmIH5r2MigGi/DmlPcXVAgEIbWyyZ8KFCTOtbPHNB4afYa3Ofqya0lLkE7OOCE/irZRXysuOxPhjAPXNCa8TG5XI10bk+jGkz0+kJBGDRk9GL2rtHgSN6OixMb1bcYITRG5pvpJWHOxf66c8nT5wwrXt5JZSYe3bolPjC3GxpGsk5xUHvWKfWtEqXXBNYs4GwBNxjgpm9iHBpRdkyJXrHkY5EqOWPPvrIflhICKDBoviYCmOgOrb4wmXHuxEDEQMRA4UxYLO+CLo2ExMLa4Rd9v1AqFt2lJ0av6jfUJhRdKlRxacf1T4gsn1bON42uIsVkOCFfVJmAoMRZlbGd/jDDz9Mrpu0nfb5BCsMPW0YYg8BRa5C+4qWsKSQl7n3S21iWngo9Z1sPspwmMHzocOHFG3tYk6IWiba2GyjLuFrlBcTZgXBbU90QX1xaky7jbPJn9Y/DV8YlEsM40oLwemr6nPJJiD0YOvFyw57NCGd6M+4IB0/fkz9+bAFnUg/r9b5Usef0zqHB+GfvTqIdofrVzMnb7vv44EAcqM2EiQKIr0I2j04eCF88MEHFsVv8+ZN+VDMtDv7zZq5rfWELQog9cR2rCtiIGIghQH06SzGYzd0+WOLiLPQvGNmVL9BrQuRqxW7HbdrbxDtD9KeWw+S2D+WJ/OQarytc2Di4kekGXYZJqTjm2++aZt/uV9z+p1Gntu+HZpMScZMaN0OEyuTMVFfEJoGtUeKJWP0ktNm+utM0AUtWGZPhtdfe93gB0ZnMpoJ3gjL4hjAEjrDHguiE13tspLOyBVmYkj0QufdCrpgY0pjTD01oTSJsgNrSPq3eC3N+dQYWwQwaeDZ/O6bbw6FXbt22WLnZoSYtTo+xoD9kAQPokcNDPTbQu5mghn4nFYAFxZS6DF4Jtwu0bWuu/56s+BA/9hf6aMcDSTqVn//QDM1p2lhWRmqxKZFbwQsYiBiIIuBQtqgFlysphXlauRs6Ozplq/2mHZFJ77/htCt+P4sH+2aHgwt4+clpAxLidmZLXbZXTOhYS3AXQlXBKwH7777bnjnnXeaXiMIsvHhPiP3icTl4EO5UlTme17vD4fl49133zM8o9E0lzcJgYhWaabDmaV6wxfrKx0DrABp10Lz7raLoWv8pCJNyR9/7FxoGZ4KfVoL0reuJ/S0KSzrMFYRok6xOF2nVoWJL6VX1iQ50QHQT7GaQjewICD8Q0t6RDtHR5vPmgCts3DJgpk9kw5JWPpQrkpEvRsZGZ2zOL8Z0Ay8Hqacc2gGexOxPwp4JkzxH//4R3MdQzjBikro8F3aL2VgYMAErWZ3K2sGPK8oASQ9eTQSuUxcwLLQBObPF4Kx3HYsVM9C5Re6vxi8iz0rVBb3vA3VgG2hOrL3K4EzW0a8rg8GEiFkVhRpkXasM2gNwejp0D44E3rELLRoZ8JWaTS7e1ZZhKx27Q/SPnJKi9GHwqisIcVXGdSnLZXWwtjA+sGENjw8ZOZ7tPIwxc04eWGvmk0zidbvow8lgHys8wvSKM9+z9l8zXMGfQC3bHT4kRg2zkkIgHwHGIlitLl5WhMhAQMdohOt06NhZlybDJ47IKtHX+iWC9bMuaHQ1rsp9HbIgjqivjl0UlEuRhWatTvnjqVDzgqy3DBJJCr6KsIHu2rjxnT55QNh7dp1ZoFEQGm21N0tYVDhahlzrPnA8oEVYcOGDbZZKuOvmRLCXTsufUps5IrwAa4J94u1GlqC2xjCCfQDgYRNERE++DbNSL+bCb8Oy7IXQNJMZ7NMHsDEj7QQA85U7XTC89oLDfiTrd9h9vsc/V4aPIhGofvpPLU+NxiFzGZnfmqNh+VbfvLlZsRIdLZIczdxLkxdGAltcqnonJGH6Ki06hc7w6T6YOuk3HvGz2rTMfqjj54SWy5mn4nbfuYInuozjeCbBT6TF/2Xieyddw6YJYGQjUxgJB93YIh7jDe/V2Krq5qNsc4/YEBreeiQtJgffmTx8IFvSiFRSZaPvJY/R+fK/FxVATz1XYEZ3OKjjYsbLhMwEjBx4NUWkVal0lhIPTHAPiAtUlJ0ijaMn9fGb4OyAui7TwyfDlMXT4WJNm1uOnFRtEMWEkXEapuNLGtgprulz2X0lXTiOvk3q1ibk0fZ5wrn6berf07d0A5cgei3N998c7jrrrtsvGENeeutt/KVpuFMn+cz1OkE903GGvtmYC34/ve/bwIIgglKl7ffflt0RUIIuATf+hmt0Q3/LnUCNV8NNA2YjknwYDH5LbfcYhvQojAiOVzQEuDHPYt3ED74RZqSR+WCJ8taAKGT8qHbO5JFj1mp0zvIgq2v0YP8ANIETIdMw8EzkufhnDzZ5Pmy9wtdW94lEkGHkWOxuv05BMUHI3B5GZx7mzwv92qRHF4YS+rK1peGqRb1xzIrwwCjAP4w4RETgaJlRrugi4mdmtC+EOqHPG2ZOaudjZNc7drluGNmRFGzOvUkGUel1k6/ICysaazUb3mbe9Y/GJNWX6mlVScfjC9jCBemTz75xAQR76+4BZlmXjCzmSCTMS4BtIExx8RoGJj9Ux2gFikFf/pxwUKkly+//EJav9OmcWWsExd/Wpu+uUYQoQr88gy6bKEr02Ub3OkbNThPuk0YluAxqp2xiUaDphLYYA7APclpFedZ+sG9mJoXA1hOJcpLuGgRbeCUa9Z8aMdu7RuEgKJtTDW89ZDnGkO5lei6ZFTNpvS393mFMYjG3ukERXg+Z5Dtmgd1SqdPn7Z+fObMmfCd73zHdilHGBFgBisMPmOUcUdfB3b+TQtXdt4AWnf6zOkAvCcUpeuee+6xjfmI2IUAwn3gPKOdxIk2Bc4Jjw29gZ4wVg3/S8Bv+n375kVwQB6++5kzZw2X7AKP9ePkSVnSlPjmbCy5avWqhL7laJ3TEj9a5vhnQQwsWwHEiQCb5dC5mMwJi+YMcSmdbEGsLPEBA4aBA1wMJDamcXi9aDoo+ToFv2+6NZsHRtpzLnz0/Nnjwm/Mf+JwQKyAl7KYmDl6ubyFBsOiE4mIgWO0h5gcs5sV+Xt+nF9jde9AR6acsRSu0zBXt6ZYWjUxkEyJiBjq6OprHGe0ozHMA7ujt+WsFGnRHH9vfpUkJo4X/vxCWPPeGvUXfMETmaO9PaEfjMX6J62h0OSLJQHaxY7DLGh0zTzM8rPPPWvPGJ9O24AThh+f6nonIr3gPnH69BmjccAMXNAO/KRxU3jhhRfM3SJtWUAAgc5Bb+pHG1oMdzBjFxQNCcYNmHpFu2B0OHdBiXPaENPywwC0RDHkzF0T+qFoFqIh7KWjfqlrLVHnqf5KGQi9sR9/uUrupFvtcwj94bPPPjOms00L3T0RKIIxun79els/VO9+w/xMsIc29WHGIlYFYIBGcM445Jz5muh09HEY/eGR4bCqb5WNCW9LvY7AA0+EGxbuTPzAM/dpA65ZtMHgFA1kPHKP532r+ozZrxTW7PfJXhcql/mAusE1MH2tfT2wcDjNgE7v3LkzPPzQQ/bc+0yhsuK9hTGwbAUQb5J/+O3bt4ebbroxbN68xR/V9ehwOGfDNUwPi5aOyUeT2NHcg5EXHbS0ceNGwXxT2LJZmyfpTr6MzHmSe+5fH0R+5GlFQleOE+sQE4GgBNPDIlgYIwgGyZkGJu3LtmwLt912m/xN1xrBSNdvmclf54mc0INMFDAYzlA4LPHYfBiAYWjFvUq9nn/0W36cT0pTaQyFBBD+JU+TNnAu1iKRHMrsY4zFl156ycYYkwr9FuF527Zt5grAWKxXom4fN2gw+TH2mfSY4NASsk6B/vz0009LaSvLh+7rJRuLwIw7AJN5PRMMz/r1G8J3v/tdgwOYgJsjjA8WBgSQZ559xr4ddMMTkWGuu+66ukXoSbqH+o/gw30COnvHHXcYOAhM3AdW3FXQGLvSxeGNx+WBAWhEmEHEUJICI6EozEHaEBNjCAnikksJRUmshwglGlF6kmRgTNIvSFaubjuznO7LjDvG7KOPPhJ2XLZDmVMV2Nu1/wM8/LAWADMMMe6F9Gn2n3jqB08ZLl5//TWLjoVFFSHq8cceD1u18LteCWyCnQ5ZC0zxk6sYmJmrX3vtNWPufVdx1oQ8++yzoilTWttyzOjzQ2LyN23axARRWRIATm+9gOy13/cjNI08pmBVvSycB2aEImgGcwl0ZETX7ZpHvN/4+/FYGgaWnQCS7TgMQpiHhx9+OPzohz/SglUtMmtgAj5+x48dD396/k9mvsOF4tTJU4lWQkSAiXyDYH7yyScN7nXr1tnggniSyurMesXfq6TZ1AW8DCaYiFdffTVgbsQtBAYIpogfhI7Y1o899lh44oknwpo1aJLlLpMTUtJ1Z79R+lk1zh1miATant/97ndGzCAS4Lks/FUDoFhGBRjIzSaaHNQFlWANZsUNJq0WPcgZQvLlE8vfhJD8ndJO6BNotEjeP7du3Som4tHwiPyRYVJzEJVW4BJzAQ/9lwRcjCOsCTAQv/rVr8INijEPQ+HuH4TadFr3s5/9LNz1ve8pvwQQEFXrlKMxwIwlQwjMWz6hC/idv/LKK8bI0xbaQNv4QTtgLn74wx+G++67z9pYa3DT5Tu8dDKidrGwtFWaYWjd888/b2FLgX9YmuK0ljtdRjxvZgz4AIB2pGZCIxwJPUnu8jf5lwghtMnfLdA+PYJOYJn0xDWMPAI4/Xn37t3Wv52eeL5aHbPzGvSAeRtryL59+8Knn35qY61LMOMaRMJKikIDHul/PfG/Qn9/f57u1ArOdLnADH6gBdA4pwkw8u+9/55Zf7dv32Zw4lEBHYbp37fvQBgYGDDavFOhhX38pssu5zz7jbLXhcoij+cDbtaQHThwIHz11Ve2wznwguu2VgnAamdM5WNg2QkgNJFOYf6MIiBoI2CKf/SjH1nHRZPFwORHp8BnejE6Uz7K5r5Bx3SNGufUi7YVzSUDbo+IFJMdEzNw8xxrDYwPEzIDjkncB+diHdkHgx8dF3MhKuEKvOhndTFuRGyxeDz33HNmASE6BZMyhAt4gZ1weY9Je+KaFbSGjUp8YyaGo0eOht//4fcG3+WXX54369KuNI4aBWestzAGYAO0XECJs2Q8c+TXyh91SLvO5eEOKWEfElcKy5bcLukvfYIxxhGmmHj5CNL4I9OXRqWN00Ort6QCq5CJcYXQwQ7ibK6I9fE//uM/jB64AAK83p937tpp4+/OO++UoqUnr5WrAiglFWHMA3RVuYGJayZjtIG05YorrjCBicLAMc9NG/vUU+G+e+8ztxX7Brqf/n61GqvACG2FSXABDjhxyULIg47ceuutFkUIWNtbEstISciImZoEA0Ykkile39ucrHSLuyaQyKJq/+Q6DM2xtVPKx3Oz1FtHnO2N9MV0f/Rz+i1KNxZ7Qzdwv0n6suqUQFuPRH+2gQPwSlzDFBO6G608MOEaRlQs+jnwYRnBYgq/gRWS+/yyycrO3qzStePQ4QemN954XZ4W74arr77axiO0Tw0ypef58+dCf3+/KWehH4Zn+2a5hheCS4+8nkKPs+3LXvs7fp+jKS/UU/i+KDpZaM6CeQRPnrPuBrrSi7ktpoowsGwEkGznwpVpw8YNJng8pQkOPz2bIJn4NPCS3U+TQSqSYp0zW0ZFGMu8RJn8GNR0Spj2P/zhD2F8YjzsvXZvGFXHhYkncUTrev/995sWBeEDmO2ZylAGOy/2ZyntgDEADsyflAPMWDpefvnlwEIx3Ku4Rx7HJ9qTxx9/PDz44IMG2lLqL9a2Up6zyzJEFv94GIwbb7wx50KRaF1LKSPmaSwGYAo8zZ4xUosl118Wz5kuiT7LRMaRCQSlxb333msTNq6H6Ymd92rdx32MjSqaFK6NaDF/8YtfWD/+nqwbLDhHscF4hbagtPjZT39mdAOBySZHjdN6JuCBJgAPX4pdxLF8oM286qqrjBniA5IHXPf390tT/FT43vfu0g72EgI0VuudDFeqFK3q1GQSOeiZZ54xhuL222+3aFj1hinWV20MQAtSY8HcN/2aI7+59IKruXd0Y4FEf0ZRgNsV8yD9WpOkFUsAHMYyeWqdjCYJaIO7RWuutLfJ+x+8b8IHNA0BBP6DcQaTT2AL3sFiukOMPOc+BjlHAONoGKohLaEOEnjih5cFjDzCx+49u8PnB5K9NYbFKyFMdXV1h0ceecR4JRSl6fdrjeM55QtueMnBi4PmEYJXCHhGeXVY6/ZiWjoGlo0AQsf1hFWDwYZv4A9+8AObqJFQmWSYHCEGMKk2yDS5e0qXYWsx/EEFx2RMJQPY6lM9SPHP/+lPNqldo8GFdeacIik4TO6K8D2ZcPtkvpsYnzCzvwkoKrCUtRPpNlQAtjEGzoiBnzNaTPriiy+a1ea2W2+zhXW4fbA4HqGuX8QWS83jYth61R4IGybHRqaLIggvaKEr7cCvnEVqo6fEyDVgUW4j8XDp1Z1MZKWzDrMYYtxAH5hAcH1Ek4m2kLHrTD40o16JsQdM/BvUAun/+MV/WNVYZIBzaCixMNLHUQD89Kc/tXHoigGEJmcg6gkz9QM7vvEwElgRsNbgjgANBofkAc/udgUdpK0wP8aozecHa9IE6gR/CCEcT546af7l0DeYSdxpYlrBGLBQ3bN8Qzktpe/Qz0lYPlAKYPnYvWu39WH6sY9h8pSiOiFfNRIRH3EZfOfdd4yRZ44eGBgwuJizGZNvyyICQ/+QlIZ79Bx4TXGQa5O1jXP9klZWA7LCZTgegQGFBe5ieFlA11jQz31oBx4YrC195PsSPrZstWcA5x4mIiImLBWqhVbwzZaaHFaO/LAwISyx0SMWJIQPo2XiM0tNoBk8xzQfA8tGAEmDvnrNaiMIaDFhiOkodAo6Molr1/T7e945s0d/XukRTSQLrAghx86YI4o0weBiIMFIeIQrrh944AGzMOBuMSK4p/QusJoAUgoAGl/5IZg+L+Fd6/65QUCdECN8tRlYuIwBM1oeLCM8G5MFh7UpTNR33323JvBps5QwkUMQGpX4fk//7ml995Fw/fXXm3sFVAkc8gyc0w8492/dKFhjvc2FASa8+2T1YDEyzDu0g/7MeOBX7/5CnVgP/ud/fmN9Fo08MHBPB2MksJLiXgrMaVoHZslbT7ihqSSiwbz88kuCb8LWiyFggMfEZSGYywe0DsskDAbWHZJrXzkHbjvCYdRwbgZH0DNi9bO4FfcrhDxoGLQipoiBxTDgwvS1115jES2/UPhpko87+j15Sp7DF6usxGf0ZyJHwcj39/ebsM/YYm0p8DCv08+xIpBYtwC8+TGXG3vp6mpN+6AdH8uC8NHHH1tACGix4xA4cFMnqhjBIkbHRsPBbw5aW3yMYokQSVyQRhsJKdCudBvLOUegwQpNYA3wh+DBr0uWXCypTgsXK9NxHhWjC2OpcZzkwjAt+gRtFto2Btk//dM/LdghFyokPdB8QGbzpvNkn2WvKQOtA0z8ejHs1+5F+FhnDIUzwkx2LI6nM+M3mAhKMMhJaeXUxxsLwZ2FrdA1ddmGPwwwDerOzg4xEdeZlof8DgsxrhFI0HT+67/+65yiPI/D4UfP5M/96PcrPRJylAE/IWbm3Llzth6FhfJosJ3pcWRSp/8qrS++t/IwwETG7zNNJkRNYw2ZW0Gr1U/LxRpMC/QAzdqdEjA8mkqHxiRaTOgGffxrhYAkVG+6X2fPy6273PyMcX7QLgSKzYrch/URAQlYeAY5A2baxaQN7TDBxAhdQuw41QgV9UnKI2+WfpQL20L5vVzgY80aghIKFeg1DBs4jiliYCEMMO+w9pEITF988aUiWn6hvkruGkrMCwGTuk9fxrPiiiuvNNrBHMg4YoTR5+nnWG0OHPhMCsYPijLLvOe0MFVNVU/HJFR8880hUxzjTsqYRJDyBK+BUML+Qp9++omeL43P8XIrPQIfQhy4Rjl7pXDNlgpjo9r9PKfgrLTs+N4sBpaVAMIgQ0rGFOqmsGKSsTeVDkVKH9PnPPMJi3NS9jq5O/cvzDydFN/LLVrf0dvTaxkomx8TNgwGPtIMPE/Zuv3+YkcmbqMyypQ+X+yd7DOv1yM6YOUAp7TVCQLMPpEprrrqarPk+DteVvY6i6fsc3+vkiNle3kwDOxiPDAwYIwZzA19gpR83aQGz59cxb8RA8HGILvvMgbTmnhw06j+grURV0L6c7r/+vfCZRM3UwQnGPs0nAud+7u1OEJzzmpjLhaeEzoc4SOdoHVs1gVthmkDzzZ+aV2ugY2AG/cO3MWuEhOBJRo653QjDX88jxhwDNBPR8VsXnPNNeGnP/mprTflHuHqdTAFhuet9xHB/vXXXzchA7rgifEGL4LQxLoPeBEiQ0I/iqX0uCyWt5LnRKf8xS9/YeOPeTvLM0CXiWK6datCBCdSXr6abN78A070MYy05I7Vagf0AYUxdKMU/M2BKV6UjIHZ3lvyK43NiAmMxUsD/f35jkqnK9bxvBP7kVZwnn0v/byUlpIfSfnTTz+zsnLzbP5VykfjBsxEamLwpROaQP4XS54vDV/6vNj76ee8hyUBNzD8RBlsiVUmwQnPOzu7wg1ycSIEHibH2SShSm1Kp6XiMF1W+tzL5QhMLNhFs8q13+O+50u/G88jBtIYQCOIFuvyAY1BmdYRsr3Pp/PV85z6P9AiUvpvV3dXErEvBwD3cDVF+4ZGE0aDvt7ohKKFncWd8UmPPc7BMzAjhMAQOaOfzpdug9O19L1qnYMvmAdg3r9/v9Et6C8/4GkGfFarrbGc0jGQfPfSxhJ5sZaS6Ku4IudY3tIrrHJOxpQzxQaf6AhHxiTeIUS0hL6Rh9DS7TpfKDGTMxYQyhcaowu9W859h5O9QDjPJtpEtCkCcuC2yToXz1cOna6UnmTbTp3QCY48yz7Pwl/sen6Li71xaTxfdgKI+kIyWPR9JqRBnJuKf2br1Lls3sHnllGeRpQyEk1fAlehwcLgYoCTj+SDZKH6s/BwbURPbcdUWikBpD5+wAMsSWjKuThjoNEGiBmhSYGbXzr5YPSjwceHUcq2KXttmcr8A6wsGE0mggQ+b0s1yi8TnJh9mWGAPuJ9fmh4yNYNjbsigDGV67v1btaktJNUTf2FXCAIttGhndpR8Y2PsXki40sWPzsm47ae/Z91M9AG6AbuYtlEO6Zy9AK4YIIct2k4/Z61m8aJv6uUpmVhyF6jPEHRYnWBZ/2cRqdhyr4Xr1c2Bhb79jxjvvF+Sn+BfuT7jrrsnDR3Cp3zqFoXaXihFa7IBC6eARvzJBYQEv3eXQyz83capnS56fN0nmqcm8urYDTilSuQ+jyQBrQCUpDnb7I4XgQI/06Ux7fy60Vemf8ImgphzSUTgHJCkOPan5V6BB7/qaGlvnZJ5Vt2AsjCXyf52PnndCh1gEpSue8l+RMNBB13oUQHZ6JNDxCuvePbceHXFyq26veBD+IFUXAtQLFKFsJZuq3FyojPIwaqjQHGVzoiXpcse8wzPsyavX/CYACsHXPISY+1esLPJpCLJeBy2BCeYAb8up5wOozQU9eq+r14jBhYvBeLCdb8x8/7s8/Pi2HO+/liear1DJrmQjRl+jlKQ6ylWEDySY1dCDZj9hEKcnmqOUYXqjMPVxVPqMu/WZZWllqNtT0r9CAQCT8ufJZaVsxXOgZWkABSeqNrkbPUAZcXMnKDPn9dC6BimREDEQM5RiKZTPRXGCnGgkSklYSBHKPmeecxMEzghm/PkRzz+RZ4Pjd3vIoYiBgohAEWn+fHUqEMDbzncJXKFy0V1HrVs1Q44/tzMRAFkLn4iFcZDDghydyOlxEDywoDKProy1H8qN9nM2yD8JgiBpYRBpbjnLccYV5GXaJmoF7q322ZCyCyHxRxC6hZz8kU3CRgZKCKlxEDEQOMzSXRicz7c9ZrLPZsiag3d85c+cuBmTccNyEhFApzVjDOYrrUMUA/TfpqcUyUmo+S3JuhFkylwZEDN31eqAXFnhd651K/l/3OEYf16RHLXABJISnDCKSezDmtdseqBbGZA3C8iBiIGKgvBorQEtYV5JM0/O6Dnb8XT0rDAHiuoTtcLcsurYEx14rGQIpO0NdKVRIYz5Azxab5kfT5isZbbJxZ4wka4HMH60w458c5EcwWCx6wUlC4cgSQlfJFYjsiBiIGaoKBaijnYR7yizeB0pnoFDMyx0JSk5bEQiMGIgaaDQMuQLhS0o9ZOC2f6EVMly4G6AME+UEIYXNtrgn8Q9Af7o+OjuZDna9kLC1vAYRJf5GoU3w4PuxChCD9YcljhCF9s87nVr80I6ZJqXPdsbqIgZWMAcaWYiLN07fbmIMZYNyxUGSBRL48jYDuzCupdFqzQBVVuQ2MRP1aNjQkR+/sO5SIgfR3Kue9EouP2SIG5mCAPpa3cMx5Mv/C+2OeVszPkuczjIbkBJF0ny7wStFb1Ot1LrWsopXFDOVjwOaXua9h6SBymVtC/vKXv4STJ0+aEIJQ4taRuW+trKvlLYAss2/hTEEh5oWmVEo4SiWOywxdEdyIgepiwCb73IzvJXO5sNxhudo0UbD/hjEixIZPCR+MacYtk4WPXx/nXkWpR963H3v9IAwVgavUcmO+iIGVjYGFBspC92uLDRhLF0T86DU6jeDaz/3oeco5Qmt4P1tPOWVAZyhnSWWUVeHSMwPrUvC2dAiWVgKw2/4iOo5oM+i33347fPjhh+Z2hVByqaQV39JsR4VR4APz0T///HNttjcadly2I2zatMnuuw9eLTpAnnER01NosHOPjXn00DonnRRT3KFDh2wH8OPHj5u03NvbG/r7+8MNN9xgcOMrSN5m0HzSxk7tVg/M7733Xjh27Ji1oaenJ1x33XXhpptusljlmBsL4aAWeI9lXsIYSPEgaJoYT+w6Pi8VGJPQgvPnz4ejR4+aeVxZ8oliGXMz2iW5rbUtXKFd1tetW2fPscqamxaTekpYyb9c4xPGFbCzA/iXX34ZDh48GC5cuGB+xVu2bLFxODAwYL7G5KtZyjE288rP3Qd/MD9GB4RcYDl77qztWn7w4Nei0aNGK3bu3Gl0Y/369cmkrQIj7ZiH1Uv0hjqQJT86Grjmx6hNj1x/Xt4RBr3UhABy7uzZcOjwYdsY0Pp57mXca+A/6L/MiZs3bw5r1qxJ9vlRFaXU4y6g07nxQ33pOlR0spN4zjuEutLPC7XDymyZMfefs4KdufvwEcE/OCj41hqMN954Y7jqqquMSS5WXqE6Sr3nY9vrMBqa+YR2SUOFM+jt4UOHw/5P9odvvvnGeKTVq1eH/oH+cN3e6wJ0g7K8vFLhqHY+NmOExtE+1nh0d3WH00OnwyuvvBLef/99e1btOpu9vEtCAEl/BHYI/ezAZ+GZ3z0TPv74Y3v0V3/1V+H73/++EQYIRCM76pQ6KJ0UojI0NBReeOGF8PzzzxsjBFzcn5afIETstttvD08++WTo39Mfpqan7MfzRiZ2d377nbfDM888Ez777DMjaLbbqeB6+eWXw53fuTP8n//9f8JaEbX2jvb8bq2NhDnWvTIxUGgyL3QvO+E5NqAVMPD//M//HM6dO+e37diKJYRdyZVgIP7u7/4u3HrrrXNph/M/lqu+f7766qvw29/+NnzyyScmfEA72N0Z2rJjx47w4x//2Jj67u7u+gJGbeIbYCqccQImtIFfffVlePbZ54wuo6DgPglGDVry+OOPh927dgVjvOyJ+A+YMCX/hrnb8RAxkMIA7Cq/ylK5b9J33xUD/9///d+mgKNvYkVlbmcubBfzSb/1NL1dbgAAQABJREFUcfid73wn348rg3Bpb0ETYY5RYELvfv3rX5s2nn1GJqTcxB0IeF999dXwN3/zN6b4XFqNJbydDOsk4wIfAMUPcO+T69Kzzz0rxcUnpmAC39AWFLV33XVXePjhh8PWrVsbTiOACVyiCGsXn3n67GnD6aeffmpw8+xSSyteAGHg8OPjjwyPWEeFEYahYILjPh0CwuCdoy6doABzApxGrNQ5kezZ0RRGAi0sTM6qVatMo4I2c1wwY7LjHj+kfCZ1yvDUiEkZuJ7/059Ma3zNNdeEXWIYTp06ZYwQAtXbb70ddu3cFX74wx/mtZkObzxGDDQFBjSEmJRFEvJaSsZYOsEwX7x40SYOrCBuhUznKffcaZUfy32f/NAzrAgvvfRS2Ldvn9ETrI5r164NaDYPSyuLdZLnl112WcC60MgE0yOVi1lrXnnl1fC+GLcuCUVoWn1XZ6yoH374gdE4mDZnPBoJd6z70sEAM6qNSblGFkvkY95FsIfpRXhGqQm94IdwMiirwsjIsF3zDG342NhYsaKr/tzXz8I3AAdeIb///e8DDDFjb6fG2mZZTOGVPj9wIHz77bemWETh2beqr+rwlFMgSog2LB8HD4ff/+EP4aOPPjaY4TkQPKAZ0LrXX389bNiwIdx7773GJ5VTR1Xyag5hHlEHsj5E34DPHB4dCW+9+Vb4SDzc0PCw3UvXRz+6FNKKF0BgDLAYdIgQvPzKy+F//uc3YfXqNWHPnj02oMbkkoEg0iaLAoJIXT48DI7MnQz8bIJI0UmZmOmol19+edi9e7dNyAghX3zxRfiTGPwjGlzkRTiBcJj7hxdH3/XzbAU1voYB2iV4773vPtOUrJEplAH2D//wD+Gtt94yQusuLeSNKWKgKTGgMdSqSXlgYCD8/d//vY3JNJy4N/3bv/2bMRRr164LmzZurA/tSAOROnfGB00riguEjPHxMblbXR+w8KII+Pbot+FX//+vAosdgR+60agEjYNE2VHnp0+fNmULs/XevXsN5s2bNptbxX/+53+aQuOAmKAjR46E7du3G8PUKNhjvZceBhhf/ON/sUSfvv76643HmJDAwbvQEo779+8Pf/zjH01xgdKQOb1R4VaBhwS8eFSg2MQCAl+BAuDnP/+5uXhDK/7xH/9RTP5HRjcYq719vfNoYjG8VOO5UQ0RDmCHr0NBC63j/JZbbg4/fOqHUlRsCK+9/lp4+umnTQjBegpNySqRqgHPQmU4XfPnYBqLEvcRNj/44INwXEISFibng/x7+DuXwnHFCiB8TD42g5vBhZCBC8L3vneXScMwwUxsTk+MX/eLBn75dGfcsnmLuYY5gcBsh0bl66+/tonYLTjWcYE9NzABn4HqHZr365UQmn7yk5+YVge8AwMaCAQ+CBgaILQtJIfL4awXjLGeiIEFMaBxZIyGMtA/0WR2mWlcY0j/6btMIPjsErGkW+tJrrjiirB12zbr6/Rl78/evxesq4oPqAulhYA2GFnrAiPBpIufOcctW7fk/aHb29vEFDVOAWB4ov0zU4ZPmBoEJ2gGjBlrVbpFr7dv226WGtax8BzaBy2hbZTh9LKKqIxFRQzMxwDzaxn8AVp4fk4L6Nd4APDDosA8Dt0wC6T6cUNSrlroHbzExPiEjUVgge6h1ARurKeMM2gMbXLLSSNgBtZEdRHMpQ1rEvR4jWDcI8vMunXrzRJypdbkobhl3Sw/aAd0o24p902x1l64MGiWIxaaw/8g5GGd8b4BTOnzusHYBBWtWAHEJ38YBphiOuntWjPx3e98N6xes1ruE4N5BrgJvsM8EBhoDPoeEQLMjebioc5MgliQpqaSxecQM5gjOrEPzjyxrJ/sYTCB92SBVbLQF79XCAAL/vkGtGn79m3GJJGPARlTxEDTYIDxkuIH6M8toiFOTxh7uBSiwWJMrlq1ydZSMDHnNZmp9+vRLp+8JqcnQ0dLuwkbaFY7O7vC11rMvW//vnCDLCFffPWlaQxZp9Xf3x9W962uB3iL1gG9MuZH1meECqMdonm4xKI1Xrtubdgm4Q4ajoXa6AX4rTOOF21EfBgxkMGA0Q0mZXQCuVmZBdJY8ejHjL+BgQHr72kteKaYulxCP8ZGxyw4B0IHihUYZDwW7rjjDnOfxspAPlwgcd10elgXADOVAIf9RIux4kI/oBv8EJhQrOB5wUJ05zHqzWcYiRJc0DRXWMH7ADeJIzj06/R5prkr+nLFCiD+1dAKwhggia6SXyOTGh97YiKxjHi+ZjwihExNyb9csDKoBLa5KiDNk3Alw7WCgZafkJUnf2656v9nSvj+UGZP3MOAlcX+uI4hKBFJ46677jZBBOKBgOiDsf6QxhojBuZjAIaBsVco4VLx1deJ2R86wmR89dVXzwofhV6q8T3g8DSpCQ8LAosvzapw+kz4r//8r/DCxhd0fUra1/Ph2mv3hnvuuTes37DeX0vGoNrN/3omQIdJwOe8p7cnDF0cMpoxIgvOKtG1YWmMx3OKC+gKNMO+jYFaZ2DriZhY17LHgPVTkRGOQ4NDFkgBxh5hGuFjz+49Nv/RUGdE69lot2RA79rb2s3icffdd9taMfcQQWuP2+PExLi5MT322GM2j9eboS+IFxEPLDXgE0sI6z6GtbYGqzTuZFiBnbFnnV69kn9LZhCvHyEJYYRrp9eer15wNWM9K14AYZDZB9dcRYfAzJi4AIks1LFTlvvxvZMCK5IzaWho2Bj5w4cP2fXAgMLMKbQtUr8lNZD3Gt2xWYhOFKw33njDCITDw3qWe0Tgent6rU0QPSPSCfTxb8RAc2AA5hbOuEAa1MLzfX/ZF4a1rgnXhGu16BHmuRnGHes/EECYkO+8806DkUWlWGxYgD6pcbk+tyATFwVcy0whB23MaeYKNLlmt6hzSj8EkHXCJWEpjx87bhrXf/mXf5Hr5npZT0/kQ2uOi87lrUyCikk9oeU1AzEWHDGwZAzQR89fOG/9GKUc7oWsY2IhN3P7tJSMjUg+5qFdRJOCj7hNkfyA6Ze//IXRDRh7aB3wJhE395i1xIWXRsEN7MAJDca1HkXnu+++a0foCetWEKKcXkyXEECgFm1xOBE+nFZxb6H5pRYwNHOZK14AAfnpD865p9Sp32rKI50VzR/hbYngderUaSMIt9xyqyJV7MwzP2gyTMpqcCsgDJhqb7vtNoMEQgARQ0Px//37v9ui9O9973tGQOJAbPDHitWXhAHoBq4TuFGwkBTxhCg3LPJmwvOJLk1fSiq4CpnyY0h0wic5/MxPnToZRkU3EEhgLoARBoi486wJueH6G2zyRglgtKMKsJRTBHDzD+ZnuyxJ99xzT95qivUGmPkBP3lpG0cmc2gMVu2YIgaaDgNiMSblHu19dlT72bAQGndI7mE1HRjoN+VcQ2HPsUI2/gWXuUKKRkDjGJcdCpPPmOPH/P0HRZtC2XKTvBjGGug6DQ49Xa3F8nhVICgRpQt3b+gcNBnaYUoKrXejLbVMwMTPeU2jVaoQ2oWiOypLCmO/tl+lcJ0NudsIxqAaDcWFjAkX39FXJHzAzLOo9D5FmbpVAgh7aaTb1gwWhS75nv/0pz81QsCiu28OfRNef+318Oabb5oP93PPPWcL8CDEadirga9YRsRALTDAmgTcDmAkmOx6tObDIt3077HJhQnGJkZN6vVm6H0MoUltk6smFo/f/OY3tlCeSfj+Bx/Q/hm7zbLA4nn2BmGCZJ0IVkksJ7NqmVpgb+EynflBk4nbGO6krBcDn2g2WVuDdhPa0dnZYde4XfAt0MJ62xeuIT6JGKgzBsQfM75IMMK+BvLsmbPWv3HZ3LZ1e94lp87QFayOcYTbEoF5cJlmPBK6lkXyWBZee+21/B4hW8R/YElteBLR2iIl0KOPPmrrxHBvs41mRTegba4sQlHRWmNlBfSKH98bfo0gHxflTsqC80OHDtv9huOrCQG4ZASQJsT9oiChgSCxweCnn31qoXc/1zoK/Bu/o8380BauW7/OOrtPwvVmfAo1wJgweYy1SXAiahfCCMRgVd8q25cAIoemAhPpZdsvK1REvBcx0FQYoE+zUBThH0UAafXqVRZVBQZ/SG5ZLWLi81w83Pysks7y1+WP6qRqwuwiKKG1fPjhh8ITjz9h/t3EyCe9odj4XyuaFBM0DAZrswig5XTEMtXjj4B1AQSLhq1dUZRCNnSkIdA+9lohbCnWJ4QTItswwRudKQqjSlc5peUtWljMEDFQGgboc/wT3cD6cVCWj2++OWiLkQlvi/sjlgQsf82S2HQVusHeYgS3ufWWW8JDDz1ktIExZ3t4aT0IyoH3FYDjwQcfbOi48jGNS/06hUGHH4JGQMOgySgtTsoCjDXE+I/MPk7Vwjv18YN+8bOwyyqcdWuse8UN/YSsMsBbd/parUbWsBxNOysz8cG9ky7LFsLA6IcEjekThgK3ifvuuz889ujjJvGbZC/OYU47RfwanRiIAsqYMhbPo7GE4PZqkSmwQhQmFImHZyywjylioKkwoDGUnSxghJmczT1B4/Kyy3aEK6+40piKLOxzxmP2YQ2vqRe40bgOStBPQgRfaXSD+x7BpkNuAURmwZLDpE3CwlNvuBE+PFE3dKO7Jwn/SfQrwnej0QTnMBWbtC/IDllN0TSWk+rdrnJgi3lXHga8XzO/DSra5ueff2Fu0zDCMPP0a4QPrCT062ZIjBHoxrSE/h6t0WQvL6wgaPShG0QQBV4sj4ODF0xB0Ei4oQHQi7ZcOHHghMdAScGPNW/se0S7gB/lRq2SKKfRXVOMCCb2JIFfw9X16JGjwunsmg/gifRo9ks0R++fhadqZ85A0En54HRY/KKZzHj25ZdfWV3cJ+zcPvy6lY9Y0XTguieYntyE7J0UgvDqq6+a5QCmHZclBtLRb4+G4yeOWzto30ZtgsbP2ozgkksMjFomx3G6DnCJCRdY0fSYC4Ui8bwpTcCg4mHzzqZNm8J6xesmQaRjihhoKgxo2PjY8bGIAIKGkAl6w4aNFp6yS9ZI18Z7/ka2g7E1OzG3m5CBu9VVV14Vtin09WGF0sT6CMxM2DBEHEmEy+Z92luXlJM9nIYgEJ2W6xihg6EPMBZYabB+HD16xIQo3MW6CTmeS/6uX2ePVNGiNqlR9qhY/uz78TpioCwMpOZw5nLGImOOzfKwRmJtZO8PZ4YZh6S6jrsFGsSaFRSFMMuMRXZD33vttebidFprTt995x17EyEEAaXGrMUCUM7ext10Uv/AK9aOXtGFjRs32dobaN6LL71oFmvCCu/evUthedfMvlyDM74h3xvcYSV66+23DC7DU4qkOg2qG52tQVurWeSKFUAcSQzyZIOuYItH/12LoGHaYSgmJtgUrz2899579ozB9X///v+Ga66+xoiCCy9eVk2POabHOyh1HT5yOHx2IPE5p8NCyAiJh5838yp5iU7xxBNPmABizFIdKUN+EOUIL9doVPEjxX+bCF0IcwhSWHLYER2GBxcLIoEAf76MmiI3Fh4xUD4GbDypT+N+wMJzfIwJi03fHRgYsL5rgkeOwS2/huq94bCiUXUtK4w7az6Ghi7mdjQ+aW4BuEFeK+YC2sF4hO6RmEDrlnL0LsFfMDeFZ7U2DNdM9v2gHQhLuDFAh1FmsGie8zSNLAXeSGNKwVLMs2QMwGhqLiSxroqIeZ9KEw7doD+j3EQbz/mMGH1zwSJ/ikG1lxvwB5gI6Y+XBYEqWPcBj4S1huAxMPXQB9oA7Wh0QnEJ3YIfYk0pQXpYG8tY5x44h1awQP3KK6+yPU6qCbPTW6NF+n7QUe6hNCFY0MmTp0zRA4zkAXeR35n/BVa8AMJHH58ct2gECCO2aZ/wQOdk0NFpCE+pE8vjIfF4r1EdhnrpsLhYoS1hkyDg5B6WEM5JaFk61AZP3Pdnfq8eR+p0XEHAWJwL40AM8Um5WqFVIRE1iI2NHn74YTOX8k5MEQPNiAEfg9AItGwwwwjT9G8mta1bttp4bCbYgXlGNILxhwsCC0ePHz+mTRM/NLoBzUPLedNNN9kYRCPLPWhKw8ZijvliDQ30jQ3PoB3AA+57+3rDjTfcGB555BFjkMpdMG/8XY5eNtO3irCsbAwwtaG4QCGHFh66sXfv3sACbhJzd6NTOpQuIfGvkIXxB08+GV6R1wVWBTZbBX7GIXwTFkieD/T3W7jvRsIP3YK5h55xhG7g9oT7Ey6meIRA5wjWA52DR4G+VDOBF9y++LYk6BbfHIGNupymer2N4M2q2d5alDXLvdai9CYok87pHYCJmY5J52VTKycBdBTmQSZBtG90lFrsUeFEx7R+WdzYTJnc9I7LgP/J6p+YdI/Ej3BEW9IdGcmbNqXvZYuu+TXIyyGTwfjXf/3XNghPyR1rVCZJjcSwRv6kEGLaxKAleTvtIv6JGKgxBhgjjP1yE65KLMgkRn6v+q7REMZjlSe0cuEqlJ9hyPi6W5t9Xn75gASnY+GCNJrch1aw2R+hu3GR7GhPIrYwDsGLW4oLlVvre7hdsckZNBrNK7iFucAPHa0xVieCWhiZgbsrNSlrQXpb6vsx34rAAD1mTq9hzrI0567frOyYKooACtCN+xRJCoUFYw8NPRshNyPdgAHq0nh76KGHw5VaKO+h852hx6Ohv7/f+CNXKFaGpPlvVcIHQMtZOL9923aLgoW3RbI54ozcvvsM1yg84Ucov2r8ker1shA0fvM/v7H9i7C4cM2aNXeto6WVtG0+hlbunRUvgNAB3AzGZEaHzPPLKYLhn5iJmA7mHceP/tw7n1+Xc8xPhALAyzGhxOHwI4XqnPUTmEWBIQ+zHvm7Xncxpsrzc6ScWiZggdBiuZkUIUMjS7P4BvySuNgJQcjitpZwxbIvPQzQ213op/WtCttKH/Tx4P3Pj1kMkY9nMA+XyV1p29ZtVgaKCiaZtAYx+27R6/RYL5p5NoPDzp30+WyOxJWKTc76ewbEvO9MYBUugJd/hO4GDzBCxWhHutxaniNs4DqGYARc4B3Y+KFp5Dite6T091oIB7WENZbdbBjwWS09qJJ73LGfXWo86zjTAlVI5628PfRFozMqM53ol8x1W6XQRHjWYLU+nO6vdu6gp18u85zxQln+S4/p9FjxYsmXvc8176GgQElofIc8F/hncOplIlpCQ6oVvYv6vGyHrayjcIdgNDAwYGHG/ZtSLgrk9PrSbHvLqkeZ7X3hzSywOTqElejgwYOmzGYDWASgbD3+TbL3s9flwrNS8q94AYQP5Z2cI5NZs6c8vCJtMArZ5M/n3Bf98wE4537uYpbOzZ4VyleNe8AH08Yvm+LAy2IkXtcUA6nu3qKIcenJebF6jalIMSloLqsaSj4F12JwzHu2yHtOF3yMQTvm0I8UjfA8tJP/fj2vvjrewOW0rWsuvXO4OHr76ghSrKrpMcCA4DdXAEjA5r4/QRkxe+1zZUtGcEjeK/FvrkoEGhtHmdforzb+CszhmaxLuvRxgVIE6+GkLAOVJMpxpQQKgXTycZi+t9RzsxRoXJuSMsfUl1OmwwRPN4/XSNE6o+UVlJ+GhXkDeE3xJDyRcE/zSILgzn/p9/zcv5Ffx2OCgebnxhvwpbxjV7NqyswTPZGrSuuwwVSQ2C4MbVJXjkjrUIhYFnq71EHjbfFjobKy98rJm313IbiWUma2jni9sjDgfcP7jl/7caHWFnu+0HvVuS+KAd1YYPJc6L7XXew5+YwmFeLdvJAyj8nUnJTr9K7UIorBUkp7SqkrRwnnZtXNapU/t+B4FTFQWwxA0/zHWg0svUtNtRoLBqeAw5oJU29KEgkQTpdLhTsLX/Y6XU65dMjf9TI5IniMK2gRbqrAbMKTMoJrx325bfB6LuVjFEDq+fVhJJCeM9J5OSAspG0pVgaDsFTBg7IAs5wBVU7eYrAWe+4DvnC+KnJThSuId5cpBnxCKQl8+r/+NTKZr7ULHxV062x7C47RdLlVaK65eRmNSxdcIhb1SpZZKAhzicUtmK0AfDWpZ0EA4oPlhAEbFj42KujW1W4rYyQ9tjmHKSaYzunTp7Wj+WDCFEO/HO4ygUiXz6vVGh9WjsYfa3AJoIPbEqH7naEvE8w5eEi/a7S7wranyzFmLdd+1syxXxLrWokkiAVkQvuY0Sbwj/UopvIwEAWQ8vBVNDcd382Y+AgST5vOaa4f6qjO1PixaIE1zzDrmwrcmHAJ3YlpkYGVJUQ1B6eECpwY+noSIhTt27fPiILzayUUE7NcohhgXmoCPmIe9hl/9G3GIPv/6DRZ95AD1vv9vBczN+aM2VRDnbkvtZxMsfMurWgNONbEnNIeHh999JFFCit73ldBDtucD6OC0m2pBtyOY8oiYg20jv2hmocez0NzvNEEGMj2PeuvqbFVTxAZX8ADfWB80Kfpy18rTD/9mYAOBi8ZczCSL9uGQjDnx1umbfnxmau70LuL3cNFKl2/CUyyKhDel7mb9V+VJCvT6UcKZhS13nYb2+CijES5ibtu8iLXuHqxyJwtBYAbnCM4sWdRTJVhoPyQMJXVc8m8RUdlcKGJIIwdnZUY1d6BWRjFeSN+fIRC4xBYGEhMxITOhYgx0GgHz5otQRiAymFmgzgIAuFSY7rEMZCahJYbJhCo6cNvvfWWMfP4csMQ5Cf/zFC0ZzzP/Kzd4CGLi9w9z79U/FAOiZC/MBHsU8RGXCIagilhjkqqQ+1aSADgvv2rEh2CpgEcML+jzdVQEEHrsNx4e0qCOWZaphjIDKJyW8HrSyyi3Crn508AYE0bjD3zICFgX9dmv0RjQjNv/MX8F4ve8fE2J6Oq8/scK0lYOpyXQGDid/Dg17bfCNGjprQRYsVpAZAc5kpAhhYAI+86HwQf94U2GWTfOPZY8jZRD/kN51WiUxXjYpm9uOwsIM0+SdAJ2cjnww8/DB/px2ZEhIMj2eBlMDPZzeMOSu85PpBLfyOVs8AAYRdUYEaDidA0PDJspkZAxOTYjIZFtK7ADDEg/jcWm5kZQQrnE9MlgwHmnuz8w3W6F9Almp1u8MEw67/55ps2BgflRgHMBjcNKDBueWdOQ+1GCX/SyCkh+2JZjmvjQGgdjDzjETChT2XTN97Lfsnsh10MkBKfEcEH5dDbOeEDLeZy6BslNi9mWxQDuQ5Vwhwxp0+oPxuTWdFgWxSgih4ythhjhKVG2MDyAd1gAz7uo5HniIDSov5e1ljMoajaYxF8wtCzZoJzFIZsdoj3Am0o4ZMsiivaOydlLuc8K/HCcKnAGMALnUDBAp4TgSlRDiV4rkJlJcK00rItOwGk2T8AjDCMPAPsnCbkdJrQpnx0WBYylUUUUoXYQKtktGYHaKrMYQ0uBA9+uH9gYUh4lJkwJs2FaQ1T+ZvhdHh4yKw1CB8wbqataAbAIgx1wYCmYIXTFOHP/bgmLeep4OWXXw5Y89DIYymtlEbU5QOoEhh5hI/9uD+aAqAKkk0NPyCMxIXzF8K7UlpAo83yof5jNFXt4bmf1wuHsZ7qY8C7kPdGrhP6gGCc/KjV8xWCgL7gyfIlhfitpjgyN2P5eFMW05NSBJCwiPhmytbASuFeDDkVtB6ex/iK6RnzCnn33XdkrTkyC2sFZc57pYowAyu4hPdBQGKjQ5Sd+fUque5Bvpgqx8CyE0CcMBCyMQB9uZ0uRVgqQluGkQceCx+puNMIH7hcfS4zHe5MJDowndQED++sgnmehqEcYDIwlPoqqEp+0pLkBhiuCKdOnTR3BBh54PW4++0agFnfTdo7IyJST+YImBAwqButzvHjx00LgZAHzqPwUWoPWBn5FD8lTLdoog0dJoRMqm9MSNOnKU73JeAT7F89lOTjjL6DqwKTCa5O3KcPL8Rw+nu5Qmzc2Hn+jw3i/FUlJ1Pq18CF0P/nP/857N+/P88U0+dZ9AisHR2dFnt/Dkyq0PycK6l4gXfA2mIEFTrmP9a38TPro+BPxibr3xKcerjz/JfQ56gnzbCWqC8YHEnDpKg4H47IdcLdNfn2/IDd89tJ/LOMMJDjBAUxwkXhpO+sbElflLuxzrALtNk6AULWzpbh73ufsLlb/Z45nvOCSf1nfgkFc1blZidChmjegQMHjCHG8kEoW7wV6M/0+XTfZq7XjXzdCR7ylzU9SWpNrDLQtH2icVgSjh87nszp9tWSdbPA3dXdFcblxpnF5yz0NQU3X7jjD5dS3NrgM05IyJvU4nnSYnNHvpB4UhQDy0oAgSjARKC5Gh0bze18WbSNloEORZrTkVOD0h5W8IdyR+SyRAfFNMekbEyxdi034qXnEAvgBXbNdnZdQVXJKyqPfxWl3GvAzMY5+JszGSN4ADP3wTFMGj98HtkM0ZMTZWf4/dqfV/0oKuSkHdgwg+J3iTaCn+FZuOVZTJcWBmA2cLlTdPbQbnyBrq3/0hf4zU5hTjc48oN+0Idt5+8M2ry/+W3v4/PGnKpYar9jJ19oAmsRcEXwtWLUTdn09YuD2hW8V3SjCfo4MAEj9ALBA+UFwhP3TfMqnIIvJmn7KUIMKY1Tx6cf9ULypWY/l72zpD98G/7J3WOyddJwzPfev19WaSmGbNG5YOb7L/UbLgnO+HKVMJD0IWiCj34KTrqU9QRd+TMmlSnRDUVhkhgybeLIfDC8f9LHndGfnyu543kXel7t+/AY7FQOXMyBSf1ql/o058yTn4jR7+3rTXgOtb3eMGbbjHsmFlN4JOCDPvjY4+tx74uvvginTp8y3gN4+ZaW1K7ZC7/5/9o70+Y4kuvQZlevWMghOTOa0SwaKRzx5PBHOfxCH/z77fAPcLwnK56lsZZZuWLpvfudc7MTKIAACZIACICZZKOqsnKrW3Vv3i1vXu1R2iBNFs4KTNJiaUiBYxn71Y7i7rfe+f3vf3+ZpP/KIWac63/8x39MOzs7b8XIlw/Ijz6TpLcbciAIeAGexMepH6brPWQo2gy6H+qjRw/TV199RYSY+9FZkMu3hXrg4hFqvtHgC9J4VMAQuZ5AFGacK+k7drUUPtujR4/Sb3/7v9CmHG8mWGD3Rp2+Q+EM40w8PVeg+/Of/xy+5gpP1z2ed3iUWvUSITDrDNNBcy+N+w/T+t5XaXvUT8Pn/506e99hFJ2nLgwG8aP48c1s8OWjjz5KX335Zdq9t0t+xh/x4DxcdM4r5eIsZ3h6lAo+HWW8xcn//QNM8dNsLQ0FRauN3d3d9E//9E/B3J/WvvrtS2cKrWlVu7JTn1c6oQXSqFeG/TSef3sc7vr861//OjSZClhnpfPgdl7+WW28Ls+2yk+4htaVcZexSudqujsQcDr1J9pm7C7PlnPCapq66Xn3fjrY+izdhx4MOtCI539Lw4PvUrOalwpHR12ZPvn0k/TgwYPzrR+b0tc3F6kgXIQQvb+/ByOPMNWyzHh+7969o3WnsWs5gCl04vrGeQTGOJHfeIEQIo/kGMo4PIqnjvnTTz8N6025127hMmlDu93T56VvjwodTxH29hGO2qmUMa/QmPPut/Pr+csQuHUCiC9ck+IcCbqY+V9+rOvLEeFXKzWZq2DeA9H5ePky4+P0Y7VM+VCPPl7yJZhvmqKdN61kecZTkm2Y2kRJbbLDLnnC1nEfjZfypZ512+deX3VyHL53Y3CXMQUsNs9S8q56HLX99w+BZaebZrhgjTvbadZ9mPq4R2zPH6fe8oDvMgsfOlmEACIqcla+V78Tv+u8gdTZLhWWfx1uxrf3DqCwfcfixOyxx8JRaUg7Ffw7Tef85KkSqXz35fna9S/7vMBFGiFTX/r2WM5l7IsSo+Q5joymmSbma1vLMMjX8dc/l5oKXByv4/ZnnrBtp/ZY2/n1/HZAIPCJofpV5S+rjDvnFAFk0gzTYRql/qCHOLJKvcVBGkI3Gua/kqxhe34r4l7+hjYIVwq1juLidX8/BQfFtfKNe1Tod/1YoR0O03PLm657nNEpfzIsM41znEfjEKwA3Lzy3sw6uu/t1j0urzSVt9zuv3wH7bxyHmNjfO1U7rXz6vnZELhVLlg+gh9D+RV/vLMf7Xpy/QBLclyRNnnlQzS/nHu/fZ4rXPxvu7+L1zq/5FntOb4C2/b9cv4u4z9/JK+/o45KWJZxWON9jeX1o60lrgoCDRaOAYJGs16kwVyPbhYMrli4jVsFbDEzVrZuNp5uRAm/k/ZvtZIZPmY63masl/Xt+T2fFj4cj996YZzbfZXvvxzfZuyXWac9DsdZaMdZfbTLnnX/KvPsu/yusp/a9nVBwPd53hzgvHw8N4NN0Id1GrFGqbcmJOwk0wZdOM235BHzac3NtyL+nRZWTz9dGzdP37uqa8fnuDyayhhKOOkjXoR7nrevo8J7+OP6MJNjLuMtryiu2/mt8XmvvJtW9rWdFmHOURyLSdfW/Z3u6NYJIAXhbqIJXUSJ8XHkJJDsBLJtPqXyDG/zZQW52RCdt6lvnSPkP3XuvTx+z25mKsTgZo6ujuo6IOAy0j7CRx9GYojQ0VmjpUSDuULwQDyNyaosOm2Px2/7XXCv3dZ1nIunhfm5ieN2TIWWlPFdBn26KtiWsbbbPyuvfb+e31QI+KUdf38vj9L7WrlkXWUcPa7SALqx5fzsf4p4J2hGfLgU2aTyXZTvuuTfpGOhDe0xnTfe8/Lbda/rvMC23V8ZXzm2792U8yJ8OP7yDDd5vDcFbq8ax60TQF71MNd5r9AryZoprjeCgXnlfty80J9So7T46krnlX5dflDdVtNFt3CEXFLmaKS0VAp73c672DhL7cs8VqS/TGjexrZkPIoPP9+k0gbJb7iVe+6D+f2UCeTcQufd2CgXzrtd8mVsXpVkiByDJCO7i21Ki34sgNwoC1/VxBn3Sp/Cw3N/nmf4cEIyrzBmZY1GKVvKF8uQ17lGnJz6U3ppZ2c6kusd55f+S36+LrnH5a7+rNCOt37/Vz/E2sNbQiDerfgZyWP5bbIiJ3+D5U4pfVzi+Kx8K8c5N/fsVWN9/bde8PxsaJydm2FRMNqrs8qV+4W/aB+jfClwc0F75sheBe8zK9TMMyFQBZAzwfLqTHEmGIiYzDdlN8KHV4FkZ2Hjpui7HV6e4nNXJf+443KWx0uvJSPClG5GsWHevOqQn4uUgoU6nL7e1D1qsFzXY4XAdUDA77KIGn7W+fuM3M2n6qF8tZc5ItssWOExrovi4Yj5yT2+Tgixdsa4PNJoj1PzRMvY56Q1eDG8PGsre3Nq7TIiszzHRSNqKFDkPrICAgHkJfezUr+0YnnzSJuqm6ucVS549s7Rc+fMTFJKASoLn2ij5NHEhu5smo42658KgXeCgJ/XiQ/qxMVR0xEt73TRo7sfwknBwzZ8ct4xLrfgwK12yXLHGi32IchFu9xL98vNcjyn3dy+hWyhprsMgSqAXOjtFowpLIXX/vQedZLnt3ZSt7F8T0ZBhiEz9Wg04ya5+K5brKG8ekjLl9bjcnN13FNGwoKKUXYjQBTmJd/LDJlOKJqaQ4cJdTgmEI4l99ZuUYKTmZQePfsM9pDLOn4CH2/GyHkwGtbOdziJ83w8+RQ5r/6tELgKCBRsKEf62Hzo5Sssx7N6LxrBcjyrjHlFy3W63Ouuc3sZTzI9OLsHMU9qkGlIfoR4IvDb3C4PId1oWGiqD7eWkYQLibWazQ694vmSSj6+lOhEsjztsEnAUXZb92Bmxn5c2DgPagaOb2rh0ha1ueN4jpNj8/9RJgJG+9Lz41Rq2kZpB5onLdm8s9LLcZ16ViHwOgiUr+zU/Ok3u7mVv7zjcrbo99+2Lpa7r+rtNL63yxYa0c4r56fvnd9OwZFS8/jonTxHiyXg2UbZkXHG0ZfnlwuRAkSNuC0vUPYKslTGbLE7l8nUR9rA9REgvFeSPbZuUUhMz7m5XMFoa+S7+UzKZYrh0nbB/XZ7vofT9Cjftw/Hrm04P5P9Si5yr/lpov3IybnR4TX88b2232X7/Bq6v1NdVAHkwq8zo5eIkFEyI7RIDatAnn7oYgiIB6ZkTYJlQQ5dKrhPHJZAOBfH9vgXt2TwZRCsmv/w13qmgljlmHPjTiliaRBCQSeXz0SntBE1o23uWmaj+XTMUYMxe3QDtyBQG8Yg7m26y23511xTvpthUa49Hg3Ki5oqBK4MAvlbLN+j3135Si+vSyeW00zEm7XeHl+7Zp5Yg8GPSRbmgUcwZHBDn1KUnDLOEViYHDYI9UgZ79pyKDegNfHktHNUjXvRAn9yC7m19t+4H1UK3ns3K0cUfIRvZg4K61BqR83o3w1JPSlM0fEdR1dSPpc9snCWOazHyDa0JpfMtUuteqwQeD0E4svP3zqfmV9afEWen/icTlzk7/pk1uu7OqfEecxnoRsXpyEZT87qJt8RT43bJS8h7niGIoKbgUYxfzuny4tkCuIeJ4FnARVhBQ4GUnsUXoHlrS5PjiFfUYaywTpEeQUL2888h9ThKEUhr3O/9mEqZWxHKrDJzkOJEvmPNf050jV8SjyrdI1U6OPRey0nmUhFmev8U97vdfZ5F/uqAsiF3uoRCuXSMiaiUUehgmWwhANddnfSmvB3qw6LY4nIM1ocwtUbk6dJ02bEngX30qrppwV5HSbuAaFE+9TurKeEDx2nwXIC6WjHIi9oeoywdl5G4rmjMCSpucXGknO9u0FkjpupP4858jOie0cmKKfcMoHy8rij3Vwz1BiB6JlEBPHx+eNn7aNGoinvnMyJ7PqnQuCSIXCMI5fc8FFz5zEYRwXOOTnGjlOYgDJizW9MKNBJZyutiWQj298nslePHxQiDWEu5kywS+7Neltp2t0CU8FxkLVZI44YAWx2kLY6c/L5kWcvGRoZj/3rRC53ohXFCTNoVhTiDxWCIaGeUcXE9BKKVGVE6C9PTe5xmTvJms14dtulsQ2jIDNUsN8x+csD80ZmeczMzWwas0xNFQLvCoH88W1aKd9WOebso6v4MI87PMo/znrns7elHe2Oxd25fAN7H027u/AZW8GYr+Ej5DMG8g9GAASH5w18CL95Z0B5wwezrxeIrdji3kjd5WFq4EvE84Z7gYU8uPO5KWNnGxLH54HjQSWkQaUsx6ifazcIDVkukHrkukUxqmCU2w/KEncz5VCYMS/n23LmWKR4UCjGGjk0F9wIREiFx/EaQPuu6bZCoAogF3hzIkAg4BETnpGLmBppvh6lae8jdiv+LHVGQwjALKXJ09Q/+J4687TA1WrSu5em975MzRYbEXK9Jt7/UiEGxmE9e56W4ycwFI9Th5B/eerP7R8PLViJGEXJk2hYSi2Bw7Je1I2qIummjoPnThT2yEn565mWmajPHxFcXasEIbQPUZo/UcNa9kmpIABe5ztxsvlj92X0uUT7bj2vELgsCJSvLLd38uqy+ni3doJcRBMFEzgi2Ks0mPfup+X255hC3Y/ZCXWe9p89TqPOLPW6q3QIfVgMh2l9/7M0HT1IXYSPHoqLHhNyWuGGBc2Y7P+E4oJ9DGS8mPzzRA7+eWm/lHUMRdBQa5pThpb4nzEabCdL/PcOrMoRDls+Sh/RE8cKjYCGhRbQR0KgamsES/8xBupnmlYoVGZlbDXDx9ajB7uqqULgrSHw8lf0co6Nn5371t2+tmLI5nT6Nv06D8+aATzGvTQb/SKttz9lkh6i2wT/4B06s6fxW80P05hNFpdblnmY5t0RWIxCU5dvENKNFteH36clv9ViHLvAtwWk7EXhCMsoxd6CwWZnccG5X9et7PAdyM+9zGtIP7IgYRvSCVuzjcJZhO3GQpsE72IwEYoU2pVvmC+foWJEnkgKpuCTeZQVxzU0NPcqTStjLu3W422BQBVALvCmjj7vLN5TQ+RC94hWIhiJ+1+l6e43KbG5UdOgkUBzuR7/zKZAizQD1Wf9+2m++2Xqb92DYRinFTtsipjrPvs2rz5Ji/GDtH7eS/3Dn9LW6gBtKMTC+zL6gbwevQYdsbnqD65mIIytDM5hrdB4qLmM4pRWwDHBy0Ra8HfdhXhID7wFM2ObCzWwMhDRDkZeztcrtScSBnZWoB1jizfLRWhRtJjIMOkW0mlwJHMcMjrRrMTJVoVQTRUCFQIZD/JfMc5/bqi5vbWVttj9VwvH/hJ8Y77d3nqU+uPnabH/OB3OV2mBYmMH2tIbfJS6M2wmiykIjdWS+p2dj9Ji9FFK+9+n7vgH8BPNJsJLTNHQJjFSHadUYiF+h6+GtALmQUEkfuI2Ezm/hZM6yB3ChDRGnOYXq8mClmTa4ZMEhsuI8GugE9KKoBfxuqEO9GGVFZtFWp5tI6mTYvPIFWNxvxaozIayRaX6p0LgTkEghPTAFDHAWZF/uix6BX6JO20BIG6c8UceYAEerftbabR7H6XETsK/AtwapOXuI4SPj9PgxX+nxYtpOuxuI3x8kvoPPg287y+eYyGZYRnBaoJA0htuo/DYTs3e31J/9oTewNNwyRajwXnHhEJSoSdjZ5nHpSQKMrIXlsPCEtyHA6aO7lIqRSRiG74jzn1mrnPofIsqNGgJ8fktSoP8pFHSBWmSLqjeh1WBh4Eucc/68jM9LSxSNcHIr630cCQ13T4IVAHkgu/Mbz4nSQkICjLNcb9Ko4dptfN5Ohh+BnK7C/AEPHuadJqQ3swpp+l00v84rWA2Fof7abZ/AMLB4I92U9p6kEb3ojRaCsSE8QwkXNCHTADoTrlAUNpz2p5KJHhrPYSQHhaToQwFyKuZdolAAB+RNzWjHOIQ6JolkDn4vVDNqRaBMg2uYiI8+tYYoztDi9SSiBXaElgiatNnF+JHW8OEYCQR6up2Zrt9CjMQtCldiJzjtW/bkHzVVCFQIXASAk6sJidURYTJ5CAdYAF5seil3Xu7aefBJ6np49I5naT9yRRcu59Gg0dpjQBy8Ox/0uwA4aTfT83O/TRE+Og9ekhbYCxuFSvcMMJDPFCPPGhCF3o0Aym904CrTthdaExQEuiGgoI0RneNRWgiWWXizs/g72KJW1f4WkDv4DzM8+f/FcqIBrqgIBUMRbh7qA4h0X4XQUgOY41bajAby3360UWEZ4NG9dcTFBe0F2OotCIDrv69KxBoCxZyC177W4A3pj5zdVACcMS0jokzTl/6I9ZlBh1LKQzF/uFhOljS3mCYhvcepW2EktHiSVrs/YgFBEFjcD/1sZbMUXJO4DMm8+e4f0NX7j9MO/AoI1y0Rkvwc75Px87bWhhycl6XFiwVboIDCPECfgSeBE7Bcj3GvOyM8Pxg/t8kRKSsGFE7Cb8i55CtouI4P929+EX73JNR6EtnoDFdeA0VKgvqBd9gkA34GqlJVvJmTqQbvAtjkH4xBv8J25puNwSqAPJG788PfmNSAF3CxIkLxPLwZyblYeqilezCEHRBMC0URy4PChJM8H2Qp4dlpLP/XdwbjzGZLr9Oy/sPEGJ+kZazw7SAYPRn7uqsDrOD1nCQJvp19j9KyxHlB1shBCgkzA9fYGlBkwEij3usQdlBGEJTMl3gHNbwk3FAoFHzshjtIGiA/BDBIfmD1TjNx/tpLDHc2oXxGAWToj/5cgJxmqBR1c8UIqebyBLrzBiXjyXrWTQJo75NDRqV/uEPabX3fcDFzeAKMXsjsNbCFQJ3FAIxRTIJM53GpNlRjbiCAQCf+uO91B19lhYztJo9hBIVEmgoF4N7aDw7abQ9ArX3QxDojr9Lo/2/JOyrqTP9KM3ufZFmD3+VBuDncrKDeeFxGoLnYHj0pHV22uxAM3Zh/Ach2HQRQtbQiuUc+oI1pYPQMkeRsIBpWXGUcZBmNKxHm8y431drCq4HzctWE626EwSkLnRjCC3q97c5R7BYwGDAOKwX3MMaM8RS0+sO6E9mB4sp96a4naXhFrRpBghehKuqvus1VQjcJQi0NfPOvXos/OpXv0oPHz5Mf/3rX9Pz58+Y/+HJ+ZOpgjh7dpKPGICnafIEHMIzYu0aEF2tmMO3ccWKdafM7+DtUoFG/GVdSHf+IvX3/5a2Jj/CM+ynKS5a0/ufpu62Cs9foDd8nPrQlp7u4FRTDBljQZnBZyyG0JThg5jLnc+3l3vwLD9Ap/TuQNzY+TTNtvhBB6QNO5CI9Wwv7R0uaPth4P1kMktb/SZtwWGOD16k+XwMTUMhgeJEq+lKAYR1bOvDp2kCTent7KbtARYPys33njKuSZoxnvnok7Q9RDhRiQHvtIA36klDpUkbuno25GrubYBAFUDe6C3x0SvNh8ZCQyWTOYi3WP2YVvNeGozQCiYYc9p0YlWEkMBQiToIIDD3OyuEhuVjMB7kxR3rOZP/bPte6mtJGTyDAejzy/XhPJi7+2kOMVjc/yatdj/DZQMzKpO/Akh/+ATi8S2a0afpBe4aaecrfhAXRtBpaF8G4zkWlxnjfvB5WipkyHzolzV7BoNCfUy6ze5DFreNot1mBeMBYVrvPUlrNLRL1rYMGN8azeUU7ctkDbPR200DxtLfvo9wg4CD9kXTqEJTPGs88xsBthauELi7EACfXYyZKQEMCUx5DyZ9C+ZhAn5HRDxwR6GhB37rltUZIcxDSFZYNzrNPG2vn6YH0Jnpkkn64CD9jFvF8sE/YCHZBj/B4QNoDx5acjLSnIWKCxj+DvSgwSd8jcXCJeux4oRJfD5+Afl5mhe4P/oGpQbW3DmaTOjSEDfQBRaYOQzAcHub/sFr6FmXiX8+nwcdUGHRpd0VCokuP/2yZ1PqTF7A/DzHHVUaxDPPEKB48PmCev0HqY+SptOHkULHsZoihNT03iBwglEOZu69DeVOdix8Yy0msP3yyy/Tb3/72zRineh//dcf04sXfPveR0DJlOFsEGgVGDDHhnIPheCou8AKimKij6ABPi5Qak7BrSXnYYCgGRWjvfVB2l09TfcWeW7WojlFWSB/sOOasi1wd663xQx+AeFFWqTCYueXKES/Zr3JZ5KSSMMFa9N0FX3yowQJngCX80e/gfcZM3ZsJT3oxuGTtAc/s3zwK5QSIwQJ8rsoMJsFATd+Dj6hs/UxistPaFeLR5OG0MD14Ie09wJXseH91Lsnf6LVBmUM7c16D3Az+03a2cWXY/x3rDp78CjZeqwPRqGoDrJtdcqjrn9vAwSqAHLBt5SRMTsX6ZIEJoIArPAA0ZvlNkzFRDQOoWMVxACCQE6U5Trh8pSNqUzM/NO6sAXyH2L1UCjApwLKAXtgzP9N6w6tQ7nwyoQJGKMxmB6gSVDjiEWjv43FZYn2Eu2GfqI9GJhGrSV1BiBrDy3jFEKAXiIsHF0I0PYKxoeFa+uJ/qFGz6BPxjDBlWrO2g+kqDTY+RgXsg6EbcZvnXbor4v1ZQbh0l2kGTyEkCpo4afO2MM1azNqKISjdug1VQh8sBAIYUNhQCYDKGSMyFQkMhDoFdkn+FMuwMu+rlUdI9q8AJ9/Bi/XMPT9tIXFAFsCP1qAidAPGrUhzPt+Wk5ZT4bcsHLCR+BQWWE/MiJr6IVulmuEDXSQuGEtEXaGuGxspSG/JZrV+QHKCd2keviNs+C91+zRNFIMVlJds1y71gHvB9Ku6bPUm0NToAkdxqD3Jf6kaR+N5RIX0y6Wlt72Lv3i8oU/Og2g3MhWVV000GemMfQjoYFdrJ4H49WlzNumI4aDZ30VA/e27X8I9Y5g+CE87DU/YxHuQgjZCHd/+tOf0k8//RzWkO+++y49/hnG/EjwE3NJm0O+2PyFWV+jIFyNPsYj4Ys0wJ17PsBCARLOmccnKAu6KDhzpCntmHmthMIBSJr6yylKhXEaT7FGLmiL+TxctqEBcBLgM9QFVBSPHK8WzNXe33HfJAgGysbJFvTpoy9x6YLHQWmwRFmxRAEyGFAfHqNziGAwhg+CTi2o04N2bGEV6aKM6CxeBN1oWO+6Wo/T4f6PWHIgHig3mt1hGmCVgTQgdKzgUqB1KETn2whZuJCt+rvB46DRoF8Uo1hK5C+yUCdsWvTUy5puHQSqAHKBV+ZnHp96MBOukvBaOR4fRpC4ByPvJBsCCAQkCxCU4fyoLsRAVsQNCI1oY9hNnJlYlA5iwVhEwixpKF9NqXo+ShIUeVaYPif7EBo0CiuQd6m7FZrSqX6gPfw1/a1kPlivASFa4EI1e/Z3hAy0CGk3rbYQQNRwwqA03Fs++2tEwljibzlXQJmC8DBCajPnaEFwGIW4zGJNyRTC0KzYgwDz6XznEQIQYxt+gqsITM8U31PcuGBnGCu/YI7OoqD58erfCoEPCQJiQlEmiPtO8vIbUg7NG3OZfFiALotJB1gautCRyYvvmNC/Q9YgH62gFKCLC5VtGeZSrWf4VWtBRRspD+86riVtwWqEcKAA4uLxJW5Wa4SUxYxAGAgGc9wzD6EfEwbRILB0wPdFZ4c2CBFO3TluG51D1qfB1IxhJGa4gDE4xoymcwKtO3gMrYNW0cYMBmGJwkSL6AzmooeGVAswDxLjWOBytaD9HoJVBxo3xi1kjpW3GSCo4DrawZIyOmK+3uKr2JCZKny8BexqlSuFgEx8EUAC4Te9/e1vf0v/9m//ln73u9+lX/7yl4FDz549xyOByHjgy1Gd1ujkH1xXgYSPqyQWAaJgrboErUFx0MAPsMyLuV281w9KQQKKAV6p7JQKyJcMwNltfnhmQ01UZxr8Rh4EKkEo7+AbuBYdFWaaFd4PlJ0lLKcEy5hsb6XuoI8FBVqAonJNXwohfdzP1/tG43uS+uR3Gq0b0BXpz2QvTZ4RCZTF7j7b1LVqg2kINcuEJQZ3q/ESoWoA/Rkcptnes3SA5aOHG/liC2sN692aYXbzns2fYRFBwNFCqzDGP9eUBR2UltZ0ayFQBZALvDrnupjvgnmwgmRBBJeRUPPg/TIVmh8sRjAHRQixrAJKIA8VXJzu+o45C8d6uFRFLH5cMzS12pra0SUCg3sFjCE2huHrYJkYoTk1zvcKjeMC4rMA2/XhdFG7jMcAC8d64jqTH0BYkBg/TPf2GEBOQtAhDF9i3YYLzcLHkgWuRs7oIfh0EWQaXLk6jgdq5Z4EE6wjWkiWuGEtdr9mIR0WDxbOG+1L/82EGTaTAP76sAENDjVVCHzAEBATTGK99KBghnZQF1weIOSPG/ytd1gYuku0KyjxHFfGxd7PqTc9oBTWTJQMXTSFuji5a9Bgs1h8jSVDDWKnxxEcbQzJCdnobfBPtmMKfo/RmHbwoVah0GDN6EJHjNS3xDWzh7/WEGvnDP903a56CAldBJ908F0aaOlwbGgc+7h6DqEjy4OfEECeQPWw2nRda7aThiyGH7lHCbTJ9WDadDpoWpsOeyBRd41lWEXJevApzA3tU3YAM9I7xJoy3eOJVFy8XSrU9u1q11oVAtcEgY0w0kXIMPiEQsj+/n7613/91/T111+DF2vWhLDGgnKex3ddiAdDDLpBfhdlwnD8Iww8FKTLukzwegmz3hs+ZB0YkTTxglij0pQ2GBhCzwaFjQ6KxTn0YwruLwlwEdHwaKuXDlF4aDlB+ch8H0IJVo1pcy9tYaV0SfjIdafgryGplriey/D3oRdz6kh3hqwNGez/HUuHkTu5z15nDniEYJRQTo4PfkSQeYbyA1rXI8IfCogR68YWm/1KMLsG76LFpkdbqzH0DD4jlBjQrgFeHr2w4mIVXuzzTCh6EZgy73VN7692c6UQqALIBcBbmIfgJSzPbK+GIf+NDDM3vyyAlA14wlzIreyKAZFBg6nAYLQJmQQn6I5rM0RgFnCiLgh2RYFiTpmZptftR6n74Iu0HrIRES5PeFghbGDupB1D6GoxMZyuthlEFhiRfTQeTPC4h6F3pB0mfcyqRpAYzJ8QOWuPOg8Jx7GTuvd/icbhY7SlRtLBv1OyRdv6e6tTRU2Dp8VemuLuNePXLNB6wLisWBTWGcNIQIwUQCwtq1VThUCFQIZAUAQmba0WjW4OQTXE643eCY4AABafSURBVH7aY0Ieb38D84BVAAZAl8gVVks3MO2iiBgOyYNh77oeBDqhlrKzYqrG0rlGE9lloboMhe5VKgtCAIH0RKhu+poZqSbWf7AvwAqrBIoM1RCKRGpcmy59YEHtTtQmTqEVC0KAs6fAkgh+CCiwOwgn1CB/2zUhhPQcIZjMYB5693D9fPgVQg2uHIwpKRDRrpaOPgLIsDNmrQqUZ8YaMZiYDs/gGhIXsMbiWNafbLm2BQpaU4XAXYeAwoXCvD+FkMePH6d///d/T//yv/8lff7558yl67SHUGJSQdkWroOGwPQbGMLNitcI7t0u8/oM6ye4mO4/Av1QAOASvcJq2uBeJS4yuYfw0UEQWUALprhS6aqJg0Ra6zaNGyfxOfnhRk3pFQEjVggQ/Y++IMoeQoA8BuNyjYnhtOVZnOGHKiygCdhTcCE/TIPpT9AevSTosYdVFELUh5704A/Sah+KA78Areuwzmywi9sY/M0St275DBUxwkYBZEDZ1QTrzIJoorikdnY/h75AL2graZmlL9Qq/BBAgtHwGYVOTbcZAlUAucDbO2KsdX+Ir19thZYIdjjHheEQrYG7oXfD/IiLA5P9fofIVmgCl2okQGBNhzOQbR+isei5ePMjFomCkCzKGkAYRpgZExNzX+3ExgpibGwJQwe/yA6uDVMkjumLfXwojYnNniKaXiU2aD7VToiSRqsTMSMYHvmxeY95+mr4X/pBSQlAgzaii4+5oTqn+IPPp6xHwXmzh+bBUMA6iLjbqnuazGeYfrHADHYUdNDCEE64B9OklUSieazj9bySBt9CTR86BMS0HA3P0JFO4Ya7VThIO4TGfPB1aBdn48P0An/pAe6OS9wdO7hYamlYR4hKplwUAocN0ay6vwiFRMINw+hXDZP7DoJBfwLtIHgERCCsoOKfv+yfQZ8wEROslYa17OIw2R2hYIAQTOdTBJpswe1RQboTuEw7KkpolIbgRAy8AXHhb4Tl1vpKDFCYINaljec8zxwahoDBYlQ1oYb6XSCAaD1dDlnoSpQ9OoRJgZGYsv7DxafSkDxKR1pThcCdgUBZ19F2qYrQ2wgf5d54PE4vcL/659/9c/rNb/4h/cd//Ed6+oSIltIJUc8Dc7p0YObicJQOKhn3kARQL+a1FjDw0hVdrtwZvdGVG+XFqgOtoMys8zF7gyzT4dZneDB8HhaFgWHzDRTBelKFj9hXjM5iORYW1R5KRtiLNGVNx+QQhShKiiVuUuv+hjZQVtLQUMFYNipFVLbGkOFXHLiUrsu45Al0DXXjxJ5eEwgWh7hrHexh4YXv6OE/Zhhx1KwIIGNCjyOATOwTa+32L+BxFHBYRM/eSI0WWiiQfE6Gkb34q+k2Q6AKIBd8e4FggWZgHajAdA2C4x9JnP7EDqX9IREe0PRpyjRK1Hr3i0DyhkWbaxgIa82o1xCGbgnSLvXrZjF3b/QpSIxkTySrLhaFPuWNkZ83BdIGgcYUJI4dQxFGemgdGydzXKbUSEgMQqhQC8G1G/jIRIioEoFgfKAoIZxI3IIo6OKVd2SWJXEzMhfBKkAtcNFYa41BAOmzSD4i4sxYEDthwesWZXr0Q/SMhI/niGhZjlDSlMlOJkTBvEgn6K2mCoEPEwJSDHFAvBSfAjvBa2gBlsdm9xepcw/tpxHnxgj53B+iiBjgG90s0EZOwUOi38zB6zmMx8oIMjAZC9ZkdAiDOdrqoBF9lrq4WnZibQYukYGJ9kNRkC8cPkX8Hhfh681YuNldQntoe+oidhd+WoRfQ19LfuJzRl6pVogd0Xa2tOK7TWnjaUmDOoToNiRvgwTTQ1CRCdJdpGd0PCy6Rutbw4C4z1BjCHJ3b0apEUKNzERNFQJ3EAIKD0XY8PHKuW5Xpq+++ir9/ve/TztEsHP23GYNWAgglo2cPHvqCbHQ/freL+EdRsayAXUIf02oXAV7FRxLwuGu+DUr7oN/umDNUYqm7S8JUgG/Ia0h6pVkoIHHWCEENASx0MsByrThNVB0SDSwtrrWrKNwQMQuBRAtuFo9ysgyvcgCiBH8pBirwGWtvBbjiRRAqOa6kwVKjjWWmCU/tJ7E2iHs7oAj7YZ7OPzPfSwdCwLcHCCYpW1oGOtd9AYJd1R4jS70pITnca1LphwZRnZZ0+2EQBVA3ui9+cHLUoBQYZZkUy0ivXx0j819YNwXRLGZo1U0VJ6RZnos8F6/wLVpicYBSX6Aj+aAxVxwH7SClYLoDov53wmhSUzuA3YnneICAdbGrqCgWGgG8I1MxPLGoRv5hk2GtjGZ4vM9g/kYTldpmygTa1wkZBx25qO0M8MTmzoukKcx2ASEBe5vLxBwIDd4cEMccKtAjzKbsIfHPpFx0MZ2hzAauH2wnyprO4iUhSuG7hTbxq/h1uTgGWbRMWH1EEoWRr3gmZB8hIjaE/gLziULmTS8EVhr4QqBOw2BMlGC00gAI/QXvYTf9+SvwfSvmZCHuE40E+kI+DPrpC3cJNaEyh6wx0czIJzlFiy/wgfumkvoRh8cXOETnnDb6hqJBkXAnLb9B4eP4gDrhnsEqXXVtWKIRRNhoIdSocu+HH18xrssIjVSVrP4Ofy2vTaynwKTEfKkGdtT1oDQly4gsDXQGmgDdKM5QGBiQflqZPQt6ApKiwHCRW/ylDUjRNNy/YghQ6FV7mWghWWLPgcyPkuVJ7qKQJtCwLnTL78+3AcKAff/0PJRhI9vvvkmBI0hEed+JgKW60KePnua/vM//w+Lv5mXW2UFmUy8c2rM5eBtg2V0i0Xh/TWu2w04t/o+rZ/BnL/4FqvGk1hH1qzZpJQgEcgtqUeUKVeCaH1cO/9j+VgfEkji8Eey8mZ/YqKWTxwuiY75EyH1/x8hencJyjlgfw8tGOA/1pJtzB2N67ugC2u8NbpsJdBfcITnCYcqxj7C9btDyN6Iromrtvuluy5sBF1Y7v0FmnQ/omMxPISSQ2jQHuoPaANR8WJzUka7NHIWobsbAmYY3CdBLxqsOohDwELFrxCRnioGmVSSmMwrdDYy6p9bAIEqgLzxS8okwZ3Aw9rhfM9C7DR/DKGRYLjIdJr2VlgInOBFROJ0d16g0WQNxyHWhgitK2Ij1Tsh99kUaJtoEYgwuGwp54tsRtjSAoEv5RQtyHM6GsOAgOiaPntoFSRMDQi/hY/kGoajt++aDdAUhHdDQTc962pdQUjp7usaQZtoXLvcS4YPxo90sgf5YIHXisXtht7U/uq6jrSEQEIMdigbUTVwp5CB2WbxuYtUuyyUNYpGjj+eRY/8940BWitUCLwWAlmjBg7cutSaGMFHmXtCx4HzP4H7WiBwYtSdk/wZm/lFqF3ohdbHNZsVMsPjfoFgQN1wyCCsbkTMgd6M8L/u4n41QkmwQOjQUqLaUa3oEI3iioXjUyLoLbG69l1/oRsDwwm3DWhWCBYdGIpDI+ZBL6Ab0oZSPxHMolnrMoVgQXx+dxLpwDgsEUAMRmFEqw7WnKCFjHkNrevRxhAGQhPMCPqgiKHlBkcOLKa0wYJVBZDOGm0tY9baWlOFwF2EQLGCeOwR4VLrxzMEjp2dnbS3t5f+8Ic/RDSsx49/BqdRa8IbLPU+4F9JMafqznj4PB3CX8wHCvZsdoybo/Nwg0DRN0Q21zLmq0PpCdYEhBTXY5g7gofoEf2yL4/B4vAuCkkFg2Dn5VnAU5iM4EFmz/6IReUR/WB18R5WCPyvWd+ByoD1JyogFig+1k+X7CVEwAyEBC0k9j1A0ZrY/BDnTqy6bCaIpXObewvWgxw8/RPrV1i3huXDjQiJMR59rliL1sD/NDEmlBLQRndpb9hssWGdGOGxMt8Cb9JoPZZeBHj843xQ5oRjmJFZ0y2BQBVALvyiCnudyYPM/9CFXCDjkrUQru5SbABnOYLcahrVAGyk994eZlKIg9NtuEeBpqGFUCiAwKxh+t0/JGsEPerbiXeXpkcEjDluDasD+oj21QU4iROWF62EoTG3YGJS7IwOA8J1mCzRoEh8ljMYB8yb4VoFk6C2tK99FOLSjGEm8Ms2aclYQYzsw9CbCwiIC1eXIH6PBWENzMoAn/POwfcQF4hDPI1j5Sf+bw4CwcuaKgQuCwJFi3hZ7V19O+JFoAR/CzaoEEC4cEMtBH9smiH0K/iLy1IYBQAj07BqIgQNLaguQBcndVkQx7QodDfaSMvr8iiz0BWnTRzcvMzNRhUcVjIdNoB7hsIH/9EqSpuwiEBHVvsoI+izC07remlSi9mZ4t6lBAFDE4oM8F0Lyoh2DVqxHmMJxv1KarSiPSgF7ancgDaw9q2HIqaLVrS3/A5tJ+cTIvChNbU9XcKkH0JmM2rObka6iWO6GZC5eaPwXUU69REd5Zf77+EYFgyRjfSXv/wlNh/84x//K3322efp448/JvoVQgXeBl9+8UX69tv/AZcybrYxQmdpg8msURauiUbXR1HYRdGg0BBzPLxDT+Uj3YxQFMz3CaOLckOctB0VDioKGxQEXeZzQ31nt+kYllwEpUJ0gZ/BwjH5CTIB08+cL2JKUtxXTL5mZKhd6M2SXc4XRthk48GGNm1DEWYL3mD1Apze8B+Oq4u2dFt6MP07PAhKW9aJqETtw3tkR3DoADQRYxHrXaFLWGuGWHi7rBfr8RxdeBNpjjTOPvIebMLUn6lYQsp1zq1/bwcEqgByofdUPvgihKhlZHs/J2vcCo6RQVQWmU9RQ/sAoWJu3vT3ErqQIYKZ8j1JiAwJVhCEGDiWuBdU4Yz2dWiAVp1MDINYODScI2x4szyJwg8iSUTdaVcKP3KQPetqYSzw2Vyy4dEQ33Q4DjScTwnJ+R1Ck4yRRAQ3rBhweeYqfLThWc8/ZAhknCgUQflBBj320mDh+dYZeFygVXyoExN9xtqCX6XE8TFPytKKY+qgBWSElcIkmco05bjOiTOVkaTcZ2A0FgssJOGSdbJfd05WqXKS1tj6yXISBV1Iu9CtEUqPRjcxF5SiJe0g1WTvc6YfGRJrF+HJgbzvJEG7SeN53/C44f2/8tu+orFfxCJrGZNuWN9++21847plrdffp0ePHqbd3V2COIzTl199kX786QcCTiqUn8Qj+Qwj0Q1g4lVKHBkAbLikDQC2UDps4XlBFVrJmfIiBT4ebd2fvIYO1AoWUYaGCakDzWCfj9N8BGVLG56soQvif+RthhuCjpYPlCvtspbbws1zRMAMx3VWMqDPip90rDdo0nYPxaguY1OsO1p5EGSkF471WODw3IwsaOWnMq+m2wSBKoC88dvyoz9CsU3tQjQKq3F+o6drvlyytPXynZzzuvvn1TuZr4jh/xPj4SLIFfmZLUB7gnZiRFjNnpqRp2pS0KZCFGQu1ph4TdhGQiOTyZoaiROtRpn6p0Lgw4aAGFdUDELiNXh8ggF+ddk28y4zYWpjYPs8bp7zp7STy7+elh03c3J8XmkFHuLa2TmENsBXrQ27q3tFwMAeVK/cUGXFCdgfP2U9qxAoECi4Uq7POhYBpJT1WmHk4OAg/fDDj7hffY6FoIcQYhAKcOQC391FcbnQgTIulR+mkK3z6ct/S5mX75zIOXMMr6rLvTPrtFrVQLuFckNX9sELNSLA6gA3cPiPHPmqVbie3hkIVAHkjV6laPQ6VHqjBk8VFos3mHzqzqVentNFzs7PKGvgxmYRLhPXjDluV0sWouurOcTn3BC9Rr+Q1TDUb4xbgSSrKS51uLWxCoG7AYFzEO+Mh7t4yZcrn2Y+Xi7xqpw3ETxebsdxG0wnFrK7Ns29C1wECyOhy4Zjy+4h1n2Xp3y578vKuZmjuqynq+28TwgogLj4/IcffojjvXv30l//+pdwtzTf9V0fWpImKICMdPtkk+SVLmRISkbT01MjhCZZjJruHASqAHKhV1qmJI9XhQmljzKg09cl/6r6z0+mnjaYBP3SETA818jZwY1rDYHQhcRoOCd9MBwTPxexe6ypQuCKIRAWPPq4oTr0K376m9u82O/aNV0muigqwr8bzW5ebK7fRqZrvrdKKW7ue6wjuyIIaOWAo1bQ+POf/xxWDwUPw+BfxAJyRaN6z81m+iCf4YaohgF341bXuhmoAu0FP+H2nodZu790CFQB5MIgzROnU+v5SQx5GyyxzXa7p69P9/g2fZxu46xrhQ/Rv4xFIQRiAAHQb90rF7+Zp6FD+8dxqovBjmFRz64cAuUTvSpUuPIHuLsd+EqMpNWwDiUi9vOupBpE/w2a0XYDseyHy3jd3W+gPtnZEIiZ3RXXJK0hJc3nKvU+1CRUNqG8oROmoAvwGaopjvmRuFX/3CEIVAHkDr3Md38U0V49xHEKmwbShndUXrpQTGbiZCqiyDFBPXm/XlUIXC4Ein/15bZaW7ssCASjJa3Y0I7crrkKHDIYm/N8o/6tEKgQ+EAhoDJTaiBNkLvwoggeBsNRJZo5kA8UQHf4sasAcodf7ts9WogcVFWo0PoRosdRU8a9WpBlxJ3Qbkotoqz1/Hntr6YKgZsJAYWXqnW/6ndjjDxsptAKNyHMNMIjzIQkpaRKKgok6rFC4IOEwDHH4JluV4IhqyiKcCJL0SYbHySg7uBDVwHkUl/qRWbTs9Co5B2j4quH9ap+SluvbuHMuzaLmaNEzDguk/uL22QWEeX4funTErns8b16ViFwsyBQhY/reB/SAZUY2anziHvYSB8KgUFnNqSjvpPreCe1jw8VAqFHbD28aNeetY8uWmWu77TNM2S1ZoyH7I0YcjzY6xtU7ekaIFAFkEsHchuZTjdeUP50vtflnvVf1car7pV2S1vl+uLHCHm36T/3dLI/W9b6cTKV/l66cbJYvaoQqBD4YCBQmAejYgVl4FgoxQcDhPqgFQLvGQJnzcqn8fCsMtc57Ewr8t9MJTzHGhID0wWrprsIgSqA3Mi3eh66vWcycd6wbiQM66AqBCoEbgoEgnRIvjgJf+4WKavWj5vyluo4KgTeFwQKc1GOrXFovjkju1Wint5SCFQB5Ma9uNdhWmvmvnFjrwOqEKgQqBA4GwJStuJ25XkVPM6GU82tEPiwIBCU4ZxHLvxQ5XvOAdCtzq4CyK1+fXXwFQIVAm8KgXYErcoEvyn0LqG8+4JcQjO1iQqBCoEKgQqB2wuBKoDc3ndXR14hUCHwFhCoQsdbAK1WqRCoEKgQqBCoELhECBjQqKYKgQqBCoEKgQqBC0OgbUW6cKVasEKgQqBCoEKgQmADgSqA1E+hQqBC4FZCoDLBt/K11UFXCFQIVAhUCFQIpOqCda0fwbt6PpcFWa8a9OvLnI4J/qrWTt971yc43V69rhB4WwhUV6q3hVytVyFQIVAhcFMgcAZXQVbZsLTz8sZkN2XgdRzvCIEqgLwjAN+8+hnI9kaNvF7AeFVz79r7q9qu9yoEKgTOh4AWmyo0nQ+feqdCoELgQ4XASc7kOEzFyfwPFTp39bmrC9ZdfbP1uSoEKgQqBK4IAlWQuiLA1mYrBCoEKgQ+EAhUAeQDedH1MSsEKgTeLwQq0/5+4V97rxCoEKgQqBC4ORCoAsjNeRd1JBUCFQIVAhUCFQIVAhUCFQIVAnceAlUAufOvuD5ghUCFQIVAhUCFQIVAhUCFQIXAzYFAFUBuzruoI6kQqBCoEKgQqBCoEKgQqBCoELjzEKgCyJ1/xfUBKwQqBCoEKgQqBCoEKgQqBCoEbg4EqgByc95FHUmFQIVAhUCFQIVAhUCFQIVAhcCdh8D/B0PiMLAsgiKeAAAAAElFTkSuQmCC)"
      ]
    },
    {
      "cell_type": "markdown",
      "metadata": {
        "id": "5eQ4sAkMbzm0"
      },
      "source": [
        "### 리스트로 배열 만들기\n"
      ]
    },
    {
      "cell_type": "code",
      "metadata": {
        "id": "Mtod2jcPWVvV",
        "colab": {
          "base_uri": "https://localhost:8080/"
        },
        "outputId": "08cc1d9b-ccc3-47ad-8697-4ed0f4bc2f43"
      },
      "source": [
        "#1차원 배열\n",
        "a1 = np.array([1, 2, 3, 4, 5]) #list를 배열로 바꾸는 것임\n",
        "print(a1)\n",
        "print(type(a1))\n",
        "print(a1.shape)\n",
        "\n",
        "#리스트와 같이 인텍스 방식으로 접근하는 것이 가능\n",
        "print(a1[0], a1[1])\n",
        "print(a1[-1])\n",
        "\n",
        "#간단한 수정도 가능\n",
        "a1[0] = 4\n",
        "a1[1] = 7\n",
        "print(a1)"
      ],
      "execution_count": null,
      "outputs": [
        {
          "output_type": "stream",
          "name": "stdout",
          "text": [
            "[1 2 3 4 5]\n",
            "<class 'numpy.ndarray'>\n",
            "(5,)\n",
            "1 2\n",
            "5\n",
            "[4 7 3 4 5]\n"
          ]
        }
      ]
    },
    {
      "cell_type": "code",
      "metadata": {
        "id": "kILq6vTMIfvw",
        "colab": {
          "base_uri": "https://localhost:8080/",
          "height": 166
        },
        "outputId": "7b98f35b-55bd-4eaa-d170-eefadd88faa4"
      },
      "source": [
        "print(a1[6])"
      ],
      "execution_count": null,
      "outputs": [
        {
          "output_type": "error",
          "ename": "IndexError",
          "evalue": "ignored",
          "traceback": [
            "\u001b[0;31m---------------------------------------------------------------------------\u001b[0m",
            "\u001b[0;31mIndexError\u001b[0m                                Traceback (most recent call last)",
            "\u001b[0;32m<ipython-input-8-0682ae5cbc1a>\u001b[0m in \u001b[0;36m<module>\u001b[0;34m()\u001b[0m\n\u001b[0;32m----> 1\u001b[0;31m \u001b[0mprint\u001b[0m\u001b[0;34m(\u001b[0m\u001b[0ma1\u001b[0m\u001b[0;34m[\u001b[0m\u001b[0;36m6\u001b[0m\u001b[0;34m]\u001b[0m\u001b[0;34m)\u001b[0m\u001b[0;34m\u001b[0m\u001b[0;34m\u001b[0m\u001b[0m\n\u001b[0m",
            "\u001b[0;31mIndexError\u001b[0m: index 6 is out of bounds for axis 0 with size 5"
          ]
        }
      ]
    },
    {
      "cell_type": "markdown",
      "metadata": {
        "id": "3voofkyFIlrP"
      },
      "source": [
        ""
      ]
    },
    {
      "cell_type": "code",
      "metadata": {
        "id": "ytCDqAiiInG6",
        "colab": {
          "base_uri": "https://localhost:8080/",
          "height": 166
        },
        "outputId": "b9e32605-c3c8-418f-f1ef-e8bad579e373"
      },
      "source": [
        "print(a1[-7])"
      ],
      "execution_count": null,
      "outputs": [
        {
          "output_type": "error",
          "ename": "IndexError",
          "evalue": "ignored",
          "traceback": [
            "\u001b[0;31m---------------------------------------------------------------------------\u001b[0m",
            "\u001b[0;31mIndexError\u001b[0m                                Traceback (most recent call last)",
            "\u001b[0;32m<ipython-input-9-deca873810e9>\u001b[0m in \u001b[0;36m<module>\u001b[0;34m()\u001b[0m\n\u001b[0;32m----> 1\u001b[0;31m \u001b[0mprint\u001b[0m\u001b[0;34m(\u001b[0m\u001b[0ma1\u001b[0m\u001b[0;34m[\u001b[0m\u001b[0;34m-\u001b[0m\u001b[0;36m7\u001b[0m\u001b[0;34m]\u001b[0m\u001b[0;34m)\u001b[0m\u001b[0;34m\u001b[0m\u001b[0;34m\u001b[0m\u001b[0m\n\u001b[0m",
            "\u001b[0;31mIndexError\u001b[0m: index -7 is out of bounds for axis 0 with size 5"
          ]
        }
      ]
    },
    {
      "cell_type": "code",
      "metadata": {
        "id": "vp9tkHH8esXT",
        "colab": {
          "base_uri": "https://localhost:8080/"
        },
        "outputId": "6237a80b-7883-4733-c9a8-b401baafe4ca"
      },
      "source": [
        "#2차원 배열\n",
        "\n",
        "a2 = np.array([[1, 2, 3], \n",
        "               [4, 5, 6], \n",
        "               [7, 8, 9]])\n",
        "print(a2)\n",
        "print(type(a2))\n",
        "print(a2.shape)\n",
        "\n",
        "print(a2[0,0], a2[1, 1])"
      ],
      "execution_count": null,
      "outputs": [
        {
          "output_type": "stream",
          "name": "stdout",
          "text": [
            "[[1 2 3]\n",
            " [4 5 6]\n",
            " [7 8 9]]\n",
            "<class 'numpy.ndarray'>\n",
            "(3, 3)\n",
            "1 5\n"
          ]
        }
      ]
    },
    {
      "cell_type": "code",
      "metadata": {
        "id": "Baj4gZ2meuJu",
        "colab": {
          "base_uri": "https://localhost:8080/"
        },
        "outputId": "62a740e9-c693-4c47-e519-f07b1246c9fd"
      },
      "source": [
        "#3차원 배열\n",
        "a3 = np.array([[[1, 2, 3], \n",
        "               [4, 5, 6], \n",
        "               [7, 8, 9]],\n",
        "              [[11, 12, 13], \n",
        "               [14, 15, 16], \n",
        "               [17, 18, 19]],\n",
        "               [[21, 22, 23], \n",
        "               [24, 25, 26], \n",
        "               [27, 28, 29]]])\n",
        "print(a3)\n",
        "print(type(a3))\n",
        "print(a3.shape)"
      ],
      "execution_count": null,
      "outputs": [
        {
          "output_type": "stream",
          "name": "stdout",
          "text": [
            "[[[ 1  2  3]\n",
            "  [ 4  5  6]\n",
            "  [ 7  8  9]]\n",
            "\n",
            " [[11 12 13]\n",
            "  [14 15 16]\n",
            "  [17 18 19]]\n",
            "\n",
            " [[21 22 23]\n",
            "  [24 25 26]\n",
            "  [27 28 29]]]\n",
            "<class 'numpy.ndarray'>\n",
            "(3, 3, 3)\n"
          ]
        }
      ]
    },
    {
      "cell_type": "markdown",
      "metadata": {
        "id": "PNkKtw4CoSDB"
      },
      "source": [
        "### 배열 생성 및 초기화"
      ]
    },
    {
      "cell_type": "markdown",
      "metadata": {
        "id": "mJVii5p_VfgM"
      },
      "source": [
        "* `zeros()`: 모든 요소를 0으로 초기화"
      ]
    },
    {
      "cell_type": "code",
      "metadata": {
        "id": "W_SF1tVoVTf1",
        "colab": {
          "base_uri": "https://localhost:8080/"
        },
        "outputId": "77ab8bee-954e-4523-e25e-c0bcc90ce1e1"
      },
      "source": [
        "np.zeros(10)\n"
      ],
      "execution_count": null,
      "outputs": [
        {
          "output_type": "execute_result",
          "data": {
            "text/plain": [
              "array([0., 0., 0., 0., 0., 0., 0., 0., 0., 0.])"
            ]
          },
          "metadata": {},
          "execution_count": 25
        }
      ]
    },
    {
      "cell_type": "code",
      "metadata": {
        "id": "zWB59EkzL8hS",
        "colab": {
          "base_uri": "https://localhost:8080/"
        },
        "outputId": "44b42d31-cd33-4384-dd9d-453566cbe0a3"
      },
      "source": [
        "np.zeros((10,2))"
      ],
      "execution_count": null,
      "outputs": [
        {
          "output_type": "execute_result",
          "data": {
            "text/plain": [
              "array([[0., 0.],\n",
              "       [0., 0.],\n",
              "       [0., 0.],\n",
              "       [0., 0.],\n",
              "       [0., 0.],\n",
              "       [0., 0.],\n",
              "       [0., 0.],\n",
              "       [0., 0.],\n",
              "       [0., 0.],\n",
              "       [0., 0.]])"
            ]
          },
          "metadata": {},
          "execution_count": 26
        }
      ]
    },
    {
      "cell_type": "code",
      "metadata": {
        "id": "siLllsUkMCOJ",
        "colab": {
          "base_uri": "https://localhost:8080/"
        },
        "outputId": "e1ac8f54-1e35-4c13-93ea-22708c97528b"
      },
      "source": [
        "np.zeros((10,2,3))"
      ],
      "execution_count": null,
      "outputs": [
        {
          "output_type": "execute_result",
          "data": {
            "text/plain": [
              "array([[[0., 0., 0.],\n",
              "        [0., 0., 0.]],\n",
              "\n",
              "       [[0., 0., 0.],\n",
              "        [0., 0., 0.]],\n",
              "\n",
              "       [[0., 0., 0.],\n",
              "        [0., 0., 0.]],\n",
              "\n",
              "       [[0., 0., 0.],\n",
              "        [0., 0., 0.]],\n",
              "\n",
              "       [[0., 0., 0.],\n",
              "        [0., 0., 0.]],\n",
              "\n",
              "       [[0., 0., 0.],\n",
              "        [0., 0., 0.]],\n",
              "\n",
              "       [[0., 0., 0.],\n",
              "        [0., 0., 0.]],\n",
              "\n",
              "       [[0., 0., 0.],\n",
              "        [0., 0., 0.]],\n",
              "\n",
              "       [[0., 0., 0.],\n",
              "        [0., 0., 0.]],\n",
              "\n",
              "       [[0., 0., 0.],\n",
              "        [0., 0., 0.]]])"
            ]
          },
          "metadata": {},
          "execution_count": 27
        }
      ]
    },
    {
      "cell_type": "markdown",
      "metadata": {
        "id": "o220M4ZSMB0o"
      },
      "source": [
        ""
      ]
    },
    {
      "cell_type": "markdown",
      "metadata": {
        "id": "LjYFQrODVqhX"
      },
      "source": [
        "* `ones()`: 모든 요소를 1로 초기화"
      ]
    },
    {
      "cell_type": "code",
      "metadata": {
        "id": "MURoqsMsVeUw",
        "colab": {
          "base_uri": "https://localhost:8080/"
        },
        "outputId": "bf3419ca-7043-4db0-d492-ee70a4b2c230"
      },
      "source": [
        "np.ones(10)"
      ],
      "execution_count": null,
      "outputs": [
        {
          "output_type": "execute_result",
          "data": {
            "text/plain": [
              "array([1., 1., 1., 1., 1., 1., 1., 1., 1., 1.])"
            ]
          },
          "metadata": {},
          "execution_count": 28
        }
      ]
    },
    {
      "cell_type": "code",
      "metadata": {
        "id": "2AgUcNMJMYom",
        "colab": {
          "base_uri": "https://localhost:8080/"
        },
        "outputId": "0794dc24-84db-4587-a49d-50d6868940d8"
      },
      "source": [
        "np.ones((2, 3))"
      ],
      "execution_count": null,
      "outputs": [
        {
          "output_type": "execute_result",
          "data": {
            "text/plain": [
              "array([[1., 1., 1.],\n",
              "       [1., 1., 1.]])"
            ]
          },
          "metadata": {},
          "execution_count": 31
        }
      ]
    },
    {
      "cell_type": "code",
      "metadata": {
        "id": "h60g74pnMhC6",
        "colab": {
          "base_uri": "https://localhost:8080/"
        },
        "outputId": "b37692d8-2952-446c-9339-77221e3aa63a"
      },
      "source": [
        "np.ones((2, 3, 5))"
      ],
      "execution_count": null,
      "outputs": [
        {
          "output_type": "execute_result",
          "data": {
            "text/plain": [
              "array([[[1., 1., 1., 1., 1.],\n",
              "        [1., 1., 1., 1., 1.],\n",
              "        [1., 1., 1., 1., 1.]],\n",
              "\n",
              "       [[1., 1., 1., 1., 1.],\n",
              "        [1., 1., 1., 1., 1.],\n",
              "        [1., 1., 1., 1., 1.]]])"
            ]
          },
          "metadata": {},
          "execution_count": 32
        }
      ]
    },
    {
      "cell_type": "markdown",
      "metadata": {
        "id": "jnmm3Cj-cGtx"
      },
      "source": [
        "* `full()`: 모든 요소를 지정한 값으로 초기화"
      ]
    },
    {
      "cell_type": "code",
      "metadata": {
        "id": "oscabrdcV7Ny"
      },
      "source": [
        ""
      ],
      "execution_count": null,
      "outputs": []
    },
    {
      "cell_type": "markdown",
      "metadata": {
        "id": "0SRI4jbmlIKc"
      },
      "source": [
        "* `eye()`: 단위행렬(identity matrix) 생성\n",
        "  + 주대각선의 원소가 모두 1이고 나머지 원소는 모두 0인 정사각 행렬"
      ]
    },
    {
      "cell_type": "code",
      "metadata": {
        "id": "VceBVLLjk9o5"
      },
      "source": [
        ""
      ],
      "execution_count": null,
      "outputs": []
    },
    {
      "cell_type": "markdown",
      "metadata": {
        "id": "7CCH1ZMT5R02"
      },
      "source": [
        "* `tri()`: 삼각행렬 생성"
      ]
    },
    {
      "cell_type": "code",
      "metadata": {
        "id": "mLe2Bhj05VYu"
      },
      "source": [
        ""
      ],
      "execution_count": null,
      "outputs": []
    },
    {
      "cell_type": "markdown",
      "metadata": {
        "id": "ObZRA4HclZlO"
      },
      "source": [
        "* `empty()`: 초기화되지 않은 배열 생성\n",
        "  + 초기화가 없어서 배열 생성비용 저렴하고 빠름\n",
        "  + 초기화되지 않아서 기존 메모리 위치에 존재하는 값이 있음"
      ]
    },
    {
      "cell_type": "code",
      "metadata": {
        "id": "I3SoFgiglAkz"
      },
      "source": [
        ""
      ],
      "execution_count": null,
      "outputs": []
    },
    {
      "cell_type": "markdown",
      "metadata": {
        "id": "p3uSl1Ccmi5_"
      },
      "source": [
        "* `_like()`: 지정된 배열과 shape가 같은 행렬 생성\n",
        "  + `np.zeros_like()`\n",
        "  + `np.ones_like()`\n",
        "  + `np.full_like()`\n",
        "  + `np.empty_like()`"
      ]
    },
    {
      "cell_type": "code",
      "metadata": {
        "id": "Ad5RskRRlZLs"
      },
      "source": [
        ""
      ],
      "execution_count": null,
      "outputs": []
    },
    {
      "cell_type": "code",
      "metadata": {
        "id": "KChUHsG003Nf"
      },
      "source": [
        ""
      ],
      "execution_count": null,
      "outputs": []
    },
    {
      "cell_type": "code",
      "metadata": {
        "id": "PUnDz6b305Gg"
      },
      "source": [
        ""
      ],
      "execution_count": null,
      "outputs": []
    },
    {
      "cell_type": "markdown",
      "metadata": {
        "id": "apoksGJNrn1z"
      },
      "source": [
        "### 생성한 값으로 배열 생성"
      ]
    },
    {
      "cell_type": "markdown",
      "metadata": {
        "id": "H3nmLct8cnV8"
      },
      "source": [
        "* `arange()`: 정수 범위로 배열 생성"
      ]
    },
    {
      "cell_type": "code",
      "metadata": {
        "id": "mANy4WY4cDKa"
      },
      "source": [
        ""
      ],
      "execution_count": null,
      "outputs": []
    },
    {
      "cell_type": "markdown",
      "metadata": {
        "id": "s5kET1e6itlo"
      },
      "source": [
        "* `linspace()`: 범위 내에서 균등 간격의 배열 생성"
      ]
    },
    {
      "cell_type": "code",
      "metadata": {
        "id": "u4q9gI7Zcltz"
      },
      "source": [
        ""
      ],
      "execution_count": null,
      "outputs": []
    },
    {
      "cell_type": "markdown",
      "metadata": {
        "id": "Eq26d7T3nnAH"
      },
      "source": [
        "* `logspace()`: 범위 내에서 균등간격으로 로그 스케일로 배열 생성"
      ]
    },
    {
      "cell_type": "code",
      "metadata": {
        "id": "-O29WBVEnyXX"
      },
      "source": [
        ""
      ],
      "execution_count": null,
      "outputs": []
    },
    {
      "cell_type": "markdown",
      "metadata": {
        "id": "6_88s4_Jr7fO"
      },
      "source": [
        "### 랜덤값으로 배열 생성\n"
      ]
    },
    {
      "cell_type": "markdown",
      "metadata": {
        "id": "CoK1cVUkjNMg"
      },
      "source": [
        "* `random.random()`: 랜덤한 수의 배열 생성"
      ]
    },
    {
      "cell_type": "code",
      "metadata": {
        "id": "qJwccKEnjMze"
      },
      "source": [
        ""
      ],
      "execution_count": null,
      "outputs": []
    },
    {
      "cell_type": "markdown",
      "metadata": {
        "id": "BYsAVwA1kvDI"
      },
      "source": [
        "* `random.randint()`: 일정 구간의 랜덤 정수의 배열 생성"
      ]
    },
    {
      "cell_type": "code",
      "metadata": {
        "id": "oR-UszZ_jqfQ"
      },
      "source": [
        ""
      ],
      "execution_count": null,
      "outputs": []
    },
    {
      "cell_type": "markdown",
      "metadata": {
        "id": "2r557WHsjrL3"
      },
      "source": [
        "* `random.normal()`: 정규분포(normal distribution)를 고려한 랜덤한 수의 배열 생성\n",
        "* 평균=0, 표준편차=1, 3 x 3 배열"
      ]
    },
    {
      "cell_type": "code",
      "metadata": {
        "id": "Oan3bSpHi2Wq"
      },
      "source": [
        ""
      ],
      "execution_count": null,
      "outputs": []
    },
    {
      "cell_type": "markdown",
      "metadata": {
        "id": "fPO-D1rHsrFw"
      },
      "source": [
        "* `random.rand()`: 균등분포(uniform distribution)를 고려한 랜덤한 수의 배열 생성"
      ]
    },
    {
      "cell_type": "code",
      "metadata": {
        "id": "DxiyEjnXnDUT"
      },
      "source": [
        ""
      ],
      "execution_count": null,
      "outputs": []
    },
    {
      "cell_type": "markdown",
      "metadata": {
        "id": "IegH2dsPLQgd"
      },
      "source": [
        "* `random.randn()`: 표준 정규 분포(standard normal distribution)를 고려한 랜덤한 수의 배열 생성"
      ]
    },
    {
      "cell_type": "code",
      "metadata": {
        "id": "V61VHa-JLIma"
      },
      "source": [
        ""
      ],
      "execution_count": null,
      "outputs": []
    },
    {
      "cell_type": "markdown",
      "metadata": {
        "id": "5ts0cYLQL_pT"
      },
      "source": [
        "### 표준 데이터 타입"
      ]
    },
    {
      "cell_type": "code",
      "metadata": {
        "id": "rxqTqAFKL73y"
      },
      "source": [
        ""
      ],
      "execution_count": null,
      "outputs": []
    },
    {
      "cell_type": "code",
      "metadata": {
        "id": "o9TuSl6HIsXr"
      },
      "source": [
        ""
      ],
      "execution_count": null,
      "outputs": []
    },
    {
      "cell_type": "code",
      "metadata": {
        "id": "w-TciNfzEhY0"
      },
      "source": [
        ""
      ],
      "execution_count": null,
      "outputs": []
    },
    {
      "cell_type": "markdown",
      "metadata": {
        "id": "1qFumu-p-0mQ"
      },
      "source": [
        "### 날짜/시간 배열 생성\n"
      ]
    },
    {
      "cell_type": "code",
      "metadata": {
        "id": "D8ozvTUf-6Rr"
      },
      "source": [
        ""
      ],
      "execution_count": null,
      "outputs": []
    },
    {
      "cell_type": "code",
      "metadata": {
        "id": "XIjLUkn6_K3J"
      },
      "source": [
        ""
      ],
      "execution_count": null,
      "outputs": []
    },
    {
      "cell_type": "code",
      "metadata": {
        "id": "EO7yE5VR_Wlh"
      },
      "source": [
        ""
      ],
      "execution_count": null,
      "outputs": []
    },
    {
      "cell_type": "code",
      "metadata": {
        "id": "3dnOlf9i_kzX"
      },
      "source": [
        ""
      ],
      "execution_count": null,
      "outputs": []
    },
    {
      "cell_type": "markdown",
      "metadata": {
        "id": "5AREIamhGxAr"
      },
      "source": [
        "\n",
        "\n",
        "---\n",
        "\n"
      ]
    },
    {
      "cell_type": "markdown",
      "metadata": {
        "id": "d88tkTqbBE5V"
      },
      "source": [
        "## 배열 조회"
      ]
    },
    {
      "cell_type": "markdown",
      "metadata": {
        "id": "vRqwfbjtFnPn"
      },
      "source": [
        "### 배열 속성 정보"
      ]
    },
    {
      "cell_type": "code",
      "metadata": {
        "id": "R5Rlcll7GXrM"
      },
      "source": [
        ""
      ],
      "execution_count": null,
      "outputs": []
    },
    {
      "cell_type": "code",
      "metadata": {
        "id": "Na59LwA7KXZV"
      },
      "source": [
        ""
      ],
      "execution_count": null,
      "outputs": []
    },
    {
      "cell_type": "code",
      "metadata": {
        "id": "Urzr_LsdLah0"
      },
      "source": [
        ""
      ],
      "execution_count": null,
      "outputs": []
    },
    {
      "cell_type": "code",
      "metadata": {
        "id": "jktqh1lsLf4V"
      },
      "source": [
        ""
      ],
      "execution_count": null,
      "outputs": []
    },
    {
      "cell_type": "markdown",
      "metadata": {
        "id": "LV1WfdBWFqDu"
      },
      "source": [
        "### 인덱싱(Indexing)"
      ]
    },
    {
      "cell_type": "code",
      "metadata": {
        "id": "Nyb7eDmGFr5m"
      },
      "source": [
        ""
      ],
      "execution_count": null,
      "outputs": []
    },
    {
      "cell_type": "code",
      "metadata": {
        "id": "uHMNcQW3Kn-h"
      },
      "source": [
        ""
      ],
      "execution_count": null,
      "outputs": []
    },
    {
      "cell_type": "code",
      "metadata": {
        "id": "IX5yDMGiMxYZ"
      },
      "source": [
        ""
      ],
      "execution_count": null,
      "outputs": []
    },
    {
      "cell_type": "markdown",
      "metadata": {
        "id": "uSeXu2y_O4cu"
      },
      "source": [
        "### 슬라이싱(Slicing)"
      ]
    },
    {
      "cell_type": "markdown",
      "metadata": {
        "id": "1hikO_6ZPp5m"
      },
      "source": [
        "* 슬라이싱 구문: `a[start:stop:step]`\n",
        "* 기본값: start=0, stop=ndim, step=1"
      ]
    },
    {
      "cell_type": "code",
      "metadata": {
        "id": "PYZOOCoVO7BF"
      },
      "source": [
        ""
      ],
      "execution_count": null,
      "outputs": []
    },
    {
      "cell_type": "code",
      "metadata": {
        "id": "oULOFrBQWs1G"
      },
      "source": [
        ""
      ],
      "execution_count": null,
      "outputs": []
    },
    {
      "cell_type": "markdown",
      "metadata": {
        "id": "LD52bXAsBgbH"
      },
      "source": [
        "### 불리언 인덱싱(Boolean Indexing)\n",
        "\n",
        "* 배열 각 요소의 선택 여부를 불리언(True or False)로 지정\n",
        "* True 값인 인덱스의 값만 조회"
      ]
    },
    {
      "cell_type": "code",
      "metadata": {
        "id": "pOvNsH2oBgz-"
      },
      "source": [
        ""
      ],
      "execution_count": null,
      "outputs": []
    },
    {
      "cell_type": "code",
      "metadata": {
        "id": "EFfquM2kWHAU"
      },
      "source": [
        ""
      ],
      "execution_count": null,
      "outputs": []
    },
    {
      "cell_type": "markdown",
      "metadata": {
        "id": "R5hes-hdBujH"
      },
      "source": [
        "### 팬시 인덱싱(Fancy Indedxing)"
      ]
    },
    {
      "cell_type": "code",
      "metadata": {
        "id": "z-Luw5fzBx30"
      },
      "source": [
        ""
      ],
      "execution_count": null,
      "outputs": []
    },
    {
      "cell_type": "code",
      "metadata": {
        "id": "p_Dd0oiJahgj"
      },
      "source": [
        ""
      ],
      "execution_count": null,
      "outputs": []
    },
    {
      "cell_type": "markdown",
      "metadata": {
        "id": "F71_PQF1GvTs"
      },
      "source": [
        "\n",
        "\n",
        "---\n",
        "\n"
      ]
    },
    {
      "cell_type": "markdown",
      "metadata": {
        "id": "zDI5yQ58O-IX"
      },
      "source": [
        "## 배열 값 삽입/수정/삭제/복사"
      ]
    },
    {
      "cell_type": "markdown",
      "metadata": {
        "id": "zajd1qpVOQYy"
      },
      "source": [
        "### 배열 값 삽입\n",
        "\n",
        "* `insert()`: 배열의 특정 위치에 값 삽입\n",
        "* axis를 지정하지 않으면 1차원 배열로 변환\n",
        "* 추가할 방향을 axis로 지정\n",
        "* 원본 배열 변경없이 새로운 배열 반환"
      ]
    },
    {
      "cell_type": "code",
      "metadata": {
        "id": "sedRT54rP395"
      },
      "source": [
        ""
      ],
      "execution_count": null,
      "outputs": []
    },
    {
      "cell_type": "code",
      "metadata": {
        "id": "zNmu1E4iQ6h-"
      },
      "source": [
        ""
      ],
      "execution_count": null,
      "outputs": []
    },
    {
      "cell_type": "markdown",
      "metadata": {
        "id": "OlEzG4ffNjyL"
      },
      "source": [
        "### 배열 값 수정\n",
        "\n",
        "* 배열의 인덱싱으로 접근하여 값 수정"
      ]
    },
    {
      "cell_type": "code",
      "metadata": {
        "id": "ec43i1KWNjeN"
      },
      "source": [
        ""
      ],
      "execution_count": null,
      "outputs": []
    },
    {
      "cell_type": "code",
      "metadata": {
        "id": "IApNNx3NOMQh"
      },
      "source": [
        ""
      ],
      "execution_count": null,
      "outputs": []
    },
    {
      "cell_type": "markdown",
      "metadata": {
        "id": "emV7DgrITPcn"
      },
      "source": [
        "### 배열 값 삭제\n",
        "\n",
        "* `delete()`: 배열의 특정 위치에 값 삭제\n",
        "* axis를 지정하지 않으면 1차원 배열로 변환\n",
        "* 삭제할 방향을 axis로 지정\n",
        "* 원본 배열 변경없이 새로운 배열 반환"
      ]
    },
    {
      "cell_type": "code",
      "metadata": {
        "id": "I3k_Yx8lTRJ2"
      },
      "source": [
        ""
      ],
      "execution_count": null,
      "outputs": []
    },
    {
      "cell_type": "code",
      "metadata": {
        "id": "tRTwMIfJTq_y"
      },
      "source": [
        ""
      ],
      "execution_count": null,
      "outputs": []
    },
    {
      "cell_type": "markdown",
      "metadata": {
        "id": "UydkYxV8Z6Fx"
      },
      "source": [
        "### 배열 복사\n",
        "\n",
        "* 리스트 자료형과 달리 배열의 슬라이스는 복사본이 아님"
      ]
    },
    {
      "cell_type": "code",
      "metadata": {
        "id": "n2_0L8KWZ7wH"
      },
      "source": [
        ""
      ],
      "execution_count": null,
      "outputs": []
    },
    {
      "cell_type": "markdown",
      "metadata": {
        "id": "UrQqOC1Eat5l"
      },
      "source": [
        "\n",
        "* `copy()`: 배열이나 하위 배열 내의 값을 명시적으로 복사"
      ]
    },
    {
      "cell_type": "code",
      "metadata": {
        "id": "hLBZ7Qn6bAKO"
      },
      "source": [
        ""
      ],
      "execution_count": null,
      "outputs": []
    },
    {
      "cell_type": "markdown",
      "metadata": {
        "id": "4HTc9FXOGtA7"
      },
      "source": [
        "\n",
        "\n",
        "---\n",
        "\n"
      ]
    },
    {
      "cell_type": "markdown",
      "metadata": {
        "id": "XVZY082__yV6"
      },
      "source": [
        "## 배열 변환"
      ]
    },
    {
      "cell_type": "markdown",
      "metadata": {
        "id": "Ec09aPeBO58M"
      },
      "source": [
        "### 배열 전치 및 축 변경"
      ]
    },
    {
      "cell_type": "code",
      "metadata": {
        "id": "anYByBpoWZmj"
      },
      "source": [
        ""
      ],
      "execution_count": null,
      "outputs": []
    },
    {
      "cell_type": "code",
      "metadata": {
        "id": "wg4XC6kiRnZo"
      },
      "source": [
        ""
      ],
      "execution_count": null,
      "outputs": []
    },
    {
      "cell_type": "code",
      "metadata": {
        "id": "6lPwXL8rRTfI"
      },
      "source": [
        ""
      ],
      "execution_count": null,
      "outputs": []
    },
    {
      "cell_type": "code",
      "metadata": {
        "id": "oLbEHtijRewH"
      },
      "source": [
        ""
      ],
      "execution_count": null,
      "outputs": []
    },
    {
      "cell_type": "markdown",
      "metadata": {
        "id": "M7xN8WdOdb_S"
      },
      "source": [
        "### 배열 재구조화\n"
      ]
    },
    {
      "cell_type": "markdown",
      "metadata": {
        "id": "JwZJMpXGfY0V"
      },
      "source": [
        "* `reshape()`: 배열의 형상을 변경"
      ]
    },
    {
      "cell_type": "code",
      "metadata": {
        "id": "SlGQ17VQdd8i"
      },
      "source": [
        ""
      ],
      "execution_count": null,
      "outputs": []
    },
    {
      "cell_type": "markdown",
      "metadata": {
        "id": "y_U1W-fQfuQY"
      },
      "source": [
        "* `newaxis()`: 새로운 축 추가"
      ]
    },
    {
      "cell_type": "code",
      "metadata": {
        "id": "COif_weCfkGo"
      },
      "source": [
        ""
      ],
      "execution_count": null,
      "outputs": []
    },
    {
      "cell_type": "markdown",
      "metadata": {
        "id": "FR82RSDggbcJ"
      },
      "source": [
        "### 배열 크기 변경"
      ]
    },
    {
      "cell_type": "markdown",
      "metadata": {
        "id": "D1LuDMVFl4tc"
      },
      "source": [
        "* 배열 모양만 변경"
      ]
    },
    {
      "cell_type": "code",
      "metadata": {
        "id": "7B6pHlfxgdSJ"
      },
      "source": [
        ""
      ],
      "execution_count": null,
      "outputs": []
    },
    {
      "cell_type": "markdown",
      "metadata": {
        "id": "s0adm-h9l6sv"
      },
      "source": [
        "* 배열 크기 증가\n",
        "* 남은 공간은 0으로 채워짐"
      ]
    },
    {
      "cell_type": "code",
      "metadata": {
        "id": "IrX0UcjrlWRV"
      },
      "source": [
        ""
      ],
      "execution_count": null,
      "outputs": []
    },
    {
      "cell_type": "markdown",
      "metadata": {
        "id": "78hPDEzfl9JB"
      },
      "source": [
        "* 배열 크기 감소\n",
        "* 포함되지 않은 값은 삭제됨"
      ]
    },
    {
      "cell_type": "code",
      "metadata": {
        "id": "fJWrwhc6lmjW"
      },
      "source": [
        ""
      ],
      "execution_count": null,
      "outputs": []
    },
    {
      "cell_type": "markdown",
      "metadata": {
        "id": "r9z2gD_pHyx9"
      },
      "source": [
        "### 배열 추가\n",
        "\n",
        "* `append()`: 배열의 끝에 값 추가"
      ]
    },
    {
      "cell_type": "code",
      "metadata": {
        "id": "fH4lpQKNH5s1"
      },
      "source": [
        ""
      ],
      "execution_count": null,
      "outputs": []
    },
    {
      "cell_type": "markdown",
      "metadata": {
        "id": "n8SMl5VVIquk"
      },
      "source": [
        "* axis 지정이 없으면 1차원 배열 형태로 변형되어 결합"
      ]
    },
    {
      "cell_type": "code",
      "metadata": {
        "id": "LRltk3yFIVsV"
      },
      "source": [
        ""
      ],
      "execution_count": null,
      "outputs": []
    },
    {
      "cell_type": "markdown",
      "metadata": {
        "id": "sVW2UFVZJfpR"
      },
      "source": [
        "* axis를 0으로 지정\n",
        "* shape[0]을 제외한 나머지 shape은 같아야 함"
      ]
    },
    {
      "cell_type": "code",
      "metadata": {
        "id": "nwJ4xLOeIbMg"
      },
      "source": [
        ""
      ],
      "execution_count": null,
      "outputs": []
    },
    {
      "cell_type": "markdown",
      "metadata": {
        "id": "4YXxzygaJmj-"
      },
      "source": [
        "* axis를 1로 지정\n",
        "* shape[1]을 제외한 나머지 shape은 같아야 함"
      ]
    },
    {
      "cell_type": "code",
      "metadata": {
        "id": "JYE4_5gAJmYe"
      },
      "source": [
        ""
      ],
      "execution_count": null,
      "outputs": []
    },
    {
      "cell_type": "markdown",
      "metadata": {
        "id": "9sTza3b2hoe4"
      },
      "source": [
        "### 배열 연결"
      ]
    },
    {
      "cell_type": "markdown",
      "metadata": {
        "id": "TRun2NPYj8Ct"
      },
      "source": [
        "* `concatenate()`: 튜플이나 배열의 리스트를 인수로 사용해 배열 연결"
      ]
    },
    {
      "cell_type": "code",
      "metadata": {
        "id": "lmEqdPifhrB_"
      },
      "source": [
        ""
      ],
      "execution_count": null,
      "outputs": []
    },
    {
      "cell_type": "code",
      "metadata": {
        "id": "IkoTNIt2k0tp"
      },
      "source": [
        ""
      ],
      "execution_count": null,
      "outputs": []
    },
    {
      "cell_type": "code",
      "metadata": {
        "id": "vX0SCYX3lEs2"
      },
      "source": [
        ""
      ],
      "execution_count": null,
      "outputs": []
    },
    {
      "cell_type": "code",
      "metadata": {
        "id": "Rv6xGva7lxHP"
      },
      "source": [
        ""
      ],
      "execution_count": null,
      "outputs": []
    },
    {
      "cell_type": "markdown",
      "metadata": {
        "id": "MbiBbx4nl2KD"
      },
      "source": [
        "* `vstack()`: 수직 스택(vertical stack), 1차원으로 연결"
      ]
    },
    {
      "cell_type": "code",
      "metadata": {
        "id": "HkHJwdBMl_qi"
      },
      "source": [
        ""
      ],
      "execution_count": null,
      "outputs": []
    },
    {
      "cell_type": "markdown",
      "metadata": {
        "id": "-hTlAnWxmHA_"
      },
      "source": [
        "* `hstack()`: 수평 스택(horizontal stack), 2차원으로 연결"
      ]
    },
    {
      "cell_type": "code",
      "metadata": {
        "id": "-HsGlAytmNEz"
      },
      "source": [
        ""
      ],
      "execution_count": null,
      "outputs": []
    },
    {
      "cell_type": "markdown",
      "metadata": {
        "id": "CshM6LURmUhV"
      },
      "source": [
        "* `dstack()`: 깊이 스택(depth stack), 3차원으로 연결"
      ]
    },
    {
      "cell_type": "code",
      "metadata": {
        "id": "TFBdRddpmU4m"
      },
      "source": [
        ""
      ],
      "execution_count": null,
      "outputs": []
    },
    {
      "cell_type": "markdown",
      "metadata": {
        "id": "JUBtc4UnpaSz"
      },
      "source": [
        "* `stack()`: 새로운 차원으로 연결"
      ]
    },
    {
      "cell_type": "code",
      "metadata": {
        "id": "JzoujQ9_pHS5"
      },
      "source": [
        ""
      ],
      "execution_count": null,
      "outputs": []
    },
    {
      "cell_type": "markdown",
      "metadata": {
        "id": "eYz74NYKo8iH"
      },
      "source": [
        "### 배열 분할"
      ]
    },
    {
      "cell_type": "markdown",
      "metadata": {
        "id": "wjt2zku5pBmF"
      },
      "source": [
        "* `split()`: 배열 분할"
      ]
    },
    {
      "cell_type": "code",
      "metadata": {
        "id": "H_2e71heo-Eq"
      },
      "source": [
        ""
      ],
      "execution_count": null,
      "outputs": []
    },
    {
      "cell_type": "markdown",
      "metadata": {
        "id": "IvvdCQcKsCLn"
      },
      "source": [
        "* `vsplit()`: 수직 분할, 1차원으로 분할"
      ]
    },
    {
      "cell_type": "code",
      "metadata": {
        "id": "GdMYlsiLsCoe"
      },
      "source": [
        ""
      ],
      "execution_count": null,
      "outputs": []
    },
    {
      "cell_type": "markdown",
      "metadata": {
        "id": "1aC0a034rSXi"
      },
      "source": [
        "* `hsplit()`: 수평 분할, 2차원으로 분할"
      ]
    },
    {
      "cell_type": "code",
      "metadata": {
        "id": "ShMnE_bnrSBJ"
      },
      "source": [
        ""
      ],
      "execution_count": null,
      "outputs": []
    },
    {
      "cell_type": "markdown",
      "metadata": {
        "id": "Pz3BDD8qsQER"
      },
      "source": [
        "* `dsplit()`: 깊이 분할, 3차원으로 분할"
      ]
    },
    {
      "cell_type": "code",
      "metadata": {
        "id": "DqHFGd43sQYj"
      },
      "source": [
        ""
      ],
      "execution_count": null,
      "outputs": []
    },
    {
      "cell_type": "markdown",
      "metadata": {
        "id": "rK-zrDZuGoVd"
      },
      "source": [
        "\n",
        "\n",
        "---\n",
        "\n"
      ]
    },
    {
      "cell_type": "markdown",
      "metadata": {
        "id": "Vc-iSWewJ3C1"
      },
      "source": [
        "## 배열 연산\n",
        "\n",
        "* NumPy의 배열 연산은 벡터화(vectorized) 연산을 사용\n",
        "* 일반적으로 NumPy의 범용 함수(universal functions)를 통해 구현\n",
        "* 배열 요소에 대한 반복적인 계산을 효율적으로 수행"
      ]
    },
    {
      "cell_type": "markdown",
      "metadata": {
        "id": "Pg2er1A2w3cz"
      },
      "source": [
        "### 브로드캐스팅(Broadcasting)"
      ]
    },
    {
      "cell_type": "code",
      "metadata": {
        "id": "IGU-HRgr20nj"
      },
      "source": [
        ""
      ],
      "execution_count": null,
      "outputs": []
    },
    {
      "cell_type": "code",
      "metadata": {
        "id": "IAzsmIAn1HNt"
      },
      "source": [
        ""
      ],
      "execution_count": null,
      "outputs": []
    },
    {
      "cell_type": "markdown",
      "metadata": {
        "id": "NZzLHHLmwl_b"
      },
      "source": [
        "### 산술 연산(Arithmetic Operators)"
      ]
    },
    {
      "cell_type": "code",
      "metadata": {
        "id": "jHrIjHGEi05k"
      },
      "source": [
        ""
      ],
      "execution_count": null,
      "outputs": []
    },
    {
      "cell_type": "code",
      "metadata": {
        "id": "sMUYzXk3psgC"
      },
      "source": [
        ""
      ],
      "execution_count": null,
      "outputs": []
    },
    {
      "cell_type": "code",
      "metadata": {
        "id": "ZkyjPmk5onPK"
      },
      "source": [
        ""
      ],
      "execution_count": null,
      "outputs": []
    },
    {
      "cell_type": "markdown",
      "metadata": {
        "id": "hxG_aECas3a9"
      },
      "source": [
        "#### 절대값 함수(Absolute Function)\n",
        "\n",
        "* `absolute()`, `abs()`: 내장된 절대값 함수"
      ]
    },
    {
      "cell_type": "code",
      "metadata": {
        "id": "YmX-0LvWs7qM"
      },
      "source": [
        ""
      ],
      "execution_count": null,
      "outputs": []
    },
    {
      "cell_type": "markdown",
      "metadata": {
        "id": "U5uE3sVtzRvA"
      },
      "source": [
        "#### 제곱/제곱근 함수\n",
        "\n",
        "* `square`, `sqrt`: 제곱, 제곱근 함수"
      ]
    },
    {
      "cell_type": "code",
      "metadata": {
        "id": "ggnIxDGzzTfX"
      },
      "source": [
        ""
      ],
      "execution_count": null,
      "outputs": []
    },
    {
      "cell_type": "markdown",
      "metadata": {
        "id": "tWh1aQ50vRhB"
      },
      "source": [
        "#### 지수와 로그 함수 (Exponential and Log Function)"
      ]
    },
    {
      "cell_type": "code",
      "metadata": {
        "id": "Dygt3AyHvTZz"
      },
      "source": [
        ""
      ],
      "execution_count": null,
      "outputs": []
    },
    {
      "cell_type": "code",
      "metadata": {
        "id": "YB0BzwxDvnkT"
      },
      "source": [
        ""
      ],
      "execution_count": null,
      "outputs": []
    },
    {
      "cell_type": "markdown",
      "metadata": {
        "id": "wE_p9AxjtdJ9"
      },
      "source": [
        "#### 삼각 함수(Trigonometrical Function)\n"
      ]
    },
    {
      "cell_type": "code",
      "metadata": {
        "id": "6bOSPS81tuo5"
      },
      "source": [
        ""
      ],
      "execution_count": null,
      "outputs": []
    },
    {
      "cell_type": "code",
      "metadata": {
        "id": "v7m-AQW9uJ9u"
      },
      "source": [
        ""
      ],
      "execution_count": null,
      "outputs": []
    },
    {
      "cell_type": "markdown",
      "metadata": {
        "id": "hKJtYUVWwxQy"
      },
      "source": [
        "### 집계 함수(Aggregate Functions)"
      ]
    },
    {
      "cell_type": "markdown",
      "metadata": {
        "id": "GdxMrX5l9m6W"
      },
      "source": [
        "#### sum(): 합 계산"
      ]
    },
    {
      "cell_type": "code",
      "metadata": {
        "id": "AJQ3GjLI0cZU"
      },
      "source": [
        ""
      ],
      "execution_count": null,
      "outputs": []
    },
    {
      "cell_type": "markdown",
      "metadata": {
        "id": "U4W4iIb9J4Zd"
      },
      "source": [
        "#### cumsum(): 누적합 계산"
      ]
    },
    {
      "cell_type": "code",
      "metadata": {
        "id": "SRZWZD3UJ4wo"
      },
      "source": [
        ""
      ],
      "execution_count": null,
      "outputs": []
    },
    {
      "cell_type": "markdown",
      "metadata": {
        "id": "pVaJRWQ-LV0f"
      },
      "source": [
        "#### diff(): 차분 계산"
      ]
    },
    {
      "cell_type": "code",
      "metadata": {
        "id": "yKjnWtGVLWJj"
      },
      "source": [
        ""
      ],
      "execution_count": null,
      "outputs": []
    },
    {
      "cell_type": "markdown",
      "metadata": {
        "id": "b6I38HfA9vGL"
      },
      "source": [
        "#### prod(): 곱 계산"
      ]
    },
    {
      "cell_type": "code",
      "metadata": {
        "id": "rGPMXGe89y0O"
      },
      "source": [
        ""
      ],
      "execution_count": null,
      "outputs": []
    },
    {
      "cell_type": "markdown",
      "metadata": {
        "id": "RwaoVUGcKkkE"
      },
      "source": [
        "#### cumprod(): 누적곱 계산"
      ]
    },
    {
      "cell_type": "code",
      "metadata": {
        "id": "jwYoX9inKk4D"
      },
      "source": [
        ""
      ],
      "execution_count": null,
      "outputs": []
    },
    {
      "cell_type": "markdown",
      "metadata": {
        "id": "_LMAbL9hMV7T"
      },
      "source": [
        "#### dot()/matmul(): 점곱/행렬곱 계산"
      ]
    },
    {
      "cell_type": "code",
      "metadata": {
        "id": "xC6FBzF0MWW1"
      },
      "source": [
        ""
      ],
      "execution_count": null,
      "outputs": []
    },
    {
      "cell_type": "markdown",
      "metadata": {
        "id": "juVk3vnjPu31"
      },
      "source": [
        "#### tensordot(): 텐서곱 계산"
      ]
    },
    {
      "cell_type": "code",
      "metadata": {
        "id": "3LrcLOcjPvNI"
      },
      "source": [
        ""
      ],
      "execution_count": null,
      "outputs": []
    },
    {
      "cell_type": "markdown",
      "metadata": {
        "id": "UzmZhB5TNRMX"
      },
      "source": [
        "#### cross(): 벡터곱"
      ]
    },
    {
      "cell_type": "code",
      "metadata": {
        "id": "xvT2hy1FNRkU"
      },
      "source": [
        ""
      ],
      "execution_count": null,
      "outputs": []
    },
    {
      "cell_type": "markdown",
      "metadata": {
        "id": "SJVYmtrSO5YL"
      },
      "source": [
        "#### inner()/outer(): 내적/외적"
      ]
    },
    {
      "cell_type": "code",
      "metadata": {
        "id": "HJpomax7O5s6"
      },
      "source": [
        ""
      ],
      "execution_count": null,
      "outputs": []
    },
    {
      "cell_type": "markdown",
      "metadata": {
        "id": "9CIotQgI_RQ-"
      },
      "source": [
        "#### mean(): 평균 계산"
      ]
    },
    {
      "cell_type": "code",
      "metadata": {
        "id": "g96wAEOT_bUk"
      },
      "source": [
        ""
      ],
      "execution_count": null,
      "outputs": []
    },
    {
      "cell_type": "markdown",
      "metadata": {
        "id": "wAG_zijP_Z5o"
      },
      "source": [
        "#### std(): 표준 편차 계산"
      ]
    },
    {
      "cell_type": "code",
      "metadata": {
        "id": "hlpnuyug_TXA"
      },
      "source": [
        ""
      ],
      "execution_count": null,
      "outputs": []
    },
    {
      "cell_type": "markdown",
      "metadata": {
        "id": "5FFTCCDaAEhx"
      },
      "source": [
        "#### var(): 분산 계산"
      ]
    },
    {
      "cell_type": "code",
      "metadata": {
        "id": "CRMNkSdzAGZG"
      },
      "source": [
        ""
      ],
      "execution_count": null,
      "outputs": []
    },
    {
      "cell_type": "markdown",
      "metadata": {
        "id": "QFeh-4tmCCrU"
      },
      "source": [
        "#### min(): 최소값"
      ]
    },
    {
      "cell_type": "code",
      "metadata": {
        "id": "SMNCfYBQCEtf"
      },
      "source": [
        ""
      ],
      "execution_count": null,
      "outputs": []
    },
    {
      "cell_type": "markdown",
      "metadata": {
        "id": "A3n_JBnBJ2bo"
      },
      "source": [
        "#### max(): 최대값"
      ]
    },
    {
      "cell_type": "code",
      "metadata": {
        "id": "FmuOFKGAJ6Pf"
      },
      "source": [
        ""
      ],
      "execution_count": null,
      "outputs": []
    },
    {
      "cell_type": "markdown",
      "metadata": {
        "id": "PvGOKDP0J_5b"
      },
      "source": [
        "#### argmin(): 최소값 인덱스"
      ]
    },
    {
      "cell_type": "code",
      "metadata": {
        "id": "1ILP7L3yKCqA"
      },
      "source": [
        ""
      ],
      "execution_count": null,
      "outputs": []
    },
    {
      "cell_type": "markdown",
      "metadata": {
        "id": "23IcSctIKbUa"
      },
      "source": [
        "#### argmax(): 최대값 인덱스"
      ]
    },
    {
      "cell_type": "code",
      "metadata": {
        "id": "2m21cfCFKd-Q"
      },
      "source": [
        ""
      ],
      "execution_count": null,
      "outputs": []
    },
    {
      "cell_type": "markdown",
      "metadata": {
        "id": "3TjeNFQLKuZb"
      },
      "source": [
        "#### median(): 중앙값"
      ]
    },
    {
      "cell_type": "code",
      "metadata": {
        "id": "kSLN17bpKwv6"
      },
      "source": [
        ""
      ],
      "execution_count": null,
      "outputs": []
    },
    {
      "cell_type": "markdown",
      "metadata": {
        "id": "df-Id-nhLs3L"
      },
      "source": [
        "#### percentile(): 백분위 수\n",
        "\n"
      ]
    },
    {
      "cell_type": "code",
      "metadata": {
        "id": "N-TCx9hnLvhK"
      },
      "source": [
        ""
      ],
      "execution_count": null,
      "outputs": []
    },
    {
      "cell_type": "markdown",
      "metadata": {
        "id": "x0NnNsvvNDIs"
      },
      "source": [
        "#### any()"
      ]
    },
    {
      "cell_type": "code",
      "metadata": {
        "id": "I1XDqsFxOMvA"
      },
      "source": [
        ""
      ],
      "execution_count": null,
      "outputs": []
    },
    {
      "cell_type": "markdown",
      "metadata": {
        "id": "Uw-wjYgyONBZ"
      },
      "source": [
        "#### all()"
      ]
    },
    {
      "cell_type": "code",
      "metadata": {
        "id": "sXi2AHOHONYq"
      },
      "source": [
        ""
      ],
      "execution_count": null,
      "outputs": []
    },
    {
      "cell_type": "markdown",
      "metadata": {
        "id": "0n7lgzmUwqr1"
      },
      "source": [
        "### 비교 연산(Comparison Operators)\n"
      ]
    },
    {
      "cell_type": "code",
      "metadata": {
        "id": "E00V-nBTVnCu"
      },
      "source": [
        ""
      ],
      "execution_count": null,
      "outputs": []
    },
    {
      "cell_type": "code",
      "metadata": {
        "id": "3MwV1CU1WsWS"
      },
      "source": [
        ""
      ],
      "execution_count": null,
      "outputs": []
    },
    {
      "cell_type": "code",
      "metadata": {
        "id": "D4cuMoyEPn8R"
      },
      "source": [
        ""
      ],
      "execution_count": null,
      "outputs": []
    },
    {
      "cell_type": "code",
      "metadata": {
        "id": "af9VSc6FyMBh"
      },
      "source": [
        ""
      ],
      "execution_count": null,
      "outputs": []
    },
    {
      "cell_type": "markdown",
      "metadata": {
        "id": "4BHMetMlYmt-"
      },
      "source": [
        "#### 불리언 연산자(Boolean Operators)\n"
      ]
    },
    {
      "cell_type": "code",
      "metadata": {
        "id": "ZV1-8DkUHOZq"
      },
      "source": [
        ""
      ],
      "execution_count": null,
      "outputs": []
    },
    {
      "cell_type": "markdown",
      "metadata": {
        "id": "FlQJVeGBxIFw"
      },
      "source": [
        "### 배열 정렬"
      ]
    },
    {
      "cell_type": "code",
      "metadata": {
        "id": "x0sodUMqLU37"
      },
      "source": [
        ""
      ],
      "execution_count": null,
      "outputs": []
    },
    {
      "cell_type": "code",
      "metadata": {
        "id": "FO_sO5POzeMp"
      },
      "source": [
        ""
      ],
      "execution_count": null,
      "outputs": []
    },
    {
      "cell_type": "markdown",
      "metadata": {
        "id": "yYSItPz_00sZ"
      },
      "source": [
        "#### 부분 정렬\n",
        "\n",
        "* `partition()`: 배열에서 k개의 작은 값을 반환"
      ]
    },
    {
      "cell_type": "code",
      "metadata": {
        "id": "QQwov4N00YFP"
      },
      "source": [
        ""
      ],
      "execution_count": null,
      "outputs": []
    },
    {
      "cell_type": "markdown",
      "metadata": {
        "id": "77DSA72ML5cI"
      },
      "source": [
        "## 배열 입출력\n"
      ]
    },
    {
      "cell_type": "code",
      "metadata": {
        "id": "da-Mm_gzIs7U"
      },
      "source": [
        ""
      ],
      "execution_count": null,
      "outputs": []
    },
    {
      "cell_type": "code",
      "metadata": {
        "id": "pFOWyDvAsf11",
        "colab": {
          "base_uri": "https://localhost:8080/",
          "height": 34
        },
        "outputId": "8be0a298-07ab-4526-e9d4-2796faadee9a"
      },
      "source": [
        ""
      ],
      "execution_count": null,
      "outputs": [
        {
          "output_type": "stream",
          "text": [
            "sample_data\n"
          ],
          "name": "stdout"
        }
      ]
    },
    {
      "cell_type": "code",
      "metadata": {
        "id": "Hvb_ilyisoIV"
      },
      "source": [
        ""
      ],
      "execution_count": null,
      "outputs": []
    },
    {
      "cell_type": "code",
      "metadata": {
        "id": "ArWZfL31s1wU"
      },
      "source": [
        ""
      ],
      "execution_count": null,
      "outputs": []
    },
    {
      "cell_type": "code",
      "metadata": {
        "id": "che4cEJEs2Tr"
      },
      "source": [
        ""
      ],
      "execution_count": null,
      "outputs": []
    },
    {
      "cell_type": "code",
      "metadata": {
        "id": "X2yIUsYvtMj6"
      },
      "source": [
        ""
      ],
      "execution_count": null,
      "outputs": []
    },
    {
      "cell_type": "code",
      "metadata": {
        "id": "Yj5ec-CYtaH1"
      },
      "source": [
        ""
      ],
      "execution_count": null,
      "outputs": []
    },
    {
      "cell_type": "code",
      "metadata": {
        "id": "_NIDrc-VuPmv"
      },
      "source": [
        ""
      ],
      "execution_count": null,
      "outputs": []
    },
    {
      "cell_type": "code",
      "metadata": {
        "id": "bPhmIoVBuQMf"
      },
      "source": [
        ""
      ],
      "execution_count": null,
      "outputs": []
    },
    {
      "cell_type": "code",
      "metadata": {
        "id": "FeB2p4azuTDv"
      },
      "source": [
        ""
      ],
      "execution_count": null,
      "outputs": []
    },
    {
      "cell_type": "code",
      "metadata": {
        "id": "IUg8Vg4fuxR5"
      },
      "source": [
        ""
      ],
      "execution_count": null,
      "outputs": []
    },
    {
      "cell_type": "code",
      "metadata": {
        "id": "lIK5dSv6vtm2"
      },
      "source": [
        ""
      ],
      "execution_count": null,
      "outputs": []
    },
    {
      "cell_type": "code",
      "metadata": {
        "id": "l4O-gVxdv8-d"
      },
      "source": [
        ""
      ],
      "execution_count": null,
      "outputs": []
    },
    {
      "cell_type": "markdown",
      "metadata": {
        "id": "JM2Ghx2NGloN"
      },
      "source": [
        "\n",
        "\n",
        "---\n",
        "\n"
      ]
    }
  ]
}